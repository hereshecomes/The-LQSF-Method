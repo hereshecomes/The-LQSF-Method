{
 "cells": [
  {
   "cell_type": "code",
   "execution_count": 1,
   "id": "276fcdc4-6317-44b4-9213-9c85f4fcba88",
   "metadata": {
    "execution": {
     "iopub.execute_input": "2023-11-02T11:37:15.520098Z",
     "iopub.status.busy": "2023-11-02T11:37:15.520098Z",
     "iopub.status.idle": "2023-11-02T11:37:15.535707Z",
     "shell.execute_reply": "2023-11-02T11:37:15.535707Z",
     "shell.execute_reply.started": "2023-11-02T11:37:15.520098Z"
    }
   },
   "outputs": [],
   "source": [
    "import torch\n",
    "import torchvision.models as models"
   ]
  },
  {
   "cell_type": "code",
   "execution_count": 2,
   "id": "6e29543e-d41e-4abd-83a4-aa56e12a0cc1",
   "metadata": {
    "execution": {
     "iopub.execute_input": "2023-11-02T11:37:40.926789Z",
     "iopub.status.busy": "2023-11-02T11:37:40.926789Z",
     "iopub.status.idle": "2023-11-02T11:37:40.950681Z",
     "shell.execute_reply": "2023-11-02T11:37:40.950681Z",
     "shell.execute_reply.started": "2023-11-02T11:37:40.926789Z"
    }
   },
   "outputs": [
    {
     "data": {
      "text/plain": [
       "\u001b[1;31mInit signature:\u001b[0m\n",
       "\u001b[0mmodels\u001b[0m\u001b[1;33m.\u001b[0m\u001b[0mVGG19_BN_Weights\u001b[0m\u001b[1;33m(\u001b[0m\u001b[1;33m\n",
       "\u001b[0m    \u001b[0mvalue\u001b[0m\u001b[1;33m,\u001b[0m\u001b[1;33m\n",
       "\u001b[0m    \u001b[0mnames\u001b[0m\u001b[1;33m=\u001b[0m\u001b[1;32mNone\u001b[0m\u001b[1;33m,\u001b[0m\u001b[1;33m\n",
       "\u001b[0m    \u001b[1;33m*\u001b[0m\u001b[1;33m,\u001b[0m\u001b[1;33m\n",
       "\u001b[0m    \u001b[0mmodule\u001b[0m\u001b[1;33m=\u001b[0m\u001b[1;32mNone\u001b[0m\u001b[1;33m,\u001b[0m\u001b[1;33m\n",
       "\u001b[0m    \u001b[0mqualname\u001b[0m\u001b[1;33m=\u001b[0m\u001b[1;32mNone\u001b[0m\u001b[1;33m,\u001b[0m\u001b[1;33m\n",
       "\u001b[0m    \u001b[0mtype\u001b[0m\u001b[1;33m=\u001b[0m\u001b[1;32mNone\u001b[0m\u001b[1;33m,\u001b[0m\u001b[1;33m\n",
       "\u001b[0m    \u001b[0mstart\u001b[0m\u001b[1;33m=\u001b[0m\u001b[1;36m1\u001b[0m\u001b[1;33m,\u001b[0m\u001b[1;33m\n",
       "\u001b[0m\u001b[1;33m)\u001b[0m\u001b[1;33m\u001b[0m\u001b[1;33m\u001b[0m\u001b[0m\n",
       "\u001b[1;31mDocstring:\u001b[0m      An enumeration.\n",
       "\u001b[1;31mSource:\u001b[0m        \n",
       "\u001b[1;32mclass\u001b[0m \u001b[0mVGG19_BN_Weights\u001b[0m\u001b[1;33m(\u001b[0m\u001b[0mWeightsEnum\u001b[0m\u001b[1;33m)\u001b[0m\u001b[1;33m:\u001b[0m\u001b[1;33m\n",
       "\u001b[0m    \u001b[0mIMAGENET1K_V1\u001b[0m \u001b[1;33m=\u001b[0m \u001b[0mWeights\u001b[0m\u001b[1;33m(\u001b[0m\u001b[1;33m\n",
       "\u001b[0m        \u001b[0murl\u001b[0m\u001b[1;33m=\u001b[0m\u001b[1;34m\"https://download.pytorch.org/models/vgg19_bn-c79401a0.pth\"\u001b[0m\u001b[1;33m,\u001b[0m\u001b[1;33m\n",
       "\u001b[0m        \u001b[0mtransforms\u001b[0m\u001b[1;33m=\u001b[0m\u001b[0mpartial\u001b[0m\u001b[1;33m(\u001b[0m\u001b[0mImageClassification\u001b[0m\u001b[1;33m,\u001b[0m \u001b[0mcrop_size\u001b[0m\u001b[1;33m=\u001b[0m\u001b[1;36m224\u001b[0m\u001b[1;33m)\u001b[0m\u001b[1;33m,\u001b[0m\u001b[1;33m\n",
       "\u001b[0m        \u001b[0mmeta\u001b[0m\u001b[1;33m=\u001b[0m\u001b[1;33m{\u001b[0m\u001b[1;33m\n",
       "\u001b[0m            \u001b[1;33m**\u001b[0m\u001b[0m_COMMON_META\u001b[0m\u001b[1;33m,\u001b[0m\u001b[1;33m\n",
       "\u001b[0m            \u001b[1;34m\"num_params\"\u001b[0m\u001b[1;33m:\u001b[0m \u001b[1;36m143678248\u001b[0m\u001b[1;33m,\u001b[0m\u001b[1;33m\n",
       "\u001b[0m            \u001b[1;34m\"_metrics\"\u001b[0m\u001b[1;33m:\u001b[0m \u001b[1;33m{\u001b[0m\u001b[1;33m\n",
       "\u001b[0m                \u001b[1;34m\"ImageNet-1K\"\u001b[0m\u001b[1;33m:\u001b[0m \u001b[1;33m{\u001b[0m\u001b[1;33m\n",
       "\u001b[0m                    \u001b[1;34m\"acc@1\"\u001b[0m\u001b[1;33m:\u001b[0m \u001b[1;36m74.218\u001b[0m\u001b[1;33m,\u001b[0m\u001b[1;33m\n",
       "\u001b[0m                    \u001b[1;34m\"acc@5\"\u001b[0m\u001b[1;33m:\u001b[0m \u001b[1;36m91.842\u001b[0m\u001b[1;33m,\u001b[0m\u001b[1;33m\n",
       "\u001b[0m                \u001b[1;33m}\u001b[0m\u001b[1;33m\n",
       "\u001b[0m            \u001b[1;33m}\u001b[0m\u001b[1;33m,\u001b[0m\u001b[1;33m\n",
       "\u001b[0m            \u001b[1;34m\"_ops\"\u001b[0m\u001b[1;33m:\u001b[0m \u001b[1;36m19.632\u001b[0m\u001b[1;33m,\u001b[0m\u001b[1;33m\n",
       "\u001b[0m            \u001b[1;34m\"_file_size\"\u001b[0m\u001b[1;33m:\u001b[0m \u001b[1;36m548.143\u001b[0m\u001b[1;33m,\u001b[0m\u001b[1;33m\n",
       "\u001b[0m        \u001b[1;33m}\u001b[0m\u001b[1;33m,\u001b[0m\u001b[1;33m\n",
       "\u001b[0m    \u001b[1;33m)\u001b[0m\u001b[1;33m\n",
       "\u001b[0m    \u001b[0mDEFAULT\u001b[0m \u001b[1;33m=\u001b[0m \u001b[0mIMAGENET1K_V1\u001b[0m\u001b[1;33m\u001b[0m\u001b[1;33m\u001b[0m\u001b[0m\n",
       "\u001b[1;31mFile:\u001b[0m           c:\\users\\jiang su\\.conda\\envs\\pytorch\\lib\\site-packages\\torchvision\\models\\vgg.py\n",
       "\u001b[1;31mType:\u001b[0m           EnumMeta\n",
       "\u001b[1;31mSubclasses:\u001b[0m     "
      ]
     },
     "metadata": {},
     "output_type": "display_data"
    }
   ],
   "source": [
    "models.VGG19_BN_Weights??"
   ]
  },
  {
   "cell_type": "code",
   "execution_count": 3,
   "id": "614a8ef6-af91-40de-9cc5-872ab5ec5e34",
   "metadata": {
    "execution": {
     "iopub.execute_input": "2023-11-02T11:38:25.848200Z",
     "iopub.status.busy": "2023-11-02T11:38:25.848200Z",
     "iopub.status.idle": "2023-11-02T11:38:25.863731Z",
     "shell.execute_reply": "2023-11-02T11:38:25.863731Z",
     "shell.execute_reply.started": "2023-11-02T11:38:25.848200Z"
    }
   },
   "outputs": [
    {
     "data": {
      "text/plain": [
       "\u001b[1;31mInit signature:\u001b[0m\n",
       "\u001b[0mmodels\u001b[0m\u001b[1;33m.\u001b[0m\u001b[0mVGG19_Weights\u001b[0m\u001b[1;33m(\u001b[0m\u001b[1;33m\n",
       "\u001b[0m    \u001b[0mvalue\u001b[0m\u001b[1;33m,\u001b[0m\u001b[1;33m\n",
       "\u001b[0m    \u001b[0mnames\u001b[0m\u001b[1;33m=\u001b[0m\u001b[1;32mNone\u001b[0m\u001b[1;33m,\u001b[0m\u001b[1;33m\n",
       "\u001b[0m    \u001b[1;33m*\u001b[0m\u001b[1;33m,\u001b[0m\u001b[1;33m\n",
       "\u001b[0m    \u001b[0mmodule\u001b[0m\u001b[1;33m=\u001b[0m\u001b[1;32mNone\u001b[0m\u001b[1;33m,\u001b[0m\u001b[1;33m\n",
       "\u001b[0m    \u001b[0mqualname\u001b[0m\u001b[1;33m=\u001b[0m\u001b[1;32mNone\u001b[0m\u001b[1;33m,\u001b[0m\u001b[1;33m\n",
       "\u001b[0m    \u001b[0mtype\u001b[0m\u001b[1;33m=\u001b[0m\u001b[1;32mNone\u001b[0m\u001b[1;33m,\u001b[0m\u001b[1;33m\n",
       "\u001b[0m    \u001b[0mstart\u001b[0m\u001b[1;33m=\u001b[0m\u001b[1;36m1\u001b[0m\u001b[1;33m,\u001b[0m\u001b[1;33m\n",
       "\u001b[0m\u001b[1;33m)\u001b[0m\u001b[1;33m\u001b[0m\u001b[1;33m\u001b[0m\u001b[0m\n",
       "\u001b[1;31mDocstring:\u001b[0m      An enumeration.\n",
       "\u001b[1;31mSource:\u001b[0m        \n",
       "\u001b[1;32mclass\u001b[0m \u001b[0mVGG19_Weights\u001b[0m\u001b[1;33m(\u001b[0m\u001b[0mWeightsEnum\u001b[0m\u001b[1;33m)\u001b[0m\u001b[1;33m:\u001b[0m\u001b[1;33m\n",
       "\u001b[0m    \u001b[0mIMAGENET1K_V1\u001b[0m \u001b[1;33m=\u001b[0m \u001b[0mWeights\u001b[0m\u001b[1;33m(\u001b[0m\u001b[1;33m\n",
       "\u001b[0m        \u001b[0murl\u001b[0m\u001b[1;33m=\u001b[0m\u001b[1;34m\"https://download.pytorch.org/models/vgg19-dcbb9e9d.pth\"\u001b[0m\u001b[1;33m,\u001b[0m\u001b[1;33m\n",
       "\u001b[0m        \u001b[0mtransforms\u001b[0m\u001b[1;33m=\u001b[0m\u001b[0mpartial\u001b[0m\u001b[1;33m(\u001b[0m\u001b[0mImageClassification\u001b[0m\u001b[1;33m,\u001b[0m \u001b[0mcrop_size\u001b[0m\u001b[1;33m=\u001b[0m\u001b[1;36m224\u001b[0m\u001b[1;33m)\u001b[0m\u001b[1;33m,\u001b[0m\u001b[1;33m\n",
       "\u001b[0m        \u001b[0mmeta\u001b[0m\u001b[1;33m=\u001b[0m\u001b[1;33m{\u001b[0m\u001b[1;33m\n",
       "\u001b[0m            \u001b[1;33m**\u001b[0m\u001b[0m_COMMON_META\u001b[0m\u001b[1;33m,\u001b[0m\u001b[1;33m\n",
       "\u001b[0m            \u001b[1;34m\"num_params\"\u001b[0m\u001b[1;33m:\u001b[0m \u001b[1;36m143667240\u001b[0m\u001b[1;33m,\u001b[0m\u001b[1;33m\n",
       "\u001b[0m            \u001b[1;34m\"_metrics\"\u001b[0m\u001b[1;33m:\u001b[0m \u001b[1;33m{\u001b[0m\u001b[1;33m\n",
       "\u001b[0m                \u001b[1;34m\"ImageNet-1K\"\u001b[0m\u001b[1;33m:\u001b[0m \u001b[1;33m{\u001b[0m\u001b[1;33m\n",
       "\u001b[0m                    \u001b[1;34m\"acc@1\"\u001b[0m\u001b[1;33m:\u001b[0m \u001b[1;36m72.376\u001b[0m\u001b[1;33m,\u001b[0m\u001b[1;33m\n",
       "\u001b[0m                    \u001b[1;34m\"acc@5\"\u001b[0m\u001b[1;33m:\u001b[0m \u001b[1;36m90.876\u001b[0m\u001b[1;33m,\u001b[0m\u001b[1;33m\n",
       "\u001b[0m                \u001b[1;33m}\u001b[0m\u001b[1;33m\n",
       "\u001b[0m            \u001b[1;33m}\u001b[0m\u001b[1;33m,\u001b[0m\u001b[1;33m\n",
       "\u001b[0m            \u001b[1;34m\"_ops\"\u001b[0m\u001b[1;33m:\u001b[0m \u001b[1;36m19.632\u001b[0m\u001b[1;33m,\u001b[0m\u001b[1;33m\n",
       "\u001b[0m            \u001b[1;34m\"_file_size\"\u001b[0m\u001b[1;33m:\u001b[0m \u001b[1;36m548.051\u001b[0m\u001b[1;33m,\u001b[0m\u001b[1;33m\n",
       "\u001b[0m        \u001b[1;33m}\u001b[0m\u001b[1;33m,\u001b[0m\u001b[1;33m\n",
       "\u001b[0m    \u001b[1;33m)\u001b[0m\u001b[1;33m\n",
       "\u001b[0m    \u001b[0mDEFAULT\u001b[0m \u001b[1;33m=\u001b[0m \u001b[0mIMAGENET1K_V1\u001b[0m\u001b[1;33m\u001b[0m\u001b[1;33m\u001b[0m\u001b[0m\n",
       "\u001b[1;31mFile:\u001b[0m           c:\\users\\jiang su\\.conda\\envs\\pytorch\\lib\\site-packages\\torchvision\\models\\vgg.py\n",
       "\u001b[1;31mType:\u001b[0m           EnumMeta\n",
       "\u001b[1;31mSubclasses:\u001b[0m     "
      ]
     },
     "metadata": {},
     "output_type": "display_data"
    }
   ],
   "source": [
    "models.VGG19_Weights??"
   ]
  },
  {
   "cell_type": "code",
   "execution_count": 6,
   "id": "3f25988f-00f3-4091-adca-573109e0332c",
   "metadata": {
    "execution": {
     "iopub.execute_input": "2023-11-02T11:42:16.389082Z",
     "iopub.status.busy": "2023-11-02T11:42:16.389082Z",
     "iopub.status.idle": "2023-11-02T11:42:16.423643Z",
     "shell.execute_reply": "2023-11-02T11:42:16.423227Z",
     "shell.execute_reply.started": "2023-11-02T11:42:16.389082Z"
    }
   },
   "outputs": [
    {
     "data": {
      "text/plain": [
       "\u001b[1;31mInit signature:\u001b[0m\n",
       "\u001b[0mmodels\u001b[0m\u001b[1;33m.\u001b[0m\u001b[0mVGG\u001b[0m\u001b[1;33m(\u001b[0m\u001b[1;33m\n",
       "\u001b[0m    \u001b[0mfeatures\u001b[0m\u001b[1;33m:\u001b[0m \u001b[0mtorch\u001b[0m\u001b[1;33m.\u001b[0m\u001b[0mnn\u001b[0m\u001b[1;33m.\u001b[0m\u001b[0mmodules\u001b[0m\u001b[1;33m.\u001b[0m\u001b[0mmodule\u001b[0m\u001b[1;33m.\u001b[0m\u001b[0mModule\u001b[0m\u001b[1;33m,\u001b[0m\u001b[1;33m\n",
       "\u001b[0m    \u001b[0mnum_classes\u001b[0m\u001b[1;33m:\u001b[0m \u001b[0mint\u001b[0m \u001b[1;33m=\u001b[0m \u001b[1;36m1000\u001b[0m\u001b[1;33m,\u001b[0m\u001b[1;33m\n",
       "\u001b[0m    \u001b[0minit_weights\u001b[0m\u001b[1;33m:\u001b[0m \u001b[0mbool\u001b[0m \u001b[1;33m=\u001b[0m \u001b[1;32mTrue\u001b[0m\u001b[1;33m,\u001b[0m\u001b[1;33m\n",
       "\u001b[0m    \u001b[0mdropout\u001b[0m\u001b[1;33m:\u001b[0m \u001b[0mfloat\u001b[0m \u001b[1;33m=\u001b[0m \u001b[1;36m0.5\u001b[0m\u001b[1;33m,\u001b[0m\u001b[1;33m\n",
       "\u001b[0m\u001b[1;33m)\u001b[0m \u001b[1;33m->\u001b[0m \u001b[1;32mNone\u001b[0m\u001b[1;33m\u001b[0m\u001b[1;33m\u001b[0m\u001b[0m\n",
       "\u001b[1;31mDocstring:\u001b[0m     \n",
       "Base class for all neural network modules.\n",
       "\n",
       "Your models should also subclass this class.\n",
       "\n",
       "Modules can also contain other Modules, allowing to nest them in\n",
       "a tree structure. You can assign the submodules as regular attributes::\n",
       "\n",
       "    import torch.nn as nn\n",
       "    import torch.nn.functional as F\n",
       "\n",
       "    class Model(nn.Module):\n",
       "        def __init__(self):\n",
       "            super().__init__()\n",
       "            self.conv1 = nn.Conv2d(1, 20, 5)\n",
       "            self.conv2 = nn.Conv2d(20, 20, 5)\n",
       "\n",
       "        def forward(self, x):\n",
       "            x = F.relu(self.conv1(x))\n",
       "            return F.relu(self.conv2(x))\n",
       "\n",
       "Submodules assigned in this way will be registered, and will have their\n",
       "parameters converted too when you call :meth:`to`, etc.\n",
       "\n",
       ".. note::\n",
       "    As per the example above, an ``__init__()`` call to the parent class\n",
       "    must be made before assignment on the child.\n",
       "\n",
       ":ivar training: Boolean represents whether this module is in training or\n",
       "                evaluation mode.\n",
       ":vartype training: bool\n",
       "\u001b[1;31mSource:\u001b[0m        \n",
       "\u001b[1;32mclass\u001b[0m \u001b[0mVGG\u001b[0m\u001b[1;33m(\u001b[0m\u001b[0mnn\u001b[0m\u001b[1;33m.\u001b[0m\u001b[0mModule\u001b[0m\u001b[1;33m)\u001b[0m\u001b[1;33m:\u001b[0m\u001b[1;33m\n",
       "\u001b[0m    \u001b[1;32mdef\u001b[0m \u001b[0m__init__\u001b[0m\u001b[1;33m(\u001b[0m\u001b[1;33m\n",
       "\u001b[0m        \u001b[0mself\u001b[0m\u001b[1;33m,\u001b[0m \u001b[0mfeatures\u001b[0m\u001b[1;33m:\u001b[0m \u001b[0mnn\u001b[0m\u001b[1;33m.\u001b[0m\u001b[0mModule\u001b[0m\u001b[1;33m,\u001b[0m \u001b[0mnum_classes\u001b[0m\u001b[1;33m:\u001b[0m \u001b[0mint\u001b[0m \u001b[1;33m=\u001b[0m \u001b[1;36m1000\u001b[0m\u001b[1;33m,\u001b[0m \u001b[0minit_weights\u001b[0m\u001b[1;33m:\u001b[0m \u001b[0mbool\u001b[0m \u001b[1;33m=\u001b[0m \u001b[1;32mTrue\u001b[0m\u001b[1;33m,\u001b[0m \u001b[0mdropout\u001b[0m\u001b[1;33m:\u001b[0m \u001b[0mfloat\u001b[0m \u001b[1;33m=\u001b[0m \u001b[1;36m0.5\u001b[0m\u001b[1;33m\n",
       "\u001b[0m    \u001b[1;33m)\u001b[0m \u001b[1;33m->\u001b[0m \u001b[1;32mNone\u001b[0m\u001b[1;33m:\u001b[0m\u001b[1;33m\n",
       "\u001b[0m        \u001b[0msuper\u001b[0m\u001b[1;33m(\u001b[0m\u001b[1;33m)\u001b[0m\u001b[1;33m.\u001b[0m\u001b[0m__init__\u001b[0m\u001b[1;33m(\u001b[0m\u001b[1;33m)\u001b[0m\u001b[1;33m\n",
       "\u001b[0m        \u001b[0m_log_api_usage_once\u001b[0m\u001b[1;33m(\u001b[0m\u001b[0mself\u001b[0m\u001b[1;33m)\u001b[0m\u001b[1;33m\n",
       "\u001b[0m        \u001b[0mself\u001b[0m\u001b[1;33m.\u001b[0m\u001b[0mfeatures\u001b[0m \u001b[1;33m=\u001b[0m \u001b[0mfeatures\u001b[0m\u001b[1;33m\n",
       "\u001b[0m        \u001b[0mself\u001b[0m\u001b[1;33m.\u001b[0m\u001b[0mavgpool\u001b[0m \u001b[1;33m=\u001b[0m \u001b[0mnn\u001b[0m\u001b[1;33m.\u001b[0m\u001b[0mAdaptiveAvgPool2d\u001b[0m\u001b[1;33m(\u001b[0m\u001b[1;33m(\u001b[0m\u001b[1;36m7\u001b[0m\u001b[1;33m,\u001b[0m \u001b[1;36m7\u001b[0m\u001b[1;33m)\u001b[0m\u001b[1;33m)\u001b[0m\u001b[1;33m\n",
       "\u001b[0m        \u001b[0mself\u001b[0m\u001b[1;33m.\u001b[0m\u001b[0mclassifier\u001b[0m \u001b[1;33m=\u001b[0m \u001b[0mnn\u001b[0m\u001b[1;33m.\u001b[0m\u001b[0mSequential\u001b[0m\u001b[1;33m(\u001b[0m\u001b[1;33m\n",
       "\u001b[0m            \u001b[0mnn\u001b[0m\u001b[1;33m.\u001b[0m\u001b[0mLinear\u001b[0m\u001b[1;33m(\u001b[0m\u001b[1;36m512\u001b[0m \u001b[1;33m*\u001b[0m \u001b[1;36m7\u001b[0m \u001b[1;33m*\u001b[0m \u001b[1;36m7\u001b[0m\u001b[1;33m,\u001b[0m \u001b[1;36m4096\u001b[0m\u001b[1;33m)\u001b[0m\u001b[1;33m,\u001b[0m\u001b[1;33m\n",
       "\u001b[0m            \u001b[0mnn\u001b[0m\u001b[1;33m.\u001b[0m\u001b[0mReLU\u001b[0m\u001b[1;33m(\u001b[0m\u001b[1;32mTrue\u001b[0m\u001b[1;33m)\u001b[0m\u001b[1;33m,\u001b[0m\u001b[1;33m\n",
       "\u001b[0m            \u001b[0mnn\u001b[0m\u001b[1;33m.\u001b[0m\u001b[0mDropout\u001b[0m\u001b[1;33m(\u001b[0m\u001b[0mp\u001b[0m\u001b[1;33m=\u001b[0m\u001b[0mdropout\u001b[0m\u001b[1;33m)\u001b[0m\u001b[1;33m,\u001b[0m\u001b[1;33m\n",
       "\u001b[0m            \u001b[0mnn\u001b[0m\u001b[1;33m.\u001b[0m\u001b[0mLinear\u001b[0m\u001b[1;33m(\u001b[0m\u001b[1;36m4096\u001b[0m\u001b[1;33m,\u001b[0m \u001b[1;36m4096\u001b[0m\u001b[1;33m)\u001b[0m\u001b[1;33m,\u001b[0m\u001b[1;33m\n",
       "\u001b[0m            \u001b[0mnn\u001b[0m\u001b[1;33m.\u001b[0m\u001b[0mReLU\u001b[0m\u001b[1;33m(\u001b[0m\u001b[1;32mTrue\u001b[0m\u001b[1;33m)\u001b[0m\u001b[1;33m,\u001b[0m\u001b[1;33m\n",
       "\u001b[0m            \u001b[0mnn\u001b[0m\u001b[1;33m.\u001b[0m\u001b[0mDropout\u001b[0m\u001b[1;33m(\u001b[0m\u001b[0mp\u001b[0m\u001b[1;33m=\u001b[0m\u001b[0mdropout\u001b[0m\u001b[1;33m)\u001b[0m\u001b[1;33m,\u001b[0m\u001b[1;33m\n",
       "\u001b[0m            \u001b[0mnn\u001b[0m\u001b[1;33m.\u001b[0m\u001b[0mLinear\u001b[0m\u001b[1;33m(\u001b[0m\u001b[1;36m4096\u001b[0m\u001b[1;33m,\u001b[0m \u001b[0mnum_classes\u001b[0m\u001b[1;33m)\u001b[0m\u001b[1;33m,\u001b[0m\u001b[1;33m\n",
       "\u001b[0m        \u001b[1;33m)\u001b[0m\u001b[1;33m\n",
       "\u001b[0m        \u001b[1;32mif\u001b[0m \u001b[0minit_weights\u001b[0m\u001b[1;33m:\u001b[0m\u001b[1;33m\n",
       "\u001b[0m            \u001b[1;32mfor\u001b[0m \u001b[0mm\u001b[0m \u001b[1;32min\u001b[0m \u001b[0mself\u001b[0m\u001b[1;33m.\u001b[0m\u001b[0mmodules\u001b[0m\u001b[1;33m(\u001b[0m\u001b[1;33m)\u001b[0m\u001b[1;33m:\u001b[0m\u001b[1;33m\n",
       "\u001b[0m                \u001b[1;32mif\u001b[0m \u001b[0misinstance\u001b[0m\u001b[1;33m(\u001b[0m\u001b[0mm\u001b[0m\u001b[1;33m,\u001b[0m \u001b[0mnn\u001b[0m\u001b[1;33m.\u001b[0m\u001b[0mConv2d\u001b[0m\u001b[1;33m)\u001b[0m\u001b[1;33m:\u001b[0m\u001b[1;33m\n",
       "\u001b[0m                    \u001b[0mnn\u001b[0m\u001b[1;33m.\u001b[0m\u001b[0minit\u001b[0m\u001b[1;33m.\u001b[0m\u001b[0mkaiming_normal_\u001b[0m\u001b[1;33m(\u001b[0m\u001b[0mm\u001b[0m\u001b[1;33m.\u001b[0m\u001b[0mweight\u001b[0m\u001b[1;33m,\u001b[0m \u001b[0mmode\u001b[0m\u001b[1;33m=\u001b[0m\u001b[1;34m\"fan_out\"\u001b[0m\u001b[1;33m,\u001b[0m \u001b[0mnonlinearity\u001b[0m\u001b[1;33m=\u001b[0m\u001b[1;34m\"relu\"\u001b[0m\u001b[1;33m)\u001b[0m\u001b[1;33m\n",
       "\u001b[0m                    \u001b[1;32mif\u001b[0m \u001b[0mm\u001b[0m\u001b[1;33m.\u001b[0m\u001b[0mbias\u001b[0m \u001b[1;32mis\u001b[0m \u001b[1;32mnot\u001b[0m \u001b[1;32mNone\u001b[0m\u001b[1;33m:\u001b[0m\u001b[1;33m\n",
       "\u001b[0m                        \u001b[0mnn\u001b[0m\u001b[1;33m.\u001b[0m\u001b[0minit\u001b[0m\u001b[1;33m.\u001b[0m\u001b[0mconstant_\u001b[0m\u001b[1;33m(\u001b[0m\u001b[0mm\u001b[0m\u001b[1;33m.\u001b[0m\u001b[0mbias\u001b[0m\u001b[1;33m,\u001b[0m \u001b[1;36m0\u001b[0m\u001b[1;33m)\u001b[0m\u001b[1;33m\n",
       "\u001b[0m                \u001b[1;32melif\u001b[0m \u001b[0misinstance\u001b[0m\u001b[1;33m(\u001b[0m\u001b[0mm\u001b[0m\u001b[1;33m,\u001b[0m \u001b[0mnn\u001b[0m\u001b[1;33m.\u001b[0m\u001b[0mBatchNorm2d\u001b[0m\u001b[1;33m)\u001b[0m\u001b[1;33m:\u001b[0m\u001b[1;33m\n",
       "\u001b[0m                    \u001b[0mnn\u001b[0m\u001b[1;33m.\u001b[0m\u001b[0minit\u001b[0m\u001b[1;33m.\u001b[0m\u001b[0mconstant_\u001b[0m\u001b[1;33m(\u001b[0m\u001b[0mm\u001b[0m\u001b[1;33m.\u001b[0m\u001b[0mweight\u001b[0m\u001b[1;33m,\u001b[0m \u001b[1;36m1\u001b[0m\u001b[1;33m)\u001b[0m\u001b[1;33m\n",
       "\u001b[0m                    \u001b[0mnn\u001b[0m\u001b[1;33m.\u001b[0m\u001b[0minit\u001b[0m\u001b[1;33m.\u001b[0m\u001b[0mconstant_\u001b[0m\u001b[1;33m(\u001b[0m\u001b[0mm\u001b[0m\u001b[1;33m.\u001b[0m\u001b[0mbias\u001b[0m\u001b[1;33m,\u001b[0m \u001b[1;36m0\u001b[0m\u001b[1;33m)\u001b[0m\u001b[1;33m\n",
       "\u001b[0m                \u001b[1;32melif\u001b[0m \u001b[0misinstance\u001b[0m\u001b[1;33m(\u001b[0m\u001b[0mm\u001b[0m\u001b[1;33m,\u001b[0m \u001b[0mnn\u001b[0m\u001b[1;33m.\u001b[0m\u001b[0mLinear\u001b[0m\u001b[1;33m)\u001b[0m\u001b[1;33m:\u001b[0m\u001b[1;33m\n",
       "\u001b[0m                    \u001b[0mnn\u001b[0m\u001b[1;33m.\u001b[0m\u001b[0minit\u001b[0m\u001b[1;33m.\u001b[0m\u001b[0mnormal_\u001b[0m\u001b[1;33m(\u001b[0m\u001b[0mm\u001b[0m\u001b[1;33m.\u001b[0m\u001b[0mweight\u001b[0m\u001b[1;33m,\u001b[0m \u001b[1;36m0\u001b[0m\u001b[1;33m,\u001b[0m \u001b[1;36m0.01\u001b[0m\u001b[1;33m)\u001b[0m\u001b[1;33m\n",
       "\u001b[0m                    \u001b[0mnn\u001b[0m\u001b[1;33m.\u001b[0m\u001b[0minit\u001b[0m\u001b[1;33m.\u001b[0m\u001b[0mconstant_\u001b[0m\u001b[1;33m(\u001b[0m\u001b[0mm\u001b[0m\u001b[1;33m.\u001b[0m\u001b[0mbias\u001b[0m\u001b[1;33m,\u001b[0m \u001b[1;36m0\u001b[0m\u001b[1;33m)\u001b[0m\u001b[1;33m\n",
       "\u001b[0m\u001b[1;33m\n",
       "\u001b[0m    \u001b[1;32mdef\u001b[0m \u001b[0mforward\u001b[0m\u001b[1;33m(\u001b[0m\u001b[0mself\u001b[0m\u001b[1;33m,\u001b[0m \u001b[0mx\u001b[0m\u001b[1;33m:\u001b[0m \u001b[0mtorch\u001b[0m\u001b[1;33m.\u001b[0m\u001b[0mTensor\u001b[0m\u001b[1;33m)\u001b[0m \u001b[1;33m->\u001b[0m \u001b[0mtorch\u001b[0m\u001b[1;33m.\u001b[0m\u001b[0mTensor\u001b[0m\u001b[1;33m:\u001b[0m\u001b[1;33m\n",
       "\u001b[0m        \u001b[0mx\u001b[0m \u001b[1;33m=\u001b[0m \u001b[0mself\u001b[0m\u001b[1;33m.\u001b[0m\u001b[0mfeatures\u001b[0m\u001b[1;33m(\u001b[0m\u001b[0mx\u001b[0m\u001b[1;33m)\u001b[0m\u001b[1;33m\n",
       "\u001b[0m        \u001b[0mx\u001b[0m \u001b[1;33m=\u001b[0m \u001b[0mself\u001b[0m\u001b[1;33m.\u001b[0m\u001b[0mavgpool\u001b[0m\u001b[1;33m(\u001b[0m\u001b[0mx\u001b[0m\u001b[1;33m)\u001b[0m\u001b[1;33m\n",
       "\u001b[0m        \u001b[0mx\u001b[0m \u001b[1;33m=\u001b[0m \u001b[0mtorch\u001b[0m\u001b[1;33m.\u001b[0m\u001b[0mflatten\u001b[0m\u001b[1;33m(\u001b[0m\u001b[0mx\u001b[0m\u001b[1;33m,\u001b[0m \u001b[1;36m1\u001b[0m\u001b[1;33m)\u001b[0m\u001b[1;33m\n",
       "\u001b[0m        \u001b[0mx\u001b[0m \u001b[1;33m=\u001b[0m \u001b[0mself\u001b[0m\u001b[1;33m.\u001b[0m\u001b[0mclassifier\u001b[0m\u001b[1;33m(\u001b[0m\u001b[0mx\u001b[0m\u001b[1;33m)\u001b[0m\u001b[1;33m\n",
       "\u001b[0m        \u001b[1;32mreturn\u001b[0m \u001b[0mx\u001b[0m\u001b[1;33m\u001b[0m\u001b[1;33m\u001b[0m\u001b[0m\n",
       "\u001b[1;31mFile:\u001b[0m           c:\\users\\jiang su\\.conda\\envs\\pytorch\\lib\\site-packages\\torchvision\\models\\vgg.py\n",
       "\u001b[1;31mType:\u001b[0m           type\n",
       "\u001b[1;31mSubclasses:\u001b[0m     "
      ]
     },
     "metadata": {},
     "output_type": "display_data"
    }
   ],
   "source": [
    "models.VGG??"
   ]
  },
  {
   "cell_type": "code",
   "execution_count": 8,
   "id": "5f63caf4-35a2-4985-83ec-234312b51335",
   "metadata": {
    "execution": {
     "iopub.execute_input": "2023-11-02T11:51:33.033146Z",
     "iopub.status.busy": "2023-11-02T11:51:33.033146Z",
     "iopub.status.idle": "2023-11-02T11:51:33.045473Z",
     "shell.execute_reply": "2023-11-02T11:51:33.045112Z",
     "shell.execute_reply.started": "2023-11-02T11:51:33.033146Z"
    }
   },
   "outputs": [
    {
     "data": {
      "text/plain": [
       "\u001b[1;31mInit signature:\u001b[0m\n",
       "\u001b[0mmodels\u001b[0m\u001b[1;33m.\u001b[0m\u001b[0mvgg\u001b[0m\u001b[1;33m.\u001b[0m\u001b[0mVGG\u001b[0m\u001b[1;33m(\u001b[0m\u001b[1;33m\n",
       "\u001b[0m    \u001b[0mfeatures\u001b[0m\u001b[1;33m:\u001b[0m \u001b[0mtorch\u001b[0m\u001b[1;33m.\u001b[0m\u001b[0mnn\u001b[0m\u001b[1;33m.\u001b[0m\u001b[0mmodules\u001b[0m\u001b[1;33m.\u001b[0m\u001b[0mmodule\u001b[0m\u001b[1;33m.\u001b[0m\u001b[0mModule\u001b[0m\u001b[1;33m,\u001b[0m\u001b[1;33m\n",
       "\u001b[0m    \u001b[0mnum_classes\u001b[0m\u001b[1;33m:\u001b[0m \u001b[0mint\u001b[0m \u001b[1;33m=\u001b[0m \u001b[1;36m1000\u001b[0m\u001b[1;33m,\u001b[0m\u001b[1;33m\n",
       "\u001b[0m    \u001b[0minit_weights\u001b[0m\u001b[1;33m:\u001b[0m \u001b[0mbool\u001b[0m \u001b[1;33m=\u001b[0m \u001b[1;32mTrue\u001b[0m\u001b[1;33m,\u001b[0m\u001b[1;33m\n",
       "\u001b[0m    \u001b[0mdropout\u001b[0m\u001b[1;33m:\u001b[0m \u001b[0mfloat\u001b[0m \u001b[1;33m=\u001b[0m \u001b[1;36m0.5\u001b[0m\u001b[1;33m,\u001b[0m\u001b[1;33m\n",
       "\u001b[0m\u001b[1;33m)\u001b[0m \u001b[1;33m->\u001b[0m \u001b[1;32mNone\u001b[0m\u001b[1;33m\u001b[0m\u001b[1;33m\u001b[0m\u001b[0m\n",
       "\u001b[1;31mDocstring:\u001b[0m     \n",
       "Base class for all neural network modules.\n",
       "\n",
       "Your models should also subclass this class.\n",
       "\n",
       "Modules can also contain other Modules, allowing to nest them in\n",
       "a tree structure. You can assign the submodules as regular attributes::\n",
       "\n",
       "    import torch.nn as nn\n",
       "    import torch.nn.functional as F\n",
       "\n",
       "    class Model(nn.Module):\n",
       "        def __init__(self):\n",
       "            super().__init__()\n",
       "            self.conv1 = nn.Conv2d(1, 20, 5)\n",
       "            self.conv2 = nn.Conv2d(20, 20, 5)\n",
       "\n",
       "        def forward(self, x):\n",
       "            x = F.relu(self.conv1(x))\n",
       "            return F.relu(self.conv2(x))\n",
       "\n",
       "Submodules assigned in this way will be registered, and will have their\n",
       "parameters converted too when you call :meth:`to`, etc.\n",
       "\n",
       ".. note::\n",
       "    As per the example above, an ``__init__()`` call to the parent class\n",
       "    must be made before assignment on the child.\n",
       "\n",
       ":ivar training: Boolean represents whether this module is in training or\n",
       "                evaluation mode.\n",
       ":vartype training: bool\n",
       "\u001b[1;31mSource:\u001b[0m        \n",
       "\u001b[1;32mclass\u001b[0m \u001b[0mVGG\u001b[0m\u001b[1;33m(\u001b[0m\u001b[0mnn\u001b[0m\u001b[1;33m.\u001b[0m\u001b[0mModule\u001b[0m\u001b[1;33m)\u001b[0m\u001b[1;33m:\u001b[0m\u001b[1;33m\n",
       "\u001b[0m    \u001b[1;32mdef\u001b[0m \u001b[0m__init__\u001b[0m\u001b[1;33m(\u001b[0m\u001b[1;33m\n",
       "\u001b[0m        \u001b[0mself\u001b[0m\u001b[1;33m,\u001b[0m \u001b[0mfeatures\u001b[0m\u001b[1;33m:\u001b[0m \u001b[0mnn\u001b[0m\u001b[1;33m.\u001b[0m\u001b[0mModule\u001b[0m\u001b[1;33m,\u001b[0m \u001b[0mnum_classes\u001b[0m\u001b[1;33m:\u001b[0m \u001b[0mint\u001b[0m \u001b[1;33m=\u001b[0m \u001b[1;36m1000\u001b[0m\u001b[1;33m,\u001b[0m \u001b[0minit_weights\u001b[0m\u001b[1;33m:\u001b[0m \u001b[0mbool\u001b[0m \u001b[1;33m=\u001b[0m \u001b[1;32mTrue\u001b[0m\u001b[1;33m,\u001b[0m \u001b[0mdropout\u001b[0m\u001b[1;33m:\u001b[0m \u001b[0mfloat\u001b[0m \u001b[1;33m=\u001b[0m \u001b[1;36m0.5\u001b[0m\u001b[1;33m\n",
       "\u001b[0m    \u001b[1;33m)\u001b[0m \u001b[1;33m->\u001b[0m \u001b[1;32mNone\u001b[0m\u001b[1;33m:\u001b[0m\u001b[1;33m\n",
       "\u001b[0m        \u001b[0msuper\u001b[0m\u001b[1;33m(\u001b[0m\u001b[1;33m)\u001b[0m\u001b[1;33m.\u001b[0m\u001b[0m__init__\u001b[0m\u001b[1;33m(\u001b[0m\u001b[1;33m)\u001b[0m\u001b[1;33m\n",
       "\u001b[0m        \u001b[0m_log_api_usage_once\u001b[0m\u001b[1;33m(\u001b[0m\u001b[0mself\u001b[0m\u001b[1;33m)\u001b[0m\u001b[1;33m\n",
       "\u001b[0m        \u001b[0mself\u001b[0m\u001b[1;33m.\u001b[0m\u001b[0mfeatures\u001b[0m \u001b[1;33m=\u001b[0m \u001b[0mfeatures\u001b[0m\u001b[1;33m\n",
       "\u001b[0m        \u001b[0mself\u001b[0m\u001b[1;33m.\u001b[0m\u001b[0mavgpool\u001b[0m \u001b[1;33m=\u001b[0m \u001b[0mnn\u001b[0m\u001b[1;33m.\u001b[0m\u001b[0mAdaptiveAvgPool2d\u001b[0m\u001b[1;33m(\u001b[0m\u001b[1;33m(\u001b[0m\u001b[1;36m7\u001b[0m\u001b[1;33m,\u001b[0m \u001b[1;36m7\u001b[0m\u001b[1;33m)\u001b[0m\u001b[1;33m)\u001b[0m\u001b[1;33m\n",
       "\u001b[0m        \u001b[0mself\u001b[0m\u001b[1;33m.\u001b[0m\u001b[0mclassifier\u001b[0m \u001b[1;33m=\u001b[0m \u001b[0mnn\u001b[0m\u001b[1;33m.\u001b[0m\u001b[0mSequential\u001b[0m\u001b[1;33m(\u001b[0m\u001b[1;33m\n",
       "\u001b[0m            \u001b[0mnn\u001b[0m\u001b[1;33m.\u001b[0m\u001b[0mLinear\u001b[0m\u001b[1;33m(\u001b[0m\u001b[1;36m512\u001b[0m \u001b[1;33m*\u001b[0m \u001b[1;36m7\u001b[0m \u001b[1;33m*\u001b[0m \u001b[1;36m7\u001b[0m\u001b[1;33m,\u001b[0m \u001b[1;36m4096\u001b[0m\u001b[1;33m)\u001b[0m\u001b[1;33m,\u001b[0m\u001b[1;33m\n",
       "\u001b[0m            \u001b[0mnn\u001b[0m\u001b[1;33m.\u001b[0m\u001b[0mReLU\u001b[0m\u001b[1;33m(\u001b[0m\u001b[1;32mTrue\u001b[0m\u001b[1;33m)\u001b[0m\u001b[1;33m,\u001b[0m\u001b[1;33m\n",
       "\u001b[0m            \u001b[0mnn\u001b[0m\u001b[1;33m.\u001b[0m\u001b[0mDropout\u001b[0m\u001b[1;33m(\u001b[0m\u001b[0mp\u001b[0m\u001b[1;33m=\u001b[0m\u001b[0mdropout\u001b[0m\u001b[1;33m)\u001b[0m\u001b[1;33m,\u001b[0m\u001b[1;33m\n",
       "\u001b[0m            \u001b[0mnn\u001b[0m\u001b[1;33m.\u001b[0m\u001b[0mLinear\u001b[0m\u001b[1;33m(\u001b[0m\u001b[1;36m4096\u001b[0m\u001b[1;33m,\u001b[0m \u001b[1;36m4096\u001b[0m\u001b[1;33m)\u001b[0m\u001b[1;33m,\u001b[0m\u001b[1;33m\n",
       "\u001b[0m            \u001b[0mnn\u001b[0m\u001b[1;33m.\u001b[0m\u001b[0mReLU\u001b[0m\u001b[1;33m(\u001b[0m\u001b[1;32mTrue\u001b[0m\u001b[1;33m)\u001b[0m\u001b[1;33m,\u001b[0m\u001b[1;33m\n",
       "\u001b[0m            \u001b[0mnn\u001b[0m\u001b[1;33m.\u001b[0m\u001b[0mDropout\u001b[0m\u001b[1;33m(\u001b[0m\u001b[0mp\u001b[0m\u001b[1;33m=\u001b[0m\u001b[0mdropout\u001b[0m\u001b[1;33m)\u001b[0m\u001b[1;33m,\u001b[0m\u001b[1;33m\n",
       "\u001b[0m            \u001b[0mnn\u001b[0m\u001b[1;33m.\u001b[0m\u001b[0mLinear\u001b[0m\u001b[1;33m(\u001b[0m\u001b[1;36m4096\u001b[0m\u001b[1;33m,\u001b[0m \u001b[0mnum_classes\u001b[0m\u001b[1;33m)\u001b[0m\u001b[1;33m,\u001b[0m\u001b[1;33m\n",
       "\u001b[0m        \u001b[1;33m)\u001b[0m\u001b[1;33m\n",
       "\u001b[0m        \u001b[1;32mif\u001b[0m \u001b[0minit_weights\u001b[0m\u001b[1;33m:\u001b[0m\u001b[1;33m\n",
       "\u001b[0m            \u001b[1;32mfor\u001b[0m \u001b[0mm\u001b[0m \u001b[1;32min\u001b[0m \u001b[0mself\u001b[0m\u001b[1;33m.\u001b[0m\u001b[0mmodules\u001b[0m\u001b[1;33m(\u001b[0m\u001b[1;33m)\u001b[0m\u001b[1;33m:\u001b[0m\u001b[1;33m\n",
       "\u001b[0m                \u001b[1;32mif\u001b[0m \u001b[0misinstance\u001b[0m\u001b[1;33m(\u001b[0m\u001b[0mm\u001b[0m\u001b[1;33m,\u001b[0m \u001b[0mnn\u001b[0m\u001b[1;33m.\u001b[0m\u001b[0mConv2d\u001b[0m\u001b[1;33m)\u001b[0m\u001b[1;33m:\u001b[0m\u001b[1;33m\n",
       "\u001b[0m                    \u001b[0mnn\u001b[0m\u001b[1;33m.\u001b[0m\u001b[0minit\u001b[0m\u001b[1;33m.\u001b[0m\u001b[0mkaiming_normal_\u001b[0m\u001b[1;33m(\u001b[0m\u001b[0mm\u001b[0m\u001b[1;33m.\u001b[0m\u001b[0mweight\u001b[0m\u001b[1;33m,\u001b[0m \u001b[0mmode\u001b[0m\u001b[1;33m=\u001b[0m\u001b[1;34m\"fan_out\"\u001b[0m\u001b[1;33m,\u001b[0m \u001b[0mnonlinearity\u001b[0m\u001b[1;33m=\u001b[0m\u001b[1;34m\"relu\"\u001b[0m\u001b[1;33m)\u001b[0m\u001b[1;33m\n",
       "\u001b[0m                    \u001b[1;32mif\u001b[0m \u001b[0mm\u001b[0m\u001b[1;33m.\u001b[0m\u001b[0mbias\u001b[0m \u001b[1;32mis\u001b[0m \u001b[1;32mnot\u001b[0m \u001b[1;32mNone\u001b[0m\u001b[1;33m:\u001b[0m\u001b[1;33m\n",
       "\u001b[0m                        \u001b[0mnn\u001b[0m\u001b[1;33m.\u001b[0m\u001b[0minit\u001b[0m\u001b[1;33m.\u001b[0m\u001b[0mconstant_\u001b[0m\u001b[1;33m(\u001b[0m\u001b[0mm\u001b[0m\u001b[1;33m.\u001b[0m\u001b[0mbias\u001b[0m\u001b[1;33m,\u001b[0m \u001b[1;36m0\u001b[0m\u001b[1;33m)\u001b[0m\u001b[1;33m\n",
       "\u001b[0m                \u001b[1;32melif\u001b[0m \u001b[0misinstance\u001b[0m\u001b[1;33m(\u001b[0m\u001b[0mm\u001b[0m\u001b[1;33m,\u001b[0m \u001b[0mnn\u001b[0m\u001b[1;33m.\u001b[0m\u001b[0mBatchNorm2d\u001b[0m\u001b[1;33m)\u001b[0m\u001b[1;33m:\u001b[0m\u001b[1;33m\n",
       "\u001b[0m                    \u001b[0mnn\u001b[0m\u001b[1;33m.\u001b[0m\u001b[0minit\u001b[0m\u001b[1;33m.\u001b[0m\u001b[0mconstant_\u001b[0m\u001b[1;33m(\u001b[0m\u001b[0mm\u001b[0m\u001b[1;33m.\u001b[0m\u001b[0mweight\u001b[0m\u001b[1;33m,\u001b[0m \u001b[1;36m1\u001b[0m\u001b[1;33m)\u001b[0m\u001b[1;33m\n",
       "\u001b[0m                    \u001b[0mnn\u001b[0m\u001b[1;33m.\u001b[0m\u001b[0minit\u001b[0m\u001b[1;33m.\u001b[0m\u001b[0mconstant_\u001b[0m\u001b[1;33m(\u001b[0m\u001b[0mm\u001b[0m\u001b[1;33m.\u001b[0m\u001b[0mbias\u001b[0m\u001b[1;33m,\u001b[0m \u001b[1;36m0\u001b[0m\u001b[1;33m)\u001b[0m\u001b[1;33m\n",
       "\u001b[0m                \u001b[1;32melif\u001b[0m \u001b[0misinstance\u001b[0m\u001b[1;33m(\u001b[0m\u001b[0mm\u001b[0m\u001b[1;33m,\u001b[0m \u001b[0mnn\u001b[0m\u001b[1;33m.\u001b[0m\u001b[0mLinear\u001b[0m\u001b[1;33m)\u001b[0m\u001b[1;33m:\u001b[0m\u001b[1;33m\n",
       "\u001b[0m                    \u001b[0mnn\u001b[0m\u001b[1;33m.\u001b[0m\u001b[0minit\u001b[0m\u001b[1;33m.\u001b[0m\u001b[0mnormal_\u001b[0m\u001b[1;33m(\u001b[0m\u001b[0mm\u001b[0m\u001b[1;33m.\u001b[0m\u001b[0mweight\u001b[0m\u001b[1;33m,\u001b[0m \u001b[1;36m0\u001b[0m\u001b[1;33m,\u001b[0m \u001b[1;36m0.01\u001b[0m\u001b[1;33m)\u001b[0m\u001b[1;33m\n",
       "\u001b[0m                    \u001b[0mnn\u001b[0m\u001b[1;33m.\u001b[0m\u001b[0minit\u001b[0m\u001b[1;33m.\u001b[0m\u001b[0mconstant_\u001b[0m\u001b[1;33m(\u001b[0m\u001b[0mm\u001b[0m\u001b[1;33m.\u001b[0m\u001b[0mbias\u001b[0m\u001b[1;33m,\u001b[0m \u001b[1;36m0\u001b[0m\u001b[1;33m)\u001b[0m\u001b[1;33m\n",
       "\u001b[0m\u001b[1;33m\n",
       "\u001b[0m    \u001b[1;32mdef\u001b[0m \u001b[0mforward\u001b[0m\u001b[1;33m(\u001b[0m\u001b[0mself\u001b[0m\u001b[1;33m,\u001b[0m \u001b[0mx\u001b[0m\u001b[1;33m:\u001b[0m \u001b[0mtorch\u001b[0m\u001b[1;33m.\u001b[0m\u001b[0mTensor\u001b[0m\u001b[1;33m)\u001b[0m \u001b[1;33m->\u001b[0m \u001b[0mtorch\u001b[0m\u001b[1;33m.\u001b[0m\u001b[0mTensor\u001b[0m\u001b[1;33m:\u001b[0m\u001b[1;33m\n",
       "\u001b[0m        \u001b[0mx\u001b[0m \u001b[1;33m=\u001b[0m \u001b[0mself\u001b[0m\u001b[1;33m.\u001b[0m\u001b[0mfeatures\u001b[0m\u001b[1;33m(\u001b[0m\u001b[0mx\u001b[0m\u001b[1;33m)\u001b[0m\u001b[1;33m\n",
       "\u001b[0m        \u001b[0mx\u001b[0m \u001b[1;33m=\u001b[0m \u001b[0mself\u001b[0m\u001b[1;33m.\u001b[0m\u001b[0mavgpool\u001b[0m\u001b[1;33m(\u001b[0m\u001b[0mx\u001b[0m\u001b[1;33m)\u001b[0m\u001b[1;33m\n",
       "\u001b[0m        \u001b[0mx\u001b[0m \u001b[1;33m=\u001b[0m \u001b[0mtorch\u001b[0m\u001b[1;33m.\u001b[0m\u001b[0mflatten\u001b[0m\u001b[1;33m(\u001b[0m\u001b[0mx\u001b[0m\u001b[1;33m,\u001b[0m \u001b[1;36m1\u001b[0m\u001b[1;33m)\u001b[0m\u001b[1;33m\n",
       "\u001b[0m        \u001b[0mx\u001b[0m \u001b[1;33m=\u001b[0m \u001b[0mself\u001b[0m\u001b[1;33m.\u001b[0m\u001b[0mclassifier\u001b[0m\u001b[1;33m(\u001b[0m\u001b[0mx\u001b[0m\u001b[1;33m)\u001b[0m\u001b[1;33m\n",
       "\u001b[0m        \u001b[1;32mreturn\u001b[0m \u001b[0mx\u001b[0m\u001b[1;33m\u001b[0m\u001b[1;33m\u001b[0m\u001b[0m\n",
       "\u001b[1;31mFile:\u001b[0m           c:\\users\\jiang su\\.conda\\envs\\pytorch\\lib\\site-packages\\torchvision\\models\\vgg.py\n",
       "\u001b[1;31mType:\u001b[0m           type\n",
       "\u001b[1;31mSubclasses:\u001b[0m     "
      ]
     },
     "metadata": {},
     "output_type": "display_data"
    }
   ],
   "source": [
    "models.vgg.VGG??"
   ]
  },
  {
   "cell_type": "code",
   "execution_count": 9,
   "id": "141c9ad8-ffbb-4b64-8354-7ea2d7ee50d7",
   "metadata": {
    "execution": {
     "iopub.execute_input": "2023-11-02T11:52:59.866067Z",
     "iopub.status.busy": "2023-11-02T11:52:59.856891Z",
     "iopub.status.idle": "2023-11-02T11:52:59.872301Z",
     "shell.execute_reply": "2023-11-02T11:52:59.871957Z",
     "shell.execute_reply.started": "2023-11-02T11:52:59.866067Z"
    }
   },
   "outputs": [],
   "source": [
    "import os\n",
    "os.environ['TORCH_HOME']='E:\\workspace\\essay\\chest_image_classification\\dataset\\CheXpert-v1.0-small\\Models_use'"
   ]
  },
  {
   "cell_type": "code",
   "execution_count": 11,
   "id": "8134019c-b2ec-4af1-b8e4-9e148244d59c",
   "metadata": {
    "execution": {
     "iopub.execute_input": "2023-11-02T12:06:13.419088Z",
     "iopub.status.busy": "2023-11-02T12:06:13.419088Z",
     "iopub.status.idle": "2023-11-02T12:07:18.769103Z",
     "shell.execute_reply": "2023-11-02T12:07:18.768772Z",
     "shell.execute_reply.started": "2023-11-02T12:06:13.419088Z"
    }
   },
   "outputs": [
    {
     "name": "stderr",
     "output_type": "stream",
     "text": [
      "Downloading: \"https://download.pytorch.org/models/vgg19_bn-c79401a0.pth\" to E:\\workspace\\essay\\chest_image_classification\\dataset\\CheXpert-v1.0-small\\Models_use\\hub\\checkpoints\\vgg19_bn-c79401a0.pth\n",
      "100%|███████████████████████████████████████████████████████████████████████████████| 548M/548M [01:04<00:00, 8.90MB/s]\n"
     ]
    }
   ],
   "source": [
    "net = models.vgg19_bn(weights='VGG19_BN_Weights.DEFAULT')"
   ]
  },
  {
   "cell_type": "code",
   "execution_count": 12,
   "id": "b939e2af-93c0-4532-aaf6-8d8a36faf195",
   "metadata": {
    "execution": {
     "iopub.execute_input": "2023-11-02T12:08:15.737513Z",
     "iopub.status.busy": "2023-11-02T12:08:15.737513Z",
     "iopub.status.idle": "2023-11-02T12:09:18.578158Z",
     "shell.execute_reply": "2023-11-02T12:09:18.578158Z",
     "shell.execute_reply.started": "2023-11-02T12:08:15.737513Z"
    }
   },
   "outputs": [
    {
     "name": "stderr",
     "output_type": "stream",
     "text": [
      "Downloading: \"https://download.pytorch.org/models/vgg16_bn-6c64b313.pth\" to E:\\workspace\\essay\\chest_image_classification\\dataset\\CheXpert-v1.0-small\\Models_use\\hub\\checkpoints\\vgg16_bn-6c64b313.pth\n",
      "100%|███████████████████████████████████████████████████████████████████████████████| 528M/528M [01:02<00:00, 8.91MB/s]\n"
     ]
    }
   ],
   "source": [
    "net1 = models.vgg16_bn(weights='VGG16_BN_Weights.DEFAULT')"
   ]
  },
  {
   "cell_type": "code",
   "execution_count": 13,
   "id": "0b115af1-0de4-497b-9bf4-fd06fed2a995",
   "metadata": {
    "execution": {
     "iopub.execute_input": "2023-11-02T12:11:37.672881Z",
     "iopub.status.busy": "2023-11-02T12:11:37.672881Z",
     "iopub.status.idle": "2023-11-02T12:12:40.132129Z",
     "shell.execute_reply": "2023-11-02T12:12:40.131704Z",
     "shell.execute_reply.started": "2023-11-02T12:11:37.672881Z"
    }
   },
   "outputs": [
    {
     "name": "stderr",
     "output_type": "stream",
     "text": [
      "Downloading: \"https://download.pytorch.org/models/vgg13_bn-abd245e5.pth\" to E:\\workspace\\essay\\chest_image_classification\\dataset\\CheXpert-v1.0-small\\Models_use\\hub\\checkpoints\\vgg13_bn-abd245e5.pth\n",
      "100%|███████████████████████████████████████████████████████████████████████████████| 508M/508M [01:00<00:00, 8.77MB/s]\n"
     ]
    }
   ],
   "source": [
    "net2 = models.vgg13_bn(weights='VGG13_BN_Weights.DEFAULT')"
   ]
  },
  {
   "cell_type": "code",
   "execution_count": 15,
   "id": "42ec51b5-3856-4731-973d-6a908cf5e11e",
   "metadata": {
    "execution": {
     "iopub.execute_input": "2023-11-02T12:15:57.343447Z",
     "iopub.status.busy": "2023-11-02T12:15:57.343447Z",
     "iopub.status.idle": "2023-11-02T12:15:57.441379Z",
     "shell.execute_reply": "2023-11-02T12:15:57.441379Z",
     "shell.execute_reply.started": "2023-11-02T12:15:57.343447Z"
    }
   },
   "outputs": [],
   "source": [
    "net3 = models.densenet121(weights='DenseNet121_Weights.DEFAULT')"
   ]
  },
  {
   "cell_type": "code",
   "execution_count": 17,
   "id": "f7b26340-dcb0-44ab-9f07-a1afbffa791c",
   "metadata": {
    "execution": {
     "iopub.execute_input": "2023-11-02T12:17:09.040541Z",
     "iopub.status.busy": "2023-11-02T12:17:09.040541Z",
     "iopub.status.idle": "2023-11-02T12:17:09.146597Z",
     "shell.execute_reply": "2023-11-02T12:17:09.146597Z",
     "shell.execute_reply.started": "2023-11-02T12:17:09.040541Z"
    }
   },
   "outputs": [
    {
     "name": "stderr",
     "output_type": "stream",
     "text": [
      "C:\\Users\\jiang su\\.conda\\envs\\pytorch\\lib\\site-packages\\torchvision\\models\\_utils.py:208: UserWarning: The parameter 'pretrained' is deprecated since 0.13 and may be removed in the future, please use 'weights' instead.\n",
      "  warnings.warn(\n",
      "C:\\Users\\jiang su\\.conda\\envs\\pytorch\\lib\\site-packages\\torchvision\\models\\_utils.py:223: UserWarning: Arguments other than a weight enum or `None` for 'weights' are deprecated since 0.13 and may be removed in the future. The current behavior is equivalent to passing `weights=DenseNet121_Weights.IMAGENET1K_V1`. You can also use `weights=DenseNet121_Weights.DEFAULT` to get the most up-to-date weights.\n",
      "  warnings.warn(msg)\n"
     ]
    }
   ],
   "source": [
    "net4 = models.densenet121(pretrained = True)"
   ]
  },
  {
   "cell_type": "code",
   "execution_count": 18,
   "id": "6a6239cb-cdc3-4434-9987-41523b8215f8",
   "metadata": {
    "execution": {
     "iopub.execute_input": "2023-11-02T12:18:09.415183Z",
     "iopub.status.busy": "2023-11-02T12:18:09.415183Z",
     "iopub.status.idle": "2023-11-02T12:18:23.045650Z",
     "shell.execute_reply": "2023-11-02T12:18:23.045263Z",
     "shell.execute_reply.started": "2023-11-02T12:18:09.415183Z"
    }
   },
   "outputs": [
    {
     "name": "stderr",
     "output_type": "stream",
     "text": [
      "Downloading: \"https://download.pytorch.org/models/densenet161-8d451a50.pth\" to E:\\workspace\\essay\\chest_image_classification\\dataset\\CheXpert-v1.0-small\\Models_use\\hub\\checkpoints\\densenet161-8d451a50.pth\n",
      "100%|███████████████████████████████████████████████████████████████████████████████| 110M/110M [00:13<00:00, 8.85MB/s]\n"
     ]
    }
   ],
   "source": [
    "net5 = models.densenet161(weights='DenseNet161_Weights.DEFAULT')"
   ]
  },
  {
   "cell_type": "code",
   "execution_count": 19,
   "id": "33beb702-cc99-4ffe-914a-d76bafde57e6",
   "metadata": {
    "execution": {
     "iopub.execute_input": "2023-11-02T12:18:50.979275Z",
     "iopub.status.busy": "2023-11-02T12:18:50.979275Z",
     "iopub.status.idle": "2023-11-02T12:18:59.842762Z",
     "shell.execute_reply": "2023-11-02T12:18:59.842546Z",
     "shell.execute_reply.started": "2023-11-02T12:18:50.979275Z"
    }
   },
   "outputs": [
    {
     "name": "stderr",
     "output_type": "stream",
     "text": [
      "Downloading: \"https://download.pytorch.org/models/densenet169-b2777c0a.pth\" to E:\\workspace\\essay\\chest_image_classification\\dataset\\CheXpert-v1.0-small\\Models_use\\hub\\checkpoints\\densenet169-b2777c0a.pth\n",
      "100%|█████████████████████████████████████████████████████████████████████████████| 54.7M/54.7M [00:07<00:00, 7.78MB/s]\n"
     ]
    }
   ],
   "source": [
    "net6 = models.densenet169(weights='DenseNet169_Weights.DEFAULT')"
   ]
  },
  {
   "cell_type": "code",
   "execution_count": 20,
   "id": "a30a4844-ab96-4cee-9eaa-f81c09696f98",
   "metadata": {
    "execution": {
     "iopub.execute_input": "2023-11-02T12:19:28.482790Z",
     "iopub.status.busy": "2023-11-02T12:19:28.482790Z",
     "iopub.status.idle": "2023-11-02T12:19:38.157292Z",
     "shell.execute_reply": "2023-11-02T12:19:38.157292Z",
     "shell.execute_reply.started": "2023-11-02T12:19:28.482790Z"
    }
   },
   "outputs": [
    {
     "name": "stderr",
     "output_type": "stream",
     "text": [
      "Downloading: \"https://download.pytorch.org/models/densenet201-c1103571.pth\" to E:\\workspace\\essay\\chest_image_classification\\dataset\\CheXpert-v1.0-small\\Models_use\\hub\\checkpoints\\densenet201-c1103571.pth\n",
      "100%|█████████████████████████████████████████████████████████████████████████████| 77.4M/77.4M [00:09<00:00, 8.89MB/s]\n"
     ]
    }
   ],
   "source": [
    "net7 = models.densenet201(weights='DenseNet201_Weights.DEFAULT')"
   ]
  },
  {
   "cell_type": "code",
   "execution_count": 21,
   "id": "4949f08b-874f-47e1-ae1d-acf4f8845bcf",
   "metadata": {
    "execution": {
     "iopub.execute_input": "2023-11-02T12:21:12.511366Z",
     "iopub.status.busy": "2023-11-02T12:21:12.511366Z",
     "iopub.status.idle": "2023-11-02T12:21:22.691273Z",
     "shell.execute_reply": "2023-11-02T12:21:22.691273Z",
     "shell.execute_reply.started": "2023-11-02T12:21:12.511366Z"
    }
   },
   "outputs": [
    {
     "name": "stderr",
     "output_type": "stream",
     "text": [
      "Downloading: \"https://download.pytorch.org/models/resnet34-b627a593.pth\" to E:\\workspace\\essay\\chest_image_classification\\dataset\\CheXpert-v1.0-small\\Models_use\\hub\\checkpoints\\resnet34-b627a593.pth\n",
      "100%|█████████████████████████████████████████████████████████████████████████████| 83.3M/83.3M [00:09<00:00, 8.99MB/s]\n"
     ]
    }
   ],
   "source": [
    "net8 = models.resnet34(weights='ResNet34_Weights.DEFAULT')"
   ]
  },
  {
   "cell_type": "code",
   "execution_count": 22,
   "id": "5925a4a3-e26f-4cde-acda-012fee8c6355",
   "metadata": {
    "execution": {
     "iopub.execute_input": "2023-11-02T12:21:39.941277Z",
     "iopub.status.busy": "2023-11-02T12:21:39.941277Z",
     "iopub.status.idle": "2023-11-02T12:21:52.000124Z",
     "shell.execute_reply": "2023-11-02T12:21:52.000124Z",
     "shell.execute_reply.started": "2023-11-02T12:21:39.941277Z"
    }
   },
   "outputs": [
    {
     "name": "stderr",
     "output_type": "stream",
     "text": [
      "Downloading: \"https://download.pytorch.org/models/resnet50-11ad3fa6.pth\" to E:\\workspace\\essay\\chest_image_classification\\dataset\\CheXpert-v1.0-small\\Models_use\\hub\\checkpoints\\resnet50-11ad3fa6.pth\n",
      "100%|█████████████████████████████████████████████████████████████████████████████| 97.8M/97.8M [00:11<00:00, 8.82MB/s]\n"
     ]
    }
   ],
   "source": [
    "net8 = models.resnet50(weights='ResNet50_Weights.DEFAULT')"
   ]
  },
  {
   "cell_type": "code",
   "execution_count": 23,
   "id": "2b26f094-7a99-4711-9e7c-9be4ca45a503",
   "metadata": {
    "execution": {
     "iopub.execute_input": "2023-11-02T12:22:18.633250Z",
     "iopub.status.busy": "2023-11-02T12:22:18.633250Z",
     "iopub.status.idle": "2023-11-02T12:22:41.271575Z",
     "shell.execute_reply": "2023-11-02T12:22:41.271575Z",
     "shell.execute_reply.started": "2023-11-02T12:22:18.633250Z"
    }
   },
   "outputs": [
    {
     "name": "stderr",
     "output_type": "stream",
     "text": [
      "Downloading: \"https://download.pytorch.org/models/resnet101-cd907fc2.pth\" to E:\\workspace\\essay\\chest_image_classification\\dataset\\CheXpert-v1.0-small\\Models_use\\hub\\checkpoints\\resnet101-cd907fc2.pth\n",
      "100%|███████████████████████████████████████████████████████████████████████████████| 171M/171M [00:20<00:00, 8.57MB/s]\n"
     ]
    }
   ],
   "source": [
    "net9 = models.resnet101(weights='ResNet101_Weights.DEFAULT')"
   ]
  },
  {
   "cell_type": "code",
   "execution_count": 24,
   "id": "fb227029-3915-4424-aa03-c5ec243e0f07",
   "metadata": {
    "execution": {
     "iopub.execute_input": "2023-11-02T12:23:03.632554Z",
     "iopub.status.busy": "2023-11-02T12:23:03.632554Z",
     "iopub.status.idle": "2023-11-02T12:23:33.532288Z",
     "shell.execute_reply": "2023-11-02T12:23:33.532288Z",
     "shell.execute_reply.started": "2023-11-02T12:23:03.632554Z"
    }
   },
   "outputs": [
    {
     "name": "stderr",
     "output_type": "stream",
     "text": [
      "Downloading: \"https://download.pytorch.org/models/resnet152-f82ba261.pth\" to E:\\workspace\\essay\\chest_image_classification\\dataset\\CheXpert-v1.0-small\\Models_use\\hub\\checkpoints\\resnet152-f82ba261.pth\n",
      "100%|███████████████████████████████████████████████████████████████████████████████| 230M/230M [00:28<00:00, 8.59MB/s]\n"
     ]
    }
   ],
   "source": [
    "net10 = models.resnet152(weights='ResNet152_Weights.DEFAULT')"
   ]
  },
  {
   "cell_type": "code",
   "execution_count": 25,
   "id": "9eac9c45-b97c-49dd-b514-f0718ccc01db",
   "metadata": {
    "execution": {
     "iopub.execute_input": "2023-11-02T12:24:46.336079Z",
     "iopub.status.busy": "2023-11-02T12:24:46.336079Z",
     "iopub.status.idle": "2023-11-02T12:24:52.531260Z",
     "shell.execute_reply": "2023-11-02T12:24:52.531260Z",
     "shell.execute_reply.started": "2023-11-02T12:24:46.336079Z"
    }
   },
   "outputs": [
    {
     "name": "stderr",
     "output_type": "stream",
     "text": [
      "C:\\Users\\jiang su\\.conda\\envs\\pytorch\\lib\\site-packages\\torchvision\\models\\_utils.py:208: UserWarning: The parameter 'pretrained' is deprecated since 0.13 and may be removed in the future, please use 'weights' instead.\n",
      "  warnings.warn(\n",
      "C:\\Users\\jiang su\\.conda\\envs\\pytorch\\lib\\site-packages\\torchvision\\models\\_utils.py:223: UserWarning: Arguments other than a weight enum or `None` for 'weights' are deprecated since 0.13 and may be removed in the future. The current behavior is equivalent to passing `weights=GoogLeNet_Weights.IMAGENET1K_V1`. You can also use `weights=GoogLeNet_Weights.DEFAULT` to get the most up-to-date weights.\n",
      "  warnings.warn(msg)\n",
      "Downloading: \"https://download.pytorch.org/models/googlenet-1378be20.pth\" to E:\\workspace\\essay\\chest_image_classification\\dataset\\CheXpert-v1.0-small\\Models_use\\hub\\checkpoints\\googlenet-1378be20.pth\n",
      "100%|█████████████████████████████████████████████████████████████████████████████| 49.7M/49.7M [00:05<00:00, 8.87MB/s]\n"
     ]
    }
   ],
   "source": [
    "net11 = models.googlenet(pretrained = True)"
   ]
  },
  {
   "cell_type": "code",
   "execution_count": 26,
   "id": "ceb809e6-dd9c-46d0-810b-7987917c3204",
   "metadata": {
    "execution": {
     "iopub.execute_input": "2023-11-02T12:25:17.396756Z",
     "iopub.status.busy": "2023-11-02T12:25:17.396756Z",
     "iopub.status.idle": "2023-11-02T12:25:30.311122Z",
     "shell.execute_reply": "2023-11-02T12:25:30.311122Z",
     "shell.execute_reply.started": "2023-11-02T12:25:17.396756Z"
    }
   },
   "outputs": [
    {
     "name": "stderr",
     "output_type": "stream",
     "text": [
      "C:\\Users\\jiang su\\.conda\\envs\\pytorch\\lib\\site-packages\\torchvision\\models\\_utils.py:208: UserWarning: The parameter 'pretrained' is deprecated since 0.13 and may be removed in the future, please use 'weights' instead.\n",
      "  warnings.warn(\n",
      "C:\\Users\\jiang su\\.conda\\envs\\pytorch\\lib\\site-packages\\torchvision\\models\\_utils.py:223: UserWarning: Arguments other than a weight enum or `None` for 'weights' are deprecated since 0.13 and may be removed in the future. The current behavior is equivalent to passing `weights=Inception_V3_Weights.IMAGENET1K_V1`. You can also use `weights=Inception_V3_Weights.DEFAULT` to get the most up-to-date weights.\n",
      "  warnings.warn(msg)\n",
      "Downloading: \"https://download.pytorch.org/models/inception_v3_google-0cc3c7bd.pth\" to E:\\workspace\\essay\\chest_image_classification\\dataset\\CheXpert-v1.0-small\\Models_use\\hub\\checkpoints\\inception_v3_google-0cc3c7bd.pth\n",
      "100%|███████████████████████████████████████████████████████████████████████████████| 104M/104M [00:12<00:00, 8.77MB/s]\n"
     ]
    }
   ],
   "source": [
    "net12 = models.inception_v3(pretrained = True)"
   ]
  },
  {
   "cell_type": "code",
   "execution_count": 27,
   "id": "1769ff93-b799-49ba-bf08-0efbb3ce955d",
   "metadata": {
    "execution": {
     "iopub.execute_input": "2023-11-02T12:26:32.230360Z",
     "iopub.status.busy": "2023-11-02T12:26:32.230360Z",
     "iopub.status.idle": "2023-11-02T12:27:11.911976Z",
     "shell.execute_reply": "2023-11-02T12:27:11.911976Z",
     "shell.execute_reply.started": "2023-11-02T12:26:32.230360Z"
    }
   },
   "outputs": [
    {
     "name": "stderr",
     "output_type": "stream",
     "text": [
      "C:\\Users\\jiang su\\.conda\\envs\\pytorch\\lib\\site-packages\\torchvision\\models\\_utils.py:208: UserWarning: The parameter 'pretrained' is deprecated since 0.13 and may be removed in the future, please use 'weights' instead.\n",
      "  warnings.warn(\n",
      "C:\\Users\\jiang su\\.conda\\envs\\pytorch\\lib\\site-packages\\torchvision\\models\\_utils.py:223: UserWarning: Arguments other than a weight enum or `None` for 'weights' are deprecated since 0.13 and may be removed in the future. The current behavior is equivalent to passing `weights=ViT_B_16_Weights.IMAGENET1K_V1`. You can also use `weights=ViT_B_16_Weights.DEFAULT` to get the most up-to-date weights.\n",
      "  warnings.warn(msg)\n",
      "Downloading: \"https://download.pytorch.org/models/vit_b_16-c867db91.pth\" to E:\\workspace\\essay\\chest_image_classification\\dataset\\CheXpert-v1.0-small\\Models_use\\hub\\checkpoints\\vit_b_16-c867db91.pth\n",
      "100%|███████████████████████████████████████████████████████████████████████████████| 330M/330M [00:38<00:00, 8.90MB/s]\n"
     ]
    }
   ],
   "source": [
    "net13 = models.vit_b_16(pretrained = True)"
   ]
  },
  {
   "cell_type": "code",
   "execution_count": 28,
   "id": "904636d5-3a77-4d9a-b878-4af0c7b8bb2b",
   "metadata": {
    "execution": {
     "iopub.execute_input": "2023-11-02T12:27:24.284140Z",
     "iopub.status.busy": "2023-11-02T12:27:24.284140Z",
     "iopub.status.idle": "2023-11-02T12:28:06.988853Z",
     "shell.execute_reply": "2023-11-02T12:28:06.988853Z",
     "shell.execute_reply.started": "2023-11-02T12:27:24.284140Z"
    }
   },
   "outputs": [
    {
     "name": "stderr",
     "output_type": "stream",
     "text": [
      "C:\\Users\\jiang su\\.conda\\envs\\pytorch\\lib\\site-packages\\torchvision\\models\\_utils.py:208: UserWarning: The parameter 'pretrained' is deprecated since 0.13 and may be removed in the future, please use 'weights' instead.\n",
      "  warnings.warn(\n",
      "C:\\Users\\jiang su\\.conda\\envs\\pytorch\\lib\\site-packages\\torchvision\\models\\_utils.py:223: UserWarning: Arguments other than a weight enum or `None` for 'weights' are deprecated since 0.13 and may be removed in the future. The current behavior is equivalent to passing `weights=ViT_B_32_Weights.IMAGENET1K_V1`. You can also use `weights=ViT_B_32_Weights.DEFAULT` to get the most up-to-date weights.\n",
      "  warnings.warn(msg)\n",
      "Downloading: \"https://download.pytorch.org/models/vit_b_32-d86f8d99.pth\" to E:\\workspace\\essay\\chest_image_classification\\dataset\\CheXpert-v1.0-small\\Models_use\\hub\\checkpoints\\vit_b_32-d86f8d99.pth\n",
      "100%|███████████████████████████████████████████████████████████████████████████████| 337M/337M [00:40<00:00, 8.62MB/s]\n"
     ]
    }
   ],
   "source": [
    "net13 = models.vit_b_32(pretrained = True)"
   ]
  },
  {
   "cell_type": "code",
   "execution_count": 29,
   "id": "cde0d4cd-ec2f-4da2-9f66-28636c420067",
   "metadata": {
    "execution": {
     "iopub.execute_input": "2023-11-02T12:28:22.493509Z",
     "iopub.status.busy": "2023-11-02T12:28:22.493509Z",
     "iopub.status.idle": "2023-11-02T12:30:43.184309Z",
     "shell.execute_reply": "2023-11-02T12:30:43.184309Z",
     "shell.execute_reply.started": "2023-11-02T12:28:22.493509Z"
    }
   },
   "outputs": [
    {
     "name": "stderr",
     "output_type": "stream",
     "text": [
      "C:\\Users\\jiang su\\.conda\\envs\\pytorch\\lib\\site-packages\\torchvision\\models\\_utils.py:208: UserWarning: The parameter 'pretrained' is deprecated since 0.13 and may be removed in the future, please use 'weights' instead.\n",
      "  warnings.warn(\n",
      "C:\\Users\\jiang su\\.conda\\envs\\pytorch\\lib\\site-packages\\torchvision\\models\\_utils.py:223: UserWarning: Arguments other than a weight enum or `None` for 'weights' are deprecated since 0.13 and may be removed in the future. The current behavior is equivalent to passing `weights=ViT_L_16_Weights.IMAGENET1K_V1`. You can also use `weights=ViT_L_16_Weights.DEFAULT` to get the most up-to-date weights.\n",
      "  warnings.warn(msg)\n",
      "Downloading: \"https://download.pytorch.org/models/vit_l_16-852ce7e3.pth\" to E:\\workspace\\essay\\chest_image_classification\\dataset\\CheXpert-v1.0-small\\Models_use\\hub\\checkpoints\\vit_l_16-852ce7e3.pth\n",
      "100%|█████████████████████████████████████████████████████████████████████████████| 1.13G/1.13G [02:17<00:00, 8.83MB/s]\n"
     ]
    }
   ],
   "source": [
    "net13 = models.vit_l_16(pretrained = True)"
   ]
  },
  {
   "cell_type": "code",
   "execution_count": 30,
   "id": "6726dd88-cc07-473d-a980-f77d030ec38f",
   "metadata": {
    "execution": {
     "iopub.execute_input": "2023-11-02T12:30:59.801688Z",
     "iopub.status.busy": "2023-11-02T12:30:59.801688Z",
     "iopub.status.idle": "2023-11-02T12:33:22.262114Z",
     "shell.execute_reply": "2023-11-02T12:33:22.262114Z",
     "shell.execute_reply.started": "2023-11-02T12:30:59.801688Z"
    }
   },
   "outputs": [
    {
     "name": "stderr",
     "output_type": "stream",
     "text": [
      "C:\\Users\\jiang su\\.conda\\envs\\pytorch\\lib\\site-packages\\torchvision\\models\\_utils.py:208: UserWarning: The parameter 'pretrained' is deprecated since 0.13 and may be removed in the future, please use 'weights' instead.\n",
      "  warnings.warn(\n",
      "C:\\Users\\jiang su\\.conda\\envs\\pytorch\\lib\\site-packages\\torchvision\\models\\_utils.py:223: UserWarning: Arguments other than a weight enum or `None` for 'weights' are deprecated since 0.13 and may be removed in the future. The current behavior is equivalent to passing `weights=ViT_L_32_Weights.IMAGENET1K_V1`. You can also use `weights=ViT_L_32_Weights.DEFAULT` to get the most up-to-date weights.\n",
      "  warnings.warn(msg)\n",
      "Downloading: \"https://download.pytorch.org/models/vit_l_32-c7638314.pth\" to E:\\workspace\\essay\\chest_image_classification\\dataset\\CheXpert-v1.0-small\\Models_use\\hub\\checkpoints\\vit_l_32-c7638314.pth\n",
      "100%|█████████████████████████████████████████████████████████████████████████████| 1.14G/1.14G [02:19<00:00, 8.80MB/s]\n"
     ]
    }
   ],
   "source": [
    "net13 = models.vit_l_32(pretrained = True)"
   ]
  },
  {
   "cell_type": "code",
   "execution_count": 32,
   "id": "bd335a7c-2c06-478e-bbd8-3d16459db10e",
   "metadata": {
    "execution": {
     "iopub.execute_input": "2023-11-02T12:35:04.028818Z",
     "iopub.status.busy": "2023-11-02T12:35:04.028818Z",
     "iopub.status.idle": "2023-11-02T12:39:54.568476Z",
     "shell.execute_reply": "2023-11-02T12:39:54.568476Z",
     "shell.execute_reply.started": "2023-11-02T12:35:04.028818Z"
    }
   },
   "outputs": [
    {
     "name": "stderr",
     "output_type": "stream",
     "text": [
      "Downloading: \"https://download.pytorch.org/models/vit_h_14_swag-80465313.pth\" to E:\\workspace\\essay\\chest_image_classification\\dataset\\CheXpert-v1.0-small\\Models_use\\hub\\checkpoints\\vit_h_14_swag-80465313.pth\n",
      "100%|█████████████████████████████████████████████████████████████████████████████| 2.36G/2.36G [04:47<00:00, 8.82MB/s]\n"
     ]
    }
   ],
   "source": [
    "net13 = models.vit_h_14(weights='ViT_H_14_Weights.DEFAULT')"
   ]
  },
  {
   "cell_type": "code",
   "execution_count": 33,
   "id": "31ab795c-6adf-45b4-9a1f-5342e2af6df9",
   "metadata": {
    "execution": {
     "iopub.execute_input": "2023-11-02T12:41:05.150485Z",
     "iopub.status.busy": "2023-11-02T12:41:05.150485Z",
     "iopub.status.idle": "2023-11-02T12:41:45.607550Z",
     "shell.execute_reply": "2023-11-02T12:41:45.607048Z",
     "shell.execute_reply.started": "2023-11-02T12:41:05.150485Z"
    }
   },
   "outputs": [
    {
     "name": "stderr",
     "output_type": "stream",
     "text": [
      "C:\\Users\\jiang su\\.conda\\envs\\pytorch\\lib\\site-packages\\torchvision\\models\\_utils.py:208: UserWarning: The parameter 'pretrained' is deprecated since 0.13 and may be removed in the future, please use 'weights' instead.\n",
      "  warnings.warn(\n",
      "C:\\Users\\jiang su\\.conda\\envs\\pytorch\\lib\\site-packages\\torchvision\\models\\_utils.py:223: UserWarning: Arguments other than a weight enum or `None` for 'weights' are deprecated since 0.13 and may be removed in the future. The current behavior is equivalent to passing `weights=Swin_B_Weights.IMAGENET1K_V1`. You can also use `weights=Swin_B_Weights.DEFAULT` to get the most up-to-date weights.\n",
      "  warnings.warn(msg)\n",
      "Downloading: \"https://download.pytorch.org/models/swin_b-68c6b09e.pth\" to E:\\workspace\\essay\\chest_image_classification\\dataset\\CheXpert-v1.0-small\\Models_use\\hub\\checkpoints\\swin_b-68c6b09e.pth\n",
      "100%|███████████████████████████████████████████████████████████████████████████████| 335M/335M [00:39<00:00, 8.91MB/s]\n"
     ]
    }
   ],
   "source": [
    "net14 = models.swin_b(pretrained = True)"
   ]
  },
  {
   "cell_type": "code",
   "execution_count": 34,
   "id": "1932cd25-b264-444f-b092-4e41b6c2351a",
   "metadata": {
    "execution": {
     "iopub.execute_input": "2023-11-02T12:41:53.046937Z",
     "iopub.status.busy": "2023-11-02T12:41:53.046937Z",
     "iopub.status.idle": "2023-11-02T12:42:18.299839Z",
     "shell.execute_reply": "2023-11-02T12:42:18.299839Z",
     "shell.execute_reply.started": "2023-11-02T12:41:53.046937Z"
    }
   },
   "outputs": [
    {
     "name": "stderr",
     "output_type": "stream",
     "text": [
      "C:\\Users\\jiang su\\.conda\\envs\\pytorch\\lib\\site-packages\\torchvision\\models\\_utils.py:208: UserWarning: The parameter 'pretrained' is deprecated since 0.13 and may be removed in the future, please use 'weights' instead.\n",
      "  warnings.warn(\n",
      "C:\\Users\\jiang su\\.conda\\envs\\pytorch\\lib\\site-packages\\torchvision\\models\\_utils.py:223: UserWarning: Arguments other than a weight enum or `None` for 'weights' are deprecated since 0.13 and may be removed in the future. The current behavior is equivalent to passing `weights=Swin_S_Weights.IMAGENET1K_V1`. You can also use `weights=Swin_S_Weights.DEFAULT` to get the most up-to-date weights.\n",
      "  warnings.warn(msg)\n",
      "Downloading: \"https://download.pytorch.org/models/swin_s-5e29d889.pth\" to E:\\workspace\\essay\\chest_image_classification\\dataset\\CheXpert-v1.0-small\\Models_use\\hub\\checkpoints\\swin_s-5e29d889.pth\n",
      "100%|███████████████████████████████████████████████████████████████████████████████| 190M/190M [00:23<00:00, 8.48MB/s]\n"
     ]
    }
   ],
   "source": [
    "net14 = models.swin_s(pretrained = True)"
   ]
  },
  {
   "cell_type": "code",
   "execution_count": 35,
   "id": "105c2ace-c27c-4ae5-97e1-8d6b48072a9c",
   "metadata": {
    "execution": {
     "iopub.execute_input": "2023-11-02T12:42:26.921166Z",
     "iopub.status.busy": "2023-11-02T12:42:26.921166Z",
     "iopub.status.idle": "2023-11-02T12:42:42.368862Z",
     "shell.execute_reply": "2023-11-02T12:42:42.368862Z",
     "shell.execute_reply.started": "2023-11-02T12:42:26.921166Z"
    }
   },
   "outputs": [
    {
     "name": "stderr",
     "output_type": "stream",
     "text": [
      "C:\\Users\\jiang su\\.conda\\envs\\pytorch\\lib\\site-packages\\torchvision\\models\\_utils.py:208: UserWarning: The parameter 'pretrained' is deprecated since 0.13 and may be removed in the future, please use 'weights' instead.\n",
      "  warnings.warn(\n",
      "C:\\Users\\jiang su\\.conda\\envs\\pytorch\\lib\\site-packages\\torchvision\\models\\_utils.py:223: UserWarning: Arguments other than a weight enum or `None` for 'weights' are deprecated since 0.13 and may be removed in the future. The current behavior is equivalent to passing `weights=Swin_T_Weights.IMAGENET1K_V1`. You can also use `weights=Swin_T_Weights.DEFAULT` to get the most up-to-date weights.\n",
      "  warnings.warn(msg)\n",
      "Downloading: \"https://download.pytorch.org/models/swin_t-704ceda3.pth\" to E:\\workspace\\essay\\chest_image_classification\\dataset\\CheXpert-v1.0-small\\Models_use\\hub\\checkpoints\\swin_t-704ceda3.pth\n",
      "100%|███████████████████████████████████████████████████████████████████████████████| 108M/108M [00:13<00:00, 8.24MB/s]\n"
     ]
    }
   ],
   "source": [
    "net14 = models.swin_t(pretrained = True)"
   ]
  },
  {
   "cell_type": "code",
   "execution_count": 36,
   "id": "d7c91dd5-ab11-4f45-8a93-dea4538d5b71",
   "metadata": {
    "execution": {
     "iopub.execute_input": "2023-11-02T12:42:56.792661Z",
     "iopub.status.busy": "2023-11-02T12:42:56.792661Z",
     "iopub.status.idle": "2023-11-02T12:43:39.145530Z",
     "shell.execute_reply": "2023-11-02T12:43:39.145530Z",
     "shell.execute_reply.started": "2023-11-02T12:42:56.792661Z"
    }
   },
   "outputs": [
    {
     "name": "stderr",
     "output_type": "stream",
     "text": [
      "C:\\Users\\jiang su\\.conda\\envs\\pytorch\\lib\\site-packages\\torchvision\\models\\_utils.py:208: UserWarning: The parameter 'pretrained' is deprecated since 0.13 and may be removed in the future, please use 'weights' instead.\n",
      "  warnings.warn(\n",
      "C:\\Users\\jiang su\\.conda\\envs\\pytorch\\lib\\site-packages\\torchvision\\models\\_utils.py:223: UserWarning: Arguments other than a weight enum or `None` for 'weights' are deprecated since 0.13 and may be removed in the future. The current behavior is equivalent to passing `weights=Swin_V2_B_Weights.IMAGENET1K_V1`. You can also use `weights=Swin_V2_B_Weights.DEFAULT` to get the most up-to-date weights.\n",
      "  warnings.warn(msg)\n",
      "Downloading: \"https://download.pytorch.org/models/swin_v2_b-781e5279.pth\" to E:\\workspace\\essay\\chest_image_classification\\dataset\\CheXpert-v1.0-small\\Models_use\\hub\\checkpoints\\swin_v2_b-781e5279.pth\n",
      "100%|███████████████████████████████████████████████████████████████████████████████| 336M/336M [00:40<00:00, 8.71MB/s]\n"
     ]
    }
   ],
   "source": [
    "net14 = models.swin_v2_b(pretrained = True)"
   ]
  },
  {
   "cell_type": "code",
   "execution_count": 37,
   "id": "e99c8ebe-3dc6-401e-9d3f-8e5761ea482c",
   "metadata": {
    "execution": {
     "iopub.execute_input": "2023-11-02T12:44:23.571927Z",
     "iopub.status.busy": "2023-11-02T12:44:23.571927Z",
     "iopub.status.idle": "2023-11-02T12:44:48.835380Z",
     "shell.execute_reply": "2023-11-02T12:44:48.835380Z",
     "shell.execute_reply.started": "2023-11-02T12:44:23.571927Z"
    }
   },
   "outputs": [
    {
     "name": "stderr",
     "output_type": "stream",
     "text": [
      "C:\\Users\\jiang su\\.conda\\envs\\pytorch\\lib\\site-packages\\torchvision\\models\\_utils.py:208: UserWarning: The parameter 'pretrained' is deprecated since 0.13 and may be removed in the future, please use 'weights' instead.\n",
      "  warnings.warn(\n",
      "C:\\Users\\jiang su\\.conda\\envs\\pytorch\\lib\\site-packages\\torchvision\\models\\_utils.py:223: UserWarning: Arguments other than a weight enum or `None` for 'weights' are deprecated since 0.13 and may be removed in the future. The current behavior is equivalent to passing `weights=Swin_V2_S_Weights.IMAGENET1K_V1`. You can also use `weights=Swin_V2_S_Weights.DEFAULT` to get the most up-to-date weights.\n",
      "  warnings.warn(msg)\n",
      "Downloading: \"https://download.pytorch.org/models/swin_v2_s-637d8ceb.pth\" to E:\\workspace\\essay\\chest_image_classification\\dataset\\CheXpert-v1.0-small\\Models_use\\hub\\checkpoints\\swin_v2_s-637d8ceb.pth\n",
      "100%|███████████████████████████████████████████████████████████████████████████████| 191M/191M [00:23<00:00, 8.51MB/s]\n"
     ]
    }
   ],
   "source": [
    "net14 = models.swin_v2_s(pretrained = True)"
   ]
  },
  {
   "cell_type": "code",
   "execution_count": 38,
   "id": "088b6eb8-b125-451e-8d97-889c8c34c9dc",
   "metadata": {
    "execution": {
     "iopub.execute_input": "2023-11-02T12:44:57.278179Z",
     "iopub.status.busy": "2023-11-02T12:44:57.278179Z",
     "iopub.status.idle": "2023-11-02T12:45:12.686713Z",
     "shell.execute_reply": "2023-11-02T12:45:12.686713Z",
     "shell.execute_reply.started": "2023-11-02T12:44:57.278179Z"
    }
   },
   "outputs": [
    {
     "name": "stderr",
     "output_type": "stream",
     "text": [
      "C:\\Users\\jiang su\\.conda\\envs\\pytorch\\lib\\site-packages\\torchvision\\models\\_utils.py:208: UserWarning: The parameter 'pretrained' is deprecated since 0.13 and may be removed in the future, please use 'weights' instead.\n",
      "  warnings.warn(\n",
      "C:\\Users\\jiang su\\.conda\\envs\\pytorch\\lib\\site-packages\\torchvision\\models\\_utils.py:223: UserWarning: Arguments other than a weight enum or `None` for 'weights' are deprecated since 0.13 and may be removed in the future. The current behavior is equivalent to passing `weights=Swin_V2_T_Weights.IMAGENET1K_V1`. You can also use `weights=Swin_V2_T_Weights.DEFAULT` to get the most up-to-date weights.\n",
      "  warnings.warn(msg)\n",
      "Downloading: \"https://download.pytorch.org/models/swin_v2_t-b137f0e2.pth\" to E:\\workspace\\essay\\chest_image_classification\\dataset\\CheXpert-v1.0-small\\Models_use\\hub\\checkpoints\\swin_v2_t-b137f0e2.pth\n",
      "100%|███████████████████████████████████████████████████████████████████████████████| 109M/109M [00:13<00:00, 8.19MB/s]\n"
     ]
    }
   ],
   "source": [
    "net14 = models.swin_v2_t(pretrained = True)"
   ]
  },
  {
   "cell_type": "code",
   "execution_count": null,
   "id": "4307abc7-b2b9-4b0f-b463-cb326af45d12",
   "metadata": {},
   "outputs": [],
   "source": []
  }
 ],
 "metadata": {
  "kernelspec": {
   "display_name": "Python 3 (ipykernel)",
   "language": "python",
   "name": "python3"
  },
  "language_info": {
   "codemirror_mode": {
    "name": "ipython",
    "version": 3
   },
   "file_extension": ".py",
   "mimetype": "text/x-python",
   "name": "python",
   "nbconvert_exporter": "python",
   "pygments_lexer": "ipython3",
   "version": "3.10.12"
  }
 },
 "nbformat": 4,
 "nbformat_minor": 5
}
