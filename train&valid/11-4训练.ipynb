{
 "cells": [
  {
   "cell_type": "code",
   "execution_count": 1,
   "id": "a4e26548-19a3-43c3-a540-46eca9ba4090",
   "metadata": {
    "execution": {
     "iopub.execute_input": "2023-11-04T04:37:40.877677Z",
     "iopub.status.busy": "2023-11-04T04:37:40.877677Z",
     "iopub.status.idle": "2023-11-04T04:38:10.184894Z",
     "shell.execute_reply": "2023-11-04T04:38:10.184380Z",
     "shell.execute_reply.started": "2023-11-04T04:37:40.877677Z"
    }
   },
   "outputs": [],
   "source": [
    "from lib.jianji.code_csf import csf\n",
    "from lib.model.vgg16_bn import VGG16_BN\n",
    "from lib.model.vgg19_bn import VGG19_BN\n",
    "from lib.jianji.tool import *\n",
    "import torch \n",
    "from torch.utils.data import Dataset\n",
    "from torch import nn\n",
    "from torchsummary import summary\n",
    "from d2l import torch as d2l\n",
    "traindSet = csf(csv_path='original_train_set.pkl', mode='train')\n",
    "trainloader =  torch.utils.data.DataLoader(traindSet, batch_size=256, drop_last=True, shuffle=True)\n",
    "testset = csf(csv_path='test_valid_edited(30000).pkl', mode='valid')\n",
    "testloader = torch.utils.data.DataLoader(testset, batch_size=256, drop_last=True, shuffle=True)"
   ]
  },
  {
   "cell_type": "code",
   "execution_count": 2,
   "id": "aa836ef0-efba-4383-b700-72de4e0b2756",
   "metadata": {
    "execution": {
     "iopub.execute_input": "2023-11-04T04:38:30.831447Z",
     "iopub.status.busy": "2023-11-04T04:38:30.831447Z",
     "iopub.status.idle": "2023-11-04T04:38:30.842703Z",
     "shell.execute_reply": "2023-11-04T04:38:30.842703Z",
     "shell.execute_reply.started": "2023-11-04T04:38:30.831447Z"
    }
   },
   "outputs": [],
   "source": [
    "# lr_list=[0.001,0.003,0.005,0.007,0.009,0.01,0.03,0.05,0.07,0.09,0.1,0.3,0.5,0.7,0.9]\n",
    "threshold_value_list = [0.05, 0.1 , 0.15, 0.2 , 0.25, 0.3 , 0.35, 0.4 , 0.45, 0.5 , 0.55, 0.6 , 0.65, 0.7 , \n",
    "                        0.75, 0.8 , 0.85, 0.9 , 0.95]"
   ]
  },
  {
   "cell_type": "code",
   "execution_count": 3,
   "id": "5fc826d6-a320-44fb-9db2-9196631a1d51",
   "metadata": {
    "execution": {
     "iopub.execute_input": "2023-11-04T04:17:05.899163Z",
     "iopub.status.busy": "2023-11-04T04:17:05.899163Z",
     "iopub.status.idle": "2023-11-04T04:30:42.669837Z",
     "shell.execute_reply": "2023-11-04T04:30:42.669837Z",
     "shell.execute_reply.started": "2023-11-04T04:17:05.899163Z"
    }
   },
   "outputs": [
    {
     "name": "stdout",
     "output_type": "stream",
     "text": [
      "tensor(0.6853, device='cuda:0', grad_fn=<BinaryCrossEntropyBackward0>)\n",
      "tensor(0.6571, device='cuda:0', grad_fn=<BinaryCrossEntropyBackward0>)\n",
      "tensor(0.6597, device='cuda:0', grad_fn=<BinaryCrossEntropyBackward0>)\n",
      "tensor(0.5885, device='cuda:0', grad_fn=<BinaryCrossEntropyBackward0>)\n",
      "tensor(0.5867, device='cuda:0', grad_fn=<BinaryCrossEntropyBackward0>)\n",
      "tensor(0.5685, device='cuda:0', grad_fn=<BinaryCrossEntropyBackward0>)\n",
      "tensor(0.5593, device='cuda:0', grad_fn=<BinaryCrossEntropyBackward0>)\n",
      "tensor(0.5844, device='cuda:0', grad_fn=<BinaryCrossEntropyBackward0>)\n",
      "tensor(0.6180, device='cuda:0', grad_fn=<BinaryCrossEntropyBackward0>)\n",
      "tensor(0.5687, device='cuda:0', grad_fn=<BinaryCrossEntropyBackward0>)\n",
      "tensor(0.5710, device='cuda:0', grad_fn=<BinaryCrossEntropyBackward0>)\n",
      "tensor(0.5806, device='cuda:0', grad_fn=<BinaryCrossEntropyBackward0>)\n",
      "tensor(0.6033, device='cuda:0', grad_fn=<BinaryCrossEntropyBackward0>)\n",
      "tensor(0.5782, device='cuda:0', grad_fn=<BinaryCrossEntropyBackward0>)\n",
      "tensor(0.5743, device='cuda:0', grad_fn=<BinaryCrossEntropyBackward0>)\n",
      "tensor(0.5767, device='cuda:0', grad_fn=<BinaryCrossEntropyBackward0>)\n",
      "tensor(0.5950, device='cuda:0', grad_fn=<BinaryCrossEntropyBackward0>)\n",
      "tensor(0.5649, device='cuda:0', grad_fn=<BinaryCrossEntropyBackward0>)\n",
      "tensor(0.5455, device='cuda:0', grad_fn=<BinaryCrossEntropyBackward0>)\n",
      "tensor(0.5255, device='cuda:0', grad_fn=<BinaryCrossEntropyBackward0>)\n",
      "tensor(0.5173, device='cuda:0', grad_fn=<BinaryCrossEntropyBackward0>)\n",
      "tensor(0.5558, device='cuda:0', grad_fn=<BinaryCrossEntropyBackward0>)\n",
      "tensor(0.5223, device='cuda:0', grad_fn=<BinaryCrossEntropyBackward0>)\n",
      "tensor(0.5072, device='cuda:0', grad_fn=<BinaryCrossEntropyBackward0>)\n",
      "tensor(0.5206, device='cuda:0', grad_fn=<BinaryCrossEntropyBackward0>)\n",
      "tensor(0.5327, device='cuda:0', grad_fn=<BinaryCrossEntropyBackward0>)\n",
      "tensor(0.4884, device='cuda:0', grad_fn=<BinaryCrossEntropyBackward0>)\n",
      "tensor(0.4580, device='cuda:0', grad_fn=<BinaryCrossEntropyBackward0>)\n",
      "tensor(0.5044, device='cuda:0', grad_fn=<BinaryCrossEntropyBackward0>)\n",
      "tensor(0.5012, device='cuda:0', grad_fn=<BinaryCrossEntropyBackward0>)\n",
      "tensor(0.4481, device='cuda:0', grad_fn=<BinaryCrossEntropyBackward0>)\n",
      "tensor(0.4113, device='cuda:0', grad_fn=<BinaryCrossEntropyBackward0>)\n",
      "tensor(0.3705, device='cuda:0', grad_fn=<BinaryCrossEntropyBackward0>)\n",
      "tensor(0.4030, device='cuda:0', grad_fn=<BinaryCrossEntropyBackward0>)\n",
      "tensor(0.3700, device='cuda:0', grad_fn=<BinaryCrossEntropyBackward0>)\n",
      "tensor(0.3653, device='cuda:0', grad_fn=<BinaryCrossEntropyBackward0>)\n",
      "tensor(0.4221, device='cuda:0', grad_fn=<BinaryCrossEntropyBackward0>)\n",
      "tensor(0.3591, device='cuda:0', grad_fn=<BinaryCrossEntropyBackward0>)\n",
      "tensor(0.3292, device='cuda:0', grad_fn=<BinaryCrossEntropyBackward0>)\n",
      "tensor(0.2847, device='cuda:0', grad_fn=<BinaryCrossEntropyBackward0>)\n",
      "tensor(0.3159, device='cuda:0', grad_fn=<BinaryCrossEntropyBackward0>)\n",
      "tensor(0.3026, device='cuda:0', grad_fn=<BinaryCrossEntropyBackward0>)\n",
      "tensor(0.3461, device='cuda:0', grad_fn=<BinaryCrossEntropyBackward0>)\n",
      "tensor(0.2195, device='cuda:0', grad_fn=<BinaryCrossEntropyBackward0>)\n",
      "tensor(0.2505, device='cuda:0', grad_fn=<BinaryCrossEntropyBackward0>)\n",
      "tensor(0.2128, device='cuda:0', grad_fn=<BinaryCrossEntropyBackward0>)\n",
      "tensor(0.2026, device='cuda:0', grad_fn=<BinaryCrossEntropyBackward0>)\n",
      "tensor(0.2252, device='cuda:0', grad_fn=<BinaryCrossEntropyBackward0>)\n",
      "tensor(0.2684, device='cuda:0', grad_fn=<BinaryCrossEntropyBackward0>)\n",
      "tensor(0.1931, device='cuda:0', grad_fn=<BinaryCrossEntropyBackward0>)\n",
      "tensor(0.1567, device='cuda:0', grad_fn=<BinaryCrossEntropyBackward0>)\n",
      "tensor(0.2137, device='cuda:0', grad_fn=<BinaryCrossEntropyBackward0>)\n",
      "tensor(0.1727, device='cuda:0', grad_fn=<BinaryCrossEntropyBackward0>)\n",
      "tensor(0.2182, device='cuda:0', grad_fn=<BinaryCrossEntropyBackward0>)\n",
      "tensor(0.1635, device='cuda:0', grad_fn=<BinaryCrossEntropyBackward0>)\n",
      "tensor(0.1994, device='cuda:0', grad_fn=<BinaryCrossEntropyBackward0>)\n",
      "tensor(0.1183, device='cuda:0', grad_fn=<BinaryCrossEntropyBackward0>)\n",
      "****************************************************************************************************\n",
      "0.05 0.6378205128205128\n",
      "0.1 0.6564503205128205\n",
      "0.15 0.6652310363247863\n",
      "0.2 0.671875\n",
      "0.25 0.676582532051282\n",
      "0.3 0.6796541132478633\n",
      "0.35 0.6813568376068376\n",
      "0.4 0.6828926282051282\n",
      "0.45 0.6845619658119658\n",
      "0.5 0.6854300213675214\n",
      "0.55 0.6853298611111112\n",
      "0.6 0.6858306623931624\n",
      "0.65 0.6852964743589743\n",
      "0.7 0.6836939102564102\n",
      "0.75 0.6828592414529915\n",
      "0.8 0.6814903846153846\n",
      "0.85 0.6778178418803419\n",
      "0.9 0.6729433760683761\n",
      "0.95 0.6639957264957265\n",
      "****************************************************************************************************\n"
     ]
    }
   ],
   "source": [
    "net = VGG16_BN()\n",
    "device = d2l.try_gpu()\n",
    "optimizer = torch.optim.SGD(net.parameters(), lr=0.3)\n",
    "loss = nn.BCELoss()\n",
    "train_from_scratch(net, optimizer, loss, 3, trainloader, device)\n",
    "print('**'*50)\n",
    "for j in threshold_value_list:\n",
    "    print(j,evalute_results(net, testloader, j, d2l.try_gpu()))\n",
    "print('**'*50)"
   ]
  },
  {
   "cell_type": "code",
   "execution_count": 4,
   "id": "a0dfa0f4-2de2-4f46-8550-5be0e6b2ad15",
   "metadata": {
    "execution": {
     "iopub.execute_input": "2023-11-04T04:31:49.520006Z",
     "iopub.status.busy": "2023-11-04T04:31:49.520006Z",
     "iopub.status.idle": "2023-11-04T04:36:34.702683Z",
     "shell.execute_reply": "2023-11-04T04:36:34.701912Z",
     "shell.execute_reply.started": "2023-11-04T04:31:49.520006Z"
    }
   },
   "outputs": [
    {
     "name": "stdout",
     "output_type": "stream",
     "text": [
      "tensor(0.0615, device='cuda:0', grad_fn=<BinaryCrossEntropyBackward0>)\n",
      "tensor(0.0735, device='cuda:0', grad_fn=<BinaryCrossEntropyBackward0>)\n",
      "tensor(0.0752, device='cuda:0', grad_fn=<BinaryCrossEntropyBackward0>)\n",
      "tensor(0.0399, device='cuda:0', grad_fn=<BinaryCrossEntropyBackward0>)\n",
      "tensor(0.0459, device='cuda:0', grad_fn=<BinaryCrossEntropyBackward0>)\n",
      "tensor(0.0208, device='cuda:0', grad_fn=<BinaryCrossEntropyBackward0>)\n",
      "tensor(0.0321, device='cuda:0', grad_fn=<BinaryCrossEntropyBackward0>)\n",
      "tensor(0.0748, device='cuda:0', grad_fn=<BinaryCrossEntropyBackward0>)\n",
      "tensor(0.0151, device='cuda:0', grad_fn=<BinaryCrossEntropyBackward0>)\n",
      "tensor(0.0452, device='cuda:0', grad_fn=<BinaryCrossEntropyBackward0>)\n",
      "tensor(0.0301, device='cuda:0', grad_fn=<BinaryCrossEntropyBackward0>)\n",
      "tensor(0.0203, device='cuda:0', grad_fn=<BinaryCrossEntropyBackward0>)\n",
      "tensor(0.0258, device='cuda:0', grad_fn=<BinaryCrossEntropyBackward0>)\n",
      "tensor(0.0245, device='cuda:0', grad_fn=<BinaryCrossEntropyBackward0>)\n",
      "tensor(0.0452, device='cuda:0', grad_fn=<BinaryCrossEntropyBackward0>)\n",
      "tensor(0.0285, device='cuda:0', grad_fn=<BinaryCrossEntropyBackward0>)\n",
      "tensor(0.0304, device='cuda:0', grad_fn=<BinaryCrossEntropyBackward0>)\n",
      "tensor(0.0255, device='cuda:0', grad_fn=<BinaryCrossEntropyBackward0>)\n",
      "tensor(0.0197, device='cuda:0', grad_fn=<BinaryCrossEntropyBackward0>)\n",
      "****************************************************************************************************\n",
      "0.05 0.671875\n",
      "0.1 0.678886217948718\n",
      "0.15 0.6824586004273504\n",
      "0.2 0.6848958333333334\n",
      "0.25 0.6865317841880342\n",
      "0.3 0.688034188034188\n",
      "0.35 0.6891693376068376\n",
      "0.4 0.6902377136752137\n",
      "0.45 0.6907719017094017\n",
      "0.5 0.691673344017094\n",
      "0.55 0.6929420405982906\n",
      "0.6 0.6938100961538461\n",
      "0.65 0.6944444444444444\n",
      "0.7 0.6950787927350427\n",
      "0.75 0.6961471688034188\n",
      "0.8 0.6966479700854701\n",
      "0.85 0.6980168269230769\n",
      "0.9 0.6982505341880342\n",
      "0.95 0.6993189102564102\n",
      "****************************************************************************************************\n"
     ]
    }
   ],
   "source": [
    "optimizer = torch.optim.SGD(net.parameters(), lr=0.01)\n",
    "continue_train(net, optimizer, loss, 1, trainloader, device)\n",
    "print('**'*50)\n",
    "for j in threshold_value_list:\n",
    "    print(j,evalute_results(net, testloader, j, d2l.try_gpu()))\n",
    "print('**'*50)"
   ]
  },
  {
   "cell_type": "code",
   "execution_count": 3,
   "id": "d9fc4160-52dc-4558-accd-cd635fadf0ec",
   "metadata": {
    "execution": {
     "iopub.execute_input": "2023-11-04T04:40:12.913107Z",
     "iopub.status.busy": "2023-11-04T04:40:12.913107Z",
     "iopub.status.idle": "2023-11-04T04:40:12.925619Z",
     "shell.execute_reply": "2023-11-04T04:40:12.925619Z",
     "shell.execute_reply.started": "2023-11-04T04:40:12.913107Z"
    }
   },
   "outputs": [],
   "source": [
    "### 重新训练"
   ]
  },
  {
   "cell_type": "code",
   "execution_count": 4,
   "id": "aa0a4082-3cfe-4019-8f3e-d6f6466adb3e",
   "metadata": {
    "execution": {
     "iopub.execute_input": "2023-11-04T04:40:41.421185Z",
     "iopub.status.busy": "2023-11-04T04:40:41.421185Z",
     "iopub.status.idle": "2023-11-04T04:49:43.664524Z",
     "shell.execute_reply": "2023-11-04T04:49:43.664022Z",
     "shell.execute_reply.started": "2023-11-04T04:40:41.421185Z"
    }
   },
   "outputs": [
    {
     "name": "stdout",
     "output_type": "stream",
     "text": [
      "tensor(0.6839, device='cuda:0', grad_fn=<BinaryCrossEntropyBackward0>)\n",
      "tensor(0.6458, device='cuda:0', grad_fn=<BinaryCrossEntropyBackward0>)\n",
      "tensor(0.6106, device='cuda:0', grad_fn=<BinaryCrossEntropyBackward0>)\n",
      "tensor(0.6190, device='cuda:0', grad_fn=<BinaryCrossEntropyBackward0>)\n",
      "tensor(0.6274, device='cuda:0', grad_fn=<BinaryCrossEntropyBackward0>)\n",
      "tensor(0.6077, device='cuda:0', grad_fn=<BinaryCrossEntropyBackward0>)\n",
      "tensor(0.5591, device='cuda:0', grad_fn=<BinaryCrossEntropyBackward0>)\n",
      "tensor(0.6172, device='cuda:0', grad_fn=<BinaryCrossEntropyBackward0>)\n",
      "tensor(0.5815, device='cuda:0', grad_fn=<BinaryCrossEntropyBackward0>)\n",
      "tensor(0.5737, device='cuda:0', grad_fn=<BinaryCrossEntropyBackward0>)\n",
      "tensor(0.6452, device='cuda:0', grad_fn=<BinaryCrossEntropyBackward0>)\n",
      "tensor(0.5561, device='cuda:0', grad_fn=<BinaryCrossEntropyBackward0>)\n",
      "tensor(0.5530, device='cuda:0', grad_fn=<BinaryCrossEntropyBackward0>)\n",
      "tensor(0.5955, device='cuda:0', grad_fn=<BinaryCrossEntropyBackward0>)\n",
      "tensor(0.5384, device='cuda:0', grad_fn=<BinaryCrossEntropyBackward0>)\n",
      "tensor(0.5586, device='cuda:0', grad_fn=<BinaryCrossEntropyBackward0>)\n",
      "tensor(0.5148, device='cuda:0', grad_fn=<BinaryCrossEntropyBackward0>)\n",
      "tensor(0.6212, device='cuda:0', grad_fn=<BinaryCrossEntropyBackward0>)\n",
      "tensor(0.5435, device='cuda:0', grad_fn=<BinaryCrossEntropyBackward0>)\n",
      "tensor(0.5215, device='cuda:0', grad_fn=<BinaryCrossEntropyBackward0>)\n",
      "tensor(0.5247, device='cuda:0', grad_fn=<BinaryCrossEntropyBackward0>)\n",
      "tensor(0.5797, device='cuda:0', grad_fn=<BinaryCrossEntropyBackward0>)\n",
      "tensor(0.5367, device='cuda:0', grad_fn=<BinaryCrossEntropyBackward0>)\n",
      "tensor(0.5319, device='cuda:0', grad_fn=<BinaryCrossEntropyBackward0>)\n",
      "tensor(0.5100, device='cuda:0', grad_fn=<BinaryCrossEntropyBackward0>)\n",
      "tensor(0.5584, device='cuda:0', grad_fn=<BinaryCrossEntropyBackward0>)\n",
      "tensor(0.5205, device='cuda:0', grad_fn=<BinaryCrossEntropyBackward0>)\n",
      "tensor(0.5470, device='cuda:0', grad_fn=<BinaryCrossEntropyBackward0>)\n",
      "tensor(0.4572, device='cuda:0', grad_fn=<BinaryCrossEntropyBackward0>)\n",
      "tensor(0.4888, device='cuda:0', grad_fn=<BinaryCrossEntropyBackward0>)\n",
      "tensor(0.4384, device='cuda:0', grad_fn=<BinaryCrossEntropyBackward0>)\n",
      "tensor(0.4569, device='cuda:0', grad_fn=<BinaryCrossEntropyBackward0>)\n",
      "tensor(0.4488, device='cuda:0', grad_fn=<BinaryCrossEntropyBackward0>)\n",
      "tensor(0.3948, device='cuda:0', grad_fn=<BinaryCrossEntropyBackward0>)\n",
      "tensor(0.4607, device='cuda:0', grad_fn=<BinaryCrossEntropyBackward0>)\n",
      "tensor(0.4051, device='cuda:0', grad_fn=<BinaryCrossEntropyBackward0>)\n",
      "tensor(0.3828, device='cuda:0', grad_fn=<BinaryCrossEntropyBackward0>)\n",
      "tensor(0.3752, device='cuda:0', grad_fn=<BinaryCrossEntropyBackward0>)\n",
      "****************************************************************************************************\n",
      "0.05 0.6065037393162394\n",
      "0.1 0.6265024038461539\n",
      "0.15 0.6388555021367521\n",
      "0.2 0.6464342948717948\n",
      "0.25 0.6510416666666666\n",
      "0.3 0.6537459935897436\n",
      "0.35 0.6571514423076923\n",
      "0.4 0.6579527243589743\n",
      "0.45 0.6585870726495726\n",
      "0.5 0.6561164529914529\n",
      "0.55 0.6541800213675214\n",
      "0.6 0.6512086004273504\n",
      "0.65 0.6437967414529915\n",
      "0.7 0.6376201923076923\n",
      "0.75 0.6284722222222222\n",
      "0.8 0.6178552350427351\n",
      "0.85 0.6048677884615384\n",
      "0.9 0.5867053952991453\n",
      "0.95 0.5604300213675214\n",
      "****************************************************************************************************\n"
     ]
    }
   ],
   "source": [
    "net = VGG16_BN()\n",
    "device = d2l.try_gpu()\n",
    "optimizer = torch.optim.SGD(net.parameters(), lr=0.3)\n",
    "loss = nn.BCELoss()\n",
    "train_from_scratch(net, optimizer, loss, 2, trainloader, device)\n",
    "print('**'*50)\n",
    "for j in threshold_value_list:\n",
    "    print(j,evalute_results(net, testloader, j, d2l.try_gpu()))\n",
    "print('**'*50)"
   ]
  },
  {
   "cell_type": "code",
   "execution_count": 5,
   "id": "9d401e1d-0c53-41c6-84b3-856380c5a5b6",
   "metadata": {
    "execution": {
     "iopub.execute_input": "2023-11-04T04:51:45.254284Z",
     "iopub.status.busy": "2023-11-04T04:51:45.254284Z",
     "iopub.status.idle": "2023-11-04T04:56:26.293718Z",
     "shell.execute_reply": "2023-11-04T04:56:26.293718Z",
     "shell.execute_reply.started": "2023-11-04T04:51:45.254284Z"
    }
   },
   "outputs": [
    {
     "name": "stdout",
     "output_type": "stream",
     "text": [
      "tensor(0.2717, device='cuda:0', grad_fn=<BinaryCrossEntropyBackward0>)\n",
      "tensor(0.2532, device='cuda:0', grad_fn=<BinaryCrossEntropyBackward0>)\n",
      "tensor(0.2429, device='cuda:0', grad_fn=<BinaryCrossEntropyBackward0>)\n",
      "tensor(0.1718, device='cuda:0', grad_fn=<BinaryCrossEntropyBackward0>)\n",
      "tensor(0.2510, device='cuda:0', grad_fn=<BinaryCrossEntropyBackward0>)\n",
      "tensor(0.1502, device='cuda:0', grad_fn=<BinaryCrossEntropyBackward0>)\n",
      "tensor(0.1390, device='cuda:0', grad_fn=<BinaryCrossEntropyBackward0>)\n",
      "tensor(0.1453, device='cuda:0', grad_fn=<BinaryCrossEntropyBackward0>)\n",
      "tensor(0.1032, device='cuda:0', grad_fn=<BinaryCrossEntropyBackward0>)\n",
      "tensor(0.1497, device='cuda:0', grad_fn=<BinaryCrossEntropyBackward0>)\n",
      "tensor(0.1432, device='cuda:0', grad_fn=<BinaryCrossEntropyBackward0>)\n",
      "tensor(0.1395, device='cuda:0', grad_fn=<BinaryCrossEntropyBackward0>)\n",
      "tensor(0.1100, device='cuda:0', grad_fn=<BinaryCrossEntropyBackward0>)\n",
      "tensor(0.0725, device='cuda:0', grad_fn=<BinaryCrossEntropyBackward0>)\n",
      "tensor(0.0883, device='cuda:0', grad_fn=<BinaryCrossEntropyBackward0>)\n",
      "tensor(0.0821, device='cuda:0', grad_fn=<BinaryCrossEntropyBackward0>)\n",
      "tensor(0.1177, device='cuda:0', grad_fn=<BinaryCrossEntropyBackward0>)\n",
      "tensor(0.0995, device='cuda:0', grad_fn=<BinaryCrossEntropyBackward0>)\n",
      "tensor(0.0682, device='cuda:0', grad_fn=<BinaryCrossEntropyBackward0>)\n",
      "****************************************************************************************************\n",
      "0.05 0.6577524038461539\n",
      "0.1 0.6735109508547008\n",
      "0.15 0.6814569978632479\n",
      "0.2 0.6853966346153846\n",
      "0.25 0.6881009615384616\n",
      "0.3 0.6896701388888888\n",
      "0.35 0.6912059294871795\n",
      "0.4 0.6928418803418803\n",
      "0.45 0.6931089743589743\n",
      "0.5 0.6941439636752137\n",
      "0.55 0.694511217948718\n",
      "0.6 0.6947449252136753\n",
      "0.65 0.6957799145299145\n",
      "0.7 0.6965811965811965\n",
      "0.75 0.6971487713675214\n",
      "0.8 0.6964476495726496\n",
      "0.85 0.6942441239316239\n",
      "0.9 0.6922409188034188\n",
      "0.95 0.6882345085470085\n",
      "****************************************************************************************************\n"
     ]
    }
   ],
   "source": [
    "optimizer = torch.optim.SGD(net.parameters(), lr=0.01)\n",
    "continue_train(net, optimizer, loss, 1, trainloader, device)\n",
    "print('**'*50)\n",
    "for j in threshold_value_list:\n",
    "    print(j,evalute_results(net, testloader, j, d2l.try_gpu()))\n",
    "print('**'*50)"
   ]
  },
  {
   "cell_type": "code",
   "execution_count": 6,
   "id": "87cd173d-01fe-4681-a8c3-636d46c6ab88",
   "metadata": {
    "execution": {
     "iopub.execute_input": "2023-11-04T04:58:30.244634Z",
     "iopub.status.busy": "2023-11-04T04:58:30.244634Z",
     "iopub.status.idle": "2023-11-04T05:03:12.876347Z",
     "shell.execute_reply": "2023-11-04T05:03:12.876347Z",
     "shell.execute_reply.started": "2023-11-04T04:58:30.244634Z"
    }
   },
   "outputs": [
    {
     "name": "stdout",
     "output_type": "stream",
     "text": [
      "tensor(0.0712, device='cuda:0', grad_fn=<BinaryCrossEntropyBackward0>)\n",
      "tensor(0.0466, device='cuda:0', grad_fn=<BinaryCrossEntropyBackward0>)\n",
      "tensor(0.0786, device='cuda:0', grad_fn=<BinaryCrossEntropyBackward0>)\n",
      "tensor(0.0610, device='cuda:0', grad_fn=<BinaryCrossEntropyBackward0>)\n",
      "tensor(0.0707, device='cuda:0', grad_fn=<BinaryCrossEntropyBackward0>)\n",
      "tensor(0.0536, device='cuda:0', grad_fn=<BinaryCrossEntropyBackward0>)\n",
      "tensor(0.0567, device='cuda:0', grad_fn=<BinaryCrossEntropyBackward0>)\n",
      "tensor(0.0461, device='cuda:0', grad_fn=<BinaryCrossEntropyBackward0>)\n",
      "tensor(0.0950, device='cuda:0', grad_fn=<BinaryCrossEntropyBackward0>)\n",
      "tensor(0.0606, device='cuda:0', grad_fn=<BinaryCrossEntropyBackward0>)\n",
      "tensor(0.0390, device='cuda:0', grad_fn=<BinaryCrossEntropyBackward0>)\n",
      "tensor(0.0339, device='cuda:0', grad_fn=<BinaryCrossEntropyBackward0>)\n",
      "tensor(0.0374, device='cuda:0', grad_fn=<BinaryCrossEntropyBackward0>)\n",
      "tensor(0.0590, device='cuda:0', grad_fn=<BinaryCrossEntropyBackward0>)\n",
      "tensor(0.0772, device='cuda:0', grad_fn=<BinaryCrossEntropyBackward0>)\n",
      "tensor(0.0308, device='cuda:0', grad_fn=<BinaryCrossEntropyBackward0>)\n",
      "tensor(0.0279, device='cuda:0', grad_fn=<BinaryCrossEntropyBackward0>)\n",
      "tensor(0.0535, device='cuda:0', grad_fn=<BinaryCrossEntropyBackward0>)\n",
      "tensor(0.0856, device='cuda:0', grad_fn=<BinaryCrossEntropyBackward0>)\n",
      "****************************************************************************************************\n",
      "0.05 0.664863782051282\n",
      "0.1 0.6787192841880342\n",
      "0.15 0.6836939102564102\n",
      "0.2 0.6856971153846154\n",
      "0.25 0.687767094017094\n",
      "0.3 0.6894030448717948\n",
      "0.35 0.6902043269230769\n",
      "0.4 0.6918736645299145\n",
      "0.45 0.6925413995726496\n",
      "0.5 0.6933426816239316\n",
      "0.55 0.694511217948718\n",
      "0.6 0.6946113782051282\n",
      "0.65 0.6952791132478633\n",
      "0.7 0.6957131410256411\n",
      "0.75 0.6960803952991453\n",
      "0.8 0.6960803952991453\n",
      "0.85 0.6950120192307693\n",
      "0.9 0.6935430021367521\n",
      "0.95 0.6903044871794872\n",
      "****************************************************************************************************\n"
     ]
    }
   ],
   "source": [
    "optimizer = torch.optim.SGD(net.parameters(), lr=0.001)\n",
    "continue_train(net, optimizer, loss, 1, trainloader, device)\n",
    "print('**'*50)\n",
    "for j in threshold_value_list:\n",
    "    print(j,evalute_results(net, testloader, j, d2l.try_gpu()))\n",
    "print('**'*50)"
   ]
  },
  {
   "cell_type": "code",
   "execution_count": 7,
   "id": "ca0df442-9607-4b5b-9549-bb7605cd88cf",
   "metadata": {
    "execution": {
     "iopub.execute_input": "2023-11-04T05:04:16.506442Z",
     "iopub.status.busy": "2023-11-04T05:04:16.506442Z",
     "iopub.status.idle": "2023-11-04T05:08:58.088705Z",
     "shell.execute_reply": "2023-11-04T05:08:58.088705Z",
     "shell.execute_reply.started": "2023-11-04T05:04:16.506442Z"
    }
   },
   "outputs": [
    {
     "name": "stdout",
     "output_type": "stream",
     "text": [
      "tensor(0.0841, device='cuda:0', grad_fn=<BinaryCrossEntropyBackward0>)\n",
      "tensor(0.0405, device='cuda:0', grad_fn=<BinaryCrossEntropyBackward0>)\n",
      "tensor(0.0373, device='cuda:0', grad_fn=<BinaryCrossEntropyBackward0>)\n",
      "tensor(0.0816, device='cuda:0', grad_fn=<BinaryCrossEntropyBackward0>)\n",
      "tensor(0.0242, device='cuda:0', grad_fn=<BinaryCrossEntropyBackward0>)\n",
      "tensor(0.0383, device='cuda:0', grad_fn=<BinaryCrossEntropyBackward0>)\n",
      "tensor(0.0547, device='cuda:0', grad_fn=<BinaryCrossEntropyBackward0>)\n",
      "tensor(0.0346, device='cuda:0', grad_fn=<BinaryCrossEntropyBackward0>)\n",
      "tensor(0.0346, device='cuda:0', grad_fn=<BinaryCrossEntropyBackward0>)\n",
      "tensor(0.0352, device='cuda:0', grad_fn=<BinaryCrossEntropyBackward0>)\n",
      "tensor(0.0445, device='cuda:0', grad_fn=<BinaryCrossEntropyBackward0>)\n",
      "tensor(0.0479, device='cuda:0', grad_fn=<BinaryCrossEntropyBackward0>)\n",
      "tensor(0.0489, device='cuda:0', grad_fn=<BinaryCrossEntropyBackward0>)\n",
      "tensor(0.0555, device='cuda:0', grad_fn=<BinaryCrossEntropyBackward0>)\n",
      "tensor(0.0643, device='cuda:0', grad_fn=<BinaryCrossEntropyBackward0>)\n",
      "tensor(0.0653, device='cuda:0', grad_fn=<BinaryCrossEntropyBackward0>)\n",
      "tensor(0.0448, device='cuda:0', grad_fn=<BinaryCrossEntropyBackward0>)\n",
      "tensor(0.0304, device='cuda:0', grad_fn=<BinaryCrossEntropyBackward0>)\n",
      "tensor(0.0588, device='cuda:0', grad_fn=<BinaryCrossEntropyBackward0>)\n",
      "****************************************************************************************************\n",
      "0.05 0.6750467414529915\n",
      "0.1 0.6842614850427351\n",
      "0.15 0.6870659722222222\n",
      "0.2 0.6889022435897436\n",
      "0.25 0.6905048076923077\n",
      "0.3 0.6922409188034188\n",
      "0.35 0.6932425213675214\n",
      "0.4 0.6938768696581197\n",
      "0.45 0.6949786324786325\n",
      "0.5 0.6955128205128205\n",
      "0.55 0.6966479700854701\n",
      "0.6 0.6966479700854701\n",
      "0.65 0.6966813568376068\n",
      "0.7 0.6970819978632479\n",
      "0.75 0.6975827991452992\n",
      "0.8 0.6971821581196581\n",
      "0.85 0.6962139423076923\n",
      "0.9 0.6945779914529915\n",
      "0.95 0.6924746260683761\n",
      "****************************************************************************************************\n"
     ]
    }
   ],
   "source": [
    "optimizer = torch.optim.SGD(net.parameters(), lr=0.001)\n",
    "continue_train(net, optimizer, loss, 1, trainloader, device)\n",
    "print('**'*50)\n",
    "for j in threshold_value_list:\n",
    "    print(j,evalute_results(net, testloader, j, d2l.try_gpu()))\n",
    "print('**'*50)"
   ]
  },
  {
   "cell_type": "code",
   "execution_count": 8,
   "id": "26989a5e-d435-4b27-8f6d-a42e900b7fe9",
   "metadata": {
    "execution": {
     "iopub.execute_input": "2023-11-04T05:12:00.113509Z",
     "iopub.status.busy": "2023-11-04T05:12:00.113509Z",
     "iopub.status.idle": "2023-11-04T05:16:49.205752Z",
     "shell.execute_reply": "2023-11-04T05:16:49.205752Z",
     "shell.execute_reply.started": "2023-11-04T05:12:00.113509Z"
    }
   },
   "outputs": [
    {
     "name": "stdout",
     "output_type": "stream",
     "text": [
      "tensor(0.0667, device='cuda:0', grad_fn=<BinaryCrossEntropyBackward0>)\n",
      "tensor(0.0169, device='cuda:0', grad_fn=<BinaryCrossEntropyBackward0>)\n",
      "tensor(0.0358, device='cuda:0', grad_fn=<BinaryCrossEntropyBackward0>)\n",
      "tensor(0.0729, device='cuda:0', grad_fn=<BinaryCrossEntropyBackward0>)\n",
      "tensor(0.0373, device='cuda:0', grad_fn=<BinaryCrossEntropyBackward0>)\n",
      "tensor(0.0190, device='cuda:0', grad_fn=<BinaryCrossEntropyBackward0>)\n",
      "tensor(0.0643, device='cuda:0', grad_fn=<BinaryCrossEntropyBackward0>)\n",
      "tensor(0.0265, device='cuda:0', grad_fn=<BinaryCrossEntropyBackward0>)\n",
      "tensor(0.0245, device='cuda:0', grad_fn=<BinaryCrossEntropyBackward0>)\n",
      "tensor(0.0249, device='cuda:0', grad_fn=<BinaryCrossEntropyBackward0>)\n",
      "tensor(0.0409, device='cuda:0', grad_fn=<BinaryCrossEntropyBackward0>)\n",
      "tensor(0.0399, device='cuda:0', grad_fn=<BinaryCrossEntropyBackward0>)\n",
      "tensor(0.0473, device='cuda:0', grad_fn=<BinaryCrossEntropyBackward0>)\n",
      "tensor(0.0194, device='cuda:0', grad_fn=<BinaryCrossEntropyBackward0>)\n",
      "tensor(0.0983, device='cuda:0', grad_fn=<BinaryCrossEntropyBackward0>)\n",
      "tensor(0.0167, device='cuda:0', grad_fn=<BinaryCrossEntropyBackward0>)\n",
      "tensor(0.0277, device='cuda:0', grad_fn=<BinaryCrossEntropyBackward0>)\n",
      "tensor(0.0371, device='cuda:0', grad_fn=<BinaryCrossEntropyBackward0>)\n",
      "tensor(0.0197, device='cuda:0', grad_fn=<BinaryCrossEntropyBackward0>)\n",
      "****************************************************************************************************\n",
      "0.05 0.6768830128205128\n",
      "0.1 0.6833600427350427\n",
      "0.15 0.6858306623931624\n",
      "0.2 0.6874332264957265\n",
      "0.25 0.6884348290598291\n",
      "0.3 0.6899372329059829\n",
      "0.35 0.6907719017094017\n",
      "0.4 0.6917067307692307\n",
      "0.45 0.6921073717948718\n",
      "0.5 0.6928752670940171\n",
      "0.55 0.6937099358974359\n",
      "0.6 0.6948784722222222\n",
      "0.65 0.6947449252136753\n",
      "0.7 0.6956463675213675\n",
      "0.75 0.6964476495726496\n",
      "0.8 0.6975160256410257\n",
      "0.85 0.6975160256410257\n",
      "0.9 0.6978498931623932\n",
      "0.95 0.6974826388888888\n",
      "****************************************************************************************************\n"
     ]
    }
   ],
   "source": [
    "optimizer = torch.optim.SGD(net.parameters(), lr=0.005)\n",
    "continue_train(net, optimizer, loss, 1, trainloader, device)\n",
    "print('**'*50)\n",
    "for j in threshold_value_list:\n",
    "    print(j,evalute_results(net, testloader, j, d2l.try_gpu()))\n",
    "print('**'*50)"
   ]
  },
  {
   "cell_type": "code",
   "execution_count": 9,
   "id": "0f9e7800-3861-4f73-96ad-eed0e9e6484e",
   "metadata": {
    "execution": {
     "iopub.execute_input": "2023-11-04T05:17:19.064834Z",
     "iopub.status.busy": "2023-11-04T05:17:19.064834Z",
     "iopub.status.idle": "2023-11-04T05:22:08.868480Z",
     "shell.execute_reply": "2023-11-04T05:22:08.868480Z",
     "shell.execute_reply.started": "2023-11-04T05:17:19.064834Z"
    }
   },
   "outputs": [
    {
     "name": "stdout",
     "output_type": "stream",
     "text": [
      "tensor(0.1017, device='cuda:0', grad_fn=<BinaryCrossEntropyBackward0>)\n",
      "tensor(0.0855, device='cuda:0', grad_fn=<BinaryCrossEntropyBackward0>)\n",
      "tensor(0.0804, device='cuda:0', grad_fn=<BinaryCrossEntropyBackward0>)\n",
      "tensor(0.0708, device='cuda:0', grad_fn=<BinaryCrossEntropyBackward0>)\n",
      "tensor(0.0779, device='cuda:0', grad_fn=<BinaryCrossEntropyBackward0>)\n",
      "tensor(0.1368, device='cuda:0', grad_fn=<BinaryCrossEntropyBackward0>)\n",
      "tensor(0.1797, device='cuda:0', grad_fn=<BinaryCrossEntropyBackward0>)\n",
      "tensor(0.0779, device='cuda:0', grad_fn=<BinaryCrossEntropyBackward0>)\n",
      "tensor(0.0909, device='cuda:0', grad_fn=<BinaryCrossEntropyBackward0>)\n",
      "tensor(0.0528, device='cuda:0', grad_fn=<BinaryCrossEntropyBackward0>)\n",
      "tensor(0.0427, device='cuda:0', grad_fn=<BinaryCrossEntropyBackward0>)\n",
      "tensor(0.0806, device='cuda:0', grad_fn=<BinaryCrossEntropyBackward0>)\n",
      "tensor(0.0722, device='cuda:0', grad_fn=<BinaryCrossEntropyBackward0>)\n",
      "tensor(0.0407, device='cuda:0', grad_fn=<BinaryCrossEntropyBackward0>)\n",
      "tensor(0.0628, device='cuda:0', grad_fn=<BinaryCrossEntropyBackward0>)\n",
      "tensor(0.0607, device='cuda:0', grad_fn=<BinaryCrossEntropyBackward0>)\n",
      "tensor(0.0548, device='cuda:0', grad_fn=<BinaryCrossEntropyBackward0>)\n",
      "tensor(0.0645, device='cuda:0', grad_fn=<BinaryCrossEntropyBackward0>)\n",
      "tensor(0.0127, device='cuda:0', grad_fn=<BinaryCrossEntropyBackward0>)\n",
      "****************************************************************************************************\n",
      "0.05 0.6622930021367521\n",
      "0.1 0.6708066239316239\n",
      "0.15 0.6746127136752137\n",
      "0.2 0.6781183226495726\n",
      "0.25 0.6793870192307693\n",
      "0.3 0.6807558760683761\n",
      "0.35 0.6814903846153846\n",
      "0.4 0.6825587606837606\n",
      "0.45 0.6831597222222222\n",
      "0.5 0.683059561965812\n",
      "0.55 0.6837606837606838\n",
      "0.6 0.6840945512820513\n",
      "0.65 0.6849292200854701\n",
      "0.7 0.6851963141025641\n",
      "0.75 0.6857972756410257\n",
      "0.8 0.6861311431623932\n",
      "0.85 0.6859975961538461\n",
      "0.9 0.6857638888888888\n",
      "0.95 0.6825921474358975\n",
      "****************************************************************************************************\n"
     ]
    }
   ],
   "source": [
    "optimizer = torch.optim.SGD(net.parameters(), lr=0.05)\n",
    "continue_train(net, optimizer, loss, 1, trainloader, device)\n",
    "print('**'*50)\n",
    "for j in threshold_value_list:\n",
    "    print(j,evalute_results(net, testloader, j, d2l.try_gpu()))\n",
    "print('**'*50)"
   ]
  },
  {
   "cell_type": "code",
   "execution_count": null,
   "id": "c42b80c4-daba-4034-87ff-55bb624fd994",
   "metadata": {},
   "outputs": [],
   "source": []
  }
 ],
 "metadata": {
  "kernelspec": {
   "display_name": "Python 3 (ipykernel)",
   "language": "python",
   "name": "python3"
  },
  "language_info": {
   "codemirror_mode": {
    "name": "ipython",
    "version": 3
   },
   "file_extension": ".py",
   "mimetype": "text/x-python",
   "name": "python",
   "nbconvert_exporter": "python",
   "pygments_lexer": "ipython3",
   "version": "3.10.12"
  }
 },
 "nbformat": 4,
 "nbformat_minor": 5
}
