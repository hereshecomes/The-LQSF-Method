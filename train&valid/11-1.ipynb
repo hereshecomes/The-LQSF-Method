{
 "cells": [
  {
   "cell_type": "code",
   "execution_count": 1,
   "id": "db095b6a-e030-4103-8d89-2601a1ae3f7d",
   "metadata": {
    "execution": {
     "iopub.execute_input": "2023-11-02T01:46:06.437634Z",
     "iopub.status.busy": "2023-11-02T01:46:06.437634Z",
     "iopub.status.idle": "2023-11-02T01:46:07.882450Z",
     "shell.execute_reply": "2023-11-02T01:46:07.882450Z",
     "shell.execute_reply.started": "2023-11-02T01:46:06.437634Z"
    }
   },
   "outputs": [],
   "source": [
    "from lib.jianji.code_csf import csf\n",
    "from lib.model.alexnet import AlexNet\n",
    "from lib.jianji.tool import *\n",
    "import torch \n",
    "from torch.utils.data import Dataset\n",
    "from torch import nn\n",
    "from torchsummary import summary\n",
    "from d2l import torch as d2l"
   ]
  },
  {
   "cell_type": "code",
   "execution_count": 2,
   "id": "995cb83e-8a77-4caa-93e3-fd89fb6d3b66",
   "metadata": {
    "execution": {
     "iopub.execute_input": "2023-11-02T01:46:07.883451Z",
     "iopub.status.busy": "2023-11-02T01:46:07.883451Z",
     "iopub.status.idle": "2023-11-02T01:46:35.302478Z",
     "shell.execute_reply": "2023-11-02T01:46:35.301916Z",
     "shell.execute_reply.started": "2023-11-02T01:46:07.883451Z"
    }
   },
   "outputs": [],
   "source": [
    "traindSet = csf(csv_path='original_train_set.pkl', mode='train')\n",
    "trainloader =  torch.utils.data.DataLoader(traindSet, batch_size=256, drop_last=True, shuffle=True)\n",
    "testset = csf(csv_path='test_valid_edited(30000).pkl', mode='valid')\n",
    "testloader = torch.utils.data.DataLoader(testset, batch_size=256, drop_last=True, shuffle=True)"
   ]
  },
  {
   "cell_type": "code",
   "execution_count": 3,
   "id": "609684ba-918e-485f-b549-a25b71923438",
   "metadata": {
    "execution": {
     "iopub.execute_input": "2023-11-02T01:46:45.818018Z",
     "iopub.status.busy": "2023-11-02T01:46:45.818018Z",
     "iopub.status.idle": "2023-11-02T01:53:29.012225Z",
     "shell.execute_reply": "2023-11-02T01:53:29.012225Z",
     "shell.execute_reply.started": "2023-11-02T01:46:45.818018Z"
    }
   },
   "outputs": [
    {
     "data": {
      "text/plain": [
       "0.853243015680212"
      ]
     },
     "execution_count": 3,
     "metadata": {},
     "output_type": "execute_result"
    }
   ],
   "source": [
    "lr = 0.5\n",
    "num_epochs = 2\n",
    "net = AlexNet()\n",
    "device = d2l.try_gpu()\n",
    "optimizer = torch.optim.SGD(net.parameters(), lr=lr)\n",
    "loss = nn.BCELoss()\n",
    "train_from_scratch(net, optimizer, loss, num_epochs, trainloader, device)\n",
    "evalute_results(net, testloader, 0.1, device)"
   ]
  },
  {
   "cell_type": "code",
   "execution_count": 13,
   "id": "f2a94cbd-2cab-4e47-b1de-9acf87673f20",
   "metadata": {
    "execution": {
     "iopub.execute_input": "2023-11-02T01:55:49.824529Z",
     "iopub.status.busy": "2023-11-02T01:55:49.824529Z",
     "iopub.status.idle": "2023-11-02T01:55:50.901967Z",
     "shell.execute_reply": "2023-11-02T01:55:50.901967Z",
     "shell.execute_reply.started": "2023-11-02T01:55:49.824529Z"
    }
   },
   "outputs": [
    {
     "data": {
      "text/plain": [
       "0.6013955662393162"
      ]
     },
     "execution_count": 13,
     "metadata": {},
     "output_type": "execute_result"
    }
   ],
   "source": [
    "evalute_results(net, testloader, 0.48, device)"
   ]
  },
  {
   "cell_type": "code",
   "execution_count": 11,
   "id": "b3876f82-cad4-4e0e-a99c-09518b79b441",
   "metadata": {
    "execution": {
     "iopub.execute_input": "2023-11-01T12:18:08.949045Z",
     "iopub.status.busy": "2023-11-01T12:18:08.949045Z",
     "iopub.status.idle": "2023-11-01T12:18:08.998610Z",
     "shell.execute_reply": "2023-11-01T12:18:08.998192Z",
     "shell.execute_reply.started": "2023-11-01T12:18:08.949045Z"
    }
   },
   "outputs": [],
   "source": [
    "torch.save(net.state_dict(), '11_1_alexnet.pth')"
   ]
  },
  {
   "cell_type": "code",
   "execution_count": 5,
   "id": "bee4721d-7409-4314-a1a3-f10b1049c0f4",
   "metadata": {
    "execution": {
     "iopub.execute_input": "2023-11-02T01:54:51.598818Z",
     "iopub.status.busy": "2023-11-02T01:54:51.598818Z",
     "iopub.status.idle": "2023-11-02T01:54:51.860013Z",
     "shell.execute_reply": "2023-11-02T01:54:51.859162Z",
     "shell.execute_reply.started": "2023-11-02T01:54:51.598818Z"
    }
   },
   "outputs": [],
   "source": [
    "testset = csf(csv_path='test_valid_edited(30000).pkl', mode='valid')\n",
    "testloader = torch.utils.data.DataLoader(testset, batch_size=256, drop_last=True, shuffle=True)"
   ]
  },
  {
   "cell_type": "code",
   "execution_count": 6,
   "id": "94077583-744d-41fa-8ddd-7392ded15467",
   "metadata": {
    "execution": {
     "iopub.execute_input": "2023-11-02T01:55:01.812234Z",
     "iopub.status.busy": "2023-11-02T01:55:01.812234Z",
     "iopub.status.idle": "2023-11-02T01:55:02.929579Z",
     "shell.execute_reply": "2023-11-02T01:55:02.928759Z",
     "shell.execute_reply.started": "2023-11-02T01:55:01.812234Z"
    }
   },
   "outputs": [
    {
     "data": {
      "text/plain": [
       "0.5885416666666666"
      ]
     },
     "execution_count": 6,
     "metadata": {},
     "output_type": "execute_result"
    }
   ],
   "source": [
    "evalute_results(net, testloader, 0.1, device)"
   ]
  },
  {
   "cell_type": "code",
   "execution_count": 15,
   "id": "1bb6e357-bb44-4a6f-b200-b17612a61da7",
   "metadata": {
    "execution": {
     "iopub.execute_input": "2023-11-02T02:08:58.410364Z",
     "iopub.status.busy": "2023-11-02T02:08:58.409316Z",
     "iopub.status.idle": "2023-11-02T02:09:16.748909Z",
     "shell.execute_reply": "2023-11-02T02:09:16.748909Z",
     "shell.execute_reply.started": "2023-11-02T02:08:58.410364Z"
    }
   },
   "outputs": [
    {
     "name": "stdout",
     "output_type": "stream",
     "text": [
      "Collecting scikit-optimize\n",
      "  Downloading scikit_optimize-0.9.0-py2.py3-none-any.whl (100 kB)\n",
      "     ------------------------------------- 100.3/100.3 kB 36.5 kB/s eta 0:00:00\n",
      "Requirement already satisfied: joblib>=0.11 in c:\\users\\jiang su\\.conda\\envs\\pytorch\\lib\\site-packages (from scikit-optimize) (1.3.2)\n",
      "Collecting pyaml>=16.9 (from scikit-optimize)\n",
      "  Downloading pyaml-23.9.7-py3-none-any.whl (23 kB)\n",
      "Requirement already satisfied: numpy>=1.13.3 in c:\\users\\jiang su\\.conda\\envs\\pytorch\\lib\\site-packages (from scikit-optimize) (1.25.0)\n",
      "Requirement already satisfied: scipy>=0.19.1 in c:\\users\\jiang su\\.conda\\envs\\pytorch\\lib\\site-packages (from scikit-optimize) (1.11.3)\n",
      "Requirement already satisfied: scikit-learn>=0.20.0 in c:\\users\\jiang su\\.conda\\envs\\pytorch\\lib\\site-packages (from scikit-optimize) (1.3.2)\n",
      "Requirement already satisfied: PyYAML in c:\\users\\jiang su\\.conda\\envs\\pytorch\\lib\\site-packages (from pyaml>=16.9->scikit-optimize) (6.0)\n",
      "Requirement already satisfied: threadpoolctl>=2.0.0 in c:\\users\\jiang su\\.conda\\envs\\pytorch\\lib\\site-packages (from scikit-learn>=0.20.0->scikit-optimize) (3.2.0)\n",
      "Installing collected packages: pyaml, scikit-optimize\n",
      "Successfully installed pyaml-23.9.7 scikit-optimize-0.9.0\n",
      "Note: you may need to restart the kernel to use updated packages.\n"
     ]
    },
    {
     "name": "stderr",
     "output_type": "stream",
     "text": [
      "WARNING: Ignoring invalid distribution -upyterlab (c:\\users\\jiang su\\.conda\\envs\\pytorch\\lib\\site-packages)\n",
      "WARNING: Ignoring invalid distribution -upyterlab (c:\\users\\jiang su\\.conda\\envs\\pytorch\\lib\\site-packages)\n"
     ]
    }
   ],
   "source": [
    "pip install scikit-optimize"
   ]
  },
  {
   "cell_type": "code",
   "execution_count": null,
   "id": "0acf6ed7-8c7f-4860-80e8-8259c1111834",
   "metadata": {},
   "outputs": [],
   "source": [
    "from skopt import BayesSearchCV\n",
    "from skopt.space import Real, Integer\n",
    "\n",
    "# 定义超参数空间\n",
    "param_space = {\n",
    "    'learning_rate': Real(0.001, 1.0, prior='log-uniform'),\n",
    "    'epochs': Integer(1, 3)\n",
    "}\n",
    "\n",
    "# 定义评估函数（模拟您的深度学习模型性能评估）\n",
    "def evalute_results(net, data_iter, threshold_value, device): ##最后输出一个值，模型在验证集上的平均正确率,默认模型在显卡上\n",
    "    net.eval()\n",
    "    metric = d2l.Accumulator(2)\n",
    "    with torch.no_grad():\n",
    "        for X, y in data_iter:\n",
    "            X = X.to(device)\n",
    "            y = y.to(device)\n",
    "            output = net(X)\n",
    "            y_pred = torch.where(output>threshold_value,torch.ones_like(output),torch.zeros_like(output))\n",
    "            cmp = d2l.astype(y_pred, y.dtype) == y\n",
    "            acc_num = d2l.reduce_sum(d2l.astype(cmp, y.dtype))\n",
    "            metric.add(acc_num, y.numel())\n",
    "    return metric[0] / metric[1]\n",
    "\n",
    "# 创建贝叶斯搜索对象\n",
    "bayes_search = BayesSearchCV(\n",
    "    evaluate_results,\n",
    "    param_space,\n",
    "    n_iter=20,  # 指定迭代次数\n",
    "    random_state=0  # 随机数生成器的种子\n",
    ")\n",
    "\n",
    "# 运行贝叶斯搜索来找到最佳超参数组合\n",
    "bayes_search.fit(X, y)  # X和y是您的训练数据和标签\n",
    "\n",
    "# 打印最佳超参数组合\n",
    "best_params = bayes_search.best_params_\n",
    "print(\"Best hyperparameters:\", best_params)"
   ]
  }
 ],
 "metadata": {
  "kernelspec": {
   "display_name": "Python 3 (ipykernel)",
   "language": "python",
   "name": "python3"
  },
  "language_info": {
   "codemirror_mode": {
    "name": "ipython",
    "version": 3
   },
   "file_extension": ".py",
   "mimetype": "text/x-python",
   "name": "python",
   "nbconvert_exporter": "python",
   "pygments_lexer": "ipython3",
   "version": "3.10.12"
  }
 },
 "nbformat": 4,
 "nbformat_minor": 5
}
