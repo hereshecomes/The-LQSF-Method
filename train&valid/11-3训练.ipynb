{
 "cells": [
  {
   "cell_type": "code",
   "execution_count": 1,
   "id": "18bee745-2042-42be-b7ec-ba6ea2a808c0",
   "metadata": {
    "execution": {
     "iopub.execute_input": "2023-11-03T13:50:27.596689Z",
     "iopub.status.busy": "2023-11-03T13:50:27.596689Z",
     "iopub.status.idle": "2023-11-03T13:51:01.087959Z",
     "shell.execute_reply": "2023-11-03T13:51:01.087959Z",
     "shell.execute_reply.started": "2023-11-03T13:50:27.596689Z"
    }
   },
   "outputs": [],
   "source": [
    "from lib.jianji.code_csf import csf\n",
    "from lib.model.vgg16_bn import VGG16_BN\n",
    "from lib.model.vgg19_bn import VGG19_BN\n",
    "from lib.jianji.tool import *\n",
    "import torch \n",
    "from torch.utils.data import Dataset\n",
    "from torch import nn\n",
    "from torchsummary import summary\n",
    "from d2l import torch as d2l\n",
    "traindSet = csf(csv_path='original_train_set.pkl', mode='train')\n",
    "trainloader =  torch.utils.data.DataLoader(traindSet, batch_size=256, drop_last=True, shuffle=True)\n",
    "testset = csf(csv_path='test_valid_edited(30000).pkl', mode='valid')\n",
    "testloader = torch.utils.data.DataLoader(testset, batch_size=256, drop_last=True, shuffle=True)  "
   ]
  },
  {
   "cell_type": "code",
   "execution_count": 2,
   "id": "3da37011-638d-4348-873d-8c4b640c6f90",
   "metadata": {
    "execution": {
     "iopub.execute_input": "2023-11-03T13:51:15.953615Z",
     "iopub.status.busy": "2023-11-03T13:51:15.953615Z",
     "iopub.status.idle": "2023-11-03T14:05:39.964602Z",
     "shell.execute_reply": "2023-11-03T14:05:39.964243Z",
     "shell.execute_reply.started": "2023-11-03T13:51:15.953615Z"
    }
   },
   "outputs": [
    {
     "name": "stdout",
     "output_type": "stream",
     "text": [
      "tensor(0.6603, device='cuda:0', grad_fn=<BinaryCrossEntropyBackward0>)\n",
      "tensor(0.6210, device='cuda:0', grad_fn=<BinaryCrossEntropyBackward0>)\n",
      "tensor(0.7023, device='cuda:0', grad_fn=<BinaryCrossEntropyBackward0>)\n",
      "tensor(0.6530, device='cuda:0', grad_fn=<BinaryCrossEntropyBackward0>)\n",
      "tensor(0.6263, device='cuda:0', grad_fn=<BinaryCrossEntropyBackward0>)\n",
      "tensor(0.6075, device='cuda:0', grad_fn=<BinaryCrossEntropyBackward0>)\n",
      "tensor(0.5685, device='cuda:0', grad_fn=<BinaryCrossEntropyBackward0>)\n",
      "tensor(0.5976, device='cuda:0', grad_fn=<BinaryCrossEntropyBackward0>)\n",
      "tensor(0.5834, device='cuda:0', grad_fn=<BinaryCrossEntropyBackward0>)\n",
      "tensor(0.6411, device='cuda:0', grad_fn=<BinaryCrossEntropyBackward0>)\n",
      "tensor(0.5871, device='cuda:0', grad_fn=<BinaryCrossEntropyBackward0>)\n",
      "tensor(0.5942, device='cuda:0', grad_fn=<BinaryCrossEntropyBackward0>)\n",
      "tensor(0.5959, device='cuda:0', grad_fn=<BinaryCrossEntropyBackward0>)\n",
      "tensor(0.5606, device='cuda:0', grad_fn=<BinaryCrossEntropyBackward0>)\n",
      "tensor(0.5967, device='cuda:0', grad_fn=<BinaryCrossEntropyBackward0>)\n",
      "tensor(0.5708, device='cuda:0', grad_fn=<BinaryCrossEntropyBackward0>)\n",
      "tensor(0.5648, device='cuda:0', grad_fn=<BinaryCrossEntropyBackward0>)\n",
      "tensor(0.5440, device='cuda:0', grad_fn=<BinaryCrossEntropyBackward0>)\n",
      "tensor(0.6236, device='cuda:0', grad_fn=<BinaryCrossEntropyBackward0>)\n",
      "tensor(0.5635, device='cuda:0', grad_fn=<BinaryCrossEntropyBackward0>)\n",
      "tensor(0.5725, device='cuda:0', grad_fn=<BinaryCrossEntropyBackward0>)\n",
      "tensor(0.5943, device='cuda:0', grad_fn=<BinaryCrossEntropyBackward0>)\n",
      "tensor(0.5755, device='cuda:0', grad_fn=<BinaryCrossEntropyBackward0>)\n",
      "tensor(0.5668, device='cuda:0', grad_fn=<BinaryCrossEntropyBackward0>)\n",
      "tensor(0.5766, device='cuda:0', grad_fn=<BinaryCrossEntropyBackward0>)\n",
      "tensor(0.5566, device='cuda:0', grad_fn=<BinaryCrossEntropyBackward0>)\n",
      "tensor(0.5532, device='cuda:0', grad_fn=<BinaryCrossEntropyBackward0>)\n",
      "tensor(0.5608, device='cuda:0', grad_fn=<BinaryCrossEntropyBackward0>)\n",
      "tensor(0.6017, device='cuda:0', grad_fn=<BinaryCrossEntropyBackward0>)\n",
      "tensor(0.5877, device='cuda:0', grad_fn=<BinaryCrossEntropyBackward0>)\n",
      "tensor(0.5799, device='cuda:0', grad_fn=<BinaryCrossEntropyBackward0>)\n",
      "tensor(0.5348, device='cuda:0', grad_fn=<BinaryCrossEntropyBackward0>)\n",
      "tensor(0.5357, device='cuda:0', grad_fn=<BinaryCrossEntropyBackward0>)\n",
      "tensor(0.5903, device='cuda:0', grad_fn=<BinaryCrossEntropyBackward0>)\n",
      "tensor(0.5862, device='cuda:0', grad_fn=<BinaryCrossEntropyBackward0>)\n",
      "tensor(0.5959, device='cuda:0', grad_fn=<BinaryCrossEntropyBackward0>)\n",
      "tensor(0.5690, device='cuda:0', grad_fn=<BinaryCrossEntropyBackward0>)\n",
      "tensor(0.5620, device='cuda:0', grad_fn=<BinaryCrossEntropyBackward0>)\n",
      "****************************************************************************************************\n",
      "0.05 0.5761551816239316\n",
      "0.1 0.5785256410256411\n",
      "0.15 0.5805288461538461\n",
      "0.2 0.5821647970085471\n",
      "0.25 0.5844017094017094\n",
      "0.3 0.5858373397435898\n",
      "0.35 0.5883079594017094\n",
      "0.4 0.5909121260683761\n",
      "0.45 0.5938167735042735\n",
      "0.5 0.5935830662393162\n",
      "0.55 0.5872395833333334\n",
      "0.6 0.5588274572649573\n",
      "0.65 0.5138555021367521\n",
      "0.7 0.4984642094017094\n",
      "0.75 0.5001335470085471\n",
      "0.8 0.49996661324786323\n",
      "0.85 0.49993322649572647\n",
      "0.9 0.49989983974358976\n",
      "0.95 0.5001335470085471\n",
      "****************************************************************************************************\n"
     ]
    }
   ],
   "source": [
    "threshold_value_list = [0.05, 0.1 , 0.15, 0.2 , 0.25, 0.3 , 0.35, 0.4 , 0.45, 0.5 , 0.55, 0.6 , 0.65, 0.7 , \n",
    "                        0.75, 0.8 , 0.85, 0.9 , 0.95]\n",
    "net = VGG19_BN()\n",
    "device = d2l.try_gpu()\n",
    "optimizer = torch.optim.SGD(net.parameters(), lr=0.6)\n",
    "loss = nn.BCELoss()\n",
    "train_from_scratch(net, optimizer, loss, 2, trainloader, device)\n",
    "print('**'*50)\n",
    "for j in threshold_value_list:\n",
    "    print(j,evalute_results(net, testloader, j, d2l.try_gpu()))\n",
    "print('**'*50)"
   ]
  },
  {
   "cell_type": "code",
   "execution_count": 3,
   "id": "a297bcc3-9c3b-4595-9326-2d55e9ec6759",
   "metadata": {
    "execution": {
     "iopub.execute_input": "2023-11-03T14:05:59.844313Z",
     "iopub.status.busy": "2023-11-03T14:05:59.844313Z",
     "iopub.status.idle": "2023-11-03T14:13:25.254634Z",
     "shell.execute_reply": "2023-11-03T14:13:25.253764Z",
     "shell.execute_reply.started": "2023-11-03T14:05:59.844313Z"
    }
   },
   "outputs": [
    {
     "name": "stdout",
     "output_type": "stream",
     "text": [
      "tensor(0.5993, device='cuda:0', grad_fn=<BinaryCrossEntropyBackward0>)\n",
      "tensor(0.5571, device='cuda:0', grad_fn=<BinaryCrossEntropyBackward0>)\n",
      "tensor(0.5838, device='cuda:0', grad_fn=<BinaryCrossEntropyBackward0>)\n",
      "tensor(0.5723, device='cuda:0', grad_fn=<BinaryCrossEntropyBackward0>)\n",
      "tensor(0.5263, device='cuda:0', grad_fn=<BinaryCrossEntropyBackward0>)\n",
      "tensor(0.5547, device='cuda:0', grad_fn=<BinaryCrossEntropyBackward0>)\n",
      "tensor(0.5682, device='cuda:0', grad_fn=<BinaryCrossEntropyBackward0>)\n",
      "tensor(0.5334, device='cuda:0', grad_fn=<BinaryCrossEntropyBackward0>)\n",
      "tensor(0.5045, device='cuda:0', grad_fn=<BinaryCrossEntropyBackward0>)\n",
      "tensor(0.5330, device='cuda:0', grad_fn=<BinaryCrossEntropyBackward0>)\n",
      "tensor(0.5182, device='cuda:0', grad_fn=<BinaryCrossEntropyBackward0>)\n",
      "tensor(0.5240, device='cuda:0', grad_fn=<BinaryCrossEntropyBackward0>)\n",
      "tensor(0.5106, device='cuda:0', grad_fn=<BinaryCrossEntropyBackward0>)\n",
      "tensor(0.5232, device='cuda:0', grad_fn=<BinaryCrossEntropyBackward0>)\n",
      "tensor(0.5250, device='cuda:0', grad_fn=<BinaryCrossEntropyBackward0>)\n",
      "tensor(0.5661, device='cuda:0', grad_fn=<BinaryCrossEntropyBackward0>)\n",
      "tensor(0.5391, device='cuda:0', grad_fn=<BinaryCrossEntropyBackward0>)\n",
      "tensor(0.4978, device='cuda:0', grad_fn=<BinaryCrossEntropyBackward0>)\n",
      "tensor(0.5075, device='cuda:0', grad_fn=<BinaryCrossEntropyBackward0>)\n",
      "****************************************************************************************************\n",
      "0.05 0.6293068910256411\n",
      "0.1 0.6367521367521367\n",
      "0.15 0.6397569444444444\n",
      "0.2 0.6420272435897436\n",
      "0.25 0.6441306089743589\n",
      "0.3 0.6458667200854701\n",
      "0.35 0.6461004273504274\n",
      "0.4 0.6456330128205128\n",
      "0.45 0.6407251602564102\n",
      "0.5 0.6350160256410257\n",
      "0.55 0.6204594017094017\n",
      "0.6 0.6014957264957265\n",
      "0.65 0.5780582264957265\n",
      "0.7 0.5531517094017094\n",
      "0.75 0.5314503205128205\n",
      "0.8 0.5148904914529915\n",
      "0.85 0.5042067307692307\n",
      "0.9 0.5007011217948718\n",
      "0.95 0.49989983974358976\n",
      "****************************************************************************************************\n"
     ]
    }
   ],
   "source": [
    "optimizer = torch.optim.SGD(net.parameters(), lr=0.6)\n",
    "continue_train(net, optimizer, loss, 1, trainloader, device)\n",
    "print('**'*50)\n",
    "for j in threshold_value_list:\n",
    "    print(j,evalute_results(net, testloader, j, d2l.try_gpu()))\n",
    "print('**'*50)"
   ]
  },
  {
   "cell_type": "code",
   "execution_count": 4,
   "id": "54504f4f-2474-4082-bfb0-f9dd543d1294",
   "metadata": {
    "execution": {
     "iopub.execute_input": "2023-11-03T14:13:49.898884Z",
     "iopub.status.busy": "2023-11-03T14:13:49.898884Z",
     "iopub.status.idle": "2023-11-03T14:21:20.598133Z",
     "shell.execute_reply": "2023-11-03T14:21:20.598133Z",
     "shell.execute_reply.started": "2023-11-03T14:13:49.898884Z"
    }
   },
   "outputs": [
    {
     "name": "stdout",
     "output_type": "stream",
     "text": [
      "tensor(0.4468, device='cuda:0', grad_fn=<BinaryCrossEntropyBackward0>)\n",
      "tensor(0.4488, device='cuda:0', grad_fn=<BinaryCrossEntropyBackward0>)\n",
      "tensor(0.4233, device='cuda:0', grad_fn=<BinaryCrossEntropyBackward0>)\n",
      "tensor(0.4901, device='cuda:0', grad_fn=<BinaryCrossEntropyBackward0>)\n",
      "tensor(0.3929, device='cuda:0', grad_fn=<BinaryCrossEntropyBackward0>)\n",
      "tensor(0.4830, device='cuda:0', grad_fn=<BinaryCrossEntropyBackward0>)\n",
      "tensor(0.4182, device='cuda:0', grad_fn=<BinaryCrossEntropyBackward0>)\n",
      "tensor(0.4138, device='cuda:0', grad_fn=<BinaryCrossEntropyBackward0>)\n",
      "tensor(0.3865, device='cuda:0', grad_fn=<BinaryCrossEntropyBackward0>)\n",
      "tensor(0.3632, device='cuda:0', grad_fn=<BinaryCrossEntropyBackward0>)\n",
      "tensor(0.4428, device='cuda:0', grad_fn=<BinaryCrossEntropyBackward0>)\n",
      "tensor(0.4302, device='cuda:0', grad_fn=<BinaryCrossEntropyBackward0>)\n",
      "tensor(0.3472, device='cuda:0', grad_fn=<BinaryCrossEntropyBackward0>)\n",
      "tensor(0.3647, device='cuda:0', grad_fn=<BinaryCrossEntropyBackward0>)\n",
      "tensor(0.3430, device='cuda:0', grad_fn=<BinaryCrossEntropyBackward0>)\n",
      "tensor(0.3639, device='cuda:0', grad_fn=<BinaryCrossEntropyBackward0>)\n",
      "tensor(0.3700, device='cuda:0', grad_fn=<BinaryCrossEntropyBackward0>)\n",
      "tensor(0.3767, device='cuda:0', grad_fn=<BinaryCrossEntropyBackward0>)\n",
      "tensor(0.2968, device='cuda:0', grad_fn=<BinaryCrossEntropyBackward0>)\n",
      "****************************************************************************************************\n",
      "0.05 0.6323116987179487\n",
      "0.1 0.6429286858974359\n",
      "0.15 0.6493389423076923\n",
      "0.2 0.6533119658119658\n",
      "0.25 0.6562166132478633\n",
      "0.3 0.6586204594017094\n",
      "0.35 0.6590878739316239\n",
      "0.4 0.66015625\n",
      "0.45 0.6592214209401709\n",
      "0.5 0.6577524038461539\n",
      "0.55 0.6552817841880342\n",
      "0.6 0.6512419871794872\n",
      "0.65 0.6463341346153846\n",
      "0.7 0.6382879273504274\n",
      "0.75 0.6302417200854701\n",
      "0.8 0.6215277777777778\n",
      "0.85 0.6064369658119658\n",
      "0.9 0.5869057158119658\n",
      "0.95 0.5623664529914529\n",
      "****************************************************************************************************\n"
     ]
    }
   ],
   "source": [
    "optimizer = torch.optim.SGD(net.parameters(), lr=0.1)\n",
    "continue_train(net, optimizer, loss, 1, trainloader, device)\n",
    "print('**'*50)\n",
    "for j in threshold_value_list:\n",
    "    print(j,evalute_results(net, testloader, j, d2l.try_gpu()))\n",
    "print('**'*50)"
   ]
  },
  {
   "cell_type": "code",
   "execution_count": 5,
   "id": "171a4930-c049-4a7e-aadd-02f083db1d2f",
   "metadata": {
    "execution": {
     "iopub.execute_input": "2023-11-03T14:21:31.739505Z",
     "iopub.status.busy": "2023-11-03T14:21:31.736496Z",
     "iopub.status.idle": "2023-11-03T14:28:13.401686Z",
     "shell.execute_reply": "2023-11-03T14:28:13.400382Z",
     "shell.execute_reply.started": "2023-11-03T14:21:31.738496Z"
    }
   },
   "outputs": [
    {
     "name": "stdout",
     "output_type": "stream",
     "text": [
      "tensor(0.2713, device='cuda:0', grad_fn=<BinaryCrossEntropyBackward0>)\n",
      "tensor(0.2466, device='cuda:0', grad_fn=<BinaryCrossEntropyBackward0>)\n",
      "tensor(0.2194, device='cuda:0', grad_fn=<BinaryCrossEntropyBackward0>)\n",
      "tensor(0.2377, device='cuda:0', grad_fn=<BinaryCrossEntropyBackward0>)\n",
      "tensor(0.1823, device='cuda:0', grad_fn=<BinaryCrossEntropyBackward0>)\n",
      "tensor(0.2075, device='cuda:0', grad_fn=<BinaryCrossEntropyBackward0>)\n",
      "tensor(0.1757, device='cuda:0', grad_fn=<BinaryCrossEntropyBackward0>)\n",
      "tensor(0.2232, device='cuda:0', grad_fn=<BinaryCrossEntropyBackward0>)\n",
      "tensor(0.1790, device='cuda:0', grad_fn=<BinaryCrossEntropyBackward0>)\n",
      "tensor(0.1736, device='cuda:0', grad_fn=<BinaryCrossEntropyBackward0>)\n",
      "tensor(0.1334, device='cuda:0', grad_fn=<BinaryCrossEntropyBackward0>)\n",
      "tensor(0.0908, device='cuda:0', grad_fn=<BinaryCrossEntropyBackward0>)\n",
      "tensor(0.1777, device='cuda:0', grad_fn=<BinaryCrossEntropyBackward0>)\n",
      "tensor(0.1461, device='cuda:0', grad_fn=<BinaryCrossEntropyBackward0>)\n",
      "tensor(0.1465, device='cuda:0', grad_fn=<BinaryCrossEntropyBackward0>)\n",
      "tensor(0.1274, device='cuda:0', grad_fn=<BinaryCrossEntropyBackward0>)\n",
      "tensor(0.1351, device='cuda:0', grad_fn=<BinaryCrossEntropyBackward0>)\n",
      "tensor(0.1146, device='cuda:0', grad_fn=<BinaryCrossEntropyBackward0>)\n",
      "tensor(0.1046, device='cuda:0', grad_fn=<BinaryCrossEntropyBackward0>)\n",
      "****************************************************************************************************\n",
      "0.05 0.6702724358974359\n",
      "0.1 0.6838274572649573\n",
      "0.15 0.6894698183760684\n",
      "0.2 0.6925413995726496\n",
      "0.25 0.6953125\n",
      "0.3 0.6966813568376068\n",
      "0.35 0.6973157051282052\n",
      "0.4 0.6970152243589743\n",
      "0.45 0.6960136217948718\n",
      "0.5 0.6955128205128205\n",
      "0.55 0.6951121794871795\n",
      "0.6 0.6934094551282052\n",
      "0.65 0.6915397970085471\n",
      "0.7 0.6888020833333334\n",
      "0.75 0.6862646901709402\n",
      "0.8 0.6823584401709402\n",
      "0.85 0.6791866987179487\n",
      "0.9 0.6718416132478633\n",
      "0.95 0.6587540064102564\n",
      "****************************************************************************************************\n"
     ]
    }
   ],
   "source": [
    "optimizer = torch.optim.SGD(net.parameters(), lr=0.1)\n",
    "continue_train(net, optimizer, loss, 1, trainloader, device)\n",
    "print('**'*50)\n",
    "for j in threshold_value_list:\n",
    "    print(j,evalute_results(net, testloader, j, d2l.try_gpu()))\n",
    "print('**'*50)"
   ]
  },
  {
   "cell_type": "code",
   "execution_count": 6,
   "id": "84c8b078-7453-40df-a758-235467f16588",
   "metadata": {
    "execution": {
     "iopub.execute_input": "2023-11-03T14:29:10.550535Z",
     "iopub.status.busy": "2023-11-03T14:29:10.550535Z",
     "iopub.status.idle": "2023-11-03T14:35:18.570616Z",
     "shell.execute_reply": "2023-11-03T14:35:18.570616Z",
     "shell.execute_reply.started": "2023-11-03T14:29:10.550535Z"
    }
   },
   "outputs": [
    {
     "name": "stdout",
     "output_type": "stream",
     "text": [
      "tensor(0.2024, device='cuda:0', grad_fn=<BinaryCrossEntropyBackward0>)\n",
      "tensor(0.1172, device='cuda:0', grad_fn=<BinaryCrossEntropyBackward0>)\n",
      "tensor(0.1198, device='cuda:0', grad_fn=<BinaryCrossEntropyBackward0>)\n",
      "tensor(0.1330, device='cuda:0', grad_fn=<BinaryCrossEntropyBackward0>)\n",
      "tensor(0.0586, device='cuda:0', grad_fn=<BinaryCrossEntropyBackward0>)\n",
      "tensor(0.0987, device='cuda:0', grad_fn=<BinaryCrossEntropyBackward0>)\n",
      "tensor(0.1157, device='cuda:0', grad_fn=<BinaryCrossEntropyBackward0>)\n",
      "tensor(0.1139, device='cuda:0', grad_fn=<BinaryCrossEntropyBackward0>)\n",
      "tensor(0.1065, device='cuda:0', grad_fn=<BinaryCrossEntropyBackward0>)\n",
      "tensor(0.0683, device='cuda:0', grad_fn=<BinaryCrossEntropyBackward0>)\n",
      "tensor(0.1104, device='cuda:0', grad_fn=<BinaryCrossEntropyBackward0>)\n",
      "tensor(0.0860, device='cuda:0', grad_fn=<BinaryCrossEntropyBackward0>)\n",
      "tensor(0.0740, device='cuda:0', grad_fn=<BinaryCrossEntropyBackward0>)\n",
      "tensor(0.1340, device='cuda:0', grad_fn=<BinaryCrossEntropyBackward0>)\n",
      "tensor(0.0899, device='cuda:0', grad_fn=<BinaryCrossEntropyBackward0>)\n",
      "tensor(0.0870, device='cuda:0', grad_fn=<BinaryCrossEntropyBackward0>)\n",
      "tensor(0.0781, device='cuda:0', grad_fn=<BinaryCrossEntropyBackward0>)\n",
      "tensor(0.0877, device='cuda:0', grad_fn=<BinaryCrossEntropyBackward0>)\n",
      "tensor(0.1022, device='cuda:0', grad_fn=<BinaryCrossEntropyBackward0>)\n",
      "****************************************************************************************************\n",
      "0.05 0.6884348290598291\n",
      "0.1 0.6980168269230769\n",
      "0.15 0.7017895299145299\n",
      "0.2 0.7027243589743589\n",
      "0.25 0.7030916132478633\n",
      "0.3 0.7029580662393162\n",
      "0.35 0.7026241987179487\n",
      "0.4 0.7026241987179487\n",
      "0.45 0.7017895299145299\n",
      "0.5 0.7007879273504274\n",
      "0.55 0.700020032051282\n",
      "0.6 0.6997863247863247\n",
      "0.65 0.6984508547008547\n",
      "0.7 0.6968816773504274\n",
      "0.75 0.694778311965812\n",
      "0.8 0.6920405982905983\n",
      "0.85 0.6882011217948718\n",
      "0.9 0.6828926282051282\n",
      "0.95 0.6754473824786325\n",
      "****************************************************************************************************\n"
     ]
    }
   ],
   "source": [
    "optimizer = torch.optim.SGD(net.parameters(), lr=0.01)\n",
    "continue_train(net, optimizer, loss, 1, trainloader, device)\n",
    "print('**'*50)\n",
    "for j in threshold_value_list:\n",
    "    print(j,evalute_results(net, testloader, j, d2l.try_gpu()))\n",
    "print('**'*50)"
   ]
  },
  {
   "cell_type": "code",
   "execution_count": null,
   "id": "34df67d5-92b0-4453-9bc1-923b1690bf4c",
   "metadata": {},
   "outputs": [],
   "source": []
  }
 ],
 "metadata": {
  "kernelspec": {
   "display_name": "Python 3 (ipykernel)",
   "language": "python",
   "name": "python3"
  },
  "language_info": {
   "codemirror_mode": {
    "name": "ipython",
    "version": 3
   },
   "file_extension": ".py",
   "mimetype": "text/x-python",
   "name": "python",
   "nbconvert_exporter": "python",
   "pygments_lexer": "ipython3",
   "version": "3.10.12"
  }
 },
 "nbformat": 4,
 "nbformat_minor": 5
}
