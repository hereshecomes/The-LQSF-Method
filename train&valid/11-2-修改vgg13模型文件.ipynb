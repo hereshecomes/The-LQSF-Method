{
 "cells": [
  {
   "cell_type": "code",
   "execution_count": 1,
   "id": "74035ff4-cc13-4bfa-b551-d6af6e49eddc",
   "metadata": {
    "execution": {
     "iopub.execute_input": "2023-11-03T13:01:37.841031Z",
     "iopub.status.busy": "2023-11-03T13:01:37.841031Z",
     "iopub.status.idle": "2023-11-03T13:01:39.474466Z",
     "shell.execute_reply": "2023-11-03T13:01:39.474003Z",
     "shell.execute_reply.started": "2023-11-03T13:01:37.841031Z"
    }
   },
   "outputs": [],
   "source": [
    "import torch\n",
    "import torchvision\n",
    "from torchvision import models\n",
    "from torch import nn"
   ]
  },
  {
   "cell_type": "code",
   "execution_count": 14,
   "id": "ab6bc418-630f-46b7-809f-231c8e39383b",
   "metadata": {
    "execution": {
     "iopub.execute_input": "2023-11-02T13:54:34.556040Z",
     "iopub.status.busy": "2023-11-02T13:54:34.554994Z",
     "iopub.status.idle": "2023-11-02T13:54:34.559246Z",
     "shell.execute_reply": "2023-11-02T13:54:34.559191Z",
     "shell.execute_reply.started": "2023-11-02T13:54:34.556040Z"
    }
   },
   "outputs": [],
   "source": [
    "import os\n",
    "os.environ['TORCH_HOME']='E:\\workspace\\essay\\chest_image_classification\\dataset\\CheXpert-v1.0-small\\Models_use'"
   ]
  },
  {
   "cell_type": "code",
   "execution_count": 4,
   "id": "7e3fa9e4-c1be-4592-a296-6cf13df8a27a",
   "metadata": {
    "execution": {
     "iopub.execute_input": "2023-11-02T12:55:08.156378Z",
     "iopub.status.busy": "2023-11-02T12:55:08.156378Z",
     "iopub.status.idle": "2023-11-02T12:55:08.827859Z",
     "shell.execute_reply": "2023-11-02T12:55:08.827859Z",
     "shell.execute_reply.started": "2023-11-02T12:55:08.156378Z"
    }
   },
   "outputs": [
    {
     "name": "stderr",
     "output_type": "stream",
     "text": [
      "C:\\Users\\jiang su\\.conda\\envs\\pytorch\\lib\\site-packages\\torchvision\\models\\_utils.py:208: UserWarning: The parameter 'pretrained' is deprecated since 0.13 and may be removed in the future, please use 'weights' instead.\n",
      "  warnings.warn(\n",
      "C:\\Users\\jiang su\\.conda\\envs\\pytorch\\lib\\site-packages\\torchvision\\models\\_utils.py:223: UserWarning: Arguments other than a weight enum or `None` for 'weights' are deprecated since 0.13 and may be removed in the future. The current behavior is equivalent to passing `weights=VGG13_BN_Weights.IMAGENET1K_V1`. You can also use `weights=VGG13_BN_Weights.DEFAULT` to get the most up-to-date weights.\n",
      "  warnings.warn(msg)\n"
     ]
    }
   ],
   "source": [
    "net = models.vgg13_bn(pretrained = True)"
   ]
  },
  {
   "cell_type": "code",
   "execution_count": 5,
   "id": "fe5d52bb-8b8b-4eb8-94b1-1052967c4718",
   "metadata": {
    "execution": {
     "iopub.execute_input": "2023-11-02T12:55:14.130691Z",
     "iopub.status.busy": "2023-11-02T12:55:14.130691Z",
     "iopub.status.idle": "2023-11-02T12:55:14.145979Z",
     "shell.execute_reply": "2023-11-02T12:55:14.145807Z",
     "shell.execute_reply.started": "2023-11-02T12:55:14.130691Z"
    }
   },
   "outputs": [
    {
     "data": {
      "text/plain": [
       "VGG(\n",
       "  (features): Sequential(\n",
       "    (0): Conv2d(3, 64, kernel_size=(3, 3), stride=(1, 1), padding=(1, 1))\n",
       "    (1): BatchNorm2d(64, eps=1e-05, momentum=0.1, affine=True, track_running_stats=True)\n",
       "    (2): ReLU(inplace=True)\n",
       "    (3): Conv2d(64, 64, kernel_size=(3, 3), stride=(1, 1), padding=(1, 1))\n",
       "    (4): BatchNorm2d(64, eps=1e-05, momentum=0.1, affine=True, track_running_stats=True)\n",
       "    (5): ReLU(inplace=True)\n",
       "    (6): MaxPool2d(kernel_size=2, stride=2, padding=0, dilation=1, ceil_mode=False)\n",
       "    (7): Conv2d(64, 128, kernel_size=(3, 3), stride=(1, 1), padding=(1, 1))\n",
       "    (8): BatchNorm2d(128, eps=1e-05, momentum=0.1, affine=True, track_running_stats=True)\n",
       "    (9): ReLU(inplace=True)\n",
       "    (10): Conv2d(128, 128, kernel_size=(3, 3), stride=(1, 1), padding=(1, 1))\n",
       "    (11): BatchNorm2d(128, eps=1e-05, momentum=0.1, affine=True, track_running_stats=True)\n",
       "    (12): ReLU(inplace=True)\n",
       "    (13): MaxPool2d(kernel_size=2, stride=2, padding=0, dilation=1, ceil_mode=False)\n",
       "    (14): Conv2d(128, 256, kernel_size=(3, 3), stride=(1, 1), padding=(1, 1))\n",
       "    (15): BatchNorm2d(256, eps=1e-05, momentum=0.1, affine=True, track_running_stats=True)\n",
       "    (16): ReLU(inplace=True)\n",
       "    (17): Conv2d(256, 256, kernel_size=(3, 3), stride=(1, 1), padding=(1, 1))\n",
       "    (18): BatchNorm2d(256, eps=1e-05, momentum=0.1, affine=True, track_running_stats=True)\n",
       "    (19): ReLU(inplace=True)\n",
       "    (20): MaxPool2d(kernel_size=2, stride=2, padding=0, dilation=1, ceil_mode=False)\n",
       "    (21): Conv2d(256, 512, kernel_size=(3, 3), stride=(1, 1), padding=(1, 1))\n",
       "    (22): BatchNorm2d(512, eps=1e-05, momentum=0.1, affine=True, track_running_stats=True)\n",
       "    (23): ReLU(inplace=True)\n",
       "    (24): Conv2d(512, 512, kernel_size=(3, 3), stride=(1, 1), padding=(1, 1))\n",
       "    (25): BatchNorm2d(512, eps=1e-05, momentum=0.1, affine=True, track_running_stats=True)\n",
       "    (26): ReLU(inplace=True)\n",
       "    (27): MaxPool2d(kernel_size=2, stride=2, padding=0, dilation=1, ceil_mode=False)\n",
       "    (28): Conv2d(512, 512, kernel_size=(3, 3), stride=(1, 1), padding=(1, 1))\n",
       "    (29): BatchNorm2d(512, eps=1e-05, momentum=0.1, affine=True, track_running_stats=True)\n",
       "    (30): ReLU(inplace=True)\n",
       "    (31): Conv2d(512, 512, kernel_size=(3, 3), stride=(1, 1), padding=(1, 1))\n",
       "    (32): BatchNorm2d(512, eps=1e-05, momentum=0.1, affine=True, track_running_stats=True)\n",
       "    (33): ReLU(inplace=True)\n",
       "    (34): MaxPool2d(kernel_size=2, stride=2, padding=0, dilation=1, ceil_mode=False)\n",
       "  )\n",
       "  (avgpool): AdaptiveAvgPool2d(output_size=(7, 7))\n",
       "  (classifier): Sequential(\n",
       "    (0): Linear(in_features=25088, out_features=4096, bias=True)\n",
       "    (1): ReLU(inplace=True)\n",
       "    (2): Dropout(p=0.5, inplace=False)\n",
       "    (3): Linear(in_features=4096, out_features=4096, bias=True)\n",
       "    (4): ReLU(inplace=True)\n",
       "    (5): Dropout(p=0.5, inplace=False)\n",
       "    (6): Linear(in_features=4096, out_features=1000, bias=True)\n",
       "  )\n",
       ")"
      ]
     },
     "execution_count": 5,
     "metadata": {},
     "output_type": "execute_result"
    }
   ],
   "source": []
  },
  {
   "cell_type": "code",
   "execution_count": 7,
   "id": "17cd2ace-3b0c-4987-99f4-aab030aaaed9",
   "metadata": {
    "execution": {
     "iopub.execute_input": "2023-11-02T13:58:04.726608Z",
     "iopub.status.busy": "2023-11-02T13:58:04.726608Z",
     "iopub.status.idle": "2023-11-02T13:58:04.760293Z",
     "shell.execute_reply": "2023-11-02T13:58:04.760293Z",
     "shell.execute_reply.started": "2023-11-02T13:58:04.726608Z"
    }
   },
   "outputs": [],
   "source": [
    "net = nn.Sequential(\n",
    "nn.Conv2d(1, 64, kernel_size=(1, 3), stride=1),\n",
    "            nn.BatchNorm2d(64, eps=1e-05, momentum=0.1, affine=True, track_running_stats=True),\n",
    "            nn.ReLU(inplace=True),\n",
    "            nn.Conv2d(64, 64, kernel_size=(1, 3), stride=1),\n",
    "            nn.BatchNorm2d(64, eps=1e-05, momentum=0.1, affine=True, track_running_stats=True),\n",
    "            nn.ReLU(inplace=True),\n",
    "            nn.MaxPool2d(kernel_size=(1, 2), stride=2, dilation=1, ceil_mode=False),\n",
    "            nn.Conv2d(64, 128, kernel_size=(1, 3), stride=1),\n",
    "            nn.BatchNorm2d(128, eps=1e-05, momentum=0.1, affine=True, track_running_stats=True),\n",
    "            nn.ReLU(inplace=True),\n",
    "            nn.Conv2d(128, 128, kernel_size=(1, 3), stride=1),\n",
    "            nn.BatchNorm2d(128, eps=1e-05, momentum=0.1, affine=True, track_running_stats=True),\n",
    "            nn.ReLU(inplace=True),\n",
    "            nn.MaxPool2d(kernel_size=(1, 2), stride=2,dilation=1, ceil_mode=False),\n",
    "            nn.Conv2d(128, 256, kernel_size=(1, 3), stride=1),\n",
    "            nn.BatchNorm2d(256, eps=1e-05, momentum=0.1, affine=True, track_running_stats=True),\n",
    "            nn.ReLU(inplace=True),\n",
    "            nn.Conv2d(256, 256, kernel_size=(1, 3), stride=1),\n",
    "            nn.BatchNorm2d(256, eps=1e-05, momentum=0.1, affine=True, track_running_stats=True),\n",
    "            nn.ReLU(inplace=True),\n",
    "            nn.MaxPool2d(kernel_size=(1, 2), stride=2, padding=0, dilation=1, ceil_mode=False),\n",
    "            nn.Conv2d(256, 512, kernel_size=(1, 3), stride=1 ),\n",
    "            nn.BatchNorm2d(512, eps=1e-05, momentum=0.1, affine=True, track_running_stats=True),\n",
    "            nn.ReLU(inplace=True),\n",
    "            nn.Conv2d(512, 512, kernel_size=(1, 3), stride=1 ),\n",
    "            nn.BatchNorm2d(512, eps=1e-05, momentum=0.1, affine=True, track_running_stats=True),\n",
    "            nn.ReLU(inplace=True),\n",
    "            nn.MaxPool2d(kernel_size=(1, 2), stride=2, padding=0, dilation=1, ceil_mode=False),\n",
    "            nn.Conv2d(512, 512, kernel_size=(1, 3), stride=1),\n",
    "            nn.BatchNorm2d(512, eps=1e-05, momentum=0.1, affine=True, track_running_stats=True),\n",
    "            nn.ReLU(inplace=True),\n",
    "            nn.Conv2d(512, 512, kernel_size=(1, 3), stride=1),\n",
    "            nn.BatchNorm2d(512, eps=1e-05, momentum=0.1, affine=True, track_running_stats=True),\n",
    "            nn.ReLU(inplace=True)\n",
    "        )"
   ]
  },
  {
   "cell_type": "code",
   "execution_count": 2,
   "id": "d3c679cc-8e18-4ba5-a82a-d6f28b1c3da5",
   "metadata": {
    "execution": {
     "iopub.execute_input": "2023-11-02T14:03:09.140852Z",
     "iopub.status.busy": "2023-11-02T14:03:09.140852Z",
     "iopub.status.idle": "2023-11-02T14:03:09.151640Z",
     "shell.execute_reply": "2023-11-02T14:03:09.151537Z",
     "shell.execute_reply.started": "2023-11-02T14:03:09.140852Z"
    }
   },
   "outputs": [],
   "source": [
    "from torchsummary import summary"
   ]
  },
  {
   "cell_type": "code",
   "execution_count": 8,
   "id": "de9b9916-477e-468a-b9cd-6a535dc4d5b9",
   "metadata": {
    "execution": {
     "iopub.execute_input": "2023-11-02T13:58:08.305924Z",
     "iopub.status.busy": "2023-11-02T13:58:08.305924Z",
     "iopub.status.idle": "2023-11-02T13:58:08.328767Z",
     "shell.execute_reply": "2023-11-02T13:58:08.328767Z",
     "shell.execute_reply.started": "2023-11-02T13:58:08.305924Z"
    }
   },
   "outputs": [
    {
     "name": "stdout",
     "output_type": "stream",
     "text": [
      "----------------------------------------------------------------\n",
      "        Layer (type)               Output Shape         Param #\n",
      "================================================================\n",
      "            Conv2d-1          [256, 64, 1, 150]             256\n",
      "       BatchNorm2d-2          [256, 64, 1, 150]             128\n",
      "              ReLU-3          [256, 64, 1, 150]               0\n",
      "            Conv2d-4          [256, 64, 1, 148]          12,352\n",
      "       BatchNorm2d-5          [256, 64, 1, 148]             128\n",
      "              ReLU-6          [256, 64, 1, 148]               0\n",
      "         MaxPool2d-7           [256, 64, 1, 74]               0\n",
      "            Conv2d-8          [256, 128, 1, 72]          24,704\n",
      "       BatchNorm2d-9          [256, 128, 1, 72]             256\n",
      "             ReLU-10          [256, 128, 1, 72]               0\n",
      "           Conv2d-11          [256, 128, 1, 70]          49,280\n",
      "      BatchNorm2d-12          [256, 128, 1, 70]             256\n",
      "             ReLU-13          [256, 128, 1, 70]               0\n",
      "        MaxPool2d-14          [256, 128, 1, 35]               0\n",
      "           Conv2d-15          [256, 256, 1, 33]          98,560\n",
      "      BatchNorm2d-16          [256, 256, 1, 33]             512\n",
      "             ReLU-17          [256, 256, 1, 33]               0\n",
      "           Conv2d-18          [256, 256, 1, 31]         196,864\n",
      "      BatchNorm2d-19          [256, 256, 1, 31]             512\n",
      "             ReLU-20          [256, 256, 1, 31]               0\n",
      "        MaxPool2d-21          [256, 256, 1, 15]               0\n",
      "           Conv2d-22          [256, 512, 1, 13]         393,728\n",
      "      BatchNorm2d-23          [256, 512, 1, 13]           1,024\n",
      "             ReLU-24          [256, 512, 1, 13]               0\n",
      "           Conv2d-25          [256, 512, 1, 11]         786,944\n",
      "      BatchNorm2d-26          [256, 512, 1, 11]           1,024\n",
      "             ReLU-27          [256, 512, 1, 11]               0\n",
      "        MaxPool2d-28           [256, 512, 1, 5]               0\n",
      "           Conv2d-29           [256, 512, 1, 3]         786,944\n",
      "      BatchNorm2d-30           [256, 512, 1, 3]           1,024\n",
      "             ReLU-31           [256, 512, 1, 3]               0\n",
      "           Conv2d-32           [256, 512, 1, 1]         786,944\n",
      "      BatchNorm2d-33           [256, 512, 1, 1]           1,024\n",
      "             ReLU-34           [256, 512, 1, 1]               0\n",
      "================================================================\n",
      "Total params: 3,142,464\n",
      "Trainable params: 3,142,464\n",
      "Non-trainable params: 0\n",
      "----------------------------------------------------------------\n",
      "Input size (MB): 0.15\n",
      "Forward/backward pass size (MB): 428.75\n",
      "Params size (MB): 11.99\n",
      "Estimated Total Size (MB): 440.89\n",
      "----------------------------------------------------------------\n"
     ]
    }
   ],
   "source": [
    "summary(net, (1, 1, 152), 256, device = 'cpu')"
   ]
  },
  {
   "cell_type": "code",
   "execution_count": 5,
   "id": "83d9e541-82db-4f91-a4e2-854a2e9bc0ab",
   "metadata": {
    "execution": {
     "iopub.execute_input": "2023-11-02T13:55:01.212470Z",
     "iopub.status.busy": "2023-11-02T13:55:01.212470Z",
     "iopub.status.idle": "2023-11-02T13:55:01.225476Z",
     "shell.execute_reply": "2023-11-02T13:55:01.225426Z",
     "shell.execute_reply.started": "2023-11-02T13:55:01.212470Z"
    }
   },
   "outputs": [
    {
     "data": {
      "text/plain": [
       "Sequential(\n",
       "  (0): Conv2d(1, 64, kernel_size=(1, 3), stride=(1, 1))\n",
       "  (1): BatchNorm2d(64, eps=1e-05, momentum=0.1, affine=True, track_running_stats=True)\n",
       "  (2): ReLU(inplace=True)\n",
       "  (3): Conv2d(64, 64, kernel_size=(1, 3), stride=(1, 1))\n",
       "  (4): BatchNorm2d(64, eps=1e-05, momentum=0.1, affine=True, track_running_stats=True)\n",
       "  (5): ReLU(inplace=True)\n",
       "  (6): MaxPool2d(kernel_size=(1, 2), stride=2, padding=0, dilation=1, ceil_mode=False)\n",
       "  (7): Conv2d(64, 128, kernel_size=(1, 3), stride=(1, 1))\n",
       "  (8): BatchNorm2d(128, eps=1e-05, momentum=0.1, affine=True, track_running_stats=True)\n",
       "  (9): ReLU(inplace=True)\n",
       "  (10): Conv2d(128, 128, kernel_size=(1, 3), stride=(1, 1))\n",
       "  (11): BatchNorm2d(128, eps=1e-05, momentum=0.1, affine=True, track_running_stats=True)\n",
       "  (12): ReLU(inplace=True)\n",
       "  (13): MaxPool2d(kernel_size=(1, 2), stride=2, padding=0, dilation=1, ceil_mode=False)\n",
       "  (14): Conv2d(128, 256, kernel_size=(1, 3), stride=(1, 1))\n",
       "  (15): BatchNorm2d(256, eps=1e-05, momentum=0.1, affine=True, track_running_stats=True)\n",
       "  (16): ReLU(inplace=True)\n",
       "  (17): Conv2d(256, 256, kernel_size=(1, 3), stride=(1, 1))\n",
       "  (18): BatchNorm2d(256, eps=1e-05, momentum=0.1, affine=True, track_running_stats=True)\n",
       "  (19): ReLU(inplace=True)\n",
       "  (20): MaxPool2d(kernel_size=(1, 2), stride=2, padding=0, dilation=1, ceil_mode=False)\n",
       "  (21): Conv2d(256, 512, kernel_size=(1, 3), stride=(1, 1))\n",
       "  (22): BatchNorm2d(512, eps=1e-05, momentum=0.1, affine=True, track_running_stats=True)\n",
       "  (23): ReLU(inplace=True)\n",
       "  (24): Conv2d(512, 512, kernel_size=(1, 3), stride=(1, 1))\n",
       "  (25): BatchNorm2d(512, eps=1e-05, momentum=0.1, affine=True, track_running_stats=True)\n",
       "  (26): ReLU(inplace=True)\n",
       "  (27): MaxPool2d(kernel_size=(1, 2), stride=2, padding=0, dilation=1, ceil_mode=False)\n",
       "  (28): Conv2d(512, 512, kernel_size=(1, 3), stride=(1, 1))\n",
       "  (29): BatchNorm2d(512, eps=1e-05, momentum=0.1, affine=True, track_running_stats=True)\n",
       "  (30): ReLU(inplace=True)\n",
       "  (31): Conv2d(512, 512, kernel_size=(1, 3), stride=(1, 1))\n",
       "  (32): BatchNorm2d(512, eps=1e-05, momentum=0.1, affine=True, track_running_stats=True)\n",
       "  (33): ReLU(inplace=True)\n",
       "  (34): MaxPool2d(kernel_size=(1, 2), stride=2, padding=0, dilation=1, ceil_mode=False)\n",
       ")"
      ]
     },
     "execution_count": 5,
     "metadata": {},
     "output_type": "execute_result"
    }
   ],
   "source": [
    "net"
   ]
  },
  {
   "cell_type": "code",
   "execution_count": null,
   "id": "e2fbecd1-64b5-4f9c-a7dd-a1c5ccc26c43",
   "metadata": {},
   "outputs": [],
   "source": [
    "X = torch.rand(size=(256, 1, 1, 152), dtype=torch.float32)\n",
    "for layer in net:\n",
    "    X = layer(X)\n",
    "    print(layer.__class__.__name__,'output shape: \\t',X.shape)"
   ]
  },
  {
   "cell_type": "code",
   "execution_count": 24,
   "id": "8c279861-3da6-4548-8555-0c263800e25c",
   "metadata": {
    "execution": {
     "iopub.execute_input": "2023-11-02T14:14:55.171433Z",
     "iopub.status.busy": "2023-11-02T14:14:55.171433Z",
     "iopub.status.idle": "2023-11-02T14:14:55.179527Z",
     "shell.execute_reply": "2023-11-02T14:14:55.179527Z",
     "shell.execute_reply.started": "2023-11-02T14:14:55.171433Z"
    }
   },
   "outputs": [],
   "source": [
    "class VGG13_BN(nn.Module):\n",
    "    def __init__(self, num_classes: int = 1, dropout: float = 0.5) -> None:\n",
    "        super().__init__()\n",
    "        self.features = nn.Sequential(\n",
    "            nn.Conv2d(1, 64, kernel_size=(1, 3), stride=1),\n",
    "            nn.BatchNorm2d(64, eps=1e-05, momentum=0.1, affine=True, track_running_stats=True),\n",
    "            nn.ReLU(inplace=True),\n",
    "            nn.Conv2d(64, 64, kernel_size=(1, 3), stride=1),\n",
    "            nn.BatchNorm2d(64, eps=1e-05, momentum=0.1, affine=True, track_running_stats=True),\n",
    "            nn.ReLU(inplace=True),\n",
    "            nn.MaxPool2d(kernel_size=(1, 2), stride=2, dilation=1, ceil_mode=False),\n",
    "            nn.Conv2d(64, 128, kernel_size=(1, 3), stride=1),\n",
    "            nn.BatchNorm2d(128, eps=1e-05, momentum=0.1, affine=True, track_running_stats=True),\n",
    "            nn.ReLU(inplace=True),\n",
    "            nn.Conv2d(128, 128, kernel_size=(1, 3), stride=1),\n",
    "            nn.BatchNorm2d(128, eps=1e-05, momentum=0.1, affine=True, track_running_stats=True),\n",
    "            nn.ReLU(inplace=True),\n",
    "            nn.MaxPool2d(kernel_size=(1, 2), stride=2,dilation=1, ceil_mode=False),\n",
    "            nn.Conv2d(128, 256, kernel_size=(1, 3), stride=1),\n",
    "            nn.BatchNorm2d(256, eps=1e-05, momentum=0.1, affine=True, track_running_stats=True),\n",
    "            nn.ReLU(inplace=True),\n",
    "            nn.Conv2d(256, 256, kernel_size=(1, 3), stride=1),\n",
    "            nn.BatchNorm2d(256, eps=1e-05, momentum=0.1, affine=True, track_running_stats=True),\n",
    "            nn.ReLU(inplace=True),\n",
    "            nn.MaxPool2d(kernel_size=(1, 2), stride=2, padding=0, dilation=1, ceil_mode=False),\n",
    "            nn.Conv2d(256, 512, kernel_size=(1, 3), stride=1 ),\n",
    "            nn.BatchNorm2d(512, eps=1e-05, momentum=0.1, affine=True, track_running_stats=True),\n",
    "            nn.ReLU(inplace=True),\n",
    "            nn.Conv2d(512, 512, kernel_size=(1, 3), stride=1 ),\n",
    "            nn.BatchNorm2d(512, eps=1e-05, momentum=0.1, affine=True, track_running_stats=True),\n",
    "            nn.ReLU(inplace=True),\n",
    "            # nn.MaxPool2d(kernel_size=(1, 2), stride=2, padding=0, dilation=1, ceil_mode=False),\n",
    "            nn.Conv2d(512, 512, kernel_size=(1, 3), stride=1),\n",
    "            nn.BatchNorm2d(512, eps=1e-05, momentum=0.1, affine=True, track_running_stats=True),\n",
    "            nn.ReLU(inplace=True),\n",
    "            nn.Conv2d(512, 512, kernel_size=(1, 3), stride=1),\n",
    "            nn.BatchNorm2d(512, eps=1e-05, momentum=0.1, affine=True, track_running_stats=True),\n",
    "            nn.ReLU(inplace=True)\n",
    "        )\n",
    "        \n",
    "        self.classifier = nn.Sequential(\n",
    "            nn.Linear(512*1*7, 2048), nn.ReLU(), ### 这边需要改，输入的大小\n",
    "            nn.BatchNorm1d(2048),\n",
    "            # nn.Dropout(p=0.5),\n",
    "            nn.Linear(2048, 1024), nn.ReLU(),\n",
    "            nn.BatchNorm1d(1024),\n",
    "            # nn.Dropout(p=dropout),\n",
    "            nn.Linear(1024, 512), nn.ReLU(),\n",
    "            nn.BatchNorm1d(512),\n",
    "            # nn.Dropout(p=dropout),\n",
    "            # nn.Linear(512, 256), nn.ReLU(),\n",
    "            nn.Linear(512, 64), nn.ReLU(),\n",
    "            nn.BatchNorm1d(64),\n",
    "            # nn.Linear(64, 16), nn.ReLU(),\n",
    "            nn.Linear(64, num_classes), nn.Sigmoid()\n",
    "        )\n",
    "\n",
    "    def forward(self, x: torch.Tensor) -> torch.Tensor:\n",
    "        x = self.features(x)\n",
    "        x = torch.flatten(x, 1)\n",
    "        x = self.classifier(x)\n",
    "        return x"
   ]
  },
  {
   "cell_type": "code",
   "execution_count": 25,
   "id": "3e61ceea-30db-4a76-a5d5-38e46728d151",
   "metadata": {
    "execution": {
     "iopub.execute_input": "2023-11-02T14:14:55.562857Z",
     "iopub.status.busy": "2023-11-02T14:14:55.561818Z",
     "iopub.status.idle": "2023-11-02T14:14:55.611814Z",
     "shell.execute_reply": "2023-11-02T14:14:55.611485Z",
     "shell.execute_reply.started": "2023-11-02T14:14:55.562857Z"
    }
   },
   "outputs": [],
   "source": [
    "net = VGG13_BN()"
   ]
  },
  {
   "cell_type": "code",
   "execution_count": 26,
   "id": "f6c5d3a8-5885-4973-a6c8-9fd8525e989b",
   "metadata": {
    "execution": {
     "iopub.execute_input": "2023-11-02T14:14:56.063009Z",
     "iopub.status.busy": "2023-11-02T14:14:56.063009Z",
     "iopub.status.idle": "2023-11-02T14:14:56.097438Z",
     "shell.execute_reply": "2023-11-02T14:14:56.097438Z",
     "shell.execute_reply.started": "2023-11-02T14:14:56.063009Z"
    }
   },
   "outputs": [
    {
     "name": "stdout",
     "output_type": "stream",
     "text": [
      "----------------------------------------------------------------\n",
      "        Layer (type)               Output Shape         Param #\n",
      "================================================================\n",
      "            Conv2d-1          [256, 64, 1, 150]             256\n",
      "       BatchNorm2d-2          [256, 64, 1, 150]             128\n",
      "              ReLU-3          [256, 64, 1, 150]               0\n",
      "            Conv2d-4          [256, 64, 1, 148]          12,352\n",
      "       BatchNorm2d-5          [256, 64, 1, 148]             128\n",
      "              ReLU-6          [256, 64, 1, 148]               0\n",
      "         MaxPool2d-7           [256, 64, 1, 74]               0\n",
      "            Conv2d-8          [256, 128, 1, 72]          24,704\n",
      "       BatchNorm2d-9          [256, 128, 1, 72]             256\n",
      "             ReLU-10          [256, 128, 1, 72]               0\n",
      "           Conv2d-11          [256, 128, 1, 70]          49,280\n",
      "      BatchNorm2d-12          [256, 128, 1, 70]             256\n",
      "             ReLU-13          [256, 128, 1, 70]               0\n",
      "        MaxPool2d-14          [256, 128, 1, 35]               0\n",
      "           Conv2d-15          [256, 256, 1, 33]          98,560\n",
      "      BatchNorm2d-16          [256, 256, 1, 33]             512\n",
      "             ReLU-17          [256, 256, 1, 33]               0\n",
      "           Conv2d-18          [256, 256, 1, 31]         196,864\n",
      "      BatchNorm2d-19          [256, 256, 1, 31]             512\n",
      "             ReLU-20          [256, 256, 1, 31]               0\n",
      "        MaxPool2d-21          [256, 256, 1, 15]               0\n",
      "           Conv2d-22          [256, 512, 1, 13]         393,728\n",
      "      BatchNorm2d-23          [256, 512, 1, 13]           1,024\n",
      "             ReLU-24          [256, 512, 1, 13]               0\n",
      "           Conv2d-25          [256, 512, 1, 11]         786,944\n",
      "      BatchNorm2d-26          [256, 512, 1, 11]           1,024\n",
      "             ReLU-27          [256, 512, 1, 11]               0\n",
      "           Conv2d-28           [256, 512, 1, 9]         786,944\n",
      "      BatchNorm2d-29           [256, 512, 1, 9]           1,024\n",
      "             ReLU-30           [256, 512, 1, 9]               0\n",
      "           Conv2d-31           [256, 512, 1, 7]         786,944\n",
      "      BatchNorm2d-32           [256, 512, 1, 7]           1,024\n",
      "             ReLU-33           [256, 512, 1, 7]               0\n",
      "           Linear-34                [256, 2048]       7,342,080\n",
      "             ReLU-35                [256, 2048]               0\n",
      "      BatchNorm1d-36                [256, 2048]           4,096\n",
      "           Linear-37                [256, 1024]       2,098,176\n",
      "             ReLU-38                [256, 1024]               0\n",
      "      BatchNorm1d-39                [256, 1024]           2,048\n",
      "           Linear-40                 [256, 512]         524,800\n",
      "             ReLU-41                 [256, 512]               0\n",
      "      BatchNorm1d-42                 [256, 512]           1,024\n",
      "           Linear-43                  [256, 64]          32,832\n",
      "             ReLU-44                  [256, 64]               0\n",
      "      BatchNorm1d-45                  [256, 64]             128\n",
      "           Linear-46                   [256, 1]              65\n",
      "          Sigmoid-47                   [256, 1]               0\n",
      "================================================================\n",
      "Total params: 13,147,713\n",
      "Trainable params: 13,147,713\n",
      "Non-trainable params: 0\n",
      "----------------------------------------------------------------\n",
      "Input size (MB): 0.15\n",
      "Forward/backward pass size (MB): 481.13\n",
      "Params size (MB): 50.15\n",
      "Estimated Total Size (MB): 531.43\n",
      "----------------------------------------------------------------\n"
     ]
    }
   ],
   "source": [
    "summary(net, (1, 1, 152), 256, 'cpu')"
   ]
  },
  {
   "cell_type": "code",
   "execution_count": null,
   "id": "daccde1e-8450-428e-8b75-3d283c7c5f64",
   "metadata": {},
   "outputs": [],
   "source": []
  }
 ],
 "metadata": {
  "kernelspec": {
   "display_name": "Python 3 (ipykernel)",
   "language": "python",
   "name": "python3"
  },
  "language_info": {
   "codemirror_mode": {
    "name": "ipython",
    "version": 3
   },
   "file_extension": ".py",
   "mimetype": "text/x-python",
   "name": "python",
   "nbconvert_exporter": "python",
   "pygments_lexer": "ipython3",
   "version": "3.10.12"
  }
 },
 "nbformat": 4,
 "nbformat_minor": 5
}
