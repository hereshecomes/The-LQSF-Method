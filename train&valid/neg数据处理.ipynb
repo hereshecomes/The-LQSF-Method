{
 "cells": [
  {
   "cell_type": "code",
   "execution_count": 1,
   "id": "4c6de210-85cc-4fd2-ab08-d3321bd1ce14",
   "metadata": {
    "execution": {
     "iopub.execute_input": "2023-10-23T02:16:17.775242Z",
     "iopub.status.busy": "2023-10-23T02:16:17.775242Z",
     "iopub.status.idle": "2023-10-23T03:07:26.183527Z",
     "shell.execute_reply": "2023-10-23T03:07:26.183527Z",
     "shell.execute_reply.started": "2023-10-23T02:16:17.775242Z"
    }
   },
   "outputs": [
    {
     "name": "stderr",
     "output_type": "stream",
     "text": [
      "100%|██████████████████████████████████████████████████████████████████████████████████| 49/49 [51:08<00:00, 62.62s/it]\n"
     ]
    }
   ],
   "source": [
    "import pandas as pd\n",
    "import numpy as np\n",
    "from tqdm import tqdm\n",
    "df_list = []\n",
    "for i in tqdm(range(1, 50)):\n",
    "    if i == 6:\n",
    "        continue\n",
    "    str = f'./data/train_{i}_0.xlsx'\n",
    "    df1 = pd.read_excel(str)\n",
    "    new_columns = np.arange(152)\n",
    "    df1.columns = new_columns\n",
    "    df1.insert(df1.shape[1], 152, 0)\n",
    "    new_df = [df1]*20\n",
    "    all_df = pd.concat(new_df, axis=0)\n",
    "    df_list.append(all_df)"
   ]
  },
  {
   "cell_type": "code",
   "execution_count": 2,
   "id": "a2b74ad8-f2d6-4960-a2c0-49551f1e5e5d",
   "metadata": {
    "execution": {
     "iopub.execute_input": "2023-10-23T03:38:34.983553Z",
     "iopub.status.busy": "2023-10-23T03:38:34.983553Z",
     "iopub.status.idle": "2023-10-23T03:38:35.003777Z",
     "shell.execute_reply": "2023-10-23T03:38:35.003402Z",
     "shell.execute_reply.started": "2023-10-23T03:38:34.983553Z"
    }
   },
   "outputs": [
    {
     "name": "stdout",
     "output_type": "stream",
     "text": [
      "hell0\n"
     ]
    }
   ],
   "source": [
    "print('hell0')"
   ]
  },
  {
   "cell_type": "code",
   "execution_count": null,
   "id": "cfd00e98-bf87-445c-915d-c3ced6604fcc",
   "metadata": {},
   "outputs": [],
   "source": [
    "for i in range(1, 6):\n",
    "    b = df_list[i*8: i*8+8]\n",
    "    df_temp = pd.concat(b, axis=0)\n",
    "    pd.to_pickle(df_temp, f'df_double_neg_{i*8}_{i*8+8}.pkl')"
   ]
  },
  {
   "cell_type": "code",
   "execution_count": 15,
   "id": "2dbb1415-79ed-46b4-8a52-b3a350378611",
   "metadata": {
    "execution": {
     "iopub.execute_input": "2023-10-23T03:49:53.306279Z",
     "iopub.status.busy": "2023-10-23T03:49:53.306279Z",
     "iopub.status.idle": "2023-10-23T03:49:53.321743Z",
     "shell.execute_reply": "2023-10-23T03:49:53.321660Z",
     "shell.execute_reply.started": "2023-10-23T03:49:53.306279Z"
    }
   },
   "outputs": [],
   "source": [
    "b = df_list[0:7]"
   ]
  },
  {
   "cell_type": "code",
   "execution_count": 16,
   "id": "12ae7f8c-2c00-405a-a4b7-6f3f811e1f9a",
   "metadata": {
    "execution": {
     "iopub.execute_input": "2023-10-23T03:49:54.375779Z",
     "iopub.status.busy": "2023-10-23T03:49:54.375779Z",
     "iopub.status.idle": "2023-10-23T03:49:54.427973Z",
     "shell.execute_reply": "2023-10-23T03:49:54.427973Z",
     "shell.execute_reply.started": "2023-10-23T03:49:54.375779Z"
    }
   },
   "outputs": [
    {
     "ename": "MemoryError",
     "evalue": "Unable to allocate 4.88 GiB for an array with shape (152, 4310820) and data type int64",
     "output_type": "error",
     "traceback": [
      "\u001b[1;31m---------------------------------------------------------------------------\u001b[0m",
      "\u001b[1;31mMemoryError\u001b[0m                               Traceback (most recent call last)",
      "Cell \u001b[1;32mIn[16], line 1\u001b[0m\n\u001b[1;32m----> 1\u001b[0m df_temp \u001b[38;5;241m=\u001b[39m \u001b[43mpd\u001b[49m\u001b[38;5;241;43m.\u001b[39;49m\u001b[43mconcat\u001b[49m\u001b[43m(\u001b[49m\u001b[43mb\u001b[49m\u001b[43m,\u001b[49m\u001b[43m \u001b[49m\u001b[43maxis\u001b[49m\u001b[38;5;241;43m=\u001b[39;49m\u001b[38;5;241;43m0\u001b[39;49m\u001b[43m)\u001b[49m\n",
      "File \u001b[1;32m~\\.conda\\envs\\pytorch\\lib\\site-packages\\pandas\\core\\reshape\\concat.py:385\u001b[0m, in \u001b[0;36mconcat\u001b[1;34m(objs, axis, join, ignore_index, keys, levels, names, verify_integrity, sort, copy)\u001b[0m\n\u001b[0;32m    370\u001b[0m     copy \u001b[38;5;241m=\u001b[39m \u001b[38;5;28;01mFalse\u001b[39;00m\n\u001b[0;32m    372\u001b[0m op \u001b[38;5;241m=\u001b[39m _Concatenator(\n\u001b[0;32m    373\u001b[0m     objs,\n\u001b[0;32m    374\u001b[0m     axis\u001b[38;5;241m=\u001b[39maxis,\n\u001b[1;32m   (...)\u001b[0m\n\u001b[0;32m    382\u001b[0m     sort\u001b[38;5;241m=\u001b[39msort,\n\u001b[0;32m    383\u001b[0m )\n\u001b[1;32m--> 385\u001b[0m \u001b[38;5;28;01mreturn\u001b[39;00m \u001b[43mop\u001b[49m\u001b[38;5;241;43m.\u001b[39;49m\u001b[43mget_result\u001b[49m\u001b[43m(\u001b[49m\u001b[43m)\u001b[49m\n",
      "File \u001b[1;32m~\\.conda\\envs\\pytorch\\lib\\site-packages\\pandas\\core\\reshape\\concat.py:616\u001b[0m, in \u001b[0;36m_Concatenator.get_result\u001b[1;34m(self)\u001b[0m\n\u001b[0;32m    612\u001b[0m             indexers[ax] \u001b[38;5;241m=\u001b[39m obj_labels\u001b[38;5;241m.\u001b[39mget_indexer(new_labels)\n\u001b[0;32m    614\u001b[0m     mgrs_indexers\u001b[38;5;241m.\u001b[39mappend((obj\u001b[38;5;241m.\u001b[39m_mgr, indexers))\n\u001b[1;32m--> 616\u001b[0m new_data \u001b[38;5;241m=\u001b[39m \u001b[43mconcatenate_managers\u001b[49m\u001b[43m(\u001b[49m\n\u001b[0;32m    617\u001b[0m \u001b[43m    \u001b[49m\u001b[43mmgrs_indexers\u001b[49m\u001b[43m,\u001b[49m\u001b[43m \u001b[49m\u001b[38;5;28;43mself\u001b[39;49m\u001b[38;5;241;43m.\u001b[39;49m\u001b[43mnew_axes\u001b[49m\u001b[43m,\u001b[49m\u001b[43m \u001b[49m\u001b[43mconcat_axis\u001b[49m\u001b[38;5;241;43m=\u001b[39;49m\u001b[38;5;28;43mself\u001b[39;49m\u001b[38;5;241;43m.\u001b[39;49m\u001b[43mbm_axis\u001b[49m\u001b[43m,\u001b[49m\u001b[43m \u001b[49m\u001b[43mcopy\u001b[49m\u001b[38;5;241;43m=\u001b[39;49m\u001b[38;5;28;43mself\u001b[39;49m\u001b[38;5;241;43m.\u001b[39;49m\u001b[43mcopy\u001b[49m\n\u001b[0;32m    618\u001b[0m \u001b[43m\u001b[49m\u001b[43m)\u001b[49m\n\u001b[0;32m    619\u001b[0m \u001b[38;5;28;01mif\u001b[39;00m \u001b[38;5;129;01mnot\u001b[39;00m \u001b[38;5;28mself\u001b[39m\u001b[38;5;241m.\u001b[39mcopy \u001b[38;5;129;01mand\u001b[39;00m \u001b[38;5;129;01mnot\u001b[39;00m using_copy_on_write():\n\u001b[0;32m    620\u001b[0m     new_data\u001b[38;5;241m.\u001b[39m_consolidate_inplace()\n",
      "File \u001b[1;32m~\\.conda\\envs\\pytorch\\lib\\site-packages\\pandas\\core\\internals\\concat.py:232\u001b[0m, in \u001b[0;36mconcatenate_managers\u001b[1;34m(mgrs_indexers, axes, concat_axis, copy)\u001b[0m\n\u001b[0;32m    226\u001b[0m vals \u001b[38;5;241m=\u001b[39m [ju\u001b[38;5;241m.\u001b[39mblock\u001b[38;5;241m.\u001b[39mvalues \u001b[38;5;28;01mfor\u001b[39;00m ju \u001b[38;5;129;01min\u001b[39;00m join_units]\n\u001b[0;32m    228\u001b[0m \u001b[38;5;28;01mif\u001b[39;00m \u001b[38;5;129;01mnot\u001b[39;00m blk\u001b[38;5;241m.\u001b[39mis_extension:\n\u001b[0;32m    229\u001b[0m     \u001b[38;5;66;03m# _is_uniform_join_units ensures a single dtype, so\u001b[39;00m\n\u001b[0;32m    230\u001b[0m     \u001b[38;5;66;03m#  we can use np.concatenate, which is more performant\u001b[39;00m\n\u001b[0;32m    231\u001b[0m     \u001b[38;5;66;03m#  than concat_compat\u001b[39;00m\n\u001b[1;32m--> 232\u001b[0m     values \u001b[38;5;241m=\u001b[39m \u001b[43mnp\u001b[49m\u001b[38;5;241;43m.\u001b[39;49m\u001b[43mconcatenate\u001b[49m\u001b[43m(\u001b[49m\u001b[43mvals\u001b[49m\u001b[43m,\u001b[49m\u001b[43m \u001b[49m\u001b[43maxis\u001b[49m\u001b[38;5;241;43m=\u001b[39;49m\u001b[38;5;241;43m1\u001b[39;49m\u001b[43m)\u001b[49m\n\u001b[0;32m    233\u001b[0m \u001b[38;5;28;01melse\u001b[39;00m:\n\u001b[0;32m    234\u001b[0m     \u001b[38;5;66;03m# TODO(EA2D): special-casing not needed with 2D EAs\u001b[39;00m\n\u001b[0;32m    235\u001b[0m     values \u001b[38;5;241m=\u001b[39m concat_compat(vals, axis\u001b[38;5;241m=\u001b[39m\u001b[38;5;241m1\u001b[39m)\n",
      "\u001b[1;31mMemoryError\u001b[0m: Unable to allocate 4.88 GiB for an array with shape (152, 4310820) and data type int64"
     ]
    }
   ],
   "source": [
    "df_temp = pd.concat(b, axis=0)"
   ]
  },
  {
   "cell_type": "code",
   "execution_count": 5,
   "id": "6abe41b2-ed7a-42e5-a8a4-a06aefe5697e",
   "metadata": {
    "execution": {
     "iopub.execute_input": "2023-10-23T03:45:17.486213Z",
     "iopub.status.busy": "2023-10-23T03:45:17.486213Z",
     "iopub.status.idle": "2023-10-23T03:45:48.791242Z",
     "shell.execute_reply": "2023-10-23T03:45:48.790748Z",
     "shell.execute_reply.started": "2023-10-23T03:45:17.486213Z"
    }
   },
   "outputs": [
    {
     "data": {
      "text/plain": [
       "['WARNING: Ignoring invalid distribution -upyterlab (c:\\\\users\\\\jiang su\\\\.conda\\\\envs\\\\pytorch\\\\lib\\\\site-packages)',\n",
       " 'ERROR: Could not find a version that satisfies the requirement gc (from versions: none)',\n",
       " 'ERROR: No matching distribution found for gc']"
      ]
     },
     "execution_count": 5,
     "metadata": {},
     "output_type": "execute_result"
    }
   ],
   "source": [
    "!!pip install gc"
   ]
  },
  {
   "cell_type": "code",
   "execution_count": 6,
   "id": "2dee0433-086b-498e-87d2-1ce929dfa222",
   "metadata": {
    "execution": {
     "iopub.execute_input": "2023-10-23T03:46:10.166041Z",
     "iopub.status.busy": "2023-10-23T03:46:10.166041Z",
     "iopub.status.idle": "2023-10-23T03:46:12.544209Z",
     "shell.execute_reply": "2023-10-23T03:46:12.543829Z",
     "shell.execute_reply.started": "2023-10-23T03:46:10.166041Z"
    }
   },
   "outputs": [
    {
     "name": "stdout",
     "output_type": "stream",
     "text": [
      "Retrieving notices: ...working... done\n",
      "\n",
      "Note: you may need to restart the kernel to use updated packages.\n"
     ]
    },
    {
     "name": "stderr",
     "output_type": "stream",
     "text": [
      "\n",
      "EnvironmentLocationNotFound: Not a conda environment: C:\\Users\\jiang\n",
      "\n"
     ]
    }
   ],
   "source": [
    "conda install gc"
   ]
  },
  {
   "cell_type": "code",
   "execution_count": 7,
   "id": "dc3c6e72-da95-414b-96a0-5dbecfb8bb99",
   "metadata": {
    "execution": {
     "iopub.execute_input": "2023-10-23T03:47:25.690222Z",
     "iopub.status.busy": "2023-10-23T03:47:25.690222Z",
     "iopub.status.idle": "2023-10-23T03:47:25.702920Z",
     "shell.execute_reply": "2023-10-23T03:47:25.702920Z",
     "shell.execute_reply.started": "2023-10-23T03:47:25.690222Z"
    }
   },
   "outputs": [],
   "source": [
    "import gc"
   ]
  },
  {
   "cell_type": "code",
   "execution_count": 17,
   "id": "4c22c7fe-2932-4984-b714-d88c16440874",
   "metadata": {
    "execution": {
     "iopub.execute_input": "2023-10-23T03:50:00.998307Z",
     "iopub.status.busy": "2023-10-23T03:50:00.998307Z",
     "iopub.status.idle": "2023-10-23T03:50:01.033846Z",
     "shell.execute_reply": "2023-10-23T03:50:01.033846Z",
     "shell.execute_reply.started": "2023-10-23T03:50:00.998307Z"
    }
   },
   "outputs": [
    {
     "data": {
      "text/plain": [
       "1576"
      ]
     },
     "execution_count": 17,
     "metadata": {},
     "output_type": "execute_result"
    }
   ],
   "source": [
    "del b\n",
    "gc.collect()"
   ]
  },
  {
   "cell_type": "code",
   "execution_count": null,
   "id": "2cd18d6e-01c4-4bf7-b618-26636d1e21d5",
   "metadata": {},
   "outputs": [],
   "source": []
  }
 ],
 "metadata": {
  "kernelspec": {
   "display_name": "Python 3 (ipykernel)",
   "language": "python",
   "name": "python3"
  },
  "language_info": {
   "codemirror_mode": {
    "name": "ipython",
    "version": 3
   },
   "file_extension": ".py",
   "mimetype": "text/x-python",
   "name": "python",
   "nbconvert_exporter": "python",
   "pygments_lexer": "ipython3",
   "version": "3.10.12"
  }
 },
 "nbformat": 4,
 "nbformat_minor": 5
}
