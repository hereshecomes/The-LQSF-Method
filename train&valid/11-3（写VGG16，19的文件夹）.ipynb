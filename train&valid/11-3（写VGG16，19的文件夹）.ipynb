{
 "cells": [
  {
   "cell_type": "code",
   "execution_count": 1,
   "id": "2110857f-5dc8-4096-b679-5fa3cd866b6a",
   "metadata": {
    "execution": {
     "iopub.execute_input": "2023-11-04T13:23:31.527840Z",
     "iopub.status.busy": "2023-11-04T13:23:31.527840Z",
     "iopub.status.idle": "2023-11-04T13:23:32.530212Z",
     "shell.execute_reply": "2023-11-04T13:23:32.530212Z",
     "shell.execute_reply.started": "2023-11-04T13:23:31.527840Z"
    }
   },
   "outputs": [],
   "source": [
    "import torch\n",
    "import torchvision\n",
    "from torchvision import models\n",
    "from torch import nn\n",
    "from torchsummary import summary\n",
    "from lib.model.vgg16_bn import VGG16_BN\n",
    "from lib.model.vgg19_bn import VGG19_BN\n",
    "from lib.model.vgg13_bn import VGG13_BN"
   ]
  },
  {
   "cell_type": "code",
   "execution_count": 2,
   "id": "962e907d-496e-40d9-a061-8fdd374f36de",
   "metadata": {
    "execution": {
     "iopub.execute_input": "2023-11-04T13:21:26.319303Z",
     "iopub.status.busy": "2023-11-04T13:21:26.319303Z",
     "iopub.status.idle": "2023-11-04T13:21:26.334899Z",
     "shell.execute_reply": "2023-11-04T13:21:26.334899Z",
     "shell.execute_reply.started": "2023-11-04T13:21:26.319303Z"
    }
   },
   "outputs": [],
   "source": [
    "import os\n",
    "os.environ['TORCH_HOME']='E:\\workspace\\essay\\chest_image_classification\\dataset\\CheXpert-v1.0-small\\Models_use'"
   ]
  },
  {
   "cell_type": "code",
   "execution_count": 2,
   "id": "957d5b8d-216b-4482-a8a0-d16515c0120e",
   "metadata": {
    "execution": {
     "iopub.execute_input": "2023-11-04T13:23:33.084035Z",
     "iopub.status.busy": "2023-11-04T13:23:33.084035Z",
     "iopub.status.idle": "2023-11-04T13:23:33.249744Z",
     "shell.execute_reply": "2023-11-04T13:23:33.249744Z",
     "shell.execute_reply.started": "2023-11-04T13:23:33.084035Z"
    }
   },
   "outputs": [
    {
     "name": "stdout",
     "output_type": "stream",
     "text": [
      "----------------------------------------------------------------\n",
      "        Layer (type)               Output Shape         Param #\n",
      "================================================================\n",
      "            Conv2d-1          [256, 64, 1, 150]             256\n",
      "       BatchNorm2d-2          [256, 64, 1, 150]             128\n",
      "              ReLU-3          [256, 64, 1, 150]               0\n",
      "            Conv2d-4          [256, 64, 1, 148]          12,352\n",
      "       BatchNorm2d-5          [256, 64, 1, 148]             128\n",
      "              ReLU-6          [256, 64, 1, 148]               0\n",
      "         MaxPool2d-7           [256, 64, 1, 74]               0\n",
      "            Conv2d-8          [256, 128, 1, 72]          24,704\n",
      "       BatchNorm2d-9          [256, 128, 1, 72]             256\n",
      "             ReLU-10          [256, 128, 1, 72]               0\n",
      "           Conv2d-11          [256, 128, 1, 70]          49,280\n",
      "      BatchNorm2d-12          [256, 128, 1, 70]             256\n",
      "             ReLU-13          [256, 128, 1, 70]               0\n",
      "           Conv2d-14          [256, 256, 1, 68]          98,560\n",
      "      BatchNorm2d-15          [256, 256, 1, 68]             512\n",
      "             ReLU-16          [256, 256, 1, 68]               0\n",
      "           Conv2d-17          [256, 256, 1, 66]         196,864\n",
      "      BatchNorm2d-18          [256, 256, 1, 66]             512\n",
      "             ReLU-19          [256, 256, 1, 66]               0\n",
      "           Conv2d-20          [256, 256, 1, 64]         196,864\n",
      "      BatchNorm2d-21          [256, 256, 1, 64]             512\n",
      "             ReLU-22          [256, 256, 1, 64]               0\n",
      "           Conv2d-23          [256, 256, 1, 62]         196,864\n",
      "      BatchNorm2d-24          [256, 256, 1, 62]             512\n",
      "             ReLU-25          [256, 256, 1, 62]               0\n",
      "           Conv2d-26          [256, 512, 1, 60]         393,728\n",
      "      BatchNorm2d-27          [256, 512, 1, 60]           1,024\n",
      "             ReLU-28          [256, 512, 1, 60]               0\n",
      "           Conv2d-29          [256, 512, 1, 58]         786,944\n",
      "      BatchNorm2d-30          [256, 512, 1, 58]           1,024\n",
      "             ReLU-31          [256, 512, 1, 58]               0\n",
      "           Conv2d-32          [256, 512, 1, 56]         786,944\n",
      "      BatchNorm2d-33          [256, 512, 1, 56]           1,024\n",
      "             ReLU-34          [256, 512, 1, 56]               0\n",
      "           Conv2d-35          [256, 512, 1, 54]         786,944\n",
      "      BatchNorm2d-36          [256, 512, 1, 54]           1,024\n",
      "             ReLU-37          [256, 512, 1, 54]               0\n",
      "        MaxPool2d-38          [256, 512, 1, 27]               0\n",
      "           Conv2d-39          [256, 512, 1, 25]         786,944\n",
      "      BatchNorm2d-40          [256, 512, 1, 25]           1,024\n",
      "             ReLU-41          [256, 512, 1, 25]               0\n",
      "           Conv2d-42          [256, 512, 1, 23]         786,944\n",
      "      BatchNorm2d-43          [256, 512, 1, 23]           1,024\n",
      "             ReLU-44          [256, 512, 1, 23]               0\n",
      "           Conv2d-45          [256, 512, 1, 21]         786,944\n",
      "      BatchNorm2d-46          [256, 512, 1, 21]           1,024\n",
      "             ReLU-47          [256, 512, 1, 21]               0\n",
      "           Conv2d-48          [256, 512, 1, 19]         786,944\n",
      "      BatchNorm2d-49          [256, 512, 1, 19]           1,024\n",
      "             ReLU-50          [256, 512, 1, 19]               0\n",
      "           Linear-51                [256, 4096]      39,849,984\n",
      "             ReLU-52                [256, 4096]               0\n",
      "      BatchNorm1d-53                [256, 4096]           8,192\n",
      "           Linear-54                [256, 1024]       4,195,328\n",
      "             ReLU-55                [256, 1024]               0\n",
      "      BatchNorm1d-56                [256, 1024]           2,048\n",
      "           Linear-57                 [256, 512]         524,800\n",
      "             ReLU-58                 [256, 512]               0\n",
      "      BatchNorm1d-59                 [256, 512]           1,024\n",
      "           Linear-60                  [256, 64]          32,832\n",
      "             ReLU-61                  [256, 64]               0\n",
      "      BatchNorm1d-62                  [256, 64]             128\n",
      "           Linear-63                   [256, 1]              65\n",
      "          Sigmoid-64                   [256, 1]               0\n",
      "================================================================\n",
      "Total params: 51,303,489\n",
      "Trainable params: 51,303,489\n",
      "Non-trainable params: 0\n",
      "----------------------------------------------------------------\n",
      "Input size (MB): 0.15\n",
      "Forward/backward pass size (MB): 1625.88\n",
      "Params size (MB): 195.71\n",
      "Estimated Total Size (MB): 1821.73\n",
      "----------------------------------------------------------------\n"
     ]
    }
   ],
   "source": [
    "net1 = VGG19_BN()\n",
    "summary(net1, (1, 1, 152), 256, device='cpu')"
   ]
  },
  {
   "cell_type": "code",
   "execution_count": null,
   "id": "a4943476-6ed9-4099-880f-d56e6716cabb",
   "metadata": {},
   "outputs": [],
   "source": []
  },
  {
   "cell_type": "code",
   "execution_count": null,
   "id": "95a619e8-1cb9-4c9f-8cd5-168c9c122445",
   "metadata": {},
   "outputs": [],
   "source": []
  },
  {
   "cell_type": "code",
   "execution_count": null,
   "id": "38690988-dbff-4c0f-935f-96b122eefaec",
   "metadata": {},
   "outputs": [],
   "source": []
  },
  {
   "cell_type": "code",
   "execution_count": 2,
   "id": "d962e148-f1f6-481a-bf34-e4ffb192463e",
   "metadata": {
    "execution": {
     "iopub.execute_input": "2023-11-04T05:32:47.079326Z",
     "iopub.status.busy": "2023-11-04T05:32:47.079326Z",
     "iopub.status.idle": "2023-11-04T05:32:47.228557Z",
     "shell.execute_reply": "2023-11-04T05:32:47.228483Z",
     "shell.execute_reply.started": "2023-11-04T05:32:47.079326Z"
    }
   },
   "outputs": [],
   "source": [
    "net = VGG16_BN()"
   ]
  },
  {
   "cell_type": "code",
   "execution_count": 3,
   "id": "94d94877-835b-40a2-9ab8-9d05a29d7fe4",
   "metadata": {
    "execution": {
     "iopub.execute_input": "2023-11-04T05:32:47.629658Z",
     "iopub.status.busy": "2023-11-04T05:32:47.629658Z",
     "iopub.status.idle": "2023-11-04T05:32:47.678772Z",
     "shell.execute_reply": "2023-11-04T05:32:47.678671Z",
     "shell.execute_reply.started": "2023-11-04T05:32:47.629658Z"
    }
   },
   "outputs": [
    {
     "name": "stdout",
     "output_type": "stream",
     "text": [
      "----------------------------------------------------------------\n",
      "        Layer (type)               Output Shape         Param #\n",
      "================================================================\n",
      "            Conv2d-1          [256, 64, 1, 150]             256\n",
      "       BatchNorm2d-2          [256, 64, 1, 150]             128\n",
      "              ReLU-3          [256, 64, 1, 150]               0\n",
      "            Conv2d-4          [256, 64, 1, 148]          12,352\n",
      "       BatchNorm2d-5          [256, 64, 1, 148]             128\n",
      "              ReLU-6          [256, 64, 1, 148]               0\n",
      "         MaxPool2d-7           [256, 64, 1, 74]               0\n",
      "            Conv2d-8          [256, 128, 1, 72]          24,704\n",
      "       BatchNorm2d-9          [256, 128, 1, 72]             256\n",
      "             ReLU-10          [256, 128, 1, 72]               0\n",
      "           Conv2d-11          [256, 128, 1, 70]          49,280\n",
      "      BatchNorm2d-12          [256, 128, 1, 70]             256\n",
      "             ReLU-13          [256, 128, 1, 70]               0\n",
      "        MaxPool2d-14          [256, 128, 1, 35]               0\n",
      "           Conv2d-15          [256, 256, 1, 33]          98,560\n",
      "      BatchNorm2d-16          [256, 256, 1, 33]             512\n",
      "             ReLU-17          [256, 256, 1, 33]               0\n",
      "           Conv2d-18          [256, 256, 1, 31]         196,864\n",
      "      BatchNorm2d-19          [256, 256, 1, 31]             512\n",
      "             ReLU-20          [256, 256, 1, 31]               0\n",
      "           Conv2d-21          [256, 256, 1, 29]         196,864\n",
      "      BatchNorm2d-22          [256, 256, 1, 29]             512\n",
      "             ReLU-23          [256, 256, 1, 29]               0\n",
      "           Conv2d-24          [256, 512, 1, 27]         393,728\n",
      "      BatchNorm2d-25          [256, 512, 1, 27]           1,024\n",
      "             ReLU-26          [256, 512, 1, 27]               0\n",
      "           Conv2d-27          [256, 512, 1, 25]         786,944\n",
      "      BatchNorm2d-28          [256, 512, 1, 25]           1,024\n",
      "             ReLU-29          [256, 512, 1, 25]               0\n",
      "           Conv2d-30          [256, 512, 1, 23]         786,944\n",
      "      BatchNorm2d-31          [256, 512, 1, 23]           1,024\n",
      "             ReLU-32          [256, 512, 1, 23]               0\n",
      "           Conv2d-33          [256, 512, 1, 21]         786,944\n",
      "      BatchNorm2d-34          [256, 512, 1, 21]           1,024\n",
      "             ReLU-35          [256, 512, 1, 21]               0\n",
      "           Conv2d-36          [256, 512, 1, 19]         786,944\n",
      "      BatchNorm2d-37          [256, 512, 1, 19]           1,024\n",
      "             ReLU-38          [256, 512, 1, 19]               0\n",
      "           Conv2d-39          [256, 512, 1, 17]         786,944\n",
      "      BatchNorm2d-40          [256, 512, 1, 17]           1,024\n",
      "             ReLU-41          [256, 512, 1, 17]               0\n",
      "           Linear-42                [256, 4096]      35,655,680\n",
      "             ReLU-43                [256, 4096]               0\n",
      "      BatchNorm1d-44                [256, 4096]           8,192\n",
      "          Dropout-45                [256, 4096]               0\n",
      "           Linear-46                [256, 4096]      16,781,312\n",
      "             ReLU-47                [256, 4096]               0\n",
      "      BatchNorm1d-48                [256, 4096]           8,192\n",
      "          Dropout-49                [256, 4096]               0\n",
      "           Linear-50                 [256, 512]       2,097,664\n",
      "             ReLU-51                 [256, 512]               0\n",
      "      BatchNorm1d-52                 [256, 512]           1,024\n",
      "          Dropout-53                 [256, 512]               0\n",
      "           Linear-54                  [256, 64]          32,832\n",
      "             ReLU-55                  [256, 64]               0\n",
      "      BatchNorm1d-56                  [256, 64]             128\n",
      "           Linear-57                   [256, 1]              65\n",
      "          Sigmoid-58                   [256, 1]               0\n",
      "================================================================\n",
      "Total params: 59,500,865\n",
      "Trainable params: 59,500,865\n",
      "Non-trainable params: 0\n",
      "----------------------------------------------------------------\n",
      "Input size (MB): 0.15\n",
      "Forward/backward pass size (MB): 840.13\n",
      "Params size (MB): 226.98\n",
      "Estimated Total Size (MB): 1067.26\n",
      "----------------------------------------------------------------\n"
     ]
    }
   ],
   "source": [
    "summary(net, (1, 1, 152), 256, device='cpu')"
   ]
  },
  {
   "cell_type": "code",
   "execution_count": null,
   "id": "28b41eeb-fb3a-44dc-a021-bcba6c41c765",
   "metadata": {},
   "outputs": [],
   "source": []
  },
  {
   "cell_type": "code",
   "execution_count": null,
   "id": "7c2c494a-80c7-40e7-a8ad-8416304e3850",
   "metadata": {},
   "outputs": [],
   "source": []
  },
  {
   "cell_type": "code",
   "execution_count": null,
   "id": "5371d762-8b28-423b-b779-4469a1b947ba",
   "metadata": {},
   "outputs": [],
   "source": []
  },
  {
   "cell_type": "code",
   "execution_count": null,
   "id": "acbfa096-5137-4e65-abcf-d1eeec2ef9a6",
   "metadata": {},
   "outputs": [],
   "source": []
  },
  {
   "cell_type": "code",
   "execution_count": null,
   "id": "63a9165e-0be0-4488-9151-3cc666e6ddfb",
   "metadata": {},
   "outputs": [],
   "source": [
    "net = models.vgg19_bn(pretrained = True)"
   ]
  },
  {
   "cell_type": "code",
   "execution_count": null,
   "id": "b932efa8-dc04-4a48-a015-f9ec1d791dab",
   "metadata": {
    "scrolled": true
   },
   "outputs": [],
   "source": [
    "summary(net, (1, 1, 152), 256, device='cpu')"
   ]
  },
  {
   "cell_type": "code",
   "execution_count": null,
   "id": "37918313-e176-4b0c-9f35-f3e2ae576e31",
   "metadata": {},
   "outputs": [],
   "source": []
  },
  {
   "cell_type": "code",
   "execution_count": null,
   "id": "31ec8b0b-3206-40cb-ac4e-4d1e3e73e603",
   "metadata": {},
   "outputs": [],
   "source": []
  },
  {
   "cell_type": "code",
   "execution_count": 4,
   "id": "e31146b7-aaaf-4e25-b39e-e006bc442626",
   "metadata": {
    "execution": {
     "iopub.execute_input": "2023-11-04T13:20:43.297289Z",
     "iopub.status.busy": "2023-11-04T13:20:43.297289Z",
     "iopub.status.idle": "2023-11-04T13:20:43.348610Z",
     "shell.execute_reply": "2023-11-04T13:20:43.347610Z",
     "shell.execute_reply.started": "2023-11-04T13:20:43.297289Z"
    }
   },
   "outputs": [],
   "source": [
    "net = nn.Sequential(\n",
    "            nn.Conv2d(1, 64, kernel_size=(1, 3), stride=1),\n",
    "            nn.BatchNorm2d(64, eps=1e-05, momentum=0.1, affine=True, track_running_stats=True),\n",
    "            nn.ReLU(inplace=True),\n",
    "            nn.Conv2d(64, 64, kernel_size=(1, 3), stride=1),\n",
    "            nn.BatchNorm2d(64, eps=1e-05, momentum=0.1, affine=True, track_running_stats=True),\n",
    "            nn.ReLU(inplace=True),\n",
    "            nn.MaxPool2d(kernel_size=(1, 2), stride=2, padding=0, dilation=1, ceil_mode=False),\n",
    "            nn.Conv2d(64, 128, kernel_size=(1, 3), stride=1),\n",
    "            nn.BatchNorm2d(128, eps=1e-05, momentum=0.1, affine=True, track_running_stats=True),\n",
    "            nn.ReLU(inplace=True),\n",
    "            nn.Conv2d(128, 128, kernel_size=(1, 3), stride=1),\n",
    "            nn.BatchNorm2d(128, eps=1e-05, momentum=0.1, affine=True, track_running_stats=True),\n",
    "            nn.ReLU(inplace=True),\n",
    "            # nn.MaxPool2d(kernel_size=(1, 2), stride=2, padding=0, dilation=1, ceil_mode=False),\n",
    "            nn.Conv2d(128, 256, kernel_size=(1, 3), stride=1),\n",
    "            nn.BatchNorm2d(256, eps=1e-05, momentum=0.1, affine=True, track_running_stats=True),\n",
    "            nn.ReLU(inplace=True),\n",
    "            nn.Conv2d(256, 256, kernel_size=(1, 3), stride=1),\n",
    "            nn.BatchNorm2d(256, eps=1e-05, momentum=0.1, affine=True, track_running_stats=True),\n",
    "            nn.ReLU(inplace=True),\n",
    "            nn.Conv2d(256, 256, kernel_size=(1, 3), stride=1),\n",
    "            nn.BatchNorm2d(256, eps=1e-05, momentum=0.1, affine=True, track_running_stats=True),\n",
    "            nn.ReLU(inplace=True),\n",
    "            nn.Conv2d(256, 256, kernel_size=(1, 3), stride=1),\n",
    "            nn.BatchNorm2d(256, eps=1e-05, momentum=0.1, affine=True, track_running_stats=True),\n",
    "            nn.ReLU(inplace=True),\n",
    "            # nn.MaxPool2d(kernel_size=(1, 2), stride=2, padding=0, dilation=1, ceil_mode=False),\n",
    "            nn.Conv2d(256, 512, kernel_size=(1, 3), stride=1),\n",
    "            nn.BatchNorm2d(512, eps=1e-05, momentum=0.1, affine=True, track_running_stats=True),\n",
    "            nn.ReLU(inplace=True),\n",
    "            nn.Conv2d(512, 512, kernel_size=(1, 3), stride=1),\n",
    "            nn.BatchNorm2d(512, eps=1e-05, momentum=0.1, affine=True, track_running_stats=True),\n",
    "            nn.ReLU(inplace=True),\n",
    "            nn.Conv2d(512, 512, kernel_size=(1, 3), stride=1),\n",
    "            nn.BatchNorm2d(512, eps=1e-05, momentum=0.1, affine=True, track_running_stats=True),\n",
    "            nn.ReLU(inplace=True),\n",
    "            nn.Conv2d(512, 512, kernel_size=(1, 3), stride=1),\n",
    "            nn.BatchNorm2d(512, eps=1e-05, momentum=0.1, affine=True, track_running_stats=True),\n",
    "            nn.ReLU(inplace=True),\n",
    "            nn.MaxPool2d(kernel_size=(1, 2), stride=2, padding=0, dilation=1, ceil_mode=False),\n",
    "            nn.Conv2d(512, 512, kernel_size=(1, 3), stride=1),\n",
    "            nn.BatchNorm2d(512, eps=1e-05, momentum=0.1, affine=True, track_running_stats=True),\n",
    "            nn.ReLU(inplace=True),\n",
    "            nn.Conv2d(512, 512, kernel_size=(1, 3), stride=1),\n",
    "            nn.BatchNorm2d(512, eps=1e-05, momentum=0.1, affine=True, track_running_stats=True),\n",
    "            nn.ReLU(inplace=True),\n",
    "            nn.Conv2d(512, 512, kernel_size=(1, 3), stride=1),\n",
    "            nn.BatchNorm2d(512, eps=1e-05, momentum=0.1, affine=True, track_running_stats=True),\n",
    "            nn.ReLU(inplace=True),\n",
    "            nn.Conv2d(512, 512, kernel_size=(1, 3), stride=1),\n",
    "            nn.BatchNorm2d(512, eps=1e-05, momentum=0.1, affine=True, track_running_stats=True),\n",
    "            nn.ReLU(inplace=True)\n",
    "        )"
   ]
  },
  {
   "cell_type": "code",
   "execution_count": 5,
   "id": "32b5a78b-194d-45d8-b2e3-4c4683a5c7f0",
   "metadata": {
    "execution": {
     "iopub.execute_input": "2023-11-04T13:20:44.812796Z",
     "iopub.status.busy": "2023-11-04T13:20:44.811850Z",
     "iopub.status.idle": "2023-11-04T13:20:45.147157Z",
     "shell.execute_reply": "2023-11-04T13:20:45.147157Z",
     "shell.execute_reply.started": "2023-11-04T13:20:44.812796Z"
    },
    "scrolled": true
   },
   "outputs": [
    {
     "name": "stdout",
     "output_type": "stream",
     "text": [
      "Conv2d output shape: \t torch.Size([256, 64, 1, 150])\n",
      "BatchNorm2d output shape: \t torch.Size([256, 64, 1, 150])\n",
      "ReLU output shape: \t torch.Size([256, 64, 1, 150])\n",
      "Conv2d output shape: \t torch.Size([256, 64, 1, 148])\n",
      "BatchNorm2d output shape: \t torch.Size([256, 64, 1, 148])\n",
      "ReLU output shape: \t torch.Size([256, 64, 1, 148])\n",
      "MaxPool2d output shape: \t torch.Size([256, 64, 1, 74])\n",
      "Conv2d output shape: \t torch.Size([256, 128, 1, 72])\n",
      "BatchNorm2d output shape: \t torch.Size([256, 128, 1, 72])\n",
      "ReLU output shape: \t torch.Size([256, 128, 1, 72])\n",
      "Conv2d output shape: \t torch.Size([256, 128, 1, 70])\n",
      "BatchNorm2d output shape: \t torch.Size([256, 128, 1, 70])\n",
      "ReLU output shape: \t torch.Size([256, 128, 1, 70])\n",
      "Conv2d output shape: \t torch.Size([256, 256, 1, 68])\n",
      "BatchNorm2d output shape: \t torch.Size([256, 256, 1, 68])\n",
      "ReLU output shape: \t torch.Size([256, 256, 1, 68])\n",
      "Conv2d output shape: \t torch.Size([256, 256, 1, 66])\n",
      "BatchNorm2d output shape: \t torch.Size([256, 256, 1, 66])\n",
      "ReLU output shape: \t torch.Size([256, 256, 1, 66])\n",
      "Conv2d output shape: \t torch.Size([256, 256, 1, 64])\n",
      "BatchNorm2d output shape: \t torch.Size([256, 256, 1, 64])\n",
      "ReLU output shape: \t torch.Size([256, 256, 1, 64])\n",
      "Conv2d output shape: \t torch.Size([256, 256, 1, 62])\n",
      "BatchNorm2d output shape: \t torch.Size([256, 256, 1, 62])\n",
      "ReLU output shape: \t torch.Size([256, 256, 1, 62])\n",
      "Conv2d output shape: \t torch.Size([256, 512, 1, 60])\n",
      "BatchNorm2d output shape: \t torch.Size([256, 512, 1, 60])\n",
      "ReLU output shape: \t torch.Size([256, 512, 1, 60])\n",
      "Conv2d output shape: \t torch.Size([256, 512, 1, 58])\n",
      "BatchNorm2d output shape: \t torch.Size([256, 512, 1, 58])\n",
      "ReLU output shape: \t torch.Size([256, 512, 1, 58])\n",
      "Conv2d output shape: \t torch.Size([256, 512, 1, 56])\n",
      "BatchNorm2d output shape: \t torch.Size([256, 512, 1, 56])\n",
      "ReLU output shape: \t torch.Size([256, 512, 1, 56])\n",
      "Conv2d output shape: \t torch.Size([256, 512, 1, 54])\n",
      "BatchNorm2d output shape: \t torch.Size([256, 512, 1, 54])\n",
      "ReLU output shape: \t torch.Size([256, 512, 1, 54])\n",
      "MaxPool2d output shape: \t torch.Size([256, 512, 1, 27])\n",
      "Conv2d output shape: \t torch.Size([256, 512, 1, 25])\n",
      "BatchNorm2d output shape: \t torch.Size([256, 512, 1, 25])\n",
      "ReLU output shape: \t torch.Size([256, 512, 1, 25])\n",
      "Conv2d output shape: \t torch.Size([256, 512, 1, 23])\n",
      "BatchNorm2d output shape: \t torch.Size([256, 512, 1, 23])\n",
      "ReLU output shape: \t torch.Size([256, 512, 1, 23])\n",
      "Conv2d output shape: \t torch.Size([256, 512, 1, 21])\n",
      "BatchNorm2d output shape: \t torch.Size([256, 512, 1, 21])\n",
      "ReLU output shape: \t torch.Size([256, 512, 1, 21])\n",
      "Conv2d output shape: \t torch.Size([256, 512, 1, 19])\n",
      "BatchNorm2d output shape: \t torch.Size([256, 512, 1, 19])\n",
      "ReLU output shape: \t torch.Size([256, 512, 1, 19])\n"
     ]
    }
   ],
   "source": [
    "X = torch.rand(size=(256, 1, 1, 152), dtype=torch.float32)\n",
    "for layer in net:\n",
    "    X = layer(X)\n",
    "    print(layer.__class__.__name__,'output shape: \\t',X.shape)"
   ]
  },
  {
   "cell_type": "code",
   "execution_count": null,
   "id": "e4791b1d-d832-4af3-bae1-b5cd7ab1aa2f",
   "metadata": {},
   "outputs": [],
   "source": [
    "net = VGG16_BN()"
   ]
  },
  {
   "cell_type": "code",
   "execution_count": null,
   "id": "38417ef4-dfbf-4baf-90f7-908699f72614",
   "metadata": {
    "scrolled": true
   },
   "outputs": [],
   "source": [
    "summary(net, (1, 1, 152), 256, device='cpu')"
   ]
  },
  {
   "cell_type": "code",
   "execution_count": null,
   "id": "0d376412-c3da-48a0-bfcb-a83d60ac31dc",
   "metadata": {
    "scrolled": true
   },
   "outputs": [],
   "source": [
    "net"
   ]
  },
  {
   "cell_type": "code",
   "execution_count": null,
   "id": "d0ed8090-9476-4540-99d2-90d7c517c586",
   "metadata": {},
   "outputs": [],
   "source": []
  },
  {
   "cell_type": "code",
   "execution_count": null,
   "id": "0a4b5105-f57c-4e24-9c75-7f1d3c24b89a",
   "metadata": {},
   "outputs": [],
   "source": []
  }
 ],
 "metadata": {
  "kernelspec": {
   "display_name": "Python 3 (ipykernel)",
   "language": "python",
   "name": "python3"
  },
  "language_info": {
   "codemirror_mode": {
    "name": "ipython",
    "version": 3
   },
   "file_extension": ".py",
   "mimetype": "text/x-python",
   "name": "python",
   "nbconvert_exporter": "python",
   "pygments_lexer": "ipython3",
   "version": "3.10.12"
  }
 },
 "nbformat": 4,
 "nbformat_minor": 5
}
