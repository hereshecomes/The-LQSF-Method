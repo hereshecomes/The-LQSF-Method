{
 "cells": [
  {
   "cell_type": "code",
   "execution_count": 1,
   "id": "0797d81d-e605-4515-a6a7-a4a06cf1ce6a",
   "metadata": {
    "execution": {
     "iopub.execute_input": "2023-11-07T12:12:37.018457Z",
     "iopub.status.busy": "2023-11-07T12:12:37.018457Z",
     "iopub.status.idle": "2023-11-07T12:12:38.493746Z",
     "shell.execute_reply": "2023-11-07T12:12:38.493746Z",
     "shell.execute_reply.started": "2023-11-07T12:12:37.018457Z"
    }
   },
   "outputs": [],
   "source": [
    "from lib.jianji.code_csf import csf\n",
    "from lib.model.resnet50 import ResNet50\n",
    "from lib.loss_function.PolyLoss import PolyBCELoss\n",
    "from lib.jianji.tool import *\n",
    "import torch \n",
    "from torch.utils.data import Dataset\n",
    "from torch import nn\n",
    "from torchsummary import summary\n",
    "from d2l import torch as d2l\n",
    "import numpy as np"
   ]
  },
  {
   "cell_type": "code",
   "execution_count": 2,
   "id": "9de1e65c-407a-4a5f-ae93-96f85a1e0b9e",
   "metadata": {
    "execution": {
     "iopub.execute_input": "2023-11-07T12:13:10.312573Z",
     "iopub.status.busy": "2023-11-07T12:13:10.312573Z",
     "iopub.status.idle": "2023-11-07T12:13:10.536539Z",
     "shell.execute_reply": "2023-11-07T12:13:10.535807Z",
     "shell.execute_reply.started": "2023-11-07T12:13:10.312573Z"
    }
   },
   "outputs": [],
   "source": [
    "testset = csf(csv_path='testdata.pkl', mode='valid')\n",
    "testloader = torch.utils.data.DataLoader(testset, batch_size=32, drop_last=True, shuffle=True)"
   ]
  },
  {
   "cell_type": "code",
   "execution_count": 5,
   "id": "69d4d33d-620d-4b48-9eca-fa1c394fb58e",
   "metadata": {
    "execution": {
     "iopub.execute_input": "2023-11-07T12:18:43.051263Z",
     "iopub.status.busy": "2023-11-07T12:18:43.051263Z",
     "iopub.status.idle": "2023-11-07T12:22:02.509345Z",
     "shell.execute_reply": "2023-11-07T12:22:02.509345Z",
     "shell.execute_reply.started": "2023-11-07T12:18:43.051263Z"
    }
   },
   "outputs": [],
   "source": [
    "net = ResNet50()\n",
    "net.load_state_dict(torch.load('resnet50_acc_0.717.pth'))\n",
    "net.eval()\n",
    "output_list = []\n",
    "for X, y  in testloader:\n",
    "    with torch.no_grad():\n",
    "        # print(X*4)\n",
    "        # X=X.cuda()\n",
    "        # list.append(net(X))\n",
    "        a = np.array(net(X).cpu())\n",
    "        # print(a)\n",
    "        output_list.extend(a)\n"
   ]
  },
  {
   "cell_type": "code",
   "execution_count": null,
   "id": "3089d003-9766-491a-afed-7c66239767fd",
   "metadata": {},
   "outputs": [],
   "source": []
  }
 ],
 "metadata": {
  "kernelspec": {
   "display_name": "Python 3 (ipykernel)",
   "language": "python",
   "name": "python3"
  },
  "language_info": {
   "codemirror_mode": {
    "name": "ipython",
    "version": 3
   },
   "file_extension": ".py",
   "mimetype": "text/x-python",
   "name": "python",
   "nbconvert_exporter": "python",
   "pygments_lexer": "ipython3",
   "version": "3.10.12"
  }
 },
 "nbformat": 4,
 "nbformat_minor": 5
}
