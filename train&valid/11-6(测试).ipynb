{
 "cells": [
  {
   "cell_type": "code",
   "execution_count": 1,
   "id": "3023c6c4-9316-4745-b65d-e1e2bd732109",
   "metadata": {
    "execution": {
     "iopub.execute_input": "2023-11-15T09:53:12.101896Z",
     "iopub.status.busy": "2023-11-15T09:53:12.101896Z",
     "iopub.status.idle": "2023-11-15T09:53:17.418940Z",
     "shell.execute_reply": "2023-11-15T09:53:17.417801Z",
     "shell.execute_reply.started": "2023-11-15T09:53:12.101896Z"
    }
   },
   "outputs": [],
   "source": [
    "from lib.jianji.code_csf import csf\n",
    "from lib.model.resnet34 import ResNet34\n",
    "from lib.loss_function.PolyLoss import PolyBCELoss\n",
    "from lib.jianji.tool import *\n",
    "import torch \n",
    "from torch.utils.data import Dataset\n",
    "from torch import nn\n",
    "from torchsummary import summary\n",
    "from d2l import torch as d2l\n",
    "testset = csf(csv_path='negfountain.pkl', mode='valid')\n",
    "testloader = torch.utils.data.DataLoader(testset, batch_size=11364, drop_last=True, shuffle=False)"
   ]
  },
  {
   "cell_type": "code",
   "execution_count": 2,
   "id": "a93bcb9c-421b-45e3-9acc-8d629911015c",
   "metadata": {
    "execution": {
     "iopub.execute_input": "2023-11-15T09:53:18.189089Z",
     "iopub.status.busy": "2023-11-15T09:53:18.189089Z",
     "iopub.status.idle": "2023-11-15T09:53:18.205215Z",
     "shell.execute_reply": "2023-11-15T09:53:18.204767Z",
     "shell.execute_reply.started": "2023-11-15T09:53:18.189089Z"
    }
   },
   "outputs": [],
   "source": [
    "threshold_value_list = [0.05, 0.1 , 0.15, 0.2 , 0.25, 0.3 , 0.35, 0.4 , 0.45, 0.5 , 0.55, 0.6 , 0.65, 0.7 , \n",
    "                        0.75, 0.8 , 0.85, 0.9 , 0.95]"
   ]
  },
  {
   "cell_type": "code",
   "execution_count": 3,
   "id": "eca34def-a9e6-4092-be21-61665e4ed22c",
   "metadata": {
    "execution": {
     "iopub.execute_input": "2023-11-15T09:53:19.278454Z",
     "iopub.status.busy": "2023-11-15T09:53:19.278454Z",
     "iopub.status.idle": "2023-11-15T09:53:27.379620Z",
     "shell.execute_reply": "2023-11-15T09:53:27.378996Z",
     "shell.execute_reply.started": "2023-11-15T09:53:19.278454Z"
    }
   },
   "outputs": [
    {
     "name": "stdout",
     "output_type": "stream",
     "text": [
      "****************************************************************************************************\n",
      "0.05 0.01795142555438226\n",
      "0.1 0.01988736360436466\n",
      "0.15 0.021383315733896516\n",
      "0.2 0.022351284758887716\n"
     ]
    },
    {
     "ename": "KeyboardInterrupt",
     "evalue": "",
     "output_type": "error",
     "traceback": [
      "\u001b[1;31m---------------------------------------------------------------------------\u001b[0m",
      "\u001b[1;31mKeyboardInterrupt\u001b[0m                         Traceback (most recent call last)",
      "Cell \u001b[1;32mIn[3], line 6\u001b[0m\n\u001b[0;32m      4\u001b[0m \u001b[38;5;28mprint\u001b[39m(\u001b[38;5;124m'\u001b[39m\u001b[38;5;124m**\u001b[39m\u001b[38;5;124m'\u001b[39m\u001b[38;5;241m*\u001b[39m\u001b[38;5;241m50\u001b[39m)\n\u001b[0;32m      5\u001b[0m \u001b[38;5;28;01mfor\u001b[39;00m j \u001b[38;5;129;01min\u001b[39;00m threshold_value_list:\n\u001b[1;32m----> 6\u001b[0m     \u001b[38;5;28mprint\u001b[39m(j,\u001b[43mevalute_results\u001b[49m\u001b[43m(\u001b[49m\u001b[43mnet\u001b[49m\u001b[43m,\u001b[49m\u001b[43m \u001b[49m\u001b[43mtestloader\u001b[49m\u001b[43m,\u001b[49m\u001b[43m \u001b[49m\u001b[43mj\u001b[49m\u001b[43m,\u001b[49m\u001b[43m \u001b[49m\u001b[43md2l\u001b[49m\u001b[38;5;241;43m.\u001b[39;49m\u001b[43mtry_gpu\u001b[49m\u001b[43m(\u001b[49m\u001b[43m)\u001b[49m\u001b[43m)\u001b[49m)\n\u001b[0;32m      7\u001b[0m \u001b[38;5;28mprint\u001b[39m(\u001b[38;5;124m'\u001b[39m\u001b[38;5;124m**\u001b[39m\u001b[38;5;124m'\u001b[39m\u001b[38;5;241m*\u001b[39m\u001b[38;5;241m50\u001b[39m)\n",
      "File \u001b[1;32mE:\\workspace\\essay\\mbessay\\lib\\jianji\\tool.py:41\u001b[0m, in \u001b[0;36mevalute_results\u001b[1;34m(net, data_iter, threshold_value, device)\u001b[0m\n\u001b[0;32m     39\u001b[0m metric \u001b[38;5;241m=\u001b[39m d2l\u001b[38;5;241m.\u001b[39mAccumulator(\u001b[38;5;241m2\u001b[39m)\n\u001b[0;32m     40\u001b[0m \u001b[38;5;28;01mwith\u001b[39;00m torch\u001b[38;5;241m.\u001b[39mno_grad():\n\u001b[1;32m---> 41\u001b[0m     \u001b[38;5;28;01mfor\u001b[39;00m X, y \u001b[38;5;129;01min\u001b[39;00m data_iter:\n\u001b[0;32m     42\u001b[0m         X \u001b[38;5;241m=\u001b[39m X\u001b[38;5;241m.\u001b[39mto(device)\n\u001b[0;32m     43\u001b[0m         y \u001b[38;5;241m=\u001b[39m y\u001b[38;5;241m.\u001b[39mto(device)\n",
      "File \u001b[1;32m~\\.conda\\envs\\pytorch\\lib\\site-packages\\torch\\utils\\data\\dataloader.py:633\u001b[0m, in \u001b[0;36m_BaseDataLoaderIter.__next__\u001b[1;34m(self)\u001b[0m\n\u001b[0;32m    630\u001b[0m \u001b[38;5;28;01mif\u001b[39;00m \u001b[38;5;28mself\u001b[39m\u001b[38;5;241m.\u001b[39m_sampler_iter \u001b[38;5;129;01mis\u001b[39;00m \u001b[38;5;28;01mNone\u001b[39;00m:\n\u001b[0;32m    631\u001b[0m     \u001b[38;5;66;03m# TODO(https://github.com/pytorch/pytorch/issues/76750)\u001b[39;00m\n\u001b[0;32m    632\u001b[0m     \u001b[38;5;28mself\u001b[39m\u001b[38;5;241m.\u001b[39m_reset()  \u001b[38;5;66;03m# type: ignore[call-arg]\u001b[39;00m\n\u001b[1;32m--> 633\u001b[0m data \u001b[38;5;241m=\u001b[39m \u001b[38;5;28;43mself\u001b[39;49m\u001b[38;5;241;43m.\u001b[39;49m\u001b[43m_next_data\u001b[49m\u001b[43m(\u001b[49m\u001b[43m)\u001b[49m\n\u001b[0;32m    634\u001b[0m \u001b[38;5;28mself\u001b[39m\u001b[38;5;241m.\u001b[39m_num_yielded \u001b[38;5;241m+\u001b[39m\u001b[38;5;241m=\u001b[39m \u001b[38;5;241m1\u001b[39m\n\u001b[0;32m    635\u001b[0m \u001b[38;5;28;01mif\u001b[39;00m \u001b[38;5;28mself\u001b[39m\u001b[38;5;241m.\u001b[39m_dataset_kind \u001b[38;5;241m==\u001b[39m _DatasetKind\u001b[38;5;241m.\u001b[39mIterable \u001b[38;5;129;01mand\u001b[39;00m \\\n\u001b[0;32m    636\u001b[0m         \u001b[38;5;28mself\u001b[39m\u001b[38;5;241m.\u001b[39m_IterableDataset_len_called \u001b[38;5;129;01mis\u001b[39;00m \u001b[38;5;129;01mnot\u001b[39;00m \u001b[38;5;28;01mNone\u001b[39;00m \u001b[38;5;129;01mand\u001b[39;00m \\\n\u001b[0;32m    637\u001b[0m         \u001b[38;5;28mself\u001b[39m\u001b[38;5;241m.\u001b[39m_num_yielded \u001b[38;5;241m>\u001b[39m \u001b[38;5;28mself\u001b[39m\u001b[38;5;241m.\u001b[39m_IterableDataset_len_called:\n",
      "File \u001b[1;32m~\\.conda\\envs\\pytorch\\lib\\site-packages\\torch\\utils\\data\\dataloader.py:677\u001b[0m, in \u001b[0;36m_SingleProcessDataLoaderIter._next_data\u001b[1;34m(self)\u001b[0m\n\u001b[0;32m    675\u001b[0m \u001b[38;5;28;01mdef\u001b[39;00m \u001b[38;5;21m_next_data\u001b[39m(\u001b[38;5;28mself\u001b[39m):\n\u001b[0;32m    676\u001b[0m     index \u001b[38;5;241m=\u001b[39m \u001b[38;5;28mself\u001b[39m\u001b[38;5;241m.\u001b[39m_next_index()  \u001b[38;5;66;03m# may raise StopIteration\u001b[39;00m\n\u001b[1;32m--> 677\u001b[0m     data \u001b[38;5;241m=\u001b[39m \u001b[38;5;28;43mself\u001b[39;49m\u001b[38;5;241;43m.\u001b[39;49m\u001b[43m_dataset_fetcher\u001b[49m\u001b[38;5;241;43m.\u001b[39;49m\u001b[43mfetch\u001b[49m\u001b[43m(\u001b[49m\u001b[43mindex\u001b[49m\u001b[43m)\u001b[49m  \u001b[38;5;66;03m# may raise StopIteration\u001b[39;00m\n\u001b[0;32m    678\u001b[0m     \u001b[38;5;28;01mif\u001b[39;00m \u001b[38;5;28mself\u001b[39m\u001b[38;5;241m.\u001b[39m_pin_memory:\n\u001b[0;32m    679\u001b[0m         data \u001b[38;5;241m=\u001b[39m _utils\u001b[38;5;241m.\u001b[39mpin_memory\u001b[38;5;241m.\u001b[39mpin_memory(data, \u001b[38;5;28mself\u001b[39m\u001b[38;5;241m.\u001b[39m_pin_memory_device)\n",
      "File \u001b[1;32m~\\.conda\\envs\\pytorch\\lib\\site-packages\\torch\\utils\\data\\_utils\\fetch.py:51\u001b[0m, in \u001b[0;36m_MapDatasetFetcher.fetch\u001b[1;34m(self, possibly_batched_index)\u001b[0m\n\u001b[0;32m     49\u001b[0m         data \u001b[38;5;241m=\u001b[39m \u001b[38;5;28mself\u001b[39m\u001b[38;5;241m.\u001b[39mdataset\u001b[38;5;241m.\u001b[39m__getitems__(possibly_batched_index)\n\u001b[0;32m     50\u001b[0m     \u001b[38;5;28;01melse\u001b[39;00m:\n\u001b[1;32m---> 51\u001b[0m         data \u001b[38;5;241m=\u001b[39m [\u001b[38;5;28mself\u001b[39m\u001b[38;5;241m.\u001b[39mdataset[idx] \u001b[38;5;28;01mfor\u001b[39;00m idx \u001b[38;5;129;01min\u001b[39;00m possibly_batched_index]\n\u001b[0;32m     52\u001b[0m \u001b[38;5;28;01melse\u001b[39;00m:\n\u001b[0;32m     53\u001b[0m     data \u001b[38;5;241m=\u001b[39m \u001b[38;5;28mself\u001b[39m\u001b[38;5;241m.\u001b[39mdataset[possibly_batched_index]\n",
      "File \u001b[1;32m~\\.conda\\envs\\pytorch\\lib\\site-packages\\torch\\utils\\data\\_utils\\fetch.py:51\u001b[0m, in \u001b[0;36m<listcomp>\u001b[1;34m(.0)\u001b[0m\n\u001b[0;32m     49\u001b[0m         data \u001b[38;5;241m=\u001b[39m \u001b[38;5;28mself\u001b[39m\u001b[38;5;241m.\u001b[39mdataset\u001b[38;5;241m.\u001b[39m__getitems__(possibly_batched_index)\n\u001b[0;32m     50\u001b[0m     \u001b[38;5;28;01melse\u001b[39;00m:\n\u001b[1;32m---> 51\u001b[0m         data \u001b[38;5;241m=\u001b[39m [\u001b[38;5;28;43mself\u001b[39;49m\u001b[38;5;241;43m.\u001b[39;49m\u001b[43mdataset\u001b[49m\u001b[43m[\u001b[49m\u001b[43midx\u001b[49m\u001b[43m]\u001b[49m \u001b[38;5;28;01mfor\u001b[39;00m idx \u001b[38;5;129;01min\u001b[39;00m possibly_batched_index]\n\u001b[0;32m     52\u001b[0m \u001b[38;5;28;01melse\u001b[39;00m:\n\u001b[0;32m     53\u001b[0m     data \u001b[38;5;241m=\u001b[39m \u001b[38;5;28mself\u001b[39m\u001b[38;5;241m.\u001b[39mdataset[possibly_batched_index]\n",
      "File \u001b[1;32mE:\\workspace\\essay\\mbessay\\lib\\jianji\\code_csf.py:31\u001b[0m, in \u001b[0;36mcsf.__getitem__\u001b[1;34m(self, idx)\u001b[0m\n\u001b[0;32m     29\u001b[0m \u001b[38;5;66;03m# feature = feature[None, None, :] #for Conv2d\u001b[39;00m\n\u001b[0;32m     30\u001b[0m feature \u001b[38;5;241m=\u001b[39m feature[\u001b[38;5;28;01mNone\u001b[39;00m, :]\u001b[38;5;66;03m# for Conv1d\u001b[39;00m\n\u001b[1;32m---> 31\u001b[0m label \u001b[38;5;241m=\u001b[39m \u001b[43mnp\u001b[49m\u001b[38;5;241;43m.\u001b[39;49m\u001b[43marray\u001b[49m\u001b[43m(\u001b[49m\u001b[38;5;28;43mself\u001b[39;49m\u001b[38;5;241;43m.\u001b[39;49m\u001b[43mlabel_list\u001b[49m\u001b[43m[\u001b[49m\u001b[43midx\u001b[49m\u001b[43m]\u001b[49m\u001b[43m)\u001b[49m\u001b[38;5;241;43m.\u001b[39;49m\u001b[43mreshape\u001b[49m\u001b[43m(\u001b[49m\u001b[38;5;241;43m-\u001b[39;49m\u001b[38;5;241;43m1\u001b[39;49m\u001b[43m)\u001b[49m\u001b[38;5;241;43m.\u001b[39;49m\u001b[43mastype\u001b[49m\u001b[43m(\u001b[49m\u001b[43mnp\u001b[49m\u001b[38;5;241;43m.\u001b[39;49m\u001b[43mfloat32\u001b[49m\u001b[43m)\u001b[49m\n\u001b[0;32m     32\u001b[0m \u001b[38;5;28;01mreturn\u001b[39;00m  feature, label\n",
      "\u001b[1;31mKeyboardInterrupt\u001b[0m: "
     ]
    }
   ],
   "source": [
    "net = ResNet34()\n",
    "net.load_state_dict(torch.load('resnet34_acc_0.72.pth'))\n",
    "net.cuda()\n",
    "print('**'*50)\n",
    "for j in threshold_value_list:\n",
    "    print(j,evalute_results(net, testloader, j, d2l.try_gpu()))\n",
    "print('**'*50)"
   ]
  },
  {
   "cell_type": "code",
   "execution_count": 5,
   "id": "94e146fc-014e-4e72-82fc-55bb5d56b5aa",
   "metadata": {
    "execution": {
     "iopub.execute_input": "2023-11-06T13:03:08.359809Z",
     "iopub.status.busy": "2023-11-06T13:03:08.359809Z",
     "iopub.status.idle": "2023-11-06T13:03:08.503468Z",
     "shell.execute_reply": "2023-11-06T13:03:08.503468Z",
     "shell.execute_reply.started": "2023-11-06T13:03:08.359809Z"
    }
   },
   "outputs": [],
   "source": [
    "from lib.model.resnet34 import ResNet34"
   ]
  },
  {
   "cell_type": "code",
   "execution_count": 7,
   "id": "8172fe42-e5de-444e-93d9-b54998ca3745",
   "metadata": {
    "execution": {
     "iopub.execute_input": "2023-11-06T13:03:48.207920Z",
     "iopub.status.busy": "2023-11-06T13:03:48.207920Z",
     "iopub.status.idle": "2023-11-06T13:03:48.453562Z",
     "shell.execute_reply": "2023-11-06T13:03:48.453562Z",
     "shell.execute_reply.started": "2023-11-06T13:03:48.207920Z"
    }
   },
   "outputs": [
    {
     "data": {
      "text/plain": [
       "<All keys matched successfully>"
      ]
     },
     "execution_count": 7,
     "metadata": {},
     "output_type": "execute_result"
    }
   ],
   "source": [
    "net1 = ResNet34()\n",
    "net1.load_state_dict(torch.load('resnet34_acc_0.72.pth'))"
   ]
  },
  {
   "cell_type": "code",
   "execution_count": 8,
   "id": "f7fcc3bd-4324-4226-a81d-b6af2182167f",
   "metadata": {
    "execution": {
     "iopub.execute_input": "2023-11-06T13:04:11.909550Z",
     "iopub.status.busy": "2023-11-06T13:04:11.909550Z",
     "iopub.status.idle": "2023-11-06T13:04:43.236812Z",
     "shell.execute_reply": "2023-11-06T13:04:43.236284Z",
     "shell.execute_reply.started": "2023-11-06T13:04:11.909550Z"
    }
   },
   "outputs": [
    {
     "name": "stdout",
     "output_type": "stream",
     "text": [
      "****************************************************************************************************\n",
      "0.05 0.759451486013986\n",
      "0.1 0.7633304195804196\n",
      "0.15 0.7643138111888111\n",
      "0.2 0.7645323426573427\n",
      "0.25 0.7653518356643356\n",
      "0.3 0.7649694055944056\n",
      "0.35 0.7655157342657343\n",
      "0.4 0.7655157342657343\n",
      "0.45 0.765816215034965\n",
      "0.5 0.7658708479020979\n",
      "0.55 0.7656523164335665\n",
      "0.6 0.765816215034965\n",
      "0.65 0.765816215034965\n",
      "0.7 0.7660347465034965\n",
      "0.75 0.7650786713286714\n",
      "0.8 0.7651059877622378\n",
      "0.85 0.7653245192307693\n",
      "0.9 0.7650240384615384\n",
      "0.95 0.7638221153846154\n",
      "****************************************************************************************************\n"
     ]
    }
   ],
   "source": [
    "\n",
    "net1.cuda()\n",
    "print('**'*50)\n",
    "for j in threshold_value_list:\n",
    "    print(j,evalute_results(net1, testloader, j, d2l.try_gpu()))\n",
    "print('**'*50)"
   ]
  },
  {
   "cell_type": "code",
   "execution_count": 3,
   "id": "31d4e9fa-5035-4afa-8c12-fee756335bac",
   "metadata": {
    "execution": {
     "iopub.execute_input": "2023-11-07T11:46:43.747047Z",
     "iopub.status.busy": "2023-11-07T11:46:43.747047Z",
     "iopub.status.idle": "2023-11-07T11:46:44.305824Z",
     "shell.execute_reply": "2023-11-07T11:46:44.305108Z",
     "shell.execute_reply.started": "2023-11-07T11:46:43.747047Z"
    }
   },
   "outputs": [
    {
     "data": {
      "text/plain": [
       "<All keys matched successfully>"
      ]
     },
     "execution_count": 3,
     "metadata": {},
     "output_type": "execute_result"
    }
   ],
   "source": [
    "from lib.model.vgg19_bn import VGG19_BN\n",
    "from lib.model.vgg16_bn import VGG16_BN\n",
    "net2 = VGG19_BN()\n",
    "net3 = VGG16_BN()\n",
    "net2.load_state_dict(torch.load('vgg_19_acc_0.699.pth'))\n",
    "net3.load_state_dict(torch.load('vgg_16(threhd0.65_acc.0.709).pth'))"
   ]
  },
  {
   "cell_type": "code",
   "execution_count": 7,
   "id": "6b295573-ac3f-4b9b-abd1-d9f23f5d0d6f",
   "metadata": {
    "execution": {
     "iopub.execute_input": "2023-11-07T11:51:01.747817Z",
     "iopub.status.busy": "2023-11-07T11:51:01.746816Z",
     "iopub.status.idle": "2023-11-07T11:51:31.755497Z",
     "shell.execute_reply": "2023-11-07T11:51:31.755497Z",
     "shell.execute_reply.started": "2023-11-07T11:51:01.747817Z"
    }
   },
   "outputs": [
    {
     "name": "stdout",
     "output_type": "stream",
     "text": [
      "****************************************************************************************************\n",
      "0.05 0.9563778914590747\n",
      "0.1 0.9563778914590747\n",
      "0.15 0.9563917927046264\n",
      "0.2 0.9563639902135231\n",
      "0.25 0.9563361877224199\n",
      "0.3 0.9563639902135231\n",
      "0.35 0.9563778914590747\n",
      "0.4 0.9563361877224199\n",
      "0.45 0.9563639902135231\n",
      "0.5 0.9563500889679716\n",
      "0.55 0.9563639902135231\n",
      "0.6 0.9564056939501779\n",
      "0.65 0.9563778914590747\n",
      "0.7 0.9563361877224199\n",
      "0.75 0.9563778914590747\n",
      "0.8 0.9563500889679716\n",
      "0.85 0.9563778914590747\n",
      "0.9 0.9563778914590747\n",
      "0.95 0.9563778914590747\n",
      "****************************************************************************************************\n"
     ]
    }
   ],
   "source": [
    "\n",
    "net3.cuda()\n",
    "print('**'*50)\n",
    "for j in threshold_value_list:\n",
    "    print(j,evalute_results(net3, testloader, j, d2l.try_gpu()))\n",
    "print('**'*50)"
   ]
  },
  {
   "cell_type": "code",
   "execution_count": 43,
   "id": "a378866c-82a2-4ed1-8151-55b13f403d19",
   "metadata": {
    "execution": {
     "iopub.execute_input": "2023-11-09T10:31:21.661665Z",
     "iopub.status.busy": "2023-11-09T10:31:21.661665Z",
     "iopub.status.idle": "2023-11-09T10:31:24.950004Z",
     "shell.execute_reply": "2023-11-09T10:31:24.950004Z",
     "shell.execute_reply.started": "2023-11-09T10:31:21.661665Z"
    }
   },
   "outputs": [
    {
     "name": "stdout",
     "output_type": "stream",
     "text": [
      "0.25 0.042801935053380785\n"
     ]
    }
   ],
   "source": [
    "print(j,evalute_results(net, testloader, 1, d2l.try_gpu()))"
   ]
  },
  {
   "cell_type": "code",
   "execution_count": 44,
   "id": "4e80de6b-8806-48ab-9de3-f04b306909bc",
   "metadata": {
    "execution": {
     "iopub.execute_input": "2023-11-09T10:31:25.706106Z",
     "iopub.status.busy": "2023-11-09T10:31:25.706106Z",
     "iopub.status.idle": "2023-11-09T10:31:28.905866Z",
     "shell.execute_reply": "2023-11-09T10:31:28.905866Z",
     "shell.execute_reply.started": "2023-11-09T10:31:25.706106Z"
    }
   },
   "outputs": [
    {
     "data": {
      "text/plain": [
       "0.9717387677935944"
      ]
     },
     "execution_count": 44,
     "metadata": {},
     "output_type": "execute_result"
    }
   ],
   "source": [
    "evalute_results(net, testloader, 0.001, d2l.try_gpu())"
   ]
  },
  {
   "cell_type": "code",
   "execution_count": 45,
   "id": "3e5854a6-205b-4ae9-8a36-ea2ab0183808",
   "metadata": {
    "execution": {
     "iopub.execute_input": "2023-11-09T10:31:30.452119Z",
     "iopub.status.busy": "2023-11-09T10:31:30.452119Z",
     "iopub.status.idle": "2023-11-09T10:31:33.639113Z",
     "shell.execute_reply": "2023-11-09T10:31:33.639113Z",
     "shell.execute_reply.started": "2023-11-09T10:31:30.452119Z"
    }
   },
   "outputs": [
    {
     "data": {
      "text/plain": [
       "0.9571980649466192"
      ]
     },
     "execution_count": 45,
     "metadata": {},
     "output_type": "execute_result"
    }
   ],
   "source": [
    "evalute_results(net, testloader, 0, d2l.try_gpu())"
   ]
  },
  {
   "cell_type": "code",
   "execution_count": 8,
   "id": "dc52c836-3af3-48c3-8244-4ea8c22fbfee",
   "metadata": {
    "execution": {
     "iopub.execute_input": "2023-11-11T08:13:21.327735Z",
     "iopub.status.busy": "2023-11-11T08:13:21.326675Z",
     "iopub.status.idle": "2023-11-11T08:13:21.443569Z",
     "shell.execute_reply": "2023-11-11T08:13:21.443569Z",
     "shell.execute_reply.started": "2023-11-11T08:13:21.327735Z"
    }
   },
   "outputs": [
    {
     "data": {
      "text/html": [
       "<div>\n",
       "<style scoped>\n",
       "    .dataframe tbody tr th:only-of-type {\n",
       "        vertical-align: middle;\n",
       "    }\n",
       "\n",
       "    .dataframe tbody tr th {\n",
       "        vertical-align: top;\n",
       "    }\n",
       "\n",
       "    .dataframe thead th {\n",
       "        text-align: right;\n",
       "    }\n",
       "</style>\n",
       "<table border=\"1\" class=\"dataframe\">\n",
       "  <thead>\n",
       "    <tr style=\"text-align: right;\">\n",
       "      <th></th>\n",
       "      <th>0</th>\n",
       "      <th>1</th>\n",
       "      <th>2</th>\n",
       "      <th>3</th>\n",
       "      <th>4</th>\n",
       "      <th>5</th>\n",
       "      <th>6</th>\n",
       "      <th>7</th>\n",
       "      <th>8</th>\n",
       "      <th>9</th>\n",
       "      <th>...</th>\n",
       "      <th>144</th>\n",
       "      <th>145</th>\n",
       "      <th>146</th>\n",
       "      <th>147</th>\n",
       "      <th>148</th>\n",
       "      <th>149</th>\n",
       "      <th>150</th>\n",
       "      <th>151</th>\n",
       "      <th>new_column_name</th>\n",
       "      <th>152</th>\n",
       "    </tr>\n",
       "  </thead>\n",
       "  <tbody>\n",
       "    <tr>\n",
       "      <th>0</th>\n",
       "      <td>1</td>\n",
       "      <td>2</td>\n",
       "      <td>1</td>\n",
       "      <td>2</td>\n",
       "      <td>1</td>\n",
       "      <td>2</td>\n",
       "      <td>4</td>\n",
       "      <td>2</td>\n",
       "      <td>3</td>\n",
       "      <td>2</td>\n",
       "      <td>...</td>\n",
       "      <td>2</td>\n",
       "      <td>2</td>\n",
       "      <td>2</td>\n",
       "      <td>3</td>\n",
       "      <td>2</td>\n",
       "      <td>4</td>\n",
       "      <td>1</td>\n",
       "      <td>2</td>\n",
       "      <td>[0.9999875]</td>\n",
       "      <td>0</td>\n",
       "    </tr>\n",
       "    <tr>\n",
       "      <th>1</th>\n",
       "      <td>3</td>\n",
       "      <td>4</td>\n",
       "      <td>2</td>\n",
       "      <td>1</td>\n",
       "      <td>2</td>\n",
       "      <td>1</td>\n",
       "      <td>3</td>\n",
       "      <td>3</td>\n",
       "      <td>1</td>\n",
       "      <td>4</td>\n",
       "      <td>...</td>\n",
       "      <td>4</td>\n",
       "      <td>2</td>\n",
       "      <td>2</td>\n",
       "      <td>1</td>\n",
       "      <td>3</td>\n",
       "      <td>1</td>\n",
       "      <td>4</td>\n",
       "      <td>1</td>\n",
       "      <td>[0.9999969]</td>\n",
       "      <td>0</td>\n",
       "    </tr>\n",
       "    <tr>\n",
       "      <th>2</th>\n",
       "      <td>2</td>\n",
       "      <td>1</td>\n",
       "      <td>2</td>\n",
       "      <td>1</td>\n",
       "      <td>3</td>\n",
       "      <td>4</td>\n",
       "      <td>2</td>\n",
       "      <td>1</td>\n",
       "      <td>2</td>\n",
       "      <td>1</td>\n",
       "      <td>...</td>\n",
       "      <td>2</td>\n",
       "      <td>3</td>\n",
       "      <td>3</td>\n",
       "      <td>2</td>\n",
       "      <td>4</td>\n",
       "      <td>2</td>\n",
       "      <td>4</td>\n",
       "      <td>1</td>\n",
       "      <td>[1.0]</td>\n",
       "      <td>0</td>\n",
       "    </tr>\n",
       "    <tr>\n",
       "      <th>3</th>\n",
       "      <td>2</td>\n",
       "      <td>4</td>\n",
       "      <td>2</td>\n",
       "      <td>2</td>\n",
       "      <td>4</td>\n",
       "      <td>3</td>\n",
       "      <td>1</td>\n",
       "      <td>2</td>\n",
       "      <td>1</td>\n",
       "      <td>1</td>\n",
       "      <td>...</td>\n",
       "      <td>4</td>\n",
       "      <td>2</td>\n",
       "      <td>1</td>\n",
       "      <td>1</td>\n",
       "      <td>1</td>\n",
       "      <td>2</td>\n",
       "      <td>4</td>\n",
       "      <td>4</td>\n",
       "      <td>[0.9999987]</td>\n",
       "      <td>0</td>\n",
       "    </tr>\n",
       "    <tr>\n",
       "      <th>4</th>\n",
       "      <td>1</td>\n",
       "      <td>4</td>\n",
       "      <td>2</td>\n",
       "      <td>4</td>\n",
       "      <td>1</td>\n",
       "      <td>1</td>\n",
       "      <td>4</td>\n",
       "      <td>1</td>\n",
       "      <td>2</td>\n",
       "      <td>4</td>\n",
       "      <td>...</td>\n",
       "      <td>3</td>\n",
       "      <td>2</td>\n",
       "      <td>1</td>\n",
       "      <td>4</td>\n",
       "      <td>1</td>\n",
       "      <td>2</td>\n",
       "      <td>3</td>\n",
       "      <td>1</td>\n",
       "      <td>[0.99988925]</td>\n",
       "      <td>0</td>\n",
       "    </tr>\n",
       "    <tr>\n",
       "      <th>...</th>\n",
       "      <td>...</td>\n",
       "      <td>...</td>\n",
       "      <td>...</td>\n",
       "      <td>...</td>\n",
       "      <td>...</td>\n",
       "      <td>...</td>\n",
       "      <td>...</td>\n",
       "      <td>...</td>\n",
       "      <td>...</td>\n",
       "      <td>...</td>\n",
       "      <td>...</td>\n",
       "      <td>...</td>\n",
       "      <td>...</td>\n",
       "      <td>...</td>\n",
       "      <td>...</td>\n",
       "      <td>...</td>\n",
       "      <td>...</td>\n",
       "      <td>...</td>\n",
       "      <td>...</td>\n",
       "      <td>...</td>\n",
       "      <td>...</td>\n",
       "    </tr>\n",
       "    <tr>\n",
       "      <th>10214</th>\n",
       "      <td>4</td>\n",
       "      <td>3</td>\n",
       "      <td>3</td>\n",
       "      <td>1</td>\n",
       "      <td>3</td>\n",
       "      <td>2</td>\n",
       "      <td>2</td>\n",
       "      <td>1</td>\n",
       "      <td>4</td>\n",
       "      <td>1</td>\n",
       "      <td>...</td>\n",
       "      <td>4</td>\n",
       "      <td>3</td>\n",
       "      <td>1</td>\n",
       "      <td>2</td>\n",
       "      <td>2</td>\n",
       "      <td>4</td>\n",
       "      <td>4</td>\n",
       "      <td>2</td>\n",
       "      <td>[0.99998534]</td>\n",
       "      <td>0</td>\n",
       "    </tr>\n",
       "    <tr>\n",
       "      <th>10215</th>\n",
       "      <td>1</td>\n",
       "      <td>4</td>\n",
       "      <td>2</td>\n",
       "      <td>1</td>\n",
       "      <td>2</td>\n",
       "      <td>4</td>\n",
       "      <td>1</td>\n",
       "      <td>2</td>\n",
       "      <td>2</td>\n",
       "      <td>2</td>\n",
       "      <td>...</td>\n",
       "      <td>4</td>\n",
       "      <td>1</td>\n",
       "      <td>4</td>\n",
       "      <td>1</td>\n",
       "      <td>1</td>\n",
       "      <td>3</td>\n",
       "      <td>3</td>\n",
       "      <td>2</td>\n",
       "      <td>[0.9999995]</td>\n",
       "      <td>0</td>\n",
       "    </tr>\n",
       "    <tr>\n",
       "      <th>10216</th>\n",
       "      <td>3</td>\n",
       "      <td>2</td>\n",
       "      <td>4</td>\n",
       "      <td>2</td>\n",
       "      <td>3</td>\n",
       "      <td>2</td>\n",
       "      <td>3</td>\n",
       "      <td>3</td>\n",
       "      <td>4</td>\n",
       "      <td>1</td>\n",
       "      <td>...</td>\n",
       "      <td>1</td>\n",
       "      <td>2</td>\n",
       "      <td>1</td>\n",
       "      <td>4</td>\n",
       "      <td>2</td>\n",
       "      <td>3</td>\n",
       "      <td>4</td>\n",
       "      <td>3</td>\n",
       "      <td>[0.99999547]</td>\n",
       "      <td>0</td>\n",
       "    </tr>\n",
       "    <tr>\n",
       "      <th>10217</th>\n",
       "      <td>3</td>\n",
       "      <td>2</td>\n",
       "      <td>2</td>\n",
       "      <td>3</td>\n",
       "      <td>1</td>\n",
       "      <td>3</td>\n",
       "      <td>3</td>\n",
       "      <td>2</td>\n",
       "      <td>2</td>\n",
       "      <td>2</td>\n",
       "      <td>...</td>\n",
       "      <td>3</td>\n",
       "      <td>3</td>\n",
       "      <td>2</td>\n",
       "      <td>2</td>\n",
       "      <td>4</td>\n",
       "      <td>2</td>\n",
       "      <td>4</td>\n",
       "      <td>3</td>\n",
       "      <td>[0.9999651]</td>\n",
       "      <td>0</td>\n",
       "    </tr>\n",
       "    <tr>\n",
       "      <th>10218</th>\n",
       "      <td>2</td>\n",
       "      <td>1</td>\n",
       "      <td>4</td>\n",
       "      <td>2</td>\n",
       "      <td>1</td>\n",
       "      <td>1</td>\n",
       "      <td>1</td>\n",
       "      <td>4</td>\n",
       "      <td>2</td>\n",
       "      <td>4</td>\n",
       "      <td>...</td>\n",
       "      <td>2</td>\n",
       "      <td>2</td>\n",
       "      <td>3</td>\n",
       "      <td>1</td>\n",
       "      <td>4</td>\n",
       "      <td>2</td>\n",
       "      <td>1</td>\n",
       "      <td>2</td>\n",
       "      <td>[0.9999906]</td>\n",
       "      <td>0</td>\n",
       "    </tr>\n",
       "  </tbody>\n",
       "</table>\n",
       "<p>10219 rows × 154 columns</p>\n",
       "</div>"
      ],
      "text/plain": [
       "       0  1  2  3  4  5  6  7  8  9  ...  144  145  146  147  148  149  150  \\\n",
       "0      1  2  1  2  1  2  4  2  3  2  ...    2    2    2    3    2    4    1   \n",
       "1      3  4  2  1  2  1  3  3  1  4  ...    4    2    2    1    3    1    4   \n",
       "2      2  1  2  1  3  4  2  1  2  1  ...    2    3    3    2    4    2    4   \n",
       "3      2  4  2  2  4  3  1  2  1  1  ...    4    2    1    1    1    2    4   \n",
       "4      1  4  2  4  1  1  4  1  2  4  ...    3    2    1    4    1    2    3   \n",
       "...   .. .. .. .. .. .. .. .. .. ..  ...  ...  ...  ...  ...  ...  ...  ...   \n",
       "10214  4  3  3  1  3  2  2  1  4  1  ...    4    3    1    2    2    4    4   \n",
       "10215  1  4  2  1  2  4  1  2  2  2  ...    4    1    4    1    1    3    3   \n",
       "10216  3  2  4  2  3  2  3  3  4  1  ...    1    2    1    4    2    3    4   \n",
       "10217  3  2  2  3  1  3  3  2  2  2  ...    3    3    2    2    4    2    4   \n",
       "10218  2  1  4  2  1  1  1  4  2  4  ...    2    2    3    1    4    2    1   \n",
       "\n",
       "       151  new_column_name  152  \n",
       "0        2      [0.9999875]    0  \n",
       "1        1      [0.9999969]    0  \n",
       "2        1            [1.0]    0  \n",
       "3        4      [0.9999987]    0  \n",
       "4        1     [0.99988925]    0  \n",
       "...    ...              ...  ...  \n",
       "10214    2     [0.99998534]    0  \n",
       "10215    2      [0.9999995]    0  \n",
       "10216    3     [0.99999547]    0  \n",
       "10217    3      [0.9999651]    0  \n",
       "10218    2      [0.9999906]    0  \n",
       "\n",
       "[10219 rows x 154 columns]"
      ]
     },
     "execution_count": 8,
     "metadata": {},
     "output_type": "execute_result"
    }
   ],
   "source": [
    "import pandas as pd\n",
    "df = pd.read_pickle('allnegfountain_valided.pkl')\n",
    "df"
   ]
  },
  {
   "cell_type": "code",
   "execution_count": 4,
   "id": "2e63ce33-7a67-4884-abb4-42be8df05332",
   "metadata": {
    "execution": {
     "iopub.execute_input": "2023-11-15T09:53:31.707914Z",
     "iopub.status.busy": "2023-11-15T09:53:31.707914Z",
     "iopub.status.idle": "2023-11-15T09:53:32.328901Z",
     "shell.execute_reply": "2023-11-15T09:53:32.328901Z",
     "shell.execute_reply.started": "2023-11-15T09:53:31.707914Z"
    }
   },
   "outputs": [],
   "source": [
    "import numpy as np\n",
    "net.eval()\n",
    "output_list = []\n",
    "for X, y  in testloader:\n",
    "    with torch.no_grad():\n",
    "        # print(X*4)\n",
    "        X=X.cuda()\n",
    "        # list.append(net(X))\n",
    "        a = np.array(net(X).cpu())\n",
    "        # print(a)\n",
    "        output_list.extend(a)\n",
    "    break\n",
    "\n"
   ]
  },
  {
   "cell_type": "code",
   "execution_count": 5,
   "id": "1348eede-5263-4052-8025-0a0672dbb965",
   "metadata": {
    "execution": {
     "iopub.execute_input": "2023-11-15T09:53:32.901443Z",
     "iopub.status.busy": "2023-11-15T09:53:32.901443Z",
     "iopub.status.idle": "2023-11-15T09:53:32.917264Z",
     "shell.execute_reply": "2023-11-15T09:53:32.916853Z",
     "shell.execute_reply.started": "2023-11-15T09:53:32.901443Z"
    },
    "scrolled": true
   },
   "outputs": [
    {
     "data": {
      "text/plain": [
       "11364"
      ]
     },
     "execution_count": 5,
     "metadata": {},
     "output_type": "execute_result"
    }
   ],
   "source": [
    "len(output_list)"
   ]
  },
  {
   "cell_type": "code",
   "execution_count": 6,
   "id": "d5091d06-f5bb-4800-8237-a5f805a7e5ee",
   "metadata": {
    "execution": {
     "iopub.execute_input": "2023-11-11T08:12:50.075032Z",
     "iopub.status.busy": "2023-11-11T08:12:50.075032Z",
     "iopub.status.idle": "2023-11-11T08:12:50.585285Z",
     "shell.execute_reply": "2023-11-11T08:12:50.585034Z",
     "shell.execute_reply.started": "2023-11-11T08:12:50.075032Z"
    }
   },
   "outputs": [
    {
     "data": {
      "text/plain": [
       "1.0"
      ]
     },
     "execution_count": 6,
     "metadata": {},
     "output_type": "execute_result"
    }
   ],
   "source": [
    "evalute_results(net, testloader, 1, d2l.try_gpu())"
   ]
  },
  {
   "cell_type": "code",
   "execution_count": 6,
   "id": "026f97a2-4ffb-4fd7-a1df-9abd25ea00ae",
   "metadata": {
    "execution": {
     "iopub.execute_input": "2023-11-15T09:53:37.067980Z",
     "iopub.status.busy": "2023-11-15T09:53:37.067980Z",
     "iopub.status.idle": "2023-11-15T09:53:37.123409Z",
     "shell.execute_reply": "2023-11-15T09:53:37.122758Z",
     "shell.execute_reply.started": "2023-11-15T09:53:37.067980Z"
    }
   },
   "outputs": [],
   "source": [
    "import pandas as pd\n",
    "import pickle\n",
    "\n",
    "# 加载 pickle 文件\n",
    "with open('negfountain.pkl', 'rb') as file:\n",
    "    df = pickle.load(file)\n",
    "\n",
    "\n",
    "# 将列表值插入到 DataFrame 的第 153 列\n",
    "df.insert(152, 'new_column_name', output_list)\n",
    "\n",
    "# 保存回 pickle 文件\n",
    "with open('negfountain.pkl', 'wb') as file:\n",
    "    pickle.dump(df, file)"
   ]
  },
  {
   "cell_type": "code",
   "execution_count": 10,
   "id": "dbf1ad9a-c83a-4166-a5a8-59ac3d03798b",
   "metadata": {
    "execution": {
     "iopub.execute_input": "2023-11-10T15:13:59.143491Z",
     "iopub.status.busy": "2023-11-10T15:13:59.143491Z",
     "iopub.status.idle": "2023-11-10T15:13:59.151141Z",
     "shell.execute_reply": "2023-11-10T15:13:59.151141Z",
     "shell.execute_reply.started": "2023-11-10T15:13:59.143491Z"
    }
   },
   "outputs": [
    {
     "data": {
      "text/plain": [
       "<torch.utils.data.dataloader.DataLoader at 0x1abdeff2e90>"
      ]
     },
     "execution_count": 10,
     "metadata": {},
     "output_type": "execute_result"
    }
   ],
   "source": [
    "testloader"
   ]
  },
  {
   "cell_type": "code",
   "execution_count": 11,
   "id": "f0262fc9-8f20-453b-9a95-3b0f654173bf",
   "metadata": {
    "execution": {
     "iopub.execute_input": "2023-11-10T15:14:07.127600Z",
     "iopub.status.busy": "2023-11-10T15:14:07.126505Z",
     "iopub.status.idle": "2023-11-10T15:14:07.131275Z",
     "shell.execute_reply": "2023-11-10T15:14:07.131275Z",
     "shell.execute_reply.started": "2023-11-10T15:14:07.127600Z"
    }
   },
   "outputs": [
    {
     "data": {
      "text/plain": [
       "<lib.jianji.code_csf.csf at 0x1ab897d0910>"
      ]
     },
     "execution_count": 11,
     "metadata": {},
     "output_type": "execute_result"
    }
   ],
   "source": [
    "testset"
   ]
  },
  {
   "cell_type": "code",
   "execution_count": 7,
   "id": "f24de26c-701b-4a8d-ba82-cc47f28ea50a",
   "metadata": {
    "execution": {
     "iopub.execute_input": "2023-11-15T09:53:41.779950Z",
     "iopub.status.busy": "2023-11-15T09:53:41.779950Z",
     "iopub.status.idle": "2023-11-15T09:54:15.832488Z",
     "shell.execute_reply": "2023-11-15T09:54:15.832488Z",
     "shell.execute_reply.started": "2023-11-15T09:53:41.779950Z"
    }
   },
   "outputs": [],
   "source": [
    "import pandas as pd\n",
    "import pickle\n",
    "\n",
    "# 加载 pickle 文件\n",
    "with open('negfountain.pkl', 'rb') as file:\n",
    "    df = pickle.load(file)\n",
    "\n",
    "# 假设你的 DataFrame 已经准备好\n",
    "\n",
    "# 将 DataFrame 写入 Excel 文件\n",
    "    df.to_excel('negfountain.xlsx', index=False)"
   ]
  },
  {
   "cell_type": "code",
   "execution_count": 15,
   "id": "2beb8b38-575b-4ec9-a5d8-2b68256ea24f",
   "metadata": {
    "execution": {
     "iopub.execute_input": "2023-11-11T08:05:16.784253Z",
     "iopub.status.busy": "2023-11-11T08:05:16.784253Z",
     "iopub.status.idle": "2023-11-11T08:05:16.806916Z",
     "shell.execute_reply": "2023-11-11T08:05:16.806916Z",
     "shell.execute_reply.started": "2023-11-11T08:05:16.784253Z"
    }
   },
   "outputs": [
    {
     "data": {
      "text/html": [
       "<div>\n",
       "<style scoped>\n",
       "    .dataframe tbody tr th:only-of-type {\n",
       "        vertical-align: middle;\n",
       "    }\n",
       "\n",
       "    .dataframe tbody tr th {\n",
       "        vertical-align: top;\n",
       "    }\n",
       "\n",
       "    .dataframe thead th {\n",
       "        text-align: right;\n",
       "    }\n",
       "</style>\n",
       "<table border=\"1\" class=\"dataframe\">\n",
       "  <thead>\n",
       "    <tr style=\"text-align: right;\">\n",
       "      <th></th>\n",
       "      <th>0</th>\n",
       "      <th>1</th>\n",
       "      <th>2</th>\n",
       "      <th>3</th>\n",
       "      <th>4</th>\n",
       "      <th>5</th>\n",
       "      <th>6</th>\n",
       "      <th>7</th>\n",
       "      <th>8</th>\n",
       "      <th>9</th>\n",
       "      <th>...</th>\n",
       "      <th>143</th>\n",
       "      <th>144</th>\n",
       "      <th>145</th>\n",
       "      <th>146</th>\n",
       "      <th>147</th>\n",
       "      <th>148</th>\n",
       "      <th>149</th>\n",
       "      <th>150</th>\n",
       "      <th>151</th>\n",
       "      <th>152</th>\n",
       "    </tr>\n",
       "  </thead>\n",
       "  <tbody>\n",
       "    <tr>\n",
       "      <th>0</th>\n",
       "      <td>4</td>\n",
       "      <td>1</td>\n",
       "      <td>1</td>\n",
       "      <td>1</td>\n",
       "      <td>4</td>\n",
       "      <td>1</td>\n",
       "      <td>3</td>\n",
       "      <td>3</td>\n",
       "      <td>4</td>\n",
       "      <td>4</td>\n",
       "      <td>...</td>\n",
       "      <td>2</td>\n",
       "      <td>1</td>\n",
       "      <td>1</td>\n",
       "      <td>3</td>\n",
       "      <td>4</td>\n",
       "      <td>2</td>\n",
       "      <td>4</td>\n",
       "      <td>3</td>\n",
       "      <td>2</td>\n",
       "      <td>0</td>\n",
       "    </tr>\n",
       "    <tr>\n",
       "      <th>1</th>\n",
       "      <td>3</td>\n",
       "      <td>2</td>\n",
       "      <td>2</td>\n",
       "      <td>3</td>\n",
       "      <td>4</td>\n",
       "      <td>1</td>\n",
       "      <td>4</td>\n",
       "      <td>4</td>\n",
       "      <td>3</td>\n",
       "      <td>1</td>\n",
       "      <td>...</td>\n",
       "      <td>2</td>\n",
       "      <td>1</td>\n",
       "      <td>2</td>\n",
       "      <td>2</td>\n",
       "      <td>1</td>\n",
       "      <td>3</td>\n",
       "      <td>2</td>\n",
       "      <td>2</td>\n",
       "      <td>1</td>\n",
       "      <td>0</td>\n",
       "    </tr>\n",
       "    <tr>\n",
       "      <th>2</th>\n",
       "      <td>4</td>\n",
       "      <td>2</td>\n",
       "      <td>2</td>\n",
       "      <td>1</td>\n",
       "      <td>2</td>\n",
       "      <td>4</td>\n",
       "      <td>2</td>\n",
       "      <td>4</td>\n",
       "      <td>2</td>\n",
       "      <td>3</td>\n",
       "      <td>...</td>\n",
       "      <td>2</td>\n",
       "      <td>1</td>\n",
       "      <td>2</td>\n",
       "      <td>1</td>\n",
       "      <td>2</td>\n",
       "      <td>2</td>\n",
       "      <td>4</td>\n",
       "      <td>4</td>\n",
       "      <td>1</td>\n",
       "      <td>0</td>\n",
       "    </tr>\n",
       "    <tr>\n",
       "      <th>3</th>\n",
       "      <td>1</td>\n",
       "      <td>3</td>\n",
       "      <td>4</td>\n",
       "      <td>2</td>\n",
       "      <td>1</td>\n",
       "      <td>3</td>\n",
       "      <td>4</td>\n",
       "      <td>2</td>\n",
       "      <td>4</td>\n",
       "      <td>1</td>\n",
       "      <td>...</td>\n",
       "      <td>3</td>\n",
       "      <td>1</td>\n",
       "      <td>4</td>\n",
       "      <td>3</td>\n",
       "      <td>1</td>\n",
       "      <td>1</td>\n",
       "      <td>2</td>\n",
       "      <td>1</td>\n",
       "      <td>2</td>\n",
       "      <td>0</td>\n",
       "    </tr>\n",
       "    <tr>\n",
       "      <th>4</th>\n",
       "      <td>3</td>\n",
       "      <td>2</td>\n",
       "      <td>4</td>\n",
       "      <td>4</td>\n",
       "      <td>3</td>\n",
       "      <td>3</td>\n",
       "      <td>2</td>\n",
       "      <td>1</td>\n",
       "      <td>1</td>\n",
       "      <td>4</td>\n",
       "      <td>...</td>\n",
       "      <td>1</td>\n",
       "      <td>4</td>\n",
       "      <td>1</td>\n",
       "      <td>3</td>\n",
       "      <td>1</td>\n",
       "      <td>1</td>\n",
       "      <td>1</td>\n",
       "      <td>3</td>\n",
       "      <td>1</td>\n",
       "      <td>0</td>\n",
       "    </tr>\n",
       "    <tr>\n",
       "      <th>...</th>\n",
       "      <td>...</td>\n",
       "      <td>...</td>\n",
       "      <td>...</td>\n",
       "      <td>...</td>\n",
       "      <td>...</td>\n",
       "      <td>...</td>\n",
       "      <td>...</td>\n",
       "      <td>...</td>\n",
       "      <td>...</td>\n",
       "      <td>...</td>\n",
       "      <td>...</td>\n",
       "      <td>...</td>\n",
       "      <td>...</td>\n",
       "      <td>...</td>\n",
       "      <td>...</td>\n",
       "      <td>...</td>\n",
       "      <td>...</td>\n",
       "      <td>...</td>\n",
       "      <td>...</td>\n",
       "      <td>...</td>\n",
       "      <td>...</td>\n",
       "    </tr>\n",
       "    <tr>\n",
       "      <th>3136</th>\n",
       "      <td>2</td>\n",
       "      <td>1</td>\n",
       "      <td>3</td>\n",
       "      <td>3</td>\n",
       "      <td>2</td>\n",
       "      <td>2</td>\n",
       "      <td>2</td>\n",
       "      <td>1</td>\n",
       "      <td>1</td>\n",
       "      <td>1</td>\n",
       "      <td>...</td>\n",
       "      <td>1</td>\n",
       "      <td>2</td>\n",
       "      <td>2</td>\n",
       "      <td>3</td>\n",
       "      <td>4</td>\n",
       "      <td>1</td>\n",
       "      <td>3</td>\n",
       "      <td>4</td>\n",
       "      <td>2</td>\n",
       "      <td>0</td>\n",
       "    </tr>\n",
       "    <tr>\n",
       "      <th>3137</th>\n",
       "      <td>1</td>\n",
       "      <td>2</td>\n",
       "      <td>2</td>\n",
       "      <td>3</td>\n",
       "      <td>4</td>\n",
       "      <td>3</td>\n",
       "      <td>1</td>\n",
       "      <td>2</td>\n",
       "      <td>4</td>\n",
       "      <td>2</td>\n",
       "      <td>...</td>\n",
       "      <td>4</td>\n",
       "      <td>1</td>\n",
       "      <td>4</td>\n",
       "      <td>4</td>\n",
       "      <td>4</td>\n",
       "      <td>2</td>\n",
       "      <td>2</td>\n",
       "      <td>4</td>\n",
       "      <td>4</td>\n",
       "      <td>0</td>\n",
       "    </tr>\n",
       "    <tr>\n",
       "      <th>3138</th>\n",
       "      <td>4</td>\n",
       "      <td>1</td>\n",
       "      <td>2</td>\n",
       "      <td>1</td>\n",
       "      <td>1</td>\n",
       "      <td>3</td>\n",
       "      <td>2</td>\n",
       "      <td>2</td>\n",
       "      <td>2</td>\n",
       "      <td>3</td>\n",
       "      <td>...</td>\n",
       "      <td>3</td>\n",
       "      <td>2</td>\n",
       "      <td>3</td>\n",
       "      <td>3</td>\n",
       "      <td>1</td>\n",
       "      <td>4</td>\n",
       "      <td>4</td>\n",
       "      <td>4</td>\n",
       "      <td>2</td>\n",
       "      <td>0</td>\n",
       "    </tr>\n",
       "    <tr>\n",
       "      <th>3139</th>\n",
       "      <td>2</td>\n",
       "      <td>1</td>\n",
       "      <td>2</td>\n",
       "      <td>3</td>\n",
       "      <td>3</td>\n",
       "      <td>2</td>\n",
       "      <td>3</td>\n",
       "      <td>2</td>\n",
       "      <td>1</td>\n",
       "      <td>1</td>\n",
       "      <td>...</td>\n",
       "      <td>1</td>\n",
       "      <td>4</td>\n",
       "      <td>2</td>\n",
       "      <td>4</td>\n",
       "      <td>3</td>\n",
       "      <td>1</td>\n",
       "      <td>2</td>\n",
       "      <td>4</td>\n",
       "      <td>4</td>\n",
       "      <td>0</td>\n",
       "    </tr>\n",
       "    <tr>\n",
       "      <th>3140</th>\n",
       "      <td>3</td>\n",
       "      <td>4</td>\n",
       "      <td>4</td>\n",
       "      <td>2</td>\n",
       "      <td>2</td>\n",
       "      <td>1</td>\n",
       "      <td>2</td>\n",
       "      <td>2</td>\n",
       "      <td>4</td>\n",
       "      <td>1</td>\n",
       "      <td>...</td>\n",
       "      <td>1</td>\n",
       "      <td>1</td>\n",
       "      <td>4</td>\n",
       "      <td>3</td>\n",
       "      <td>1</td>\n",
       "      <td>3</td>\n",
       "      <td>1</td>\n",
       "      <td>1</td>\n",
       "      <td>4</td>\n",
       "      <td>0</td>\n",
       "    </tr>\n",
       "  </tbody>\n",
       "</table>\n",
       "<p>3141 rows × 153 columns</p>\n",
       "</div>"
      ],
      "text/plain": [
       "      0    1    2    3    4    5    6    7    8    9    ...  143  144  145  \\\n",
       "0       4    1    1    1    4    1    3    3    4    4  ...    2    1    1   \n",
       "1       3    2    2    3    4    1    4    4    3    1  ...    2    1    2   \n",
       "2       4    2    2    1    2    4    2    4    2    3  ...    2    1    2   \n",
       "3       1    3    4    2    1    3    4    2    4    1  ...    3    1    4   \n",
       "4       3    2    4    4    3    3    2    1    1    4  ...    1    4    1   \n",
       "...   ...  ...  ...  ...  ...  ...  ...  ...  ...  ...  ...  ...  ...  ...   \n",
       "3136    2    1    3    3    2    2    2    1    1    1  ...    1    2    2   \n",
       "3137    1    2    2    3    4    3    1    2    4    2  ...    4    1    4   \n",
       "3138    4    1    2    1    1    3    2    2    2    3  ...    3    2    3   \n",
       "3139    2    1    2    3    3    2    3    2    1    1  ...    1    4    2   \n",
       "3140    3    4    4    2    2    1    2    2    4    1  ...    1    1    4   \n",
       "\n",
       "      146  147  148  149  150  151  152  \n",
       "0       3    4    2    4    3    2    0  \n",
       "1       2    1    3    2    2    1    0  \n",
       "2       1    2    2    4    4    1    0  \n",
       "3       3    1    1    2    1    2    0  \n",
       "4       3    1    1    1    3    1    0  \n",
       "...   ...  ...  ...  ...  ...  ...  ...  \n",
       "3136    3    4    1    3    4    2    0  \n",
       "3137    4    4    2    2    4    4    0  \n",
       "3138    3    1    4    4    4    2    0  \n",
       "3139    4    3    1    2    4    4    0  \n",
       "3140    3    1    3    1    1    4    0  \n",
       "\n",
       "[3141 rows x 153 columns]"
      ]
     },
     "execution_count": 15,
     "metadata": {},
     "output_type": "execute_result"
    }
   ],
   "source": [
    "df"
   ]
  }
 ],
 "metadata": {
  "kernelspec": {
   "display_name": "Python 3 (ipykernel)",
   "language": "python",
   "name": "python3"
  },
  "language_info": {
   "codemirror_mode": {
    "name": "ipython",
    "version": 3
   },
   "file_extension": ".py",
   "mimetype": "text/x-python",
   "name": "python",
   "nbconvert_exporter": "python",
   "pygments_lexer": "ipython3",
   "version": "3.10.12"
  }
 },
 "nbformat": 4,
 "nbformat_minor": 5
}
