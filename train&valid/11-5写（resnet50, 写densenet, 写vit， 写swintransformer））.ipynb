{
 "cells": [
  {
   "cell_type": "code",
   "execution_count": 1,
   "id": "ed7bdf0b-832b-48f9-9340-189cbd7028b4",
   "metadata": {
    "execution": {
     "iopub.execute_input": "2023-11-05T11:08:58.901363Z",
     "iopub.status.busy": "2023-11-05T11:08:58.901363Z",
     "iopub.status.idle": "2023-11-05T11:08:59.870556Z",
     "shell.execute_reply": "2023-11-05T11:08:59.870556Z",
     "shell.execute_reply.started": "2023-11-05T11:08:58.901363Z"
    }
   },
   "outputs": [],
   "source": [
    "import torch\n",
    "from torch import nn\n",
    "from torchvision import models\n",
    "from torchsummary import summary\n",
    "import os\n",
    "os.environ['TORCH_HOME']='E:\\workspace\\essay\\chest_image_classification\\dataset\\CheXpert-v1.0-small\\Models_use'"
   ]
  },
  {
   "cell_type": "code",
   "execution_count": 2,
   "id": "d9fc59a9-d690-4c99-8dee-9506a152fc06",
   "metadata": {
    "execution": {
     "iopub.execute_input": "2023-11-05T11:09:00.291379Z",
     "iopub.status.busy": "2023-11-05T11:09:00.291379Z",
     "iopub.status.idle": "2023-11-05T11:09:00.688840Z",
     "shell.execute_reply": "2023-11-05T11:09:00.688287Z",
     "shell.execute_reply.started": "2023-11-05T11:09:00.291379Z"
    }
   },
   "outputs": [],
   "source": [
    "from lib.model.resnet50 import ResNet50"
   ]
  },
  {
   "cell_type": "code",
   "execution_count": 3,
   "id": "0c615bf8-5d62-4a77-8a9a-f33e1c233124",
   "metadata": {
    "execution": {
     "iopub.execute_input": "2023-11-05T11:09:01.256899Z",
     "iopub.status.busy": "2023-11-05T11:09:01.256899Z",
     "iopub.status.idle": "2023-11-05T11:09:01.272595Z",
     "shell.execute_reply": "2023-11-05T11:09:01.272339Z",
     "shell.execute_reply.started": "2023-11-05T11:09:01.256899Z"
    }
   },
   "outputs": [],
   "source": [
    "net = ResNet50()"
   ]
  },
  {
   "cell_type": "code",
   "execution_count": null,
   "id": "6f408626-35bb-4e4c-8cfb-b0fbf47427e2",
   "metadata": {},
   "outputs": [],
   "source": [
    "summary(net, (1, 152), 256, 'cpu')"
   ]
  },
  {
   "cell_type": "code",
   "execution_count": null,
   "id": "399e57a3-f212-4785-9365-5b414495469f",
   "metadata": {},
   "outputs": [],
   "source": [
    "X = torch.rand(size=(256, 1, 152), dtype=torch.float32)\n",
    "for layer in net:\n",
    "    X = layer(X)\n",
    "    print(layer.__class__.__name__,'output shape: \\t',X.shape)"
   ]
  },
  {
   "cell_type": "code",
   "execution_count": 11,
   "id": "966c541b-680e-4127-b09b-585a2fd206b9",
   "metadata": {
    "execution": {
     "iopub.execute_input": "2023-11-05T11:37:26.799401Z",
     "iopub.status.busy": "2023-11-05T11:37:26.799401Z",
     "iopub.status.idle": "2023-11-05T11:37:26.986467Z",
     "shell.execute_reply": "2023-11-05T11:37:26.985466Z",
     "shell.execute_reply.started": "2023-11-05T11:37:26.799401Z"
    }
   },
   "outputs": [],
   "source": [
    "import torch\n",
    "from torch import nn\n",
    "from torch.nn import functional as F\n",
    "from d2l import torch as d2l\n",
    "\n",
    "class Residual(nn.Module): #@save\n",
    "    def __init__(self, input_channels, num_channels, output_channels, use_1x1conv=False, strides=1):\n",
    "        super().__init__()\n",
    "        self.conv1 = nn.Conv1d(input_channels, num_channels, kernel_size=1, \n",
    "                               padding=0, stride=1)\n",
    "        self.conv2 = nn.Conv1d(num_channels, num_channels, kernel_size=3, stride=strides, padding=1)\n",
    "        self.conv3 = nn.Conv1d(num_channels, output_channels, kernel_size=1)\n",
    "        if use_1x1conv:\n",
    "            self.conv4 = nn.Conv1d(input_channels, output_channels, kernel_size=1, stride=1)\n",
    "        else:\n",
    "            self.conv4 = None\n",
    "        self.bn1 = nn.BatchNorm1d(num_channels)\n",
    "        self.bn2 = nn.BatchNorm1d(num_channels)\n",
    "        self.bn3 = nn.BatchNorm1d(output_channels)\n",
    "\n",
    "    def forward(self, X):\n",
    "        Y = F.relu(self.bn1(self.conv1(X)))\n",
    "        Y = F.relu(self.bn2(self.conv2(Y)))\n",
    "        Y = self.bn3(self.conv3(Y))\n",
    "        if self.conv4:\n",
    "            X = self.conv4(X)\n",
    "        Y += X\n",
    "        return F.relu(Y)\n",
    "\n",
    "b1 = nn.Sequential(\n",
    "            nn.Conv1d(1, 64, kernel_size=7, stride=2, padding=3),\n",
    "            nn.BatchNorm1d(64), nn.ReLU(),\n",
    "            # nn.MaxPool1d(kernel_size=3, stride=2, padding=1)\n",
    ")\n",
    "\n",
    "def resnet_block(input_channels, num_channels, output_channels, num_residuals, first_block=False):\n",
    "    blk = []\n",
    "    for i in range(num_residuals):\n",
    "        if i == 0 and not first_block:\n",
    "            blk.append(Residual(input_channels, num_channels, output_channels,  use_1x1conv=True))\n",
    "        else:\n",
    "            blk.append(Residual(input_channels, num_channels, output_channels))\n",
    "    return blk\n",
    "\n",
    "b2 = nn.Sequential(*resnet_block(64, 64, 256, 1),\n",
    "                  *resnet_block(256, 64, 256, 2, first_block=True))\n",
    "b3 = nn.Sequential(*resnet_block(256, 128, 512, 1),\n",
    "                  *resnet_block(512, 128, 512, 3, first_block=True))\n",
    "b4 = nn.Sequential(*resnet_block(512, 256, 1024, 1),\n",
    "                  *resnet_block(1024, 256, 1024, 5, first_block=True))\n",
    "b5 = nn.Sequential(*resnet_block(1024, 512, 2048, 1),\n",
    "                  *resnet_block(2048, 512, 2048, 2, first_block=True))\n",
    "\n",
    "net = nn.Sequential(\n",
    "                    b1, \n",
    "                    b2, \n",
    "                    nn.MaxPool1d(kernel_size=3, stride=2, padding=1),\n",
    "                    b3, \n",
    "                    nn.MaxPool1d(kernel_size=3, stride=2, padding=1),\n",
    "    b4, \n",
    "    nn.MaxPool1d(kernel_size=3, stride=2, padding=1),\n",
    "    b5,\n",
    "    nn.AdaptiveAvgPool1d(2),\n",
    "    nn.Flatten(), \n",
    "    nn.Sequential(\n",
    "            nn.Linear(2048*2, 4096), nn.ReLU(), ### 这边需要改，输入的大小\n",
    "            nn.BatchNorm1d(4096),\n",
    "            # nn.Dropout(p=0.5),\n",
    "            nn.Linear(4096, 1024), nn.ReLU(),\n",
    "            nn.BatchNorm1d(1024),\n",
    "            # nn.Dropout(p=0.5),\n",
    "            nn.Linear(1024, 256), nn.ReLU(),\n",
    "            nn.BatchNorm1d(256),\n",
    "            # nn.Dropout(p=0.5),\n",
    "            # nn.Linear(512, 256), nn.ReLU(),\n",
    "            nn.Linear(256, 64), nn.ReLU(),\n",
    "            nn.BatchNorm1d(64),\n",
    "            # nn.Linear(64, 16), nn.ReLU(),\n",
    "            nn.Linear(64, 1), nn.Sigmoid()\n",
    "        )\n",
    ")\n",
    "\n",
    "def ResNet50():\n",
    "    return net\n"
   ]
  },
  {
   "cell_type": "code",
   "execution_count": 12,
   "id": "4a80874b-26c2-492a-a64e-81907788b2a5",
   "metadata": {
    "execution": {
     "iopub.execute_input": "2023-11-05T11:37:27.487815Z",
     "iopub.status.busy": "2023-11-05T11:37:27.486723Z",
     "iopub.status.idle": "2023-11-05T11:37:27.495189Z",
     "shell.execute_reply": "2023-11-05T11:37:27.495189Z",
     "shell.execute_reply.started": "2023-11-05T11:37:27.487815Z"
    }
   },
   "outputs": [],
   "source": [
    "net = ResNet50()"
   ]
  },
  {
   "cell_type": "code",
   "execution_count": 13,
   "id": "fa8f71c3-3c8d-4ef4-8f97-1a7b482f3ee0",
   "metadata": {
    "execution": {
     "iopub.execute_input": "2023-11-05T11:37:28.037075Z",
     "iopub.status.busy": "2023-11-05T11:37:28.037075Z",
     "iopub.status.idle": "2023-11-05T11:37:28.635048Z",
     "shell.execute_reply": "2023-11-05T11:37:28.635048Z",
     "shell.execute_reply.started": "2023-11-05T11:37:28.037075Z"
    }
   },
   "outputs": [
    {
     "name": "stdout",
     "output_type": "stream",
     "text": [
      "Sequential output shape: \t torch.Size([256, 64, 76])\n",
      "Sequential output shape: \t torch.Size([256, 256, 76])\n",
      "MaxPool1d output shape: \t torch.Size([256, 256, 38])\n",
      "Sequential output shape: \t torch.Size([256, 512, 38])\n",
      "MaxPool1d output shape: \t torch.Size([256, 512, 19])\n",
      "Sequential output shape: \t torch.Size([256, 1024, 19])\n",
      "MaxPool1d output shape: \t torch.Size([256, 1024, 10])\n",
      "Sequential output shape: \t torch.Size([256, 2048, 10])\n",
      "AdaptiveAvgPool1d output shape: \t torch.Size([256, 2048, 2])\n",
      "Flatten output shape: \t torch.Size([256, 4096])\n",
      "Sequential output shape: \t torch.Size([256, 1])\n"
     ]
    }
   ],
   "source": [
    "X = torch.rand(size=(256, 1, 152), dtype=torch.float32)\n",
    "for layer in net:\n",
    "    X = layer(X)\n",
    "    print(layer.__class__.__name__,'output shape: \\t',X.shape)"
   ]
  },
  {
   "cell_type": "code",
   "execution_count": null,
   "id": "03a7d9fd-47c9-4217-a31a-3c29ee1bab88",
   "metadata": {},
   "outputs": [],
   "source": []
  }
 ],
 "metadata": {
  "kernelspec": {
   "display_name": "Python 3 (ipykernel)",
   "language": "python",
   "name": "python3"
  },
  "language_info": {
   "codemirror_mode": {
    "name": "ipython",
    "version": 3
   },
   "file_extension": ".py",
   "mimetype": "text/x-python",
   "name": "python",
   "nbconvert_exporter": "python",
   "pygments_lexer": "ipython3",
   "version": "3.10.12"
  }
 },
 "nbformat": 4,
 "nbformat_minor": 5
}
