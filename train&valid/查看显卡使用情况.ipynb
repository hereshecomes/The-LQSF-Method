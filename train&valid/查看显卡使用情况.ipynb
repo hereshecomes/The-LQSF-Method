{
 "cells": [
  {
   "cell_type": "code",
   "execution_count": 13,
   "id": "df9ef4af-2ba4-41a5-a255-5e41276b0ad2",
   "metadata": {
    "execution": {
     "iopub.execute_input": "2023-11-04T16:01:14.891509Z",
     "iopub.status.busy": "2023-11-04T16:01:14.891509Z",
     "iopub.status.idle": "2023-11-04T16:01:15.041417Z",
     "shell.execute_reply": "2023-11-04T16:01:15.041356Z",
     "shell.execute_reply.started": "2023-11-04T16:01:14.891509Z"
    }
   },
   "outputs": [
    {
     "data": {
      "text/plain": [
       "['Sun Nov  5 00:01:14 2023       ',\n",
       " '+-----------------------------------------------------------------------------+',\n",
       " '| NVIDIA-SMI 528.24       Driver Version: 528.24       CUDA Version: 12.0     |',\n",
       " '|-------------------------------+----------------------+----------------------+',\n",
       " '| GPU  Name            TCC/WDDM | Bus-Id        Disp.A | Volatile Uncorr. ECC |',\n",
       " '| Fan  Temp  Perf  Pwr:Usage/Cap|         Memory-Usage | GPU-Util  Compute M. |',\n",
       " '|                               |                      |               MIG M. |',\n",
       " '|===============================+======================+======================|',\n",
       " '|   0  NVIDIA GeForce ... WDDM  | 00000000:01:00.0  On |                  Off |',\n",
       " '| 43%   36C    P3    78W / 450W |   2627MiB / 24564MiB |     38%      Default |',\n",
       " '|                               |                      |                  N/A |',\n",
       " '+-------------------------------+----------------------+----------------------+',\n",
       " '                                                                               ',\n",
       " '+-----------------------------------------------------------------------------+',\n",
       " '| Processes:                                                                  |',\n",
       " '|  GPU   GI   CI        PID   Type   Process name                  GPU Memory |',\n",
       " '|        ID   ID                                                   Usage      |',\n",
       " '|=============================================================================|',\n",
       " '|    0   N/A  N/A      3600    C+G   ...n1h2txyewy\\\\SearchHost.exe    N/A      |',\n",
       " '|    0   N/A  N/A      4184    C+G   ...088.76\\\\msedgewebview2.exe    N/A      |',\n",
       " '|    0   N/A  N/A      4328    C+G   ...ge\\\\Application\\\\msedge.exe    N/A      |',\n",
       " '|    0   N/A  N/A     13016    C+G   ...artMenuExperienceHost.exe    N/A      |',\n",
       " '|    0   N/A  N/A     13828    C+G   ...y\\\\ShellExperienceHost.exe    N/A      |',\n",
       " '|    0   N/A  N/A     13920    C+G   ...wekyb3d8bbwe\\\\Video.UI.exe    N/A      |',\n",
       " '|    0   N/A  N/A     14456    C+G   ...cw5n1h2txyewy\\\\LockApp.exe    N/A      |',\n",
       " '|    0   N/A  N/A     16224    C+G   ...d\\\\runtime\\\\WeChatAppEx.exe    N/A      |',\n",
       " '|    0   N/A  N/A     16340    C+G   ...Device\\\\asus_framework.exe    N/A      |',\n",
       " '|    0   N/A  N/A     19136    C+G   C:\\\\Windows\\\\explorer.exe         N/A      |',\n",
       " '|    0   N/A  N/A     21352    C+G   ...oft\\\\OneDrive\\\\OneDrive.exe    N/A      |',\n",
       " '|    0   N/A  N/A     22236    C+G   ...e\\\\PhoneExperienceHost.exe    N/A      |',\n",
       " '|    0   N/A  N/A     23328      C   ...a\\\\envs\\\\pytorch\\\\python.exe    N/A      |',\n",
       " '|    0   N/A  N/A     24696    C+G   ...oft\\\\OneDrive\\\\OneDrive.exe    N/A      |',\n",
       " '|    0   N/A  N/A     28276    C+G   ...2txyewy\\\\TextInputHost.exe    N/A      |',\n",
       " '+-----------------------------------------------------------------------------+']"
      ]
     },
     "execution_count": 13,
     "metadata": {},
     "output_type": "execute_result"
    }
   ],
   "source": [
    "!!nvidia-smi"
   ]
  },
  {
   "cell_type": "code",
   "execution_count": null,
   "id": "ff1bacc1-3b8d-4126-82ab-35155d33bf5f",
   "metadata": {},
   "outputs": [],
   "source": []
  },
  {
   "cell_type": "code",
   "execution_count": null,
   "id": "bcaa248c-b8bb-4ccf-8b6a-bd6d54ff2135",
   "metadata": {},
   "outputs": [],
   "source": []
  },
  {
   "cell_type": "code",
   "execution_count": null,
   "id": "b068c302-3252-4962-acc4-e8b3115cc1f6",
   "metadata": {},
   "outputs": [],
   "source": []
  }
 ],
 "metadata": {
  "kernelspec": {
   "display_name": "Python 3 (ipykernel)",
   "language": "python",
   "name": "python3"
  },
  "language_info": {
   "codemirror_mode": {
    "name": "ipython",
    "version": 3
   },
   "file_extension": ".py",
   "mimetype": "text/x-python",
   "name": "python",
   "nbconvert_exporter": "python",
   "pygments_lexer": "ipython3",
   "version": "3.10.12"
  }
 },
 "nbformat": 4,
 "nbformat_minor": 5
}
