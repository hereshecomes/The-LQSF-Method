{
 "cells": [
  {
   "cell_type": "code",
   "execution_count": 1,
   "id": "9f4b52fc-4c0a-4f2e-acdd-d4f1fb9925c9",
   "metadata": {
    "execution": {
     "iopub.execute_input": "2023-11-04T15:35:46.448007Z",
     "iopub.status.busy": "2023-11-04T15:35:46.448007Z",
     "iopub.status.idle": "2023-11-04T15:35:47.427993Z",
     "shell.execute_reply": "2023-11-04T15:35:47.427993Z",
     "shell.execute_reply.started": "2023-11-04T15:35:46.448007Z"
    }
   },
   "outputs": [],
   "source": [
    "import torch\n",
    "from torch import nn\n",
    "from torchsummary import summary\n",
    "from torchvision import models"
   ]
  },
  {
   "cell_type": "code",
   "execution_count": 2,
   "id": "9e97b9e9-7363-4055-a698-270bce3b9308",
   "metadata": {
    "execution": {
     "iopub.execute_input": "2023-11-04T15:35:48.431350Z",
     "iopub.status.busy": "2023-11-04T15:35:48.431350Z",
     "iopub.status.idle": "2023-11-04T15:35:48.451495Z",
     "shell.execute_reply": "2023-11-04T15:35:48.451495Z",
     "shell.execute_reply.started": "2023-11-04T15:35:48.431350Z"
    }
   },
   "outputs": [],
   "source": [
    "import os\n",
    "os.environ['TORCH_HOME']='E:\\workspace\\essay\\chest_image_classification\\dataset\\CheXpert-v1.0-small\\Models_use'"
   ]
  },
  {
   "cell_type": "code",
   "execution_count": 3,
   "id": "337fbe89-980f-4f8a-b24d-d8f56ee9737a",
   "metadata": {
    "execution": {
     "iopub.execute_input": "2023-11-04T12:24:24.057599Z",
     "iopub.status.busy": "2023-11-04T12:24:24.057599Z",
     "iopub.status.idle": "2023-11-04T12:24:24.383122Z",
     "shell.execute_reply": "2023-11-04T12:24:24.382566Z",
     "shell.execute_reply.started": "2023-11-04T12:24:24.057599Z"
    }
   },
   "outputs": [
    {
     "name": "stderr",
     "output_type": "stream",
     "text": [
      "C:\\Users\\jiang su\\.conda\\envs\\pytorch\\lib\\site-packages\\torchvision\\models\\_utils.py:208: UserWarning: The parameter 'pretrained' is deprecated since 0.13 and may be removed in the future, please use 'weights' instead.\n",
      "  warnings.warn(\n",
      "C:\\Users\\jiang su\\.conda\\envs\\pytorch\\lib\\site-packages\\torchvision\\models\\_utils.py:223: UserWarning: Arguments other than a weight enum or `None` for 'weights' are deprecated since 0.13 and may be removed in the future. The current behavior is equivalent to passing `weights=ResNet34_Weights.IMAGENET1K_V1`. You can also use `weights=ResNet34_Weights.DEFAULT` to get the most up-to-date weights.\n",
      "  warnings.warn(msg)\n"
     ]
    }
   ],
   "source": [
    "net = models.resnet34(pretrained = True)"
   ]
  },
  {
   "cell_type": "code",
   "execution_count": 4,
   "id": "0e4e8c8a-b810-491d-b94c-002272fada90",
   "metadata": {
    "execution": {
     "iopub.execute_input": "2023-11-04T12:24:27.435157Z",
     "iopub.status.busy": "2023-11-04T12:24:27.435157Z",
     "iopub.status.idle": "2023-11-04T12:24:27.443320Z",
     "shell.execute_reply": "2023-11-04T12:24:27.443067Z",
     "shell.execute_reply.started": "2023-11-04T12:24:27.435157Z"
    }
   },
   "outputs": [
    {
     "data": {
      "text/plain": [
       "ResNet(\n",
       "  (conv1): Conv2d(3, 64, kernel_size=(7, 7), stride=(2, 2), padding=(3, 3), bias=False)\n",
       "  (bn1): BatchNorm2d(64, eps=1e-05, momentum=0.1, affine=True, track_running_stats=True)\n",
       "  (relu): ReLU(inplace=True)\n",
       "  (maxpool): MaxPool2d(kernel_size=3, stride=2, padding=1, dilation=1, ceil_mode=False)\n",
       "  (layer1): Sequential(\n",
       "    (0): BasicBlock(\n",
       "      (conv1): Conv2d(64, 64, kernel_size=(3, 3), stride=(1, 1), padding=(1, 1), bias=False)\n",
       "      (bn1): BatchNorm2d(64, eps=1e-05, momentum=0.1, affine=True, track_running_stats=True)\n",
       "      (relu): ReLU(inplace=True)\n",
       "      (conv2): Conv2d(64, 64, kernel_size=(3, 3), stride=(1, 1), padding=(1, 1), bias=False)\n",
       "      (bn2): BatchNorm2d(64, eps=1e-05, momentum=0.1, affine=True, track_running_stats=True)\n",
       "    )\n",
       "    (1): BasicBlock(\n",
       "      (conv1): Conv2d(64, 64, kernel_size=(3, 3), stride=(1, 1), padding=(1, 1), bias=False)\n",
       "      (bn1): BatchNorm2d(64, eps=1e-05, momentum=0.1, affine=True, track_running_stats=True)\n",
       "      (relu): ReLU(inplace=True)\n",
       "      (conv2): Conv2d(64, 64, kernel_size=(3, 3), stride=(1, 1), padding=(1, 1), bias=False)\n",
       "      (bn2): BatchNorm2d(64, eps=1e-05, momentum=0.1, affine=True, track_running_stats=True)\n",
       "    )\n",
       "    (2): BasicBlock(\n",
       "      (conv1): Conv2d(64, 64, kernel_size=(3, 3), stride=(1, 1), padding=(1, 1), bias=False)\n",
       "      (bn1): BatchNorm2d(64, eps=1e-05, momentum=0.1, affine=True, track_running_stats=True)\n",
       "      (relu): ReLU(inplace=True)\n",
       "      (conv2): Conv2d(64, 64, kernel_size=(3, 3), stride=(1, 1), padding=(1, 1), bias=False)\n",
       "      (bn2): BatchNorm2d(64, eps=1e-05, momentum=0.1, affine=True, track_running_stats=True)\n",
       "    )\n",
       "  )\n",
       "  (layer2): Sequential(\n",
       "    (0): BasicBlock(\n",
       "      (conv1): Conv2d(64, 128, kernel_size=(3, 3), stride=(2, 2), padding=(1, 1), bias=False)\n",
       "      (bn1): BatchNorm2d(128, eps=1e-05, momentum=0.1, affine=True, track_running_stats=True)\n",
       "      (relu): ReLU(inplace=True)\n",
       "      (conv2): Conv2d(128, 128, kernel_size=(3, 3), stride=(1, 1), padding=(1, 1), bias=False)\n",
       "      (bn2): BatchNorm2d(128, eps=1e-05, momentum=0.1, affine=True, track_running_stats=True)\n",
       "      (downsample): Sequential(\n",
       "        (0): Conv2d(64, 128, kernel_size=(1, 1), stride=(2, 2), bias=False)\n",
       "        (1): BatchNorm2d(128, eps=1e-05, momentum=0.1, affine=True, track_running_stats=True)\n",
       "      )\n",
       "    )\n",
       "    (1): BasicBlock(\n",
       "      (conv1): Conv2d(128, 128, kernel_size=(3, 3), stride=(1, 1), padding=(1, 1), bias=False)\n",
       "      (bn1): BatchNorm2d(128, eps=1e-05, momentum=0.1, affine=True, track_running_stats=True)\n",
       "      (relu): ReLU(inplace=True)\n",
       "      (conv2): Conv2d(128, 128, kernel_size=(3, 3), stride=(1, 1), padding=(1, 1), bias=False)\n",
       "      (bn2): BatchNorm2d(128, eps=1e-05, momentum=0.1, affine=True, track_running_stats=True)\n",
       "    )\n",
       "    (2): BasicBlock(\n",
       "      (conv1): Conv2d(128, 128, kernel_size=(3, 3), stride=(1, 1), padding=(1, 1), bias=False)\n",
       "      (bn1): BatchNorm2d(128, eps=1e-05, momentum=0.1, affine=True, track_running_stats=True)\n",
       "      (relu): ReLU(inplace=True)\n",
       "      (conv2): Conv2d(128, 128, kernel_size=(3, 3), stride=(1, 1), padding=(1, 1), bias=False)\n",
       "      (bn2): BatchNorm2d(128, eps=1e-05, momentum=0.1, affine=True, track_running_stats=True)\n",
       "    )\n",
       "    (3): BasicBlock(\n",
       "      (conv1): Conv2d(128, 128, kernel_size=(3, 3), stride=(1, 1), padding=(1, 1), bias=False)\n",
       "      (bn1): BatchNorm2d(128, eps=1e-05, momentum=0.1, affine=True, track_running_stats=True)\n",
       "      (relu): ReLU(inplace=True)\n",
       "      (conv2): Conv2d(128, 128, kernel_size=(3, 3), stride=(1, 1), padding=(1, 1), bias=False)\n",
       "      (bn2): BatchNorm2d(128, eps=1e-05, momentum=0.1, affine=True, track_running_stats=True)\n",
       "    )\n",
       "  )\n",
       "  (layer3): Sequential(\n",
       "    (0): BasicBlock(\n",
       "      (conv1): Conv2d(128, 256, kernel_size=(3, 3), stride=(2, 2), padding=(1, 1), bias=False)\n",
       "      (bn1): BatchNorm2d(256, eps=1e-05, momentum=0.1, affine=True, track_running_stats=True)\n",
       "      (relu): ReLU(inplace=True)\n",
       "      (conv2): Conv2d(256, 256, kernel_size=(3, 3), stride=(1, 1), padding=(1, 1), bias=False)\n",
       "      (bn2): BatchNorm2d(256, eps=1e-05, momentum=0.1, affine=True, track_running_stats=True)\n",
       "      (downsample): Sequential(\n",
       "        (0): Conv2d(128, 256, kernel_size=(1, 1), stride=(2, 2), bias=False)\n",
       "        (1): BatchNorm2d(256, eps=1e-05, momentum=0.1, affine=True, track_running_stats=True)\n",
       "      )\n",
       "    )\n",
       "    (1): BasicBlock(\n",
       "      (conv1): Conv2d(256, 256, kernel_size=(3, 3), stride=(1, 1), padding=(1, 1), bias=False)\n",
       "      (bn1): BatchNorm2d(256, eps=1e-05, momentum=0.1, affine=True, track_running_stats=True)\n",
       "      (relu): ReLU(inplace=True)\n",
       "      (conv2): Conv2d(256, 256, kernel_size=(3, 3), stride=(1, 1), padding=(1, 1), bias=False)\n",
       "      (bn2): BatchNorm2d(256, eps=1e-05, momentum=0.1, affine=True, track_running_stats=True)\n",
       "    )\n",
       "    (2): BasicBlock(\n",
       "      (conv1): Conv2d(256, 256, kernel_size=(3, 3), stride=(1, 1), padding=(1, 1), bias=False)\n",
       "      (bn1): BatchNorm2d(256, eps=1e-05, momentum=0.1, affine=True, track_running_stats=True)\n",
       "      (relu): ReLU(inplace=True)\n",
       "      (conv2): Conv2d(256, 256, kernel_size=(3, 3), stride=(1, 1), padding=(1, 1), bias=False)\n",
       "      (bn2): BatchNorm2d(256, eps=1e-05, momentum=0.1, affine=True, track_running_stats=True)\n",
       "    )\n",
       "    (3): BasicBlock(\n",
       "      (conv1): Conv2d(256, 256, kernel_size=(3, 3), stride=(1, 1), padding=(1, 1), bias=False)\n",
       "      (bn1): BatchNorm2d(256, eps=1e-05, momentum=0.1, affine=True, track_running_stats=True)\n",
       "      (relu): ReLU(inplace=True)\n",
       "      (conv2): Conv2d(256, 256, kernel_size=(3, 3), stride=(1, 1), padding=(1, 1), bias=False)\n",
       "      (bn2): BatchNorm2d(256, eps=1e-05, momentum=0.1, affine=True, track_running_stats=True)\n",
       "    )\n",
       "    (4): BasicBlock(\n",
       "      (conv1): Conv2d(256, 256, kernel_size=(3, 3), stride=(1, 1), padding=(1, 1), bias=False)\n",
       "      (bn1): BatchNorm2d(256, eps=1e-05, momentum=0.1, affine=True, track_running_stats=True)\n",
       "      (relu): ReLU(inplace=True)\n",
       "      (conv2): Conv2d(256, 256, kernel_size=(3, 3), stride=(1, 1), padding=(1, 1), bias=False)\n",
       "      (bn2): BatchNorm2d(256, eps=1e-05, momentum=0.1, affine=True, track_running_stats=True)\n",
       "    )\n",
       "    (5): BasicBlock(\n",
       "      (conv1): Conv2d(256, 256, kernel_size=(3, 3), stride=(1, 1), padding=(1, 1), bias=False)\n",
       "      (bn1): BatchNorm2d(256, eps=1e-05, momentum=0.1, affine=True, track_running_stats=True)\n",
       "      (relu): ReLU(inplace=True)\n",
       "      (conv2): Conv2d(256, 256, kernel_size=(3, 3), stride=(1, 1), padding=(1, 1), bias=False)\n",
       "      (bn2): BatchNorm2d(256, eps=1e-05, momentum=0.1, affine=True, track_running_stats=True)\n",
       "    )\n",
       "  )\n",
       "  (layer4): Sequential(\n",
       "    (0): BasicBlock(\n",
       "      (conv1): Conv2d(256, 512, kernel_size=(3, 3), stride=(2, 2), padding=(1, 1), bias=False)\n",
       "      (bn1): BatchNorm2d(512, eps=1e-05, momentum=0.1, affine=True, track_running_stats=True)\n",
       "      (relu): ReLU(inplace=True)\n",
       "      (conv2): Conv2d(512, 512, kernel_size=(3, 3), stride=(1, 1), padding=(1, 1), bias=False)\n",
       "      (bn2): BatchNorm2d(512, eps=1e-05, momentum=0.1, affine=True, track_running_stats=True)\n",
       "      (downsample): Sequential(\n",
       "        (0): Conv2d(256, 512, kernel_size=(1, 1), stride=(2, 2), bias=False)\n",
       "        (1): BatchNorm2d(512, eps=1e-05, momentum=0.1, affine=True, track_running_stats=True)\n",
       "      )\n",
       "    )\n",
       "    (1): BasicBlock(\n",
       "      (conv1): Conv2d(512, 512, kernel_size=(3, 3), stride=(1, 1), padding=(1, 1), bias=False)\n",
       "      (bn1): BatchNorm2d(512, eps=1e-05, momentum=0.1, affine=True, track_running_stats=True)\n",
       "      (relu): ReLU(inplace=True)\n",
       "      (conv2): Conv2d(512, 512, kernel_size=(3, 3), stride=(1, 1), padding=(1, 1), bias=False)\n",
       "      (bn2): BatchNorm2d(512, eps=1e-05, momentum=0.1, affine=True, track_running_stats=True)\n",
       "    )\n",
       "    (2): BasicBlock(\n",
       "      (conv1): Conv2d(512, 512, kernel_size=(3, 3), stride=(1, 1), padding=(1, 1), bias=False)\n",
       "      (bn1): BatchNorm2d(512, eps=1e-05, momentum=0.1, affine=True, track_running_stats=True)\n",
       "      (relu): ReLU(inplace=True)\n",
       "      (conv2): Conv2d(512, 512, kernel_size=(3, 3), stride=(1, 1), padding=(1, 1), bias=False)\n",
       "      (bn2): BatchNorm2d(512, eps=1e-05, momentum=0.1, affine=True, track_running_stats=True)\n",
       "    )\n",
       "  )\n",
       "  (avgpool): AdaptiveAvgPool2d(output_size=(1, 1))\n",
       "  (fc): Linear(in_features=512, out_features=1000, bias=True)\n",
       ")"
      ]
     },
     "execution_count": 4,
     "metadata": {},
     "output_type": "execute_result"
    }
   ],
   "source": [
    "net"
   ]
  },
  {
   "cell_type": "code",
   "execution_count": 5,
   "id": "d0b071c5-9c0b-4b81-b4d9-07bc9de3a31c",
   "metadata": {
    "execution": {
     "iopub.execute_input": "2023-11-04T13:03:59.810809Z",
     "iopub.status.busy": "2023-11-04T13:03:59.810809Z",
     "iopub.status.idle": "2023-11-04T13:03:59.824726Z",
     "shell.execute_reply": "2023-11-04T13:03:59.824605Z",
     "shell.execute_reply.started": "2023-11-04T13:03:59.810809Z"
    }
   },
   "outputs": [
    {
     "data": {
      "text/plain": [
       "\u001b[1;31mSignature:\u001b[0m\n",
       "\u001b[0mmodels\u001b[0m\u001b[1;33m.\u001b[0m\u001b[0mresnet34\u001b[0m\u001b[1;33m(\u001b[0m\u001b[1;33m\n",
       "\u001b[0m    \u001b[1;33m*\u001b[0m\u001b[1;33m,\u001b[0m\u001b[1;33m\n",
       "\u001b[0m    \u001b[0mweights\u001b[0m\u001b[1;33m:\u001b[0m \u001b[0mOptional\u001b[0m\u001b[1;33m[\u001b[0m\u001b[0mtorchvision\u001b[0m\u001b[1;33m.\u001b[0m\u001b[0mmodels\u001b[0m\u001b[1;33m.\u001b[0m\u001b[0mresnet\u001b[0m\u001b[1;33m.\u001b[0m\u001b[0mResNet34_Weights\u001b[0m\u001b[1;33m]\u001b[0m \u001b[1;33m=\u001b[0m \u001b[1;32mNone\u001b[0m\u001b[1;33m,\u001b[0m\u001b[1;33m\n",
       "\u001b[0m    \u001b[0mprogress\u001b[0m\u001b[1;33m:\u001b[0m \u001b[0mbool\u001b[0m \u001b[1;33m=\u001b[0m \u001b[1;32mTrue\u001b[0m\u001b[1;33m,\u001b[0m\u001b[1;33m\n",
       "\u001b[0m    \u001b[1;33m**\u001b[0m\u001b[0mkwargs\u001b[0m\u001b[1;33m:\u001b[0m \u001b[0mAny\u001b[0m\u001b[1;33m,\u001b[0m\u001b[1;33m\n",
       "\u001b[0m\u001b[1;33m)\u001b[0m \u001b[1;33m->\u001b[0m \u001b[0mtorchvision\u001b[0m\u001b[1;33m.\u001b[0m\u001b[0mmodels\u001b[0m\u001b[1;33m.\u001b[0m\u001b[0mresnet\u001b[0m\u001b[1;33m.\u001b[0m\u001b[0mResNet\u001b[0m\u001b[1;33m\u001b[0m\u001b[1;33m\u001b[0m\u001b[0m\n",
       "\u001b[1;31mSource:\u001b[0m   \n",
       "\u001b[1;33m@\u001b[0m\u001b[0mregister_model\u001b[0m\u001b[1;33m(\u001b[0m\u001b[1;33m)\u001b[0m\u001b[1;33m\n",
       "\u001b[0m\u001b[1;33m@\u001b[0m\u001b[0mhandle_legacy_interface\u001b[0m\u001b[1;33m(\u001b[0m\u001b[0mweights\u001b[0m\u001b[1;33m=\u001b[0m\u001b[1;33m(\u001b[0m\u001b[1;34m\"pretrained\"\u001b[0m\u001b[1;33m,\u001b[0m \u001b[0mResNet34_Weights\u001b[0m\u001b[1;33m.\u001b[0m\u001b[0mIMAGENET1K_V1\u001b[0m\u001b[1;33m)\u001b[0m\u001b[1;33m)\u001b[0m\u001b[1;33m\n",
       "\u001b[0m\u001b[1;32mdef\u001b[0m \u001b[0mresnet34\u001b[0m\u001b[1;33m(\u001b[0m\u001b[1;33m*\u001b[0m\u001b[1;33m,\u001b[0m \u001b[0mweights\u001b[0m\u001b[1;33m:\u001b[0m \u001b[0mOptional\u001b[0m\u001b[1;33m[\u001b[0m\u001b[0mResNet34_Weights\u001b[0m\u001b[1;33m]\u001b[0m \u001b[1;33m=\u001b[0m \u001b[1;32mNone\u001b[0m\u001b[1;33m,\u001b[0m \u001b[0mprogress\u001b[0m\u001b[1;33m:\u001b[0m \u001b[0mbool\u001b[0m \u001b[1;33m=\u001b[0m \u001b[1;32mTrue\u001b[0m\u001b[1;33m,\u001b[0m \u001b[1;33m**\u001b[0m\u001b[0mkwargs\u001b[0m\u001b[1;33m:\u001b[0m \u001b[0mAny\u001b[0m\u001b[1;33m)\u001b[0m \u001b[1;33m->\u001b[0m \u001b[0mResNet\u001b[0m\u001b[1;33m:\u001b[0m\u001b[1;33m\n",
       "\u001b[0m    \u001b[1;34m\"\"\"ResNet-34 from `Deep Residual Learning for Image Recognition <https://arxiv.org/pdf/1512.03385.pdf>`__.\n",
       "\n",
       "    Args:\n",
       "        weights (:class:`~torchvision.models.ResNet34_Weights`, optional): The\n",
       "            pretrained weights to use. See\n",
       "            :class:`~torchvision.models.ResNet34_Weights` below for\n",
       "            more details, and possible values. By default, no pre-trained\n",
       "            weights are used.\n",
       "        progress (bool, optional): If True, displays a progress bar of the\n",
       "            download to stderr. Default is True.\n",
       "        **kwargs: parameters passed to the ``torchvision.models.resnet.ResNet``\n",
       "            base class. Please refer to the `source code\n",
       "            <https://github.com/pytorch/vision/blob/main/torchvision/models/resnet.py>`_\n",
       "            for more details about this class.\n",
       "\n",
       "    .. autoclass:: torchvision.models.ResNet34_Weights\n",
       "        :members:\n",
       "    \"\"\"\u001b[0m\u001b[1;33m\n",
       "\u001b[0m    \u001b[0mweights\u001b[0m \u001b[1;33m=\u001b[0m \u001b[0mResNet34_Weights\u001b[0m\u001b[1;33m.\u001b[0m\u001b[0mverify\u001b[0m\u001b[1;33m(\u001b[0m\u001b[0mweights\u001b[0m\u001b[1;33m)\u001b[0m\u001b[1;33m\n",
       "\u001b[0m\u001b[1;33m\n",
       "\u001b[0m    \u001b[1;32mreturn\u001b[0m \u001b[0m_resnet\u001b[0m\u001b[1;33m(\u001b[0m\u001b[0mBasicBlock\u001b[0m\u001b[1;33m,\u001b[0m \u001b[1;33m[\u001b[0m\u001b[1;36m3\u001b[0m\u001b[1;33m,\u001b[0m \u001b[1;36m4\u001b[0m\u001b[1;33m,\u001b[0m \u001b[1;36m6\u001b[0m\u001b[1;33m,\u001b[0m \u001b[1;36m3\u001b[0m\u001b[1;33m]\u001b[0m\u001b[1;33m,\u001b[0m \u001b[0mweights\u001b[0m\u001b[1;33m,\u001b[0m \u001b[0mprogress\u001b[0m\u001b[1;33m,\u001b[0m \u001b[1;33m**\u001b[0m\u001b[0mkwargs\u001b[0m\u001b[1;33m)\u001b[0m\u001b[1;33m\u001b[0m\u001b[1;33m\u001b[0m\u001b[0m\n",
       "\u001b[1;31mFile:\u001b[0m      c:\\users\\jiang su\\.conda\\envs\\pytorch\\lib\\site-packages\\torchvision\\models\\resnet.py\n",
       "\u001b[1;31mType:\u001b[0m      function"
      ]
     },
     "metadata": {},
     "output_type": "display_data"
    }
   ],
   "source": [
    "models.resnet34??"
   ]
  },
  {
   "cell_type": "code",
   "execution_count": 6,
   "id": "479be057-b61c-4b16-9433-4d855753a31e",
   "metadata": {
    "execution": {
     "iopub.execute_input": "2023-11-04T13:04:13.096171Z",
     "iopub.status.busy": "2023-11-04T13:04:13.096171Z",
     "iopub.status.idle": "2023-11-04T13:04:13.104361Z",
     "shell.execute_reply": "2023-11-04T13:04:13.103523Z",
     "shell.execute_reply.started": "2023-11-04T13:04:13.096171Z"
    }
   },
   "outputs": [
    {
     "name": "stdout",
     "output_type": "stream",
     "text": [
      "Object `torchvision.models.resnet.ResNet` not found.\n"
     ]
    }
   ],
   "source": [
    "torchvision.models.resnet.ResNet??"
   ]
  },
  {
   "cell_type": "code",
   "execution_count": 4,
   "id": "6ac29c59-1dbf-48c3-8875-c7baa0d21a0d",
   "metadata": {
    "execution": {
     "iopub.execute_input": "2023-11-04T15:36:03.371196Z",
     "iopub.status.busy": "2023-11-04T15:36:03.371196Z",
     "iopub.status.idle": "2023-11-04T15:36:03.941903Z",
     "shell.execute_reply": "2023-11-04T15:36:03.941903Z",
     "shell.execute_reply.started": "2023-11-04T15:36:03.371196Z"
    }
   },
   "outputs": [],
   "source": [
    "from lib.model.resnet18 import ResNet"
   ]
  },
  {
   "cell_type": "code",
   "execution_count": 5,
   "id": "190af706-14b2-4726-b5a6-35d2390a4dbb",
   "metadata": {
    "execution": {
     "iopub.execute_input": "2023-11-04T15:36:04.327169Z",
     "iopub.status.busy": "2023-11-04T15:36:04.327169Z",
     "iopub.status.idle": "2023-11-04T15:36:04.348308Z",
     "shell.execute_reply": "2023-11-04T15:36:04.348308Z",
     "shell.execute_reply.started": "2023-11-04T15:36:04.327169Z"
    }
   },
   "outputs": [],
   "source": [
    "net = ResNet()"
   ]
  },
  {
   "cell_type": "code",
   "execution_count": 6,
   "id": "0434326d-aeef-4018-acee-8748830608e4",
   "metadata": {
    "execution": {
     "iopub.execute_input": "2023-11-04T15:02:52.908161Z",
     "iopub.status.busy": "2023-11-04T15:02:52.908161Z",
     "iopub.status.idle": "2023-11-04T15:02:52.942029Z",
     "shell.execute_reply": "2023-11-04T15:02:52.942029Z",
     "shell.execute_reply.started": "2023-11-04T15:02:52.908161Z"
    }
   },
   "outputs": [
    {
     "data": {
      "text/plain": [
       "Sequential(\n",
       "  (0): Sequential(\n",
       "    (0): Conv2d(1, 64, kernel_size=(7, 7), stride=(2, 2), padding=(3, 3))\n",
       "    (1): BatchNorm2d(64, eps=1e-05, momentum=0.1, affine=True, track_running_stats=True)\n",
       "    (2): ReLU()\n",
       "    (3): MaxPool2d(kernel_size=3, stride=2, padding=1, dilation=1, ceil_mode=False)\n",
       "  )\n",
       "  (1): Sequential(\n",
       "    (0): Residual(\n",
       "      (conv1): Conv2d(64, 64, kernel_size=(3, 3), stride=(1, 1), padding=(1, 1))\n",
       "      (conv2): Conv2d(64, 64, kernel_size=(3, 3), stride=(1, 1), padding=(1, 1))\n",
       "      (bn1): BatchNorm2d(64, eps=1e-05, momentum=0.1, affine=True, track_running_stats=True)\n",
       "      (bn2): BatchNorm2d(64, eps=1e-05, momentum=0.1, affine=True, track_running_stats=True)\n",
       "    )\n",
       "    (1): Residual(\n",
       "      (conv1): Conv2d(64, 64, kernel_size=(3, 3), stride=(1, 1), padding=(1, 1))\n",
       "      (conv2): Conv2d(64, 64, kernel_size=(3, 3), stride=(1, 1), padding=(1, 1))\n",
       "      (bn1): BatchNorm2d(64, eps=1e-05, momentum=0.1, affine=True, track_running_stats=True)\n",
       "      (bn2): BatchNorm2d(64, eps=1e-05, momentum=0.1, affine=True, track_running_stats=True)\n",
       "    )\n",
       "  )\n",
       "  (2): Sequential(\n",
       "    (0): Residual(\n",
       "      (conv1): Conv2d(64, 128, kernel_size=(3, 3), stride=(2, 2), padding=(1, 1))\n",
       "      (conv2): Conv2d(128, 128, kernel_size=(3, 3), stride=(1, 1), padding=(1, 1))\n",
       "      (conv3): Conv2d(64, 128, kernel_size=(1, 1), stride=(2, 2))\n",
       "      (bn1): BatchNorm2d(128, eps=1e-05, momentum=0.1, affine=True, track_running_stats=True)\n",
       "      (bn2): BatchNorm2d(128, eps=1e-05, momentum=0.1, affine=True, track_running_stats=True)\n",
       "    )\n",
       "    (1): Residual(\n",
       "      (conv1): Conv2d(128, 128, kernel_size=(3, 3), stride=(1, 1), padding=(1, 1))\n",
       "      (conv2): Conv2d(128, 128, kernel_size=(3, 3), stride=(1, 1), padding=(1, 1))\n",
       "      (bn1): BatchNorm2d(128, eps=1e-05, momentum=0.1, affine=True, track_running_stats=True)\n",
       "      (bn2): BatchNorm2d(128, eps=1e-05, momentum=0.1, affine=True, track_running_stats=True)\n",
       "    )\n",
       "  )\n",
       "  (3): Sequential(\n",
       "    (0): Residual(\n",
       "      (conv1): Conv2d(128, 256, kernel_size=(3, 3), stride=(2, 2), padding=(1, 1))\n",
       "      (conv2): Conv2d(256, 256, kernel_size=(3, 3), stride=(1, 1), padding=(1, 1))\n",
       "      (conv3): Conv2d(128, 256, kernel_size=(1, 1), stride=(2, 2))\n",
       "      (bn1): BatchNorm2d(256, eps=1e-05, momentum=0.1, affine=True, track_running_stats=True)\n",
       "      (bn2): BatchNorm2d(256, eps=1e-05, momentum=0.1, affine=True, track_running_stats=True)\n",
       "    )\n",
       "    (1): Residual(\n",
       "      (conv1): Conv2d(256, 256, kernel_size=(3, 3), stride=(1, 1), padding=(1, 1))\n",
       "      (conv2): Conv2d(256, 256, kernel_size=(3, 3), stride=(1, 1), padding=(1, 1))\n",
       "      (bn1): BatchNorm2d(256, eps=1e-05, momentum=0.1, affine=True, track_running_stats=True)\n",
       "      (bn2): BatchNorm2d(256, eps=1e-05, momentum=0.1, affine=True, track_running_stats=True)\n",
       "    )\n",
       "  )\n",
       "  (4): Sequential(\n",
       "    (0): Residual(\n",
       "      (conv1): Conv2d(256, 512, kernel_size=(3, 3), stride=(2, 2), padding=(1, 1))\n",
       "      (conv2): Conv2d(512, 512, kernel_size=(3, 3), stride=(1, 1), padding=(1, 1))\n",
       "      (conv3): Conv2d(256, 512, kernel_size=(1, 1), stride=(2, 2))\n",
       "      (bn1): BatchNorm2d(512, eps=1e-05, momentum=0.1, affine=True, track_running_stats=True)\n",
       "      (bn2): BatchNorm2d(512, eps=1e-05, momentum=0.1, affine=True, track_running_stats=True)\n",
       "    )\n",
       "    (1): Residual(\n",
       "      (conv1): Conv2d(512, 512, kernel_size=(3, 3), stride=(1, 1), padding=(1, 1))\n",
       "      (conv2): Conv2d(512, 512, kernel_size=(3, 3), stride=(1, 1), padding=(1, 1))\n",
       "      (bn1): BatchNorm2d(512, eps=1e-05, momentum=0.1, affine=True, track_running_stats=True)\n",
       "      (bn2): BatchNorm2d(512, eps=1e-05, momentum=0.1, affine=True, track_running_stats=True)\n",
       "    )\n",
       "  )\n",
       "  (5): AdaptiveAvgPool2d(output_size=(1, 1))\n",
       "  (6): Flatten(start_dim=1, end_dim=-1)\n",
       "  (7): Linear(in_features=512, out_features=10, bias=True)\n",
       ")"
      ]
     },
     "execution_count": 6,
     "metadata": {},
     "output_type": "execute_result"
    }
   ],
   "source": [
    "net"
   ]
  },
  {
   "cell_type": "code",
   "execution_count": 3,
   "id": "19afec60-1a74-41f7-8b63-4e7a3ea1fe53",
   "metadata": {
    "execution": {
     "iopub.execute_input": "2023-11-04T15:35:58.263455Z",
     "iopub.status.busy": "2023-11-04T15:35:58.247891Z",
     "iopub.status.idle": "2023-11-04T15:35:58.271204Z",
     "shell.execute_reply": "2023-11-04T15:35:58.271087Z",
     "shell.execute_reply.started": "2023-11-04T15:35:58.263455Z"
    }
   },
   "outputs": [],
   "source": [
    "from torchsummary import summary"
   ]
  },
  {
   "cell_type": "code",
   "execution_count": 12,
   "id": "2b00bed6-6c75-41d7-bc6b-1f22aa59dfd3",
   "metadata": {
    "execution": {
     "iopub.execute_input": "2023-11-04T15:10:45.807071Z",
     "iopub.status.busy": "2023-11-04T15:10:45.806072Z",
     "iopub.status.idle": "2023-11-04T15:10:45.816070Z",
     "shell.execute_reply": "2023-11-04T15:10:45.816070Z",
     "shell.execute_reply.started": "2023-11-04T15:10:45.807071Z"
    }
   },
   "outputs": [],
   "source": [
    "net_temp = nn.Sequential(\n",
    "    nn.Conv1d(1, 64, kernel_size=7, stride=2, padding=3),\n",
    "    nn.BatchNorm1d(64, eps=1e-05, momentum=0.1, affine=True, track_running_stats=True),\n",
    "    nn.ReLU(inplace=True),\n",
    "    nn.MaxPool1d(kernel_size=3, stride=2, padding=1, dilation=1, ceil_mode=False),\n",
    "    nn.Conv2d(64, 64, kernel_size=(3, 3), stride=(1, 1), padding=(1, 1)),\n",
    "    nn.Conv2d(64, 64, kernel_size=(3, 3), stride=(1, 1), padding=(1, 1))\n",
    "    nn.BatchNorm2d(64, eps=1e-05, momentum=0.1, affine=True, track_running_stats=True)\n",
    "      (bn2): BatchNorm2d(64, eps=1e-05, momentum=0.1, affine=True, track_running_stats=True)\n",
    "    )\n",
    "    (1): Residual(\n",
    "      (conv1): Conv2d(64, 64, kernel_size=(3, 3), stride=(1, 1), padding=(1, 1))\n",
    "      (conv2): Conv2d(64, 64, kernel_size=(3, 3), stride=(1, 1), padding=(1, 1))\n",
    "      (bn1): BatchNorm2d(64, eps=1e-05, momentum=0.1, affine=True, track_running_stats=True)\n",
    "      (bn2): BatchNorm2d(64, eps=1e-05, momentum=0.1, affine=True, track_running_stats=True)\n",
    ")"
   ]
  },
  {
   "cell_type": "code",
   "execution_count": 6,
   "id": "2dc74912-016c-4413-b3ea-e71ec6bb7fc5",
   "metadata": {
    "execution": {
     "iopub.execute_input": "2023-11-04T15:36:09.466626Z",
     "iopub.status.busy": "2023-11-04T15:36:09.466626Z",
     "iopub.status.idle": "2023-11-04T15:36:09.502459Z",
     "shell.execute_reply": "2023-11-04T15:36:09.502459Z",
     "shell.execute_reply.started": "2023-11-04T15:36:09.466626Z"
    }
   },
   "outputs": [
    {
     "name": "stdout",
     "output_type": "stream",
     "text": [
      "----------------------------------------------------------------\n",
      "        Layer (type)               Output Shape         Param #\n",
      "================================================================\n",
      "            Conv1d-1              [256, 64, 76]             512\n",
      "       BatchNorm1d-2              [256, 64, 76]             128\n",
      "              ReLU-3              [256, 64, 76]               0\n",
      "         MaxPool1d-4              [256, 64, 38]               0\n",
      "            Conv1d-5              [256, 64, 38]          12,352\n",
      "       BatchNorm1d-6              [256, 64, 38]             128\n",
      "            Conv1d-7              [256, 64, 38]          12,352\n",
      "       BatchNorm1d-8              [256, 64, 38]             128\n",
      "          Residual-9              [256, 64, 38]               0\n",
      "           Conv1d-10              [256, 64, 38]          12,352\n",
      "      BatchNorm1d-11              [256, 64, 38]             128\n",
      "           Conv1d-12              [256, 64, 38]          12,352\n",
      "      BatchNorm1d-13              [256, 64, 38]             128\n",
      "         Residual-14              [256, 64, 38]               0\n",
      "           Conv1d-15             [256, 128, 19]          24,704\n",
      "      BatchNorm1d-16             [256, 128, 19]             256\n",
      "           Conv1d-17             [256, 128, 19]          49,280\n",
      "      BatchNorm1d-18             [256, 128, 19]             256\n",
      "           Conv1d-19             [256, 128, 19]           8,320\n",
      "         Residual-20             [256, 128, 19]               0\n",
      "           Conv1d-21             [256, 128, 19]          49,280\n",
      "      BatchNorm1d-22             [256, 128, 19]             256\n",
      "           Conv1d-23             [256, 128, 19]          49,280\n",
      "      BatchNorm1d-24             [256, 128, 19]             256\n",
      "         Residual-25             [256, 128, 19]               0\n",
      "           Conv1d-26             [256, 256, 10]          98,560\n",
      "      BatchNorm1d-27             [256, 256, 10]             512\n",
      "           Conv1d-28             [256, 256, 10]         196,864\n",
      "      BatchNorm1d-29             [256, 256, 10]             512\n",
      "           Conv1d-30             [256, 256, 10]          33,024\n",
      "         Residual-31             [256, 256, 10]               0\n",
      "           Conv1d-32             [256, 256, 10]         196,864\n",
      "      BatchNorm1d-33             [256, 256, 10]             512\n",
      "           Conv1d-34             [256, 256, 10]         196,864\n",
      "      BatchNorm1d-35             [256, 256, 10]             512\n",
      "         Residual-36             [256, 256, 10]               0\n",
      "           Conv1d-37              [256, 512, 5]         393,728\n",
      "      BatchNorm1d-38              [256, 512, 5]           1,024\n",
      "           Conv1d-39              [256, 512, 5]         786,944\n",
      "      BatchNorm1d-40              [256, 512, 5]           1,024\n",
      "           Conv1d-41              [256, 512, 5]         131,584\n",
      "         Residual-42              [256, 512, 5]               0\n",
      "           Conv1d-43              [256, 512, 5]         786,944\n",
      "      BatchNorm1d-44              [256, 512, 5]           1,024\n",
      "           Conv1d-45              [256, 512, 5]         786,944\n",
      "      BatchNorm1d-46              [256, 512, 5]           1,024\n",
      "         Residual-47              [256, 512, 5]               0\n",
      "AdaptiveAvgPool2d-48                [256, 1, 1]               0\n",
      "          Flatten-49                   [256, 1]               0\n",
      "================================================================\n",
      "Total params: 3,846,912\n",
      "Trainable params: 3,846,912\n",
      "Non-trainable params: 0\n",
      "----------------------------------------------------------------\n",
      "Input size (MB): 0.15\n",
      "Forward/backward pass size (MB): 243.00\n",
      "Params size (MB): 14.67\n",
      "Estimated Total Size (MB): 257.83\n",
      "----------------------------------------------------------------\n"
     ]
    }
   ],
   "source": [
    "summary(net, (1, 152), 256, 'cpu')"
   ]
  },
  {
   "cell_type": "code",
   "execution_count": 1,
   "id": "dd5693f9-c13f-44b3-a13f-be3ce8b166a5",
   "metadata": {
    "execution": {
     "iopub.execute_input": "2023-11-04T15:43:12.167083Z",
     "iopub.status.busy": "2023-11-04T15:43:12.167083Z",
     "iopub.status.idle": "2023-11-04T15:43:13.530855Z",
     "shell.execute_reply": "2023-11-04T15:43:13.530855Z",
     "shell.execute_reply.started": "2023-11-04T15:43:12.167083Z"
    }
   },
   "outputs": [],
   "source": [
    "import torch\n",
    "from torch import nn\n",
    "from torchsummary import summary\n",
    "from torchvision import models\n",
    "from lib.model.resnet18 import ResNet"
   ]
  },
  {
   "cell_type": "code",
   "execution_count": 2,
   "id": "0cd06d2a-7296-4533-8b41-306e7463e5e8",
   "metadata": {
    "execution": {
     "iopub.execute_input": "2023-11-04T15:43:16.244738Z",
     "iopub.status.busy": "2023-11-04T15:43:16.244738Z",
     "iopub.status.idle": "2023-11-04T15:43:16.300314Z",
     "shell.execute_reply": "2023-11-04T15:43:16.300314Z",
     "shell.execute_reply.started": "2023-11-04T15:43:16.244738Z"
    }
   },
   "outputs": [
    {
     "name": "stdout",
     "output_type": "stream",
     "text": [
      "----------------------------------------------------------------\n",
      "        Layer (type)               Output Shape         Param #\n",
      "================================================================\n",
      "            Conv1d-1              [256, 64, 76]             512\n",
      "       BatchNorm1d-2              [256, 64, 76]             128\n",
      "              ReLU-3              [256, 64, 76]               0\n",
      "         MaxPool1d-4              [256, 64, 38]               0\n",
      "            Conv1d-5              [256, 64, 38]          12,352\n",
      "       BatchNorm1d-6              [256, 64, 38]             128\n",
      "            Conv1d-7              [256, 64, 38]          12,352\n",
      "       BatchNorm1d-8              [256, 64, 38]             128\n",
      "          Residual-9              [256, 64, 38]               0\n",
      "           Conv1d-10              [256, 64, 38]          12,352\n",
      "      BatchNorm1d-11              [256, 64, 38]             128\n",
      "           Conv1d-12              [256, 64, 38]          12,352\n",
      "      BatchNorm1d-13              [256, 64, 38]             128\n",
      "         Residual-14              [256, 64, 38]               0\n",
      "           Conv1d-15             [256, 128, 19]          24,704\n",
      "      BatchNorm1d-16             [256, 128, 19]             256\n",
      "           Conv1d-17             [256, 128, 19]          49,280\n",
      "      BatchNorm1d-18             [256, 128, 19]             256\n",
      "           Conv1d-19             [256, 128, 19]           8,320\n",
      "         Residual-20             [256, 128, 19]               0\n",
      "           Conv1d-21             [256, 128, 19]          49,280\n",
      "      BatchNorm1d-22             [256, 128, 19]             256\n",
      "           Conv1d-23             [256, 128, 19]          49,280\n",
      "      BatchNorm1d-24             [256, 128, 19]             256\n",
      "         Residual-25             [256, 128, 19]               0\n",
      "           Conv1d-26             [256, 256, 10]          98,560\n",
      "      BatchNorm1d-27             [256, 256, 10]             512\n",
      "           Conv1d-28             [256, 256, 10]         196,864\n",
      "      BatchNorm1d-29             [256, 256, 10]             512\n",
      "           Conv1d-30             [256, 256, 10]          33,024\n",
      "         Residual-31             [256, 256, 10]               0\n",
      "           Conv1d-32             [256, 256, 10]         196,864\n",
      "      BatchNorm1d-33             [256, 256, 10]             512\n",
      "           Conv1d-34             [256, 256, 10]         196,864\n",
      "      BatchNorm1d-35             [256, 256, 10]             512\n",
      "         Residual-36             [256, 256, 10]               0\n",
      "           Conv1d-37              [256, 512, 5]         393,728\n",
      "      BatchNorm1d-38              [256, 512, 5]           1,024\n",
      "           Conv1d-39              [256, 512, 5]         786,944\n",
      "      BatchNorm1d-40              [256, 512, 5]           1,024\n",
      "           Conv1d-41              [256, 512, 5]         131,584\n",
      "         Residual-42              [256, 512, 5]               0\n",
      "           Conv1d-43              [256, 512, 5]         786,944\n",
      "      BatchNorm1d-44              [256, 512, 5]           1,024\n",
      "           Conv1d-45              [256, 512, 5]         786,944\n",
      "      BatchNorm1d-46              [256, 512, 5]           1,024\n",
      "         Residual-47              [256, 512, 5]               0\n",
      "          Flatten-48                [256, 2560]               0\n",
      "           Linear-49                [256, 4096]      10,489,856\n",
      "             ReLU-50                [256, 4096]               0\n",
      "      BatchNorm1d-51                [256, 4096]           8,192\n",
      "           Linear-52                [256, 1024]       4,195,328\n",
      "             ReLU-53                [256, 1024]               0\n",
      "      BatchNorm1d-54                [256, 1024]           2,048\n",
      "           Linear-55                 [256, 256]         262,400\n",
      "             ReLU-56                 [256, 256]               0\n",
      "      BatchNorm1d-57                 [256, 256]             512\n",
      "           Linear-58                  [256, 64]          16,448\n",
      "             ReLU-59                  [256, 64]               0\n",
      "      BatchNorm1d-60                  [256, 64]             128\n",
      "           Linear-61                   [256, 1]              65\n",
      "          Sigmoid-62                   [256, 1]               0\n",
      "================================================================\n",
      "Total params: 18,821,889\n",
      "Trainable params: 18,821,889\n",
      "Non-trainable params: 0\n",
      "----------------------------------------------------------------\n",
      "Input size (MB): 0.15\n",
      "Forward/backward pass size (MB): 279.88\n",
      "Params size (MB): 71.80\n",
      "Estimated Total Size (MB): 351.83\n",
      "----------------------------------------------------------------\n"
     ]
    }
   ],
   "source": [
    "net = ResNet()\n",
    "summary(net, (1, 152), 256, 'cpu')"
   ]
  },
  {
   "cell_type": "code",
   "execution_count": 3,
   "id": "306f03bf-6c36-4133-8d9d-d17ae6ac7ca0",
   "metadata": {
    "execution": {
     "iopub.execute_input": "2023-11-04T15:44:48.643279Z",
     "iopub.status.busy": "2023-11-04T15:44:48.643279Z",
     "iopub.status.idle": "2023-11-04T15:45:18.465945Z",
     "shell.execute_reply": "2023-11-04T15:45:18.465945Z",
     "shell.execute_reply.started": "2023-11-04T15:44:48.643279Z"
    }
   },
   "outputs": [],
   "source": [
    "from lib.jianji.code_csf import csf\n",
    "from lib.model.resnet18 import ResNet\n",
    "from lib.jianji.tool import *\n",
    "import torch \n",
    "from torch.utils.data import Dataset\n",
    "from torch import nn\n",
    "from torchsummary import summary\n",
    "import torch.nn.utils.prune as prune\n",
    "from d2l import torch as d2l\n",
    "traindSet = csf(csv_path='original_train_set.pkl', mode='train')\n",
    "trainloader =  torch.utils.data.DataLoader(traindSet, batch_size=256, drop_last=True, shuffle=True)\n",
    "testset = csf(csv_path='test_valid_edited(30000).pkl', mode='valid')\n",
    "testloader = torch.utils.data.DataLoader(testset, batch_size=256, drop_last=True, shuffle=True)"
   ]
  },
  {
   "cell_type": "code",
   "execution_count": 4,
   "id": "6a64bb97-dc2d-4938-b853-8de071129387",
   "metadata": {
    "execution": {
     "iopub.execute_input": "2023-11-04T15:45:33.643633Z",
     "iopub.status.busy": "2023-11-04T15:45:33.643633Z",
     "iopub.status.idle": "2023-11-04T15:45:33.658891Z",
     "shell.execute_reply": "2023-11-04T15:45:33.658891Z",
     "shell.execute_reply.started": "2023-11-04T15:45:33.643633Z"
    }
   },
   "outputs": [],
   "source": [
    "threshold_value_list = [0.05, 0.1 , 0.15, 0.2 , 0.25, 0.3 , 0.35, 0.4 , 0.45, 0.5 , 0.55, 0.6 , 0.65, 0.7 , \n",
    "                        0.75, 0.8 , 0.85, 0.9 , 0.95]"
   ]
  },
  {
   "cell_type": "code",
   "execution_count": 5,
   "id": "1e202f3f-c9da-4346-93d1-5f13b37da5a8",
   "metadata": {
    "execution": {
     "iopub.execute_input": "2023-11-04T15:45:40.352386Z",
     "iopub.status.busy": "2023-11-04T15:45:40.352386Z",
     "iopub.status.idle": "2023-11-04T16:01:48.184794Z",
     "shell.execute_reply": "2023-11-04T16:01:48.183762Z",
     "shell.execute_reply.started": "2023-11-04T15:45:40.352386Z"
    }
   },
   "outputs": [
    {
     "name": "stdout",
     "output_type": "stream",
     "text": [
      "tensor(0.5833, device='cuda:0', grad_fn=<BinaryCrossEntropyBackward0>)\n",
      "tensor(0.5571, device='cuda:0', grad_fn=<BinaryCrossEntropyBackward0>)\n",
      "tensor(0.5425, device='cuda:0', grad_fn=<BinaryCrossEntropyBackward0>)\n",
      "tensor(0.5572, device='cuda:0', grad_fn=<BinaryCrossEntropyBackward0>)\n",
      "tensor(0.5578, device='cuda:0', grad_fn=<BinaryCrossEntropyBackward0>)\n",
      "tensor(0.5582, device='cuda:0', grad_fn=<BinaryCrossEntropyBackward0>)\n",
      "tensor(0.5329, device='cuda:0', grad_fn=<BinaryCrossEntropyBackward0>)\n",
      "tensor(0.5446, device='cuda:0', grad_fn=<BinaryCrossEntropyBackward0>)\n",
      "tensor(0.5473, device='cuda:0', grad_fn=<BinaryCrossEntropyBackward0>)\n",
      "tensor(0.5773, device='cuda:0', grad_fn=<BinaryCrossEntropyBackward0>)\n",
      "tensor(0.5628, device='cuda:0', grad_fn=<BinaryCrossEntropyBackward0>)\n",
      "tensor(0.5213, device='cuda:0', grad_fn=<BinaryCrossEntropyBackward0>)\n",
      "tensor(0.5007, device='cuda:0', grad_fn=<BinaryCrossEntropyBackward0>)\n",
      "tensor(0.5277, device='cuda:0', grad_fn=<BinaryCrossEntropyBackward0>)\n",
      "tensor(0.5036, device='cuda:0', grad_fn=<BinaryCrossEntropyBackward0>)\n",
      "tensor(0.5150, device='cuda:0', grad_fn=<BinaryCrossEntropyBackward0>)\n",
      "tensor(0.5815, device='cuda:0', grad_fn=<BinaryCrossEntropyBackward0>)\n",
      "tensor(0.5586, device='cuda:0', grad_fn=<BinaryCrossEntropyBackward0>)\n",
      "tensor(0.5122, device='cuda:0', grad_fn=<BinaryCrossEntropyBackward0>)\n",
      "tensor(0.5192, device='cuda:0', grad_fn=<BinaryCrossEntropyBackward0>)\n",
      "tensor(0.4913, device='cuda:0', grad_fn=<BinaryCrossEntropyBackward0>)\n",
      "tensor(0.5365, device='cuda:0', grad_fn=<BinaryCrossEntropyBackward0>)\n",
      "tensor(0.4983, device='cuda:0', grad_fn=<BinaryCrossEntropyBackward0>)\n",
      "tensor(0.5225, device='cuda:0', grad_fn=<BinaryCrossEntropyBackward0>)\n",
      "tensor(0.5123, device='cuda:0', grad_fn=<BinaryCrossEntropyBackward0>)\n",
      "tensor(0.5051, device='cuda:0', grad_fn=<BinaryCrossEntropyBackward0>)\n",
      "tensor(0.4686, device='cuda:0', grad_fn=<BinaryCrossEntropyBackward0>)\n",
      "tensor(0.5007, device='cuda:0', grad_fn=<BinaryCrossEntropyBackward0>)\n",
      "tensor(0.4013, device='cuda:0', grad_fn=<BinaryCrossEntropyBackward0>)\n",
      "tensor(0.4757, device='cuda:0', grad_fn=<BinaryCrossEntropyBackward0>)\n",
      "tensor(0.4072, device='cuda:0', grad_fn=<BinaryCrossEntropyBackward0>)\n",
      "tensor(0.4444, device='cuda:0', grad_fn=<BinaryCrossEntropyBackward0>)\n",
      "tensor(0.4328, device='cuda:0', grad_fn=<BinaryCrossEntropyBackward0>)\n",
      "tensor(0.4628, device='cuda:0', grad_fn=<BinaryCrossEntropyBackward0>)\n",
      "tensor(0.4292, device='cuda:0', grad_fn=<BinaryCrossEntropyBackward0>)\n",
      "tensor(0.3674, device='cuda:0', grad_fn=<BinaryCrossEntropyBackward0>)\n",
      "tensor(0.4273, device='cuda:0', grad_fn=<BinaryCrossEntropyBackward0>)\n",
      "tensor(0.3848, device='cuda:0', grad_fn=<BinaryCrossEntropyBackward0>)\n",
      "tensor(0.3523, device='cuda:0', grad_fn=<BinaryCrossEntropyBackward0>)\n",
      "tensor(0.3197, device='cuda:0', grad_fn=<BinaryCrossEntropyBackward0>)\n",
      "tensor(0.3037, device='cuda:0', grad_fn=<BinaryCrossEntropyBackward0>)\n",
      "tensor(0.3188, device='cuda:0', grad_fn=<BinaryCrossEntropyBackward0>)\n",
      "tensor(0.3173, device='cuda:0', grad_fn=<BinaryCrossEntropyBackward0>)\n",
      "tensor(0.3198, device='cuda:0', grad_fn=<BinaryCrossEntropyBackward0>)\n",
      "tensor(0.2563, device='cuda:0', grad_fn=<BinaryCrossEntropyBackward0>)\n",
      "tensor(0.2779, device='cuda:0', grad_fn=<BinaryCrossEntropyBackward0>)\n",
      "tensor(0.2863, device='cuda:0', grad_fn=<BinaryCrossEntropyBackward0>)\n",
      "tensor(0.2868, device='cuda:0', grad_fn=<BinaryCrossEntropyBackward0>)\n",
      "tensor(0.2160, device='cuda:0', grad_fn=<BinaryCrossEntropyBackward0>)\n",
      "tensor(0.1600, device='cuda:0', grad_fn=<BinaryCrossEntropyBackward0>)\n",
      "tensor(0.1857, device='cuda:0', grad_fn=<BinaryCrossEntropyBackward0>)\n",
      "tensor(0.2241, device='cuda:0', grad_fn=<BinaryCrossEntropyBackward0>)\n",
      "tensor(0.1931, device='cuda:0', grad_fn=<BinaryCrossEntropyBackward0>)\n",
      "tensor(0.2038, device='cuda:0', grad_fn=<BinaryCrossEntropyBackward0>)\n",
      "tensor(0.1939, device='cuda:0', grad_fn=<BinaryCrossEntropyBackward0>)\n",
      "tensor(0.2280, device='cuda:0', grad_fn=<BinaryCrossEntropyBackward0>)\n",
      "tensor(0.1463, device='cuda:0', grad_fn=<BinaryCrossEntropyBackward0>)\n",
      "****************************************************************************************************\n",
      "0.05 0.6667668269230769\n",
      "0.1 0.6828592414529915\n",
      "0.15 0.6907719017094017\n",
      "0.2 0.6943776709401709\n",
      "0.25 0.6977163461538461\n",
      "0.3 0.699752938034188\n",
      "0.35 0.7004206730769231\n",
      "0.4 0.7016559829059829\n",
      "0.45 0.7014890491452992\n",
      "0.5 0.7022235576923077\n",
      "0.55 0.7032251602564102\n",
      "0.6 0.7034254807692307\n",
      "0.65 0.7042601495726496\n",
      "0.7 0.7035924145299145\n",
      "0.75 0.7038928952991453\n",
      "0.8 0.7031917735042735\n",
      "0.85 0.7001869658119658\n",
      "0.9 0.6963808760683761\n",
      "0.95 0.6888020833333334\n",
      "****************************************************************************************************\n"
     ]
    }
   ],
   "source": [
    "net = ResNet()\n",
    "device = d2l.try_gpu()\n",
    "optimizer = torch.optim.SGD(net.parameters(), lr=0.3)\n",
    "loss = nn.BCELoss()\n",
    "train_from_scratch(net, optimizer, loss, 3, trainloader, device)\n",
    "print('**'*50)\n",
    "for j in threshold_value_list:\n",
    "    print(j,evalute_results(net, testloader, j, d2l.try_gpu()))\n",
    "print('**'*50)"
   ]
  },
  {
   "cell_type": "code",
   "execution_count": 6,
   "id": "0c220aa4-a3c2-40de-b2f4-1154ed6d85ac",
   "metadata": {
    "execution": {
     "iopub.execute_input": "2023-11-04T16:02:52.984732Z",
     "iopub.status.busy": "2023-11-04T16:02:52.984732Z",
     "iopub.status.idle": "2023-11-04T16:05:02.929591Z",
     "shell.execute_reply": "2023-11-04T16:05:02.929591Z",
     "shell.execute_reply.started": "2023-11-04T16:02:52.984732Z"
    }
   },
   "outputs": [
    {
     "name": "stdout",
     "output_type": "stream",
     "text": [
      "tensor(0.1092, device='cuda:0', grad_fn=<BinaryCrossEntropyBackward0>)\n",
      "tensor(0.0517, device='cuda:0', grad_fn=<BinaryCrossEntropyBackward0>)\n",
      "tensor(0.0122, device='cuda:0', grad_fn=<BinaryCrossEntropyBackward0>)\n",
      "tensor(0.0219, device='cuda:0', grad_fn=<BinaryCrossEntropyBackward0>)\n",
      "tensor(0.0273, device='cuda:0', grad_fn=<BinaryCrossEntropyBackward0>)\n",
      "tensor(0.0157, device='cuda:0', grad_fn=<BinaryCrossEntropyBackward0>)\n",
      "tensor(0.0265, device='cuda:0', grad_fn=<BinaryCrossEntropyBackward0>)\n",
      "tensor(0.0086, device='cuda:0', grad_fn=<BinaryCrossEntropyBackward0>)\n"
     ]
    },
    {
     "ename": "KeyboardInterrupt",
     "evalue": "",
     "output_type": "error",
     "traceback": [
      "\u001b[1;31m---------------------------------------------------------------------------\u001b[0m",
      "\u001b[1;31mKeyboardInterrupt\u001b[0m                         Traceback (most recent call last)",
      "Cell \u001b[1;32mIn[6], line 2\u001b[0m\n\u001b[0;32m      1\u001b[0m optimizer \u001b[38;5;241m=\u001b[39m torch\u001b[38;5;241m.\u001b[39moptim\u001b[38;5;241m.\u001b[39mSGD(net\u001b[38;5;241m.\u001b[39mparameters(), lr\u001b[38;5;241m=\u001b[39m\u001b[38;5;241m0.05\u001b[39m)\n\u001b[1;32m----> 2\u001b[0m \u001b[43mcontinue_train\u001b[49m\u001b[43m(\u001b[49m\u001b[43mnet\u001b[49m\u001b[43m,\u001b[49m\u001b[43m \u001b[49m\u001b[43moptimizer\u001b[49m\u001b[43m,\u001b[49m\u001b[43m \u001b[49m\u001b[43mloss\u001b[49m\u001b[43m,\u001b[49m\u001b[43m \u001b[49m\u001b[38;5;241;43m1\u001b[39;49m\u001b[43m,\u001b[49m\u001b[43m \u001b[49m\u001b[43mtrainloader\u001b[49m\u001b[43m,\u001b[49m\u001b[43m \u001b[49m\u001b[43mdevice\u001b[49m\u001b[43m)\u001b[49m\n\u001b[0;32m      3\u001b[0m \u001b[38;5;28mprint\u001b[39m(\u001b[38;5;124m'\u001b[39m\u001b[38;5;124m**\u001b[39m\u001b[38;5;124m'\u001b[39m\u001b[38;5;241m*\u001b[39m\u001b[38;5;241m50\u001b[39m)\n\u001b[0;32m      4\u001b[0m \u001b[38;5;28;01mfor\u001b[39;00m j \u001b[38;5;129;01min\u001b[39;00m threshold_value_list:\n",
      "File \u001b[1;32mE:\\workspace\\essay\\mbessay\\lib\\jianji\\tool.py:29\u001b[0m, in \u001b[0;36mcontinue_train\u001b[1;34m(net, optimizer, loss, num_epochs, train_iter, device)\u001b[0m\n\u001b[0;32m     27\u001b[0m optimizer\u001b[38;5;241m.\u001b[39mzero_grad()\n\u001b[0;32m     28\u001b[0m X, y \u001b[38;5;241m=\u001b[39m X\u001b[38;5;241m.\u001b[39mto(device), y\u001b[38;5;241m.\u001b[39mto(device)\n\u001b[1;32m---> 29\u001b[0m y_hat \u001b[38;5;241m=\u001b[39m \u001b[43mnet\u001b[49m\u001b[43m(\u001b[49m\u001b[43mX\u001b[49m\u001b[43m)\u001b[49m\n\u001b[0;32m     30\u001b[0m l \u001b[38;5;241m=\u001b[39m loss(y_hat, y)\n\u001b[0;32m     31\u001b[0m l\u001b[38;5;241m.\u001b[39mbackward()\n",
      "File \u001b[1;32m~\\.conda\\envs\\pytorch\\lib\\site-packages\\torch\\nn\\modules\\module.py:1501\u001b[0m, in \u001b[0;36mModule._call_impl\u001b[1;34m(self, *args, **kwargs)\u001b[0m\n\u001b[0;32m   1496\u001b[0m \u001b[38;5;66;03m# If we don't have any hooks, we want to skip the rest of the logic in\u001b[39;00m\n\u001b[0;32m   1497\u001b[0m \u001b[38;5;66;03m# this function, and just call forward.\u001b[39;00m\n\u001b[0;32m   1498\u001b[0m \u001b[38;5;28;01mif\u001b[39;00m \u001b[38;5;129;01mnot\u001b[39;00m (\u001b[38;5;28mself\u001b[39m\u001b[38;5;241m.\u001b[39m_backward_hooks \u001b[38;5;129;01mor\u001b[39;00m \u001b[38;5;28mself\u001b[39m\u001b[38;5;241m.\u001b[39m_backward_pre_hooks \u001b[38;5;129;01mor\u001b[39;00m \u001b[38;5;28mself\u001b[39m\u001b[38;5;241m.\u001b[39m_forward_hooks \u001b[38;5;129;01mor\u001b[39;00m \u001b[38;5;28mself\u001b[39m\u001b[38;5;241m.\u001b[39m_forward_pre_hooks\n\u001b[0;32m   1499\u001b[0m         \u001b[38;5;129;01mor\u001b[39;00m _global_backward_pre_hooks \u001b[38;5;129;01mor\u001b[39;00m _global_backward_hooks\n\u001b[0;32m   1500\u001b[0m         \u001b[38;5;129;01mor\u001b[39;00m _global_forward_hooks \u001b[38;5;129;01mor\u001b[39;00m _global_forward_pre_hooks):\n\u001b[1;32m-> 1501\u001b[0m     \u001b[38;5;28;01mreturn\u001b[39;00m forward_call(\u001b[38;5;241m*\u001b[39margs, \u001b[38;5;241m*\u001b[39m\u001b[38;5;241m*\u001b[39mkwargs)\n\u001b[0;32m   1502\u001b[0m \u001b[38;5;66;03m# Do not call functions when jit is used\u001b[39;00m\n\u001b[0;32m   1503\u001b[0m full_backward_hooks, non_full_backward_hooks \u001b[38;5;241m=\u001b[39m [], []\n",
      "File \u001b[1;32m~\\.conda\\envs\\pytorch\\lib\\site-packages\\torch\\nn\\modules\\container.py:217\u001b[0m, in \u001b[0;36mSequential.forward\u001b[1;34m(self, input)\u001b[0m\n\u001b[0;32m    215\u001b[0m \u001b[38;5;28;01mdef\u001b[39;00m \u001b[38;5;21mforward\u001b[39m(\u001b[38;5;28mself\u001b[39m, \u001b[38;5;28minput\u001b[39m):\n\u001b[0;32m    216\u001b[0m     \u001b[38;5;28;01mfor\u001b[39;00m module \u001b[38;5;129;01min\u001b[39;00m \u001b[38;5;28mself\u001b[39m:\n\u001b[1;32m--> 217\u001b[0m         \u001b[38;5;28minput\u001b[39m \u001b[38;5;241m=\u001b[39m \u001b[43mmodule\u001b[49m\u001b[43m(\u001b[49m\u001b[38;5;28;43minput\u001b[39;49m\u001b[43m)\u001b[49m\n\u001b[0;32m    218\u001b[0m     \u001b[38;5;28;01mreturn\u001b[39;00m \u001b[38;5;28minput\u001b[39m\n",
      "File \u001b[1;32m~\\.conda\\envs\\pytorch\\lib\\site-packages\\torch\\nn\\modules\\module.py:1501\u001b[0m, in \u001b[0;36mModule._call_impl\u001b[1;34m(self, *args, **kwargs)\u001b[0m\n\u001b[0;32m   1496\u001b[0m \u001b[38;5;66;03m# If we don't have any hooks, we want to skip the rest of the logic in\u001b[39;00m\n\u001b[0;32m   1497\u001b[0m \u001b[38;5;66;03m# this function, and just call forward.\u001b[39;00m\n\u001b[0;32m   1498\u001b[0m \u001b[38;5;28;01mif\u001b[39;00m \u001b[38;5;129;01mnot\u001b[39;00m (\u001b[38;5;28mself\u001b[39m\u001b[38;5;241m.\u001b[39m_backward_hooks \u001b[38;5;129;01mor\u001b[39;00m \u001b[38;5;28mself\u001b[39m\u001b[38;5;241m.\u001b[39m_backward_pre_hooks \u001b[38;5;129;01mor\u001b[39;00m \u001b[38;5;28mself\u001b[39m\u001b[38;5;241m.\u001b[39m_forward_hooks \u001b[38;5;129;01mor\u001b[39;00m \u001b[38;5;28mself\u001b[39m\u001b[38;5;241m.\u001b[39m_forward_pre_hooks\n\u001b[0;32m   1499\u001b[0m         \u001b[38;5;129;01mor\u001b[39;00m _global_backward_pre_hooks \u001b[38;5;129;01mor\u001b[39;00m _global_backward_hooks\n\u001b[0;32m   1500\u001b[0m         \u001b[38;5;129;01mor\u001b[39;00m _global_forward_hooks \u001b[38;5;129;01mor\u001b[39;00m _global_forward_pre_hooks):\n\u001b[1;32m-> 1501\u001b[0m     \u001b[38;5;28;01mreturn\u001b[39;00m forward_call(\u001b[38;5;241m*\u001b[39margs, \u001b[38;5;241m*\u001b[39m\u001b[38;5;241m*\u001b[39mkwargs)\n\u001b[0;32m   1502\u001b[0m \u001b[38;5;66;03m# Do not call functions when jit is used\u001b[39;00m\n\u001b[0;32m   1503\u001b[0m full_backward_hooks, non_full_backward_hooks \u001b[38;5;241m=\u001b[39m [], []\n",
      "File \u001b[1;32m~\\.conda\\envs\\pytorch\\lib\\site-packages\\torch\\nn\\modules\\container.py:217\u001b[0m, in \u001b[0;36mSequential.forward\u001b[1;34m(self, input)\u001b[0m\n\u001b[0;32m    215\u001b[0m \u001b[38;5;28;01mdef\u001b[39;00m \u001b[38;5;21mforward\u001b[39m(\u001b[38;5;28mself\u001b[39m, \u001b[38;5;28minput\u001b[39m):\n\u001b[0;32m    216\u001b[0m     \u001b[38;5;28;01mfor\u001b[39;00m module \u001b[38;5;129;01min\u001b[39;00m \u001b[38;5;28mself\u001b[39m:\n\u001b[1;32m--> 217\u001b[0m         \u001b[38;5;28minput\u001b[39m \u001b[38;5;241m=\u001b[39m \u001b[43mmodule\u001b[49m\u001b[43m(\u001b[49m\u001b[38;5;28;43minput\u001b[39;49m\u001b[43m)\u001b[49m\n\u001b[0;32m    218\u001b[0m     \u001b[38;5;28;01mreturn\u001b[39;00m \u001b[38;5;28minput\u001b[39m\n",
      "File \u001b[1;32m~\\.conda\\envs\\pytorch\\lib\\site-packages\\torch\\nn\\modules\\module.py:1501\u001b[0m, in \u001b[0;36mModule._call_impl\u001b[1;34m(self, *args, **kwargs)\u001b[0m\n\u001b[0;32m   1496\u001b[0m \u001b[38;5;66;03m# If we don't have any hooks, we want to skip the rest of the logic in\u001b[39;00m\n\u001b[0;32m   1497\u001b[0m \u001b[38;5;66;03m# this function, and just call forward.\u001b[39;00m\n\u001b[0;32m   1498\u001b[0m \u001b[38;5;28;01mif\u001b[39;00m \u001b[38;5;129;01mnot\u001b[39;00m (\u001b[38;5;28mself\u001b[39m\u001b[38;5;241m.\u001b[39m_backward_hooks \u001b[38;5;129;01mor\u001b[39;00m \u001b[38;5;28mself\u001b[39m\u001b[38;5;241m.\u001b[39m_backward_pre_hooks \u001b[38;5;129;01mor\u001b[39;00m \u001b[38;5;28mself\u001b[39m\u001b[38;5;241m.\u001b[39m_forward_hooks \u001b[38;5;129;01mor\u001b[39;00m \u001b[38;5;28mself\u001b[39m\u001b[38;5;241m.\u001b[39m_forward_pre_hooks\n\u001b[0;32m   1499\u001b[0m         \u001b[38;5;129;01mor\u001b[39;00m _global_backward_pre_hooks \u001b[38;5;129;01mor\u001b[39;00m _global_backward_hooks\n\u001b[0;32m   1500\u001b[0m         \u001b[38;5;129;01mor\u001b[39;00m _global_forward_hooks \u001b[38;5;129;01mor\u001b[39;00m _global_forward_pre_hooks):\n\u001b[1;32m-> 1501\u001b[0m     \u001b[38;5;28;01mreturn\u001b[39;00m forward_call(\u001b[38;5;241m*\u001b[39margs, \u001b[38;5;241m*\u001b[39m\u001b[38;5;241m*\u001b[39mkwargs)\n\u001b[0;32m   1502\u001b[0m \u001b[38;5;66;03m# Do not call functions when jit is used\u001b[39;00m\n\u001b[0;32m   1503\u001b[0m full_backward_hooks, non_full_backward_hooks \u001b[38;5;241m=\u001b[39m [], []\n",
      "File \u001b[1;32mE:\\workspace\\essay\\mbessay\\lib\\model\\resnet18.py:20\u001b[0m, in \u001b[0;36mResidual.forward\u001b[1;34m(self, X)\u001b[0m\n\u001b[0;32m     19\u001b[0m \u001b[38;5;28;01mdef\u001b[39;00m \u001b[38;5;21mforward\u001b[39m(\u001b[38;5;28mself\u001b[39m, X):\n\u001b[1;32m---> 20\u001b[0m     Y \u001b[38;5;241m=\u001b[39m F\u001b[38;5;241m.\u001b[39mrelu(\u001b[38;5;28mself\u001b[39m\u001b[38;5;241m.\u001b[39mbn1(\u001b[38;5;28;43mself\u001b[39;49m\u001b[38;5;241;43m.\u001b[39;49m\u001b[43mconv1\u001b[49m\u001b[43m(\u001b[49m\u001b[43mX\u001b[49m\u001b[43m)\u001b[49m))\n\u001b[0;32m     21\u001b[0m     Y \u001b[38;5;241m=\u001b[39m \u001b[38;5;28mself\u001b[39m\u001b[38;5;241m.\u001b[39mbn2(\u001b[38;5;28mself\u001b[39m\u001b[38;5;241m.\u001b[39mconv2(Y))\n\u001b[0;32m     22\u001b[0m     \u001b[38;5;28;01mif\u001b[39;00m \u001b[38;5;28mself\u001b[39m\u001b[38;5;241m.\u001b[39mconv3:\n",
      "File \u001b[1;32m~\\.conda\\envs\\pytorch\\lib\\site-packages\\torch\\nn\\modules\\module.py:1501\u001b[0m, in \u001b[0;36mModule._call_impl\u001b[1;34m(self, *args, **kwargs)\u001b[0m\n\u001b[0;32m   1496\u001b[0m \u001b[38;5;66;03m# If we don't have any hooks, we want to skip the rest of the logic in\u001b[39;00m\n\u001b[0;32m   1497\u001b[0m \u001b[38;5;66;03m# this function, and just call forward.\u001b[39;00m\n\u001b[0;32m   1498\u001b[0m \u001b[38;5;28;01mif\u001b[39;00m \u001b[38;5;129;01mnot\u001b[39;00m (\u001b[38;5;28mself\u001b[39m\u001b[38;5;241m.\u001b[39m_backward_hooks \u001b[38;5;129;01mor\u001b[39;00m \u001b[38;5;28mself\u001b[39m\u001b[38;5;241m.\u001b[39m_backward_pre_hooks \u001b[38;5;129;01mor\u001b[39;00m \u001b[38;5;28mself\u001b[39m\u001b[38;5;241m.\u001b[39m_forward_hooks \u001b[38;5;129;01mor\u001b[39;00m \u001b[38;5;28mself\u001b[39m\u001b[38;5;241m.\u001b[39m_forward_pre_hooks\n\u001b[0;32m   1499\u001b[0m         \u001b[38;5;129;01mor\u001b[39;00m _global_backward_pre_hooks \u001b[38;5;129;01mor\u001b[39;00m _global_backward_hooks\n\u001b[0;32m   1500\u001b[0m         \u001b[38;5;129;01mor\u001b[39;00m _global_forward_hooks \u001b[38;5;129;01mor\u001b[39;00m _global_forward_pre_hooks):\n\u001b[1;32m-> 1501\u001b[0m     \u001b[38;5;28;01mreturn\u001b[39;00m forward_call(\u001b[38;5;241m*\u001b[39margs, \u001b[38;5;241m*\u001b[39m\u001b[38;5;241m*\u001b[39mkwargs)\n\u001b[0;32m   1502\u001b[0m \u001b[38;5;66;03m# Do not call functions when jit is used\u001b[39;00m\n\u001b[0;32m   1503\u001b[0m full_backward_hooks, non_full_backward_hooks \u001b[38;5;241m=\u001b[39m [], []\n",
      "File \u001b[1;32m~\\.conda\\envs\\pytorch\\lib\\site-packages\\torch\\nn\\modules\\conv.py:313\u001b[0m, in \u001b[0;36mConv1d.forward\u001b[1;34m(self, input)\u001b[0m\n\u001b[0;32m    312\u001b[0m \u001b[38;5;28;01mdef\u001b[39;00m \u001b[38;5;21mforward\u001b[39m(\u001b[38;5;28mself\u001b[39m, \u001b[38;5;28minput\u001b[39m: Tensor) \u001b[38;5;241m-\u001b[39m\u001b[38;5;241m>\u001b[39m Tensor:\n\u001b[1;32m--> 313\u001b[0m     \u001b[38;5;28;01mreturn\u001b[39;00m \u001b[38;5;28;43mself\u001b[39;49m\u001b[38;5;241;43m.\u001b[39;49m\u001b[43m_conv_forward\u001b[49m\u001b[43m(\u001b[49m\u001b[38;5;28;43minput\u001b[39;49m\u001b[43m,\u001b[49m\u001b[43m \u001b[49m\u001b[38;5;28;43mself\u001b[39;49m\u001b[38;5;241;43m.\u001b[39;49m\u001b[43mweight\u001b[49m\u001b[43m,\u001b[49m\u001b[43m \u001b[49m\u001b[38;5;28;43mself\u001b[39;49m\u001b[38;5;241;43m.\u001b[39;49m\u001b[43mbias\u001b[49m\u001b[43m)\u001b[49m\n",
      "File \u001b[1;32m~\\.conda\\envs\\pytorch\\lib\\site-packages\\torch\\nn\\modules\\conv.py:309\u001b[0m, in \u001b[0;36mConv1d._conv_forward\u001b[1;34m(self, input, weight, bias)\u001b[0m\n\u001b[0;32m    305\u001b[0m \u001b[38;5;28;01mif\u001b[39;00m \u001b[38;5;28mself\u001b[39m\u001b[38;5;241m.\u001b[39mpadding_mode \u001b[38;5;241m!=\u001b[39m \u001b[38;5;124m'\u001b[39m\u001b[38;5;124mzeros\u001b[39m\u001b[38;5;124m'\u001b[39m:\n\u001b[0;32m    306\u001b[0m     \u001b[38;5;28;01mreturn\u001b[39;00m F\u001b[38;5;241m.\u001b[39mconv1d(F\u001b[38;5;241m.\u001b[39mpad(\u001b[38;5;28minput\u001b[39m, \u001b[38;5;28mself\u001b[39m\u001b[38;5;241m.\u001b[39m_reversed_padding_repeated_twice, mode\u001b[38;5;241m=\u001b[39m\u001b[38;5;28mself\u001b[39m\u001b[38;5;241m.\u001b[39mpadding_mode),\n\u001b[0;32m    307\u001b[0m                     weight, bias, \u001b[38;5;28mself\u001b[39m\u001b[38;5;241m.\u001b[39mstride,\n\u001b[0;32m    308\u001b[0m                     _single(\u001b[38;5;241m0\u001b[39m), \u001b[38;5;28mself\u001b[39m\u001b[38;5;241m.\u001b[39mdilation, \u001b[38;5;28mself\u001b[39m\u001b[38;5;241m.\u001b[39mgroups)\n\u001b[1;32m--> 309\u001b[0m \u001b[38;5;28;01mreturn\u001b[39;00m \u001b[43mF\u001b[49m\u001b[38;5;241;43m.\u001b[39;49m\u001b[43mconv1d\u001b[49m\u001b[43m(\u001b[49m\u001b[38;5;28;43minput\u001b[39;49m\u001b[43m,\u001b[49m\u001b[43m \u001b[49m\u001b[43mweight\u001b[49m\u001b[43m,\u001b[49m\u001b[43m \u001b[49m\u001b[43mbias\u001b[49m\u001b[43m,\u001b[49m\u001b[43m \u001b[49m\u001b[38;5;28;43mself\u001b[39;49m\u001b[38;5;241;43m.\u001b[39;49m\u001b[43mstride\u001b[49m\u001b[43m,\u001b[49m\n\u001b[0;32m    310\u001b[0m \u001b[43m                \u001b[49m\u001b[38;5;28;43mself\u001b[39;49m\u001b[38;5;241;43m.\u001b[39;49m\u001b[43mpadding\u001b[49m\u001b[43m,\u001b[49m\u001b[43m \u001b[49m\u001b[38;5;28;43mself\u001b[39;49m\u001b[38;5;241;43m.\u001b[39;49m\u001b[43mdilation\u001b[49m\u001b[43m,\u001b[49m\u001b[43m \u001b[49m\u001b[38;5;28;43mself\u001b[39;49m\u001b[38;5;241;43m.\u001b[39;49m\u001b[43mgroups\u001b[49m\u001b[43m)\u001b[49m\n",
      "\u001b[1;31mKeyboardInterrupt\u001b[0m: "
     ]
    }
   ],
   "source": [
    "optimizer = torch.optim.SGD(net.parameters(), lr=0.05)\n",
    "continue_train(net, optimizer, loss, 1, trainloader, device)\n",
    "print('**'*50)\n",
    "for j in threshold_value_list:\n",
    "    print(j,evalute_results(net, testloader, j, d2l.try_gpu()))\n",
    "print('**'*50)"
   ]
  },
  {
   "cell_type": "code",
   "execution_count": 7,
   "id": "3ed33d5a-158b-420c-8828-fb7c10de4ade",
   "metadata": {
    "execution": {
     "iopub.execute_input": "2023-11-04T16:05:13.972751Z",
     "iopub.status.busy": "2023-11-04T16:05:13.972751Z",
     "iopub.status.idle": "2023-11-04T16:05:40.074741Z",
     "shell.execute_reply": "2023-11-04T16:05:40.074741Z",
     "shell.execute_reply.started": "2023-11-04T16:05:13.972751Z"
    }
   },
   "outputs": [
    {
     "name": "stdout",
     "output_type": "stream",
     "text": [
      "0.05 0.7069978632478633\n",
      "0.1 0.7115718482905983\n",
      "0.15 0.7133413461538461\n",
      "0.2 0.7142761752136753\n",
      "0.25 0.7152777777777778\n",
      "0.3 0.7155114850427351\n",
      "0.35 0.7161124465811965\n",
      "0.4 0.7164463141025641\n",
      "0.45 0.7167134081196581\n",
      "0.5 0.7168135683760684\n",
      "0.55 0.7173477564102564\n",
      "0.6 0.7173811431623932\n",
      "0.65 0.7169805021367521\n",
      "0.7 0.7170472756410257\n",
      "0.75 0.7170472756410257\n",
      "0.8 0.7169471153846154\n",
      "0.85 0.7166466346153846\n",
      "0.9 0.7164463141025641\n",
      "0.95 0.7155782585470085\n",
      "****************************************************************************************************\n"
     ]
    }
   ],
   "source": [
    "for j in threshold_value_list:\n",
    "    print(j,evalute_results(net, testloader, j, d2l.try_gpu()))\n",
    "print('**'*50)"
   ]
  },
  {
   "cell_type": "code",
   "execution_count": null,
   "id": "a46932fc-24e9-4c12-afa0-4f2cc3590fb3",
   "metadata": {},
   "outputs": [],
   "source": [
    "torch.save(net.state_dict(),'resnet_0.1')"
   ]
  }
 ],
 "metadata": {
  "kernelspec": {
   "display_name": "Python 3 (ipykernel)",
   "language": "python",
   "name": "python3"
  },
  "language_info": {
   "codemirror_mode": {
    "name": "ipython",
    "version": 3
   },
   "file_extension": ".py",
   "mimetype": "text/x-python",
   "name": "python",
   "nbconvert_exporter": "python",
   "pygments_lexer": "ipython3",
   "version": "3.10.12"
  }
 },
 "nbformat": 4,
 "nbformat_minor": 5
}
